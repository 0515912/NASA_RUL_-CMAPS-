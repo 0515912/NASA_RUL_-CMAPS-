{
 "cells": [
  {
   "cell_type": "markdown",
   "metadata": {},
   "source": [
    "# Initialization\n",
    "\n",
    "Test notebook for the C-MAPPS benchmark. Get best parameters for each dataset. \n",
    "\n",
    "First we import the necessary packages and create the global variables."
   ]
  },
  {
   "cell_type": "code",
   "execution_count": 2,
   "metadata": {},
   "outputs": [],
   "source": [
    "import math\n",
    "import time\n",
    "import numpy as np\n",
    "from sklearn.preprocessing import StandardScaler, MinMaxScaler\n",
    "\n",
    "import custom_scores\n",
    "import CMAPSAuxFunctions\n",
    "from tunableModel import TunableModel\n",
    "\n",
    "from keras.models import Sequential, Model\n",
    "from keras.layers import Dense, Input, Dropout, Reshape, Conv2D, Flatten, MaxPooling2D\n",
    "from keras.optimizers import Adam\n",
    "from keras.callbacks import LearningRateScheduler\n",
    "from keras import backend as K\n",
    "\n",
    "from scipy.optimize import differential_evolution"
   ]
  },
  {
   "cell_type": "markdown",
   "metadata": {},
   "source": [
    "# Define the model"
   ]
  },
  {
   "cell_type": "code",
   "execution_count": 3,
   "metadata": {},
   "outputs": [],
   "source": [
    "def RULmodel_SN(input_shape):\n",
    "    \n",
    "    #Create a sequential model\n",
    "    model = Sequential()\n",
    "    \n",
    "    #Add the layers for the model\n",
    "    model.add(Dense(30, input_dim=input_shape, activation='relu', kernel_initializer='glorot_normal', name='fc1'))\n",
    "    model.add(Dropout(0.3))\n",
    "    model.add(Dense(10, activation='relu', kernel_initializer='glorot_normal', name='fc2'))\n",
    "    model.add(Dropout(0.1))\n",
    "    model.add(Dense(1, activation='linear', name='out'))\n",
    "    \n",
    "    return model"
   ]
  },
  {
   "cell_type": "markdown",
   "metadata": {},
   "source": [
    "# Define objective function\n",
    "\n",
    "Define the function that evaluates each set of data-related params and returns the RMSE as value."
   ]
  },
  {
   "cell_type": "code",
   "execution_count": 6,
   "metadata": {},
   "outputs": [],
   "source": [
    "def nn_optmize_fun(x, selected_features=['T24', 'T30', 'T50', 'P30', 'Nf', 'Nc', 'Ps30', 'phi', 'NRf', 'NRc', \n",
    "                     'BPR', 'htBleed', 'W31', 'W32'], datasetNumber = '1', scaler = None, verbose=0, epochs=250, \n",
    "                  saveToFile = None, iterations = 0):\n",
    "    \n",
    "    #Clear the previous tensorflow graph\n",
    "    K.clear_session()\n",
    "    \n",
    "    #Extract the tunning variables from the input vector\n",
    "    #Round the values to the nearest integer since this implementation is for real numbers\n",
    "    x = x.astype(int)\n",
    "    windows_size = x[0]\n",
    "    window_stride = x[1]\n",
    "    constantRUL = x[2]\n",
    "    \n",
    "    if iterations == 0:\n",
    "        print(\"Creating model\")\n",
    "    #Shared parameters for the models\n",
    "    optimizer = Adam(lr=0, beta_1=0.5)\n",
    "    lossFunction = \"mean_squared_error\"\n",
    "    metrics = [\"mse\"]\n",
    "    \n",
    "    #Define the model\n",
    "    nFeatures = len(selected_features)\n",
    "    shapeSN = nFeatures*windows_size\n",
    "    modelRULSN = RULmodel_SN(shapeSN)\n",
    "    modelRULSN.compile(optimizer = optimizer, loss = lossFunction, metrics = metrics)\n",
    "\n",
    "    #load the data using the selected parameters\n",
    "    tModel = TunableModel(\"RUL_SN_optmizable\", modelRULSN, selected_features, dataFolder = '../CMAPSSData',\n",
    "                          scaler = min_max_scaler, window_stride = window_stride, \n",
    "                          window_size = windows_size, constRul = constantRUL, datasetNumber = datasetNumber, \n",
    "                         epochs=epochs)\n",
    "    \n",
    "    tModel.loadData(rectify_labels = False)\n",
    "    \n",
    "    if iterations == 0:\n",
    "        print(\"Training model\")\n",
    "    #Train the model\n",
    "    lrate = LearningRateScheduler(CMAPSAuxFunctions.step_decay)\n",
    "    tModel.trainModel(learningRateScheduler=lrate, verbose=verbose)\n",
    "    time = tModel.trainTime\n",
    "    \n",
    "    if iterations == 0:\n",
    "        print(\"Training time {}\".format(time))\n",
    "    \n",
    "    if iterations == 0:\n",
    "        print(\"Assesing model performance\")\n",
    "    #Assess the model performance\n",
    "    tModel.evaluateModel([\"rhs\"], round=2)\n",
    "    cScores = tModel.scores\n",
    "    rmse = math.sqrt(cScores['score_1'])\n",
    "    rhs = cScores['rhs']\n",
    "    #print(\"The score for this model is: {}\".format(rmse))\n",
    "    \n",
    "    msgStr = \"The model variables are \" + str(x) + \"\\tThe scores are: [RMSE:{:.4f}, RHS:{:.4f}]\\n\".format(rmse, rhs)\n",
    "    \n",
    "    if saveToFile is not None:\n",
    "        #print(msgStr)\n",
    "        saveToFile.write(msgStr)\n",
    "    else:\n",
    "        print(msgStr)\n",
    "    \n",
    "    #Return RMSE as the performance metric to steer the search\n",
    "    return rmse\n",
    "    "
   ]
  },
  {
   "cell_type": "markdown",
   "metadata": {},
   "source": [
    "# Optimize the parameters for the NN using DE"
   ]
  },
  {
   "cell_type": "code",
   "execution_count": null,
   "metadata": {},
   "outputs": [
    {
     "name": "stdout",
     "output_type": "stream",
     "text": [
      "Tunning for dataset 2\n",
      "WARNING:tensorflow:From C:\\Users\\controlslab\\Anaconda3\\envs\\tensorflow\\lib\\site-packages\\keras\\backend\\tensorflow_backend.py:1340: calling reduce_mean (from tensorflow.python.ops.math_ops) with keep_dims is deprecated and will be removed in a future version.\n",
      "Instructions for updating:\n",
      "keep_dims is deprecated, use keepdims instead\n",
      "259/259 [==============================] - 0s 123us/step\n",
      "259/259 [==============================] - 0s 166us/step\n",
      "259/259 [==============================] - 0s 124us/step\n",
      "259/259 [==============================] - 0s 112us/step\n",
      "259/259 [==============================] - 0s 112us/step\n",
      "259/259 [==============================] - 0s 127us/step\n",
      "259/259 [==============================] - 0s 112us/step\n",
      "259/259 [==============================] - 0s 127us/step\n",
      "259/259 [==============================] - 0s 112us/step\n",
      "259/259 [==============================] - 0s 108us/step\n",
      "259/259 [==============================] - 0s 112us/step\n",
      "259/259 [==============================] - 0s 112us/step\n",
      "259/259 [==============================] - 0s 116us/step\n",
      "259/259 [==============================] - 0s 115us/step\n",
      "259/259 [==============================] - 0s 116us/step\n",
      "259/259 [==============================] - 0s 112us/step\n"
     ]
    }
   ],
   "source": [
    "#Optimize the parameters for the NN using DE\n",
    "\n",
    "maxWindowSize = {'1':30, '2':20, '3':30, '4':18}\n",
    "totalTime = {'1':0, '2':0, '3':0, '4':0}\n",
    "results = {'1':0, '2':0, '3':0, '4':0}\n",
    "\n",
    "#datasetNumber = '1'\n",
    "\n",
    "selected_features = ['T24', 'T30', 'T50', 'P30', 'Nf', 'Nc', 'Ps30', 'phi', 'NRf', 'NRc', \n",
    "                     'BPR', 'htBleed', 'W31', 'W32']\n",
    "\n",
    "min_max_scaler = MinMaxScaler(feature_range=(-1, 1))\n",
    "\n",
    "for datasetNumber in maxWindowSize:\n",
    "    \n",
    "    print(\"Tunning for dataset \"+datasetNumber)\n",
    "    file = open(\"intermediateResults3_notRectified\"+datasetNumber+\".txt\", \"w\")\n",
    "\n",
    "    windowSizeBounds = [1,maxWindowSize[datasetNumber]]\n",
    "    windowStrideBounds = [1,10]\n",
    "    constantRULBounds = [90,140]\n",
    "\n",
    "    bounds = [windowSizeBounds, windowStrideBounds, constantRULBounds]\n",
    "\n",
    "\n",
    "    startTime = time.clock()\n",
    "    tempResults = differential_evolution(nn_optmize_fun, bounds, \n",
    "                                     args=(selected_features, datasetNumber, min_max_scaler, 0, 20, file, 1),\n",
    "                                    strategy='best1bin', maxiter=10, popsize=20, disp=True)\n",
    "    results[datasetNumber] = tempResults\n",
    "    endTime = time.clock()\n",
    "\n",
    "    file.close()\n",
    "    totalTime[datasetNumber] = endTime - startTime"
   ]
  },
  {
   "cell_type": "code",
   "execution_count": 8,
   "metadata": {},
   "outputs": [
    {
     "name": "stdout",
     "output_type": "stream",
     "text": [
      "Total time {'2': 5482.939638694275, '1': 2813.138622107447, '4': 7551.063892150514, '3': 3423.4927144935773}\n",
      "{'2':      fun: 32.317815845499496\n",
      " message: 'Optimization terminated successfully.'\n",
      "    nfev: 632\n",
      "     nit: 8\n",
      " success: True\n",
      "       x: array([ 17.21957661,   1.50376803, 135.0177935 ]), '1':      fun: 15.171459105396513\n",
      " message: 'Maximum number of iterations has been exceeded.'\n",
      "    nfev: 744\n",
      "     nit: 10\n",
      " success: False\n",
      "       x: array([ 25.62259455,   1.26541061, 135.34659429]), '4':      fun: 37.65520767405298\n",
      " message: 'Maximum number of iterations has been exceeded.'\n",
      "    nfev: 772\n",
      "     nit: 10\n",
      " success: False\n",
      "       x: array([ 12.90196629,   1.43064081, 137.69058978]), '3':      fun: 16.869726896037026\n",
      " message: 'Maximum number of iterations has been exceeded.'\n",
      "    nfev: 776\n",
      "     nit: 10\n",
      " success: False\n",
      "       x: array([ 29.85369584,   1.87892566, 131.98160269])}\n"
     ]
    }
   ],
   "source": [
    "print(\"Total time {}\".format(totalTime))\n",
    "print(results)"
   ]
  },
  {
   "cell_type": "code",
   "execution_count": null,
   "metadata": {},
   "outputs": [],
   "source": []
  },
  {
   "cell_type": "code",
   "execution_count": 17,
   "metadata": {
    "collapsed": true
   },
   "outputs": [],
   "source": []
  },
  {
   "cell_type": "code",
   "execution_count": null,
   "metadata": {
    "collapsed": true
   },
   "outputs": [],
   "source": []
  },
  {
   "cell_type": "code",
   "execution_count": null,
   "metadata": {
    "collapsed": true
   },
   "outputs": [],
   "source": []
  }
 ],
 "metadata": {
  "kernelspec": {
   "display_name": "Python 3",
   "language": "python",
   "name": "python3"
  },
  "language_info": {
   "codemirror_mode": {
    "name": "ipython",
    "version": 3
   },
   "file_extension": ".py",
   "mimetype": "text/x-python",
   "name": "python",
   "nbconvert_exporter": "python",
   "pygments_lexer": "ipython3",
   "version": "3.5.4"
  }
 },
 "nbformat": 4,
 "nbformat_minor": 2
}
