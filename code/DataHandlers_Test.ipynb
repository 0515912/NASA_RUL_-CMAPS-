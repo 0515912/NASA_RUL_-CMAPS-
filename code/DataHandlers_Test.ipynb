{
 "cells": [
  {
   "cell_type": "markdown",
   "metadata": {},
   "source": [
    "# Initialization\n",
    "\n",
    "Test notebook for the DataHandlers. Test the CMAPSS DataHandler, also compare against the data from CMAPSAuxFunctions\n",
    "\n",
    "First we import the necessary packages and create the global variables."
   ]
  },
  {
   "cell_type": "code",
   "execution_count": 1,
   "metadata": {},
   "outputs": [
    {
     "name": "stderr",
     "output_type": "stream",
     "text": [
      "Using TensorFlow backend.\n"
     ]
    },
    {
     "ename": "TabError",
     "evalue": "inconsistent use of tabs and spaces in indentation (tunableModel.py, line 29)",
     "output_type": "error",
     "traceback": [
      "Traceback \u001b[1;36m(most recent call last)\u001b[0m:\n",
      "  File \u001b[0;32m\"C:\\Users\\controlslab\\Anaconda3\\envs\\tensorflow\\lib\\site-packages\\IPython\\core\\interactiveshell.py\"\u001b[0m, line \u001b[0;32m2910\u001b[0m, in \u001b[0;35mrun_code\u001b[0m\n    exec(code_obj, self.user_global_ns, self.user_ns)\n",
      "\u001b[1;36m  File \u001b[1;32m\"<ipython-input-1-cead73b20b7b>\"\u001b[1;36m, line \u001b[1;32m16\u001b[1;36m, in \u001b[1;35m<module>\u001b[1;36m\u001b[0m\n\u001b[1;33m    from old.tunableModel import TunableModel as TunableModel\u001b[0m\n",
      "\u001b[1;36m  File \u001b[1;32m\"D:\\Projects\\NASA_RUL_-CMAPS-\\code\\old\\tunableModel.py\"\u001b[1;36m, line \u001b[1;32m29\u001b[0m\n\u001b[1;33m    self.selectedFeatures = selectedFeatures\u001b[0m\n\u001b[1;37m                                            ^\u001b[0m\n\u001b[1;31mTabError\u001b[0m\u001b[1;31m:\u001b[0m inconsistent use of tabs and spaces in indentation\n"
     ]
    }
   ],
   "source": [
    "import numpy as np\n",
    "import math\n",
    "from data_handler_CMAPS import CMAPSDataHandler\n",
    "from tunable_model import SequenceTunableModelRegression\n",
    "from sklearn.preprocessing import StandardScaler, MinMaxScaler\n",
    "\n",
    "from keras.models import Sequential, Model\n",
    "from keras.layers import Dense, Input, Dropout, Reshape, Conv2D, Flatten, MaxPooling2D\n",
    "from keras.optimizers import Adam\n",
    "from keras.callbacks import LearningRateScheduler\n",
    "from keras import backend as K\n",
    "from keras import regularizers\n",
    "\n",
    "#import CMAPSAuxFunctions\n",
    "\n",
    "from old.tunableModel import TunableModel as TunableModel"
   ]
  },
  {
   "cell_type": "markdown",
   "metadata": {},
   "source": [
    "# Define different types of Keras models"
   ]
  },
  {
   "cell_type": "code",
   "execution_count": 2,
   "metadata": {},
   "outputs": [],
   "source": [
    "lambda_regularization = 0.20\n",
    "\n",
    "def RNNModel(input_shape):\n",
    "    \"\"\"Define the RNN model\"\"\"\n",
    "    \n",
    "    #Create a sequential model\n",
    "    model = Sequential()\n",
    "    #model.add(Masking(mask_value=0, imput))\n",
    "    model.add(LSTM(input_shape=input_shape))\n",
    "    model.add(Dense(1, activation='linear', name='out'))\n",
    "    \n",
    "    return model\n",
    "    \n",
    "\n",
    "def RULmodel_SN_6(input_shape):\n",
    "    #Create a sequential model\n",
    "    model = Sequential()\n",
    "    \n",
    "    #Add the layers for the model\n",
    "    model.add(Dense(20, input_dim=input_shape, activation='relu', kernel_initializer='glorot_normal', \n",
    "                    kernel_regularizer=regularizers.l2(lambda_regularization), name='fc1'))\n",
    "    model.add(Dense(1, activation='linear', name='out'))\n",
    "    \n",
    "    return model"
   ]
  },
  {
   "cell_type": "markdown",
   "metadata": {},
   "source": [
    "# Default settings for the Data"
   ]
  },
  {
   "cell_type": "code",
   "execution_count": 3,
   "metadata": {},
   "outputs": [],
   "source": [
    "#Selected as per CNN paper\n",
    "features = ['T2', 'T24', 'T30', 'T50', 'P2', 'P15', 'P30', 'Nf', 'Nc', 'epr', 'Ps30', 'phi', 'NRf', 'NRc', \n",
    "                     'BPR', 'farB', 'htBleed', 'Nf_dmd', 'PCNfR_dmd', 'W31', 'W32']\n",
    "selected_indices = np.array([2, 3, 4, 7, 8, 9, 11, 12, 13, 14, 15, 17, 20, 21])\n",
    "selected_features = list(features[i] for i in selected_indices-1)\n",
    "data_folder = '../CMAPSSData'\n",
    "\n",
    "#Shared parameters for the models\n",
    "optimizer = Adam(lr=0, beta_1=0.5)\n",
    "lossFunction = \"mean_squared_error\"\n",
    "metrics = [\"mse\"]\n",
    "\n",
    "min_max_scaler = MinMaxScaler(feature_range=(-1, 1))\n",
    "\n",
    "window_size = 30\n",
    "window_stride = 1\n",
    "max_rul = 125"
   ]
  },
  {
   "cell_type": "markdown",
   "metadata": {},
   "source": [
    "# Create the Data Handler"
   ]
  },
  {
   "cell_type": "code",
   "execution_count": 4,
   "metadata": {},
   "outputs": [],
   "source": [
    "dHandler_cmaps = CMAPSDataHandler(data_folder, 1, selected_features, max_rul, window_size, window_stride)\n",
    "#dHandler_cmaps.load_data(verbose=1, cross_validation_ratio=0.2)\n",
    "#dHandler_cmaps.load_data()"
   ]
  },
  {
   "cell_type": "markdown",
   "metadata": {},
   "source": [
    "# Create Tunable Model using CMAPSAuxFunctions"
   ]
  },
  {
   "cell_type": "code",
   "execution_count": 5,
   "metadata": {},
   "outputs": [],
   "source": [
    "nFeatures = len(selected_features)\n",
    "shapeSN = nFeatures*window_size\n",
    "modelRULSN = RULmodel_SN_6(shapeSN)\n",
    "modelRULSN.compile(optimizer = optimizer, loss = lossFunction, metrics = metrics)\n",
    "\n",
    "tModel = TunableModel('ModelRUL_SN_1', modelRULSN, selected_features, data_folder, 'keras', window_size=window_size,\n",
    "                      scaler = min_max_scaler, window_stride=window_stride, constRul = max_rul)"
   ]
  },
  {
   "cell_type": "markdown",
   "metadata": {},
   "source": [
    "# Load data using both approaches"
   ]
  },
  {
   "cell_type": "code",
   "execution_count": 6,
   "metadata": {},
   "outputs": [
    {
     "name": "stdout",
     "output_type": "stream",
     "text": [
      "Loading with data handler\n",
      "Loading data from file and computing dataframes\n",
      "Printing shapes\n",
      "\n",
      "Training data (X, y)\n",
      "(17731, 420)\n",
      "(17731, 1)\n",
      "Testing data (X, y)\n",
      "(100, 420)\n",
      "(100, 1)\n",
      "Printing first 5 elements\n",
      "\n",
      "Training data (X, y)\n",
      "[[ 641.82   1589.7    1400.6    ...  390.       39.05     23.411 ]\n",
      " [ 642.15   1591.82   1403.14   ...  392.       38.94     23.3353]\n",
      " [ 642.35   1587.99   1404.2    ...  392.       39.02     23.4999]\n",
      " [ 642.35   1582.79   1401.87   ...  392.       38.83     23.3506]\n",
      " [ 642.37   1582.85   1406.22   ...  392.       38.81     23.3092]]\n",
      "[[125.]\n",
      " [125.]\n",
      " [125.]\n",
      " [125.]\n",
      " [125.]]\n",
      "Testing data (X, y)\n",
      "[[ 641.71   1588.45   1395.42   ...  393.       38.81     23.3552]\n",
      " [ 642.72   1589.15   1400.69   ...  391.       38.81     23.2618]\n",
      " [ 642.86   1588.9    1408.72   ...  395.       38.93     23.274 ]\n",
      " [ 642.45   1593.88   1407.84   ...  395.       38.58     23.2581]\n",
      " [ 642.58   1595.41   1408.83   ...  394.       38.75     23.4117]]\n",
      "[[112.]\n",
      " [ 98.]\n",
      " [ 69.]\n",
      " [ 82.]\n",
      " [ 91.]]\n",
      "Loading with aux functions\n"
     ]
    },
    {
     "ename": "AttributeError",
     "evalue": "module 'CMAPSAuxFunctions' has no attribute 'load_into_df'",
     "output_type": "error",
     "traceback": [
      "\u001b[1;31m---------------------------------------------------------------------------\u001b[0m",
      "\u001b[1;31mAttributeError\u001b[0m                            Traceback (most recent call last)",
      "\u001b[1;32m<ipython-input-6-40c6f6c5f7b7>\u001b[0m in \u001b[0;36m<module>\u001b[1;34m()\u001b[0m\n\u001b[0;32m      4\u001b[0m \u001b[1;33m\u001b[0m\u001b[0m\n\u001b[0;32m      5\u001b[0m \u001b[0mprint\u001b[0m\u001b[1;33m(\u001b[0m\u001b[1;34m\"Loading with aux functions\"\u001b[0m\u001b[1;33m)\u001b[0m\u001b[1;33m\u001b[0m\u001b[0m\n\u001b[1;32m----> 6\u001b[1;33m \u001b[0mtModel\u001b[0m\u001b[1;33m.\u001b[0m\u001b[0mloadData\u001b[0m\u001b[1;33m(\u001b[0m\u001b[1;33m)\u001b[0m\u001b[1;33m\u001b[0m\u001b[0m\n\u001b[0m\u001b[0;32m      7\u001b[0m \u001b[0mtModel\u001b[0m\u001b[1;33m.\u001b[0m\u001b[0mprintData\u001b[0m\u001b[1;33m(\u001b[0m\u001b[1;33m)\u001b[0m\u001b[1;33m\u001b[0m\u001b[0m\n",
      "\u001b[1;32mD:\\Projects\\NASA_RUL_-CMAPS-\\code\\old\\tunableModel.py\u001b[0m in \u001b[0;36mloadData\u001b[1;34m(self, verbose, crossValRatio, rectify_labels)\u001b[0m\n\u001b[0;32m     72\u001b[0m                 \u001b[0my_crossVal\u001b[0m \u001b[1;33m=\u001b[0m \u001b[1;32mNone\u001b[0m\u001b[1;33m\u001b[0m\u001b[0m\n\u001b[0;32m     73\u001b[0m \u001b[1;33m\u001b[0m\u001b[0m\n\u001b[1;32m---> 74\u001b[1;33m                 \u001b[0mself\u001b[0m\u001b[1;33m.\u001b[0m\u001b[0m__df_train\u001b[0m \u001b[1;33m=\u001b[0m \u001b[0mCMAPSAuxFunctions\u001b[0m\u001b[1;33m.\u001b[0m\u001b[0mload_into_df\u001b[0m\u001b[1;33m(\u001b[0m\u001b[0mself\u001b[0m\u001b[1;33m.\u001b[0m\u001b[0m__data_file_train\u001b[0m\u001b[1;33m)\u001b[0m\u001b[1;33m\u001b[0m\u001b[0m\n\u001b[0m\u001b[0;32m     75\u001b[0m                 \u001b[0mself\u001b[0m\u001b[1;33m.\u001b[0m\u001b[0m__df_test\u001b[0m \u001b[1;33m=\u001b[0m \u001b[0mCMAPSAuxFunctions\u001b[0m\u001b[1;33m.\u001b[0m\u001b[0mload_into_df\u001b[0m\u001b[1;33m(\u001b[0m\u001b[0mself\u001b[0m\u001b[1;33m.\u001b[0m\u001b[0m__data_file_test\u001b[0m\u001b[1;33m)\u001b[0m\u001b[1;33m\u001b[0m\u001b[0m\n\u001b[0;32m     76\u001b[0m \u001b[1;33m\u001b[0m\u001b[0m\n",
      "\u001b[1;31mAttributeError\u001b[0m: module 'CMAPSAuxFunctions' has no attribute 'load_into_df'"
     ]
    }
   ],
   "source": [
    "print(\"Loading with data handler\")\n",
    "dHandler_cmaps.load_data()\n",
    "dHandler_cmaps.print_data()\n",
    "\n",
    "print(\"Loading with aux functions\")\n",
    "tModel.loadData()\n",
    "tModel.printData()"
   ]
  },
  {
   "cell_type": "markdown",
   "metadata": {},
   "source": [
    "# Create Tunable Model"
   ]
  },
  {
   "cell_type": "code",
   "execution_count": 4,
   "metadata": {},
   "outputs": [],
   "source": [
    "#Shared parameters for the models\n",
    "optimizer = Adam(lr=0, beta_1=0.5)\n",
    "lossFunction = \"mean_squared_error\"\n",
    "metrics = [\"mse\"]\n",
    "\n",
    "\n",
    "#Create and compile the models\n",
    "nFeatures = len(selected_features)\n",
    "shapeSN = nFeatures*window_size\n",
    "modelRULSN = RULmodel_SN_6(shapeSN)\n",
    "modelRULSN.compile(optimizer = optimizer, loss = lossFunction, metrics = metrics)\n",
    "\n",
    "#min_max_scaler = MinMaxScaler(feature_range=(-1, 1))\n",
    "#min_max_scaler = None\n",
    "\n",
    "tModel = SequenceTunableModelRegression('ModelRUL_SN_1', modelRULSN, lib_type='keras', data_handler=dHandler_cmaps)"
   ]
  },
  {
   "cell_type": "markdown",
   "metadata": {},
   "source": [
    "# Load Data"
   ]
  },
  {
   "cell_type": "code",
   "execution_count": 6,
   "metadata": {},
   "outputs": [
    {
     "name": "stdout",
     "output_type": "stream",
     "text": [
      "Loading data for dataset 1 with window_size of 30, stride of 1 and maxRUL of 128. Cros-Validation ratio 0\n",
      "Loading data from memory and recomputing dataframes\n",
      "Printing shapes\n",
      "\n",
      "Training data (X, y)\n",
      "(17731, 420)\n",
      "(17731,)\n",
      "Testing data (X, y)\n",
      "(100, 420)\n",
      "(100,)\n",
      "Printing first 5 elements\n",
      "\n",
      "Training data (X, y)\n",
      "[[-0.58075601 -0.0455243  -0.27982732 ... -0.81818182  0.43307087\n",
      "   0.4679733 ]\n",
      " [-0.35395189  0.0629156  -0.18014129 ... -0.45454545  0.25984252\n",
      "   0.25294702]\n",
      " [-0.21649485 -0.13299233 -0.13854003 ... -0.45454545  0.38582677\n",
      "   0.72049425]\n",
      " [-0.21649485 -0.39897698 -0.2299843  ... -0.45454545  0.08661417\n",
      "   0.29640676]\n",
      " [-0.20274914 -0.39590793 -0.05926217 ... -0.45454545  0.05511811\n",
      "   0.17880983]]\n",
      "[128. 128. 128. 128. 128.]\n",
      "Testing data (X, y)\n",
      "[[-0.65635739 -0.10946292 -0.48312402 ... -0.27272727  0.05511811\n",
      "   0.30947309]\n",
      " [ 0.03780069 -0.07365729 -0.27629513 ... -0.63636364  0.05511811\n",
      "   0.04416986]\n",
      " [ 0.13402062 -0.08644501  0.038854   ...  0.09090909  0.24409449\n",
      "   0.07882403]\n",
      " [-0.14776632  0.16828645  0.00431711 ...  0.09090909 -0.30708661\n",
      "   0.03365999]\n",
      " [-0.05841924  0.24654731  0.04317111 ... -0.09090909 -0.03937008\n",
      "   0.46996165]]\n",
      "[112.  98.  69.  82.  91.]\n"
     ]
    }
   ],
   "source": [
    "min_max_scaler = MinMaxScaler(feature_range=(-1, 1))\n",
    "tModel.data_scaler = min_max_scaler\n",
    "#tModel.data_handler.change_dataset(2)\n",
    "tModel.data_handler.sequence_length = 30\n",
    "tModel.data_handler.sequence_stride = 1\n",
    "tModel.data_handler.max_rul = 128\n",
    "\n",
    "tModel.load_data(unroll=True, verbose=1, cross_validation_ratio=0)\n",
    "tModel.print_data()"
   ]
  },
  {
   "cell_type": "markdown",
   "metadata": {},
   "source": [
    "# Train the model and test some Tunable Model functionalities"
   ]
  },
  {
   "cell_type": "code",
   "execution_count": 7,
   "metadata": {},
   "outputs": [
    {
     "ename": "NameError",
     "evalue": "name 'CMAPSAuxFunctions' is not defined",
     "output_type": "error",
     "traceback": [
      "\u001b[1;31m---------------------------------------------------------------------------\u001b[0m",
      "\u001b[1;31mNameError\u001b[0m                                 Traceback (most recent call last)",
      "\u001b[1;32m<ipython-input-7-08bf54babd34>\u001b[0m in \u001b[0;36m<module>\u001b[1;34m()\u001b[0m\n\u001b[1;32m----> 1\u001b[1;33m \u001b[0mlrate\u001b[0m \u001b[1;33m=\u001b[0m \u001b[0mLearningRateScheduler\u001b[0m\u001b[1;33m(\u001b[0m\u001b[0mCMAPSAuxFunctions\u001b[0m\u001b[1;33m.\u001b[0m\u001b[0mstep_decay\u001b[0m\u001b[1;33m)\u001b[0m\u001b[1;33m\u001b[0m\u001b[0m\n\u001b[0m\u001b[0;32m      2\u001b[0m \u001b[0mtModel\u001b[0m\u001b[1;33m.\u001b[0m\u001b[0mepochs\u001b[0m \u001b[1;33m=\u001b[0m \u001b[1;36m100\u001b[0m\u001b[1;33m\u001b[0m\u001b[0m\n\u001b[0;32m      3\u001b[0m \u001b[0mtModel\u001b[0m\u001b[1;33m.\u001b[0m\u001b[0mtrain_model\u001b[0m\u001b[1;33m(\u001b[0m\u001b[0mlearningRate_scheduler\u001b[0m\u001b[1;33m=\u001b[0m\u001b[0mlrate\u001b[0m\u001b[1;33m,\u001b[0m \u001b[0mverbose\u001b[0m\u001b[1;33m=\u001b[0m\u001b[1;36m1\u001b[0m\u001b[1;33m)\u001b[0m\u001b[1;33m\u001b[0m\u001b[0m\n",
      "\u001b[1;31mNameError\u001b[0m: name 'CMAPSAuxFunctions' is not defined"
     ]
    }
   ],
   "source": [
    "lrate = LearningRateScheduler(CMAPSAuxFunctions.step_decay)\n",
    "tModel.epochs = 100\n",
    "tModel.train_model(learningRate_scheduler=lrate, verbose=1)"
   ]
  },
  {
   "cell_type": "code",
   "execution_count": 8,
   "metadata": {},
   "outputs": [
    {
     "name": "stdout",
     "output_type": "stream",
     "text": [
      "100/100 [==============================] - 0s 132us/step\n",
      "scores\n",
      "Engine 1, Predicted RUL [ 113.59394073], Rounded RUL 113.0, Real RUL 112.0\n",
      "Engine 2, Predicted RUL [ 115.27581024], Rounded RUL 115.0, Real RUL 98.0\n",
      "Engine 3, Predicted RUL [ 64.98041534], Rounded RUL 64.0, Real RUL 69.0\n",
      "Engine 4, Predicted RUL [ 86.50939941], Rounded RUL 86.0, Real RUL 82.0\n",
      "Engine 5, Predicted RUL [ 98.51219177], Rounded RUL 98.0, Real RUL 91.0\n",
      "Engine 6, Predicted RUL [ 102.53627777], Rounded RUL 102.0, Real RUL 93.0\n",
      "Engine 7, Predicted RUL [ 106.88496399], Rounded RUL 106.0, Real RUL 91.0\n",
      "Engine 8, Predicted RUL [ 89.14979553], Rounded RUL 89.0, Real RUL 95.0\n",
      "Engine 9, Predicted RUL [ 115.53969574], Rounded RUL 115.0, Real RUL 111.0\n",
      "Engine 10, Predicted RUL [ 89.71224213], Rounded RUL 89.0, Real RUL 96.0\n",
      "Engine 11, Predicted RUL [ 93.70278168], Rounded RUL 93.0, Real RUL 97.0\n",
      "Engine 12, Predicted RUL [ 102.93409729], Rounded RUL 102.0, Real RUL 124.0\n",
      "Engine 13, Predicted RUL [ 87.24149323], Rounded RUL 87.0, Real RUL 95.0\n",
      "Engine 14, Predicted RUL [ 107.03128815], Rounded RUL 107.0, Real RUL 107.0\n",
      "Engine 15, Predicted RUL [ 108.64512634], Rounded RUL 108.0, Real RUL 83.0\n",
      "Engine 16, Predicted RUL [ 105.76615143], Rounded RUL 105.0, Real RUL 84.0\n",
      "Engine 17, Predicted RUL [ 56.95732498], Rounded RUL 56.0, Real RUL 50.0\n",
      "Engine 18, Predicted RUL [ 29.13045502], Rounded RUL 29.0, Real RUL 28.0\n",
      "Engine 19, Predicted RUL [ 98.53736115], Rounded RUL 98.0, Real RUL 87.0\n",
      "Engine 20, Predicted RUL [ 8.71978188], Rounded RUL 8.0, Real RUL 16.0\n",
      "Engine 21, Predicted RUL [ 91.7741394], Rounded RUL 91.0, Real RUL 57.0\n",
      "Engine 22, Predicted RUL [ 120.26428986], Rounded RUL 120.0, Real RUL 111.0\n",
      "Engine 23, Predicted RUL [ 126.3194809], Rounded RUL 126.0, Real RUL 113.0\n",
      "Engine 24, Predicted RUL [ 0.09193236], Rounded RUL 0.0, Real RUL 20.0\n",
      "Engine 25, Predicted RUL [ 114.01291656], Rounded RUL 114.0, Real RUL 145.0\n",
      "Engine 26, Predicted RUL [ 112.50148773], Rounded RUL 112.0, Real RUL 119.0\n",
      "Engine 27, Predicted RUL [ 98.73374939], Rounded RUL 98.0, Real RUL 66.0\n",
      "Engine 28, Predicted RUL [ 103.87851715], Rounded RUL 103.0, Real RUL 97.0\n",
      "Engine 29, Predicted RUL [ 100.51118469], Rounded RUL 100.0, Real RUL 90.0\n",
      "Engine 30, Predicted RUL [ 100.89911652], Rounded RUL 100.0, Real RUL 115.0\n",
      "Engine 31, Predicted RUL [ 4.32978153], Rounded RUL 4.0, Real RUL 8.0\n",
      "Engine 32, Predicted RUL [ 53.91652298], Rounded RUL 53.0, Real RUL 48.0\n",
      "Engine 33, Predicted RUL [ 103.68887329], Rounded RUL 103.0, Real RUL 106.0\n",
      "Engine 34, Predicted RUL [-19.17720604], Rounded RUL -20.0, Real RUL 7.0\n",
      "Engine 35, Predicted RUL [ 19.60615921], Rounded RUL 19.0, Real RUL 11.0\n",
      "Engine 36, Predicted RUL [ 23.09951401], Rounded RUL 23.0, Real RUL 19.0\n",
      "Engine 37, Predicted RUL [ 29.15270805], Rounded RUL 29.0, Real RUL 21.0\n",
      "Engine 38, Predicted RUL [ 58.36387253], Rounded RUL 58.0, Real RUL 50.0\n",
      "Engine 39, Predicted RUL [ 132.68959045], Rounded RUL 132.0, Real RUL 142.0\n",
      "Engine 40, Predicted RUL [ 33.47989655], Rounded RUL 33.0, Real RUL 28.0\n",
      "Engine 41, Predicted RUL [ 22.37957382], Rounded RUL 22.0, Real RUL 18.0\n",
      "Engine 42, Predicted RUL [-11.67848492], Rounded RUL -12.0, Real RUL 10.0\n",
      "Engine 43, Predicted RUL [ 73.51893616], Rounded RUL 73.0, Real RUL 59.0\n",
      "Engine 44, Predicted RUL [ 102.4190979], Rounded RUL 102.0, Real RUL 109.0\n",
      "Engine 45, Predicted RUL [ 80.71050262], Rounded RUL 80.0, Real RUL 114.0\n",
      "Engine 46, Predicted RUL [ 47.34651184], Rounded RUL 47.0, Real RUL 47.0\n",
      "Engine 47, Predicted RUL [ 109.83049774], Rounded RUL 109.0, Real RUL 135.0\n",
      "Engine 48, Predicted RUL [ 102.27053833], Rounded RUL 102.0, Real RUL 92.0\n",
      "Engine 49, Predicted RUL [ 13.09429455], Rounded RUL 13.0, Real RUL 21.0\n",
      "Engine 50, Predicted RUL [ 98.44389343], Rounded RUL 98.0, Real RUL 79.0\n",
      "Engine 51, Predicted RUL [ 103.01864624], Rounded RUL 103.0, Real RUL 114.0\n",
      "Engine 52, Predicted RUL [ 24.98075104], Rounded RUL 24.0, Real RUL 29.0\n",
      "Engine 53, Predicted RUL [ 30.42634583], Rounded RUL 30.0, Real RUL 26.0\n",
      "Engine 54, Predicted RUL [ 115.62264252], Rounded RUL 115.0, Real RUL 97.0\n",
      "Engine 55, Predicted RUL [ 116.06999207], Rounded RUL 116.0, Real RUL 137.0\n",
      "Engine 56, Predicted RUL [ 27.02073669], Rounded RUL 27.0, Real RUL 15.0\n",
      "Engine 57, Predicted RUL [ 101.12057495], Rounded RUL 101.0, Real RUL 103.0\n",
      "Engine 58, Predicted RUL [ 59.61284637], Rounded RUL 59.0, Real RUL 37.0\n",
      "Engine 59, Predicted RUL [ 103.47425079], Rounded RUL 103.0, Real RUL 114.0\n",
      "Engine 60, Predicted RUL [ 102.90151978], Rounded RUL 102.0, Real RUL 100.0\n",
      "Engine 61, Predicted RUL [ 9.73235416], Rounded RUL 9.0, Real RUL 21.0\n",
      "Engine 62, Predicted RUL [ 47.81550217], Rounded RUL 47.0, Real RUL 54.0\n",
      "Engine 63, Predicted RUL [ 82.44807434], Rounded RUL 82.0, Real RUL 72.0\n",
      "Engine 64, Predicted RUL [ 26.171875], Rounded RUL 26.0, Real RUL 28.0\n",
      "Engine 65, Predicted RUL [ 118.69535065], Rounded RUL 118.0, Real RUL 128.0\n",
      "Engine 66, Predicted RUL [ 8.7000227], Rounded RUL 8.0, Real RUL 14.0\n",
      "Engine 67, Predicted RUL [ 121.43117523], Rounded RUL 121.0, Real RUL 77.0\n",
      "Engine 68, Predicted RUL [-5.44060135], Rounded RUL -6.0, Real RUL 8.0\n",
      "Engine 69, Predicted RUL [ 112.34564972], Rounded RUL 112.0, Real RUL 121.0\n",
      "Engine 70, Predicted RUL [ 90.18318176], Rounded RUL 90.0, Real RUL 94.0\n",
      "Engine 71, Predicted RUL [ 109.6207962], Rounded RUL 109.0, Real RUL 118.0\n",
      "Engine 72, Predicted RUL [ 72.96031952], Rounded RUL 72.0, Real RUL 50.0\n",
      "Engine 73, Predicted RUL [ 108.65789795], Rounded RUL 108.0, Real RUL 131.0\n",
      "Engine 74, Predicted RUL [ 99.51501465], Rounded RUL 99.0, Real RUL 126.0\n",
      "Engine 75, Predicted RUL [ 105.36174011], Rounded RUL 105.0, Real RUL 113.0\n",
      "Engine 76, Predicted RUL [-0.06163394], Rounded RUL -1.0, Real RUL 10.0\n",
      "Engine 77, Predicted RUL [ 41.59039688], Rounded RUL 41.0, Real RUL 34.0\n",
      "Engine 78, Predicted RUL [ 141.81715393], Rounded RUL 141.0, Real RUL 107.0\n",
      "Engine 79, Predicted RUL [ 97.24169159], Rounded RUL 97.0, Real RUL 63.0\n",
      "Engine 80, Predicted RUL [ 92.15080261], Rounded RUL 92.0, Real RUL 90.0\n",
      "Engine 81, Predicted RUL [ 6.06217957], Rounded RUL 6.0, Real RUL 8.0\n",
      "Engine 82, Predicted RUL [-8.14880943], Rounded RUL -9.0, Real RUL 9.0\n",
      "Engine 83, Predicted RUL [ 127.23802948], Rounded RUL 127.0, Real RUL 137.0\n",
      "Engine 84, Predicted RUL [ 78.16503143], Rounded RUL 78.0, Real RUL 58.0\n",
      "Engine 85, Predicted RUL [ 127.96034241], Rounded RUL 127.0, Real RUL 118.0\n",
      "Engine 86, Predicted RUL [ 107.79486847], Rounded RUL 107.0, Real RUL 89.0\n",
      "Engine 87, Predicted RUL [ 114.39409637], Rounded RUL 114.0, Real RUL 116.0\n",
      "Engine 88, Predicted RUL [ 115.41172791], Rounded RUL 115.0, Real RUL 115.0\n",
      "Engine 89, Predicted RUL [ 105.37176514], Rounded RUL 105.0, Real RUL 136.0\n",
      "Engine 90, Predicted RUL [ 27.25805283], Rounded RUL 27.0, Real RUL 28.0\n",
      "Engine 91, Predicted RUL [ 35.29916763], Rounded RUL 35.0, Real RUL 38.0\n",
      "Engine 92, Predicted RUL [ 32.48307419], Rounded RUL 32.0, Real RUL 20.0\n",
      "Engine 93, Predicted RUL [ 44.17359924], Rounded RUL 44.0, Real RUL 85.0\n",
      "Engine 94, Predicted RUL [ 72.44946289], Rounded RUL 72.0, Real RUL 55.0\n",
      "Engine 95, Predicted RUL [ 111.17939758], Rounded RUL 111.0, Real RUL 128.0\n",
      "Engine 96, Predicted RUL [ 95.4611969], Rounded RUL 95.0, Real RUL 137.0\n",
      "Engine 97, Predicted RUL [ 89.97519684], Rounded RUL 89.0, Real RUL 82.0\n",
      "Engine 98, Predicted RUL [ 74.31535339], Rounded RUL 74.0, Real RUL 59.0\n",
      "Engine 99, Predicted RUL [ 106.54473114], Rounded RUL 106.0, Real RUL 117.0\n",
      "Engine 100, Predicted RUL [-0.47727394], Rounded RUL -1.0, Real RUL 20.0\n",
      "{'loss': 319.95354003906249, 'score_1': 270.51353759765624, 'rhs': 4.5575668169841332, 'rmse': 16.426807358704856}\n",
      "RMSE: 16.447295753334537\n",
      "RMSE2: 16.426807358704856\n",
      "RHS: 4.557566816984133\n",
      "Time : 23.628081 seconds\n"
     ]
    }
   ],
   "source": [
    "tModel.evaluate_model(['rhs', 'rmse'], round=2, setLimits=[7,145])\n",
    "print(\"scores\")\n",
    "\n",
    "cScores = tModel.scores\n",
    "rmse = math.sqrt(cScores['score_1'])\n",
    "rmse2 = cScores['rmse']\n",
    "rhs = cScores['rhs']\n",
    "time = tModel.train_time\n",
    "iterations = 10\n",
    "\n",
    "i = range(1,len(tModel.y_test)+1)\n",
    "\n",
    "\n",
    "for i, rul_prediction, rul_prediction_rounded, true_rul in zip(i, tModel.y_predicted, tModel.y_predicted_rounded, tModel.y_test):\n",
    "    print('Engine {}, Predicted RUL {}, Rounded RUL {}, Real RUL {}'.format(i, rul_prediction, \n",
    "                                                                    rul_prediction_rounded, \n",
    "                                                                    true_rul))\n",
    "\n",
    "print(cScores)\n",
    "print(\"RMSE: {}\".format(rmse))\n",
    "print(\"RMSE2: {}\".format(rmse2))\n",
    "print(\"RHS: {}\".format(rhs))\n",
    "print(\"Time : {} seconds\".format(time))"
   ]
  },
  {
   "cell_type": "code",
   "execution_count": null,
   "metadata": {
    "collapsed": true
   },
   "outputs": [],
   "source": []
  }
 ],
 "metadata": {
  "kernelspec": {
   "display_name": "Python 3",
   "language": "python",
   "name": "python3"
  },
  "language_info": {
   "codemirror_mode": {
    "name": "ipython",
    "version": 3
   },
   "file_extension": ".py",
   "mimetype": "text/x-python",
   "name": "python",
   "nbconvert_exporter": "python",
   "pygments_lexer": "ipython3",
   "version": "3.5.4"
  }
 },
 "nbformat": 4,
 "nbformat_minor": 2
}
