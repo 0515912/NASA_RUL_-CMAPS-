{
 "cells": [
  {
   "cell_type": "markdown",
   "metadata": {},
   "source": [
    "# Initialization\n",
    "\n",
    "Test notebook for the DataHandlers. Test the CMAPSS DataHandler\n",
    "\n",
    "First we import the necessary packages and create the global variables."
   ]
  },
  {
   "cell_type": "code",
   "execution_count": 1,
   "metadata": {},
   "outputs": [
    {
     "name": "stderr",
     "output_type": "stream",
     "text": [
      "/Users/davidlaredorazo/anaconda/envs/tensorflow/lib/python3.6/importlib/_bootstrap.py:205: RuntimeWarning: compiletime version 3.5 of module 'tensorflow.python.framework.fast_tensor_util' does not match runtime version 3.6\n",
      "  return f(*args, **kwds)\n",
      "Using TensorFlow backend.\n"
     ]
    }
   ],
   "source": [
    "import os\n",
    "import numpy as np\n",
    "import math\n",
    "import tensorflow as tf\n",
    "\n",
    "from time import time\n",
    "from datetime import datetime\n",
    "from keras.callbacks import TensorBoard\n",
    "\n",
    "from data_handler_MNIST import MNISTDataHandler\n",
    "from tunable_model import SequenceTunableModelRegression\n",
    "from sklearn.preprocessing import StandardScaler, MinMaxScaler\n",
    "\n",
    "import keras\n",
    "from keras.models import Sequential, Model\n",
    "from keras.layers import Dense, Input, Dropout, Reshape, Conv2D, Flatten, MaxPooling2D, LSTM\n",
    "from keras.optimizers import Adam, SGD\n",
    "from keras.callbacks import LearningRateScheduler\n",
    "from keras import backend as K\n",
    "from keras import regularizers\n",
    "\n",
    "import CMAPSAuxFunctions\n",
    "from CMAPSAuxFunctions import TrainValTensorBoard\n",
    "\n",
    "from numpy.random import seed\n",
    "from tensorflow import set_random_seed\n"
   ]
  },
  {
   "cell_type": "markdown",
   "metadata": {},
   "source": [
    "# Define different types of Keras models"
   ]
  },
  {
   "cell_type": "code",
   "execution_count": 2,
   "metadata": {},
   "outputs": [],
   "source": [
    "l2_lambda_regularization = 0.2\n",
    "l1_lambda_regularization = 0.10\n",
    "def RULmodel_SN_5(input_shape):\n",
    "    #Create a sequential model\n",
    "    model = Sequential()\n",
    "    \n",
    "    #Add the layers for the model\n",
    "    model.add(Dense(250, input_shape=input_shape, activation='relu', kernel_initializer='glorot_normal', name='fc1'))\n",
    "    model.add(Dense(10, activation='softmax',kernel_initializer='glorot_normal', name='out'))\n",
    "    \n",
    "    return model"
   ]
  },
  {
   "cell_type": "markdown",
   "metadata": {},
   "source": [
    "# Create Tunable Model"
   ]
  },
  {
   "cell_type": "code",
   "execution_count": 3,
   "metadata": {
    "collapsed": true
   },
   "outputs": [],
   "source": [
    "def get_compiled_model(shape, model_type='ann'):\n",
    "    \n",
    "    K.clear_session()  #Clear the previous tensorflow graph\n",
    "    \n",
    "    #To test the model without randomness\n",
    "\n",
    "    \n",
    "    #Shared parameters for the models\n",
    "    optimizer = Adam(lr=0,beta_1=0.5)\n",
    "    \n",
    "    lossFunction = \"categorical_crossentropy\"\n",
    "    metrics = [\"accuracy\"]\n",
    "    model = None\n",
    "\n",
    "    #Create and compile the models\n",
    "    model = RULmodel_SN_5(shape)\n",
    "    model.compile(optimizer = optimizer, loss = lossFunction, metrics = metrics)\n",
    "\n",
    "    return model\n",
    "\n",
    "\n"
   ]
  },
  {
   "cell_type": "code",
   "execution_count": 4,
   "metadata": {},
   "outputs": [],
   "source": [
    "# num_features = len(selected_features)\n",
    "\n",
    "shape = (784,)\n",
    "dHandler_mnist = MNISTDataHandler()\n",
    "model = get_compiled_model(shape, model_type='ann')\n",
    "tModel = SequenceTunableModelRegression('ModelMNIST_SN_1', model, lib_type='keras', data_handler=dHandler_mnist)\n"
   ]
  },
  {
   "cell_type": "markdown",
   "metadata": {},
   "source": [
    "# Load Data"
   ]
  },
  {
   "cell_type": "code",
   "execution_count": 5,
   "metadata": {
    "scrolled": true
   },
   "outputs": [
    {
     "name": "stdout",
     "output_type": "stream",
     "text": [
      "Loading data. Cros-Validation ratio 0.2\n"
     ]
    },
    {
     "name": "stderr",
     "output_type": "stream",
     "text": [
      "/Users/davidlaredorazo/anaconda/envs/tensorflow/lib/python3.6/site-packages/sklearn/model_selection/_split.py:2010: FutureWarning: From version 0.21, test_size will always complement train_size unless both are specified.\n",
      "  FutureWarning)\n"
     ]
    },
    {
     "name": "stdout",
     "output_type": "stream",
     "text": [
      "Printing shapes\n",
      "\n",
      "Training data (X, y)\n",
      "(48000, 784)\n",
      "(48000, 10)\n",
      "Cross-Validation data (X, y)\n",
      "(12000, 784)\n",
      "(12000, 10)\n",
      "Testing data (X, y)\n",
      "(10000, 784)\n",
      "(10000, 10)\n",
      "Printing first 5 elements\n",
      "\n",
      "Training data (X, y)\n",
      "[[0. 0. 0. ... 0. 0. 0.]\n",
      " [0. 0. 0. ... 0. 0. 0.]\n",
      " [0. 0. 0. ... 0. 0. 0.]\n",
      " [0. 0. 0. ... 0. 0. 0.]\n",
      " [0. 0. 0. ... 0. 0. 0.]]\n",
      "[[1. 0. 0. 0. 0. 0. 0. 0. 0. 0.]\n",
      " [0. 1. 0. 0. 0. 0. 0. 0. 0. 0.]\n",
      " [0. 0. 0. 0. 1. 0. 0. 0. 0. 0.]\n",
      " [0. 0. 0. 0. 0. 0. 1. 0. 0. 0.]\n",
      " [0. 0. 0. 0. 1. 0. 0. 0. 0. 0.]]\n",
      "Cross-Validation data (X, y)\n",
      "[[0. 0. 0. ... 0. 0. 0.]\n",
      " [0. 0. 0. ... 0. 0. 0.]\n",
      " [0. 0. 0. ... 0. 0. 0.]\n",
      " [0. 0. 0. ... 0. 0. 0.]\n",
      " [0. 0. 0. ... 0. 0. 0.]]\n",
      "[[0. 0. 0. 0. 0. 0. 0. 0. 0. 1.]\n",
      " [0. 0. 0. 0. 1. 0. 0. 0. 0. 0.]\n",
      " [1. 0. 0. 0. 0. 0. 0. 0. 0. 0.]\n",
      " [0. 1. 0. 0. 0. 0. 0. 0. 0. 0.]\n",
      " [0. 0. 0. 0. 0. 1. 0. 0. 0. 0.]]\n",
      "Testing data (X, y)\n",
      "[[0. 0. 0. ... 0. 0. 0.]\n",
      " [0. 0. 0. ... 0. 0. 0.]\n",
      " [0. 0. 0. ... 0. 0. 0.]\n",
      " [0. 0. 0. ... 0. 0. 0.]\n",
      " [0. 0. 0. ... 0. 0. 0.]]\n",
      "[[0. 0. 0. 0. 0. 0. 0. 1. 0. 0.]\n",
      " [0. 0. 1. 0. 0. 0. 0. 0. 0. 0.]\n",
      " [0. 1. 0. 0. 0. 0. 0. 0. 0. 0.]\n",
      " [1. 0. 0. 0. 0. 0. 0. 0. 0. 0.]\n",
      " [0. 0. 0. 0. 1. 0. 0. 0. 0. 0.]]\n"
     ]
    }
   ],
   "source": [
    "#Load Non sequenced data (unroll sequence into a single feature vector)\n",
    "\n",
    "tModel.load_data(verbose=1, cross_validation_ratio=0.2)\n",
    "#tModel.data_handler.print_data()\n",
    "tModel.print_data()"
   ]
  },
  {
   "cell_type": "markdown",
   "metadata": {},
   "source": [
    "# Train the model and test some Tunable Model functionalities"
   ]
  },
  {
   "cell_type": "code",
   "execution_count": 6,
   "metadata": {
    "scrolled": true
   },
   "outputs": [
    {
     "name": "stdout",
     "output_type": "stream",
     "text": [
      "training with cv\n",
      "Train on 48000 samples, validate on 12000 samples\n",
      "Epoch 1/20\n",
      "48000/48000 [==============================] - 2s 35us/step - loss: 0.5476 - acc: 0.8622 - val_loss: 0.2879 - val_acc: 0.9192\n",
      "Epoch 2/20\n",
      "48000/48000 [==============================] - 1s 30us/step - loss: 0.2380 - acc: 0.9345 - val_loss: 0.2237 - val_acc: 0.9367\n",
      "Epoch 3/20\n",
      "48000/48000 [==============================] - 1s 28us/step - loss: 0.1820 - acc: 0.9493 - val_loss: 0.1865 - val_acc: 0.9469\n",
      "Epoch 4/20\n",
      "48000/48000 [==============================] - 2s 32us/step - loss: 0.1460 - acc: 0.9593 - val_loss: 0.1622 - val_acc: 0.9531\n",
      "Epoch 5/20\n",
      "48000/48000 [==============================] - 1s 29us/step - loss: 0.1222 - acc: 0.9657 - val_loss: 0.1464 - val_acc: 0.9565\n",
      "Epoch 6/20\n",
      "48000/48000 [==============================] - 1s 30us/step - loss: 0.1044 - acc: 0.9714 - val_loss: 0.1315 - val_acc: 0.9613\n",
      "Epoch 7/20\n",
      "48000/48000 [==============================] - 2s 32us/step - loss: 0.0907 - acc: 0.9750 - val_loss: 0.1279 - val_acc: 0.9628\n",
      "Epoch 8/20\n",
      "48000/48000 [==============================] - 1s 31us/step - loss: 0.0799 - acc: 0.9777 - val_loss: 0.1195 - val_acc: 0.9652\n",
      "Epoch 9/20\n",
      "48000/48000 [==============================] - 1s 31us/step - loss: 0.0701 - acc: 0.9808 - val_loss: 0.1066 - val_acc: 0.9684\n",
      "Epoch 10/20\n",
      "48000/48000 [==============================] - 1s 30us/step - loss: 0.0620 - acc: 0.9832 - val_loss: 0.1027 - val_acc: 0.9699\n",
      "Epoch 11/20\n",
      "48000/48000 [==============================] - 2s 39us/step - loss: 0.0556 - acc: 0.9854 - val_loss: 0.1019 - val_acc: 0.9701\n",
      "Epoch 12/20\n",
      "48000/48000 [==============================] - 2s 43us/step - loss: 0.0485 - acc: 0.9874 - val_loss: 0.0987 - val_acc: 0.9714\n",
      "Epoch 13/20\n",
      "48000/48000 [==============================] - 2s 37us/step - loss: 0.0439 - acc: 0.9887 - val_loss: 0.0949 - val_acc: 0.9722\n",
      "Epoch 14/20\n",
      "48000/48000 [==============================] - 2s 41us/step - loss: 0.0388 - acc: 0.9901 - val_loss: 0.0899 - val_acc: 0.9729\n",
      "Epoch 15/20\n",
      "48000/48000 [==============================] - 2s 42us/step - loss: 0.0350 - acc: 0.9913 - val_loss: 0.0910 - val_acc: 0.9725\n",
      "Epoch 16/20\n",
      "48000/48000 [==============================] - 1s 29us/step - loss: 0.0311 - acc: 0.9927 - val_loss: 0.0886 - val_acc: 0.9737\n",
      "Epoch 17/20\n",
      "48000/48000 [==============================] - 2s 43us/step - loss: 0.0277 - acc: 0.9937 - val_loss: 0.0888 - val_acc: 0.9732\n",
      "Epoch 18/20\n",
      "48000/48000 [==============================] - 2s 45us/step - loss: 0.0248 - acc: 0.9946 - val_loss: 0.0868 - val_acc: 0.9737\n",
      "Epoch 19/20\n",
      "48000/48000 [==============================] - 2s 40us/step - loss: 0.0227 - acc: 0.9952 - val_loss: 0.0889 - val_acc: 0.9742\n",
      "Epoch 20/20\n",
      "48000/48000 [==============================] - 2s 37us/step - loss: 0.0198 - acc: 0.9962 - val_loss: 0.0869 - val_acc: 0.9742\n"
     ]
    }
   ],
   "source": [
    "lrate = LearningRateScheduler(CMAPSAuxFunctions.step_decay)\n",
    "\n",
    "shape = (784,)\n",
    "\n",
    "\n",
    "model = get_compiled_model(shape, model_type='ann')\n",
    "tModel.change_model('ModelRUL_SN_1', model, 'keras')\n",
    "\n",
    "# now = datetime.now()\n",
    "# tensorboard = TrainValTensorBoard(log_dir=\"./logs/\"+now.strftime(\"%Y%m%d-%H%M%S\")+ \"/\",write_graph=False)\n",
    "\n",
    "tModel.epochs = 20\n",
    "tModel.train_model(learningRate_scheduler=lrate, verbose=1)\n",
    "\n",
    "\n"
   ]
  },
  {
   "cell_type": "code",
   "execution_count": 7,
   "metadata": {},
   "outputs": [
    {
     "name": "stdout",
     "output_type": "stream",
     "text": [
      "12000/12000 [==============================] - 1s 56us/step\n",
      "{'loss': 0.08689974501760056, 'score_1': 0.97425}\n"
     ]
    }
   ],
   "source": [
    "tModel.evaluate_model(cross_validation=True)\n",
    "\n",
    "cScores = tModel.scores\n",
    "print(cScores)"
   ]
  },
  {
   "cell_type": "code",
   "execution_count": 8,
   "metadata": {
    "scrolled": true
   },
   "outputs": [
    {
     "name": "stdout",
     "output_type": "stream",
     "text": [
      "10000/10000 [==============================] - 1s 53us/step\n",
      "scores\n",
      "{'loss': 0.07322948413498234, 'score_1': 0.978}\n"
     ]
    }
   ],
   "source": [
    "tModel.evaluate_model(cross_validation=False)\n",
    "\n",
    "cScores = tModel.scores\n",
    "print(cScores)"
   ]
  },
  {
   "cell_type": "code",
   "execution_count": null,
   "metadata": {
    "collapsed": true
   },
   "outputs": [],
   "source": []
  }
 ],
 "metadata": {
  "kernelspec": {
   "display_name": "Python 3",
   "language": "python",
   "name": "python3"
  },
  "language_info": {
   "codemirror_mode": {
    "name": "ipython",
    "version": 3
   },
   "file_extension": ".py",
   "mimetype": "text/x-python",
   "name": "python",
   "nbconvert_exporter": "python",
   "pygments_lexer": "ipython3",
   "version": "3.6.1"
  }
 },
 "nbformat": 4,
 "nbformat_minor": 2
}
