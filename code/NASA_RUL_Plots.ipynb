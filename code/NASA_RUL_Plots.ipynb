{
 "cells": [
  {
   "cell_type": "code",
   "execution_count": 1,
   "metadata": {},
   "outputs": [
    {
     "name": "stderr",
     "output_type": "stream",
     "text": [
      "C:\\Users\\controlslab\\Anaconda3\\envs\\tensorflow\\lib\\site-packages\\h5py\\__init__.py:36: FutureWarning: Conversion of the second argument of issubdtype from `float` to `np.floating` is deprecated. In future, it will be treated as `np.float64 == np.dtype(float).type`.\n",
      "  from ._conv import register_converters as _register_converters\n",
      "Using TensorFlow backend.\n"
     ]
    }
   ],
   "source": [
    "import math\n",
    "import matplotlib.pyplot as plt\n",
    "import numpy as np\n",
    "from scipy import stats\n",
    "\n",
    "from keras.models import model_from_json\n",
    "from keras.optimizers import Adam\n",
    "from sklearn.preprocessing import StandardScaler, MinMaxScaler\n",
    "\n",
    "import custom_scores\n",
    "import CMAPSAuxFunctions\n",
    "from tunableModel import TunableModel\n",
    "\n",
    "%matplotlib inline"
   ]
  },
  {
   "cell_type": "code",
   "execution_count": 44,
   "metadata": {},
   "outputs": [
    {
     "name": "stdout",
     "output_type": "stream",
     "text": [
      "DescribeResult(nobs=10, minmax=(12.266621376727986, 13.837268516582309), mean=12.955242308582109, variance=0.27966302880455679, skewness=0.20201204255283464, kurtosis=-1.2133905294131517)\n",
      "DescribeResult(nobs=10, minmax=(237.42350047694691, 352.26800567166515), mean=290.70948500870566, variance=1484.5444191967676, skewness=0.1493268836140663, kurtosis=-1.1701682292355864)\n",
      "DescribeResult(nobs=10, minmax=(14.464465506329361, 15.57628529019712), mean=14.677520721363544, variance=0.10482436433738088, skewness=2.4308685042567246, kurtosis=4.374353316397398)\n",
      "DescribeResult(nobs=10, minmax=(16.154418929978601, 18.182472785688876), mean=16.858005715354878, variance=0.48339603163934769, skewness=0.8632985045099908, kurtosis=-0.5784246248915061)\n",
      "DescribeResult(nobs=10, minmax=(1522.3218525371171, 1910.0646263473964), mean=1732.3600226107628, variance=23120.18972954134, skewness=-0.13300756592597052, kurtosis=-1.5751868389702237)\n",
      "DescribeResult(nobs=10, minmax=(37.773115328689528, 39.638020520953432), mean=38.732721664223938, variance=0.20676138742411995, skewness=-0.1737183734288664, kurtosis=1.398084985226565)\n",
      "DescribeResult(nobs=10, minmax=(11.200446419674531, 13.579027947537334), mean=12.147829498341121, variance=0.40137608803704106, skewness=0.9198517041370645, kurtosis=0.954103598809195)\n",
      "DescribeResult(nobs=10, minmax=(165.81613974485589, 227.31359996187416), mean=200.01304840154856, variance=280.27997148462168, skewness=-0.5426002386991771, kurtosis=0.23799247906498477)\n",
      "DescribeResult(nobs=10, minmax=(17.744684466706531, 18.854586933179235), mean=17.918135374700977, variance=0.11188414494822951, skewness=2.510053156423005, kurtosis=4.613291420645772)\n",
      "DescribeResult(nobs=10, minmax=(20.918428362601485, 22.725926646354466), mean=21.922353396490728, variance=0.52950065736600871, skewness=-0.27146418151590546, kurtosis=-1.5871214475095445)\n",
      "DescribeResult(nobs=10, minmax=(5497.360384927576, 7210.3099466218127), mean=6126.2196684545597, variance=325098.76447203953, skewness=0.6400141138202493, kurtosis=-0.6528482454856679)\n",
      "DescribeResult(nobs=10, minmax=(44.058818782297749, 44.527515845175003), mean=44.281598531681993, variance=0.030327474301440154, skewness=0.13382253478893813, kurtosis=-1.3786853132622563)\n"
     ]
    }
   ],
   "source": [
    "data = np.genfromtxt('scores_all_datasets3.csv', delimiter=',')\n",
    "#print(data)\n",
    "\n",
    "for i in range(4):\n",
    "    tempScoresRMSE = data[i*3+0]\n",
    "    tempScoresRHS = data[i*3+1]\n",
    "    tempTime = data[i*3+2]\n",
    "    \n",
    "    print(stats.describe(tempScoresRMSE))\n",
    "    print(stats.describe(tempScoresRHS))\n",
    "    print(stats.describe(tempTime))"
   ]
  },
  {
   "cell_type": "code",
   "execution_count": 2,
   "metadata": {},
   "outputs": [
    {
     "name": "stdout",
     "output_type": "stream",
     "text": [
      "[ 15.25844029  15.15420734  15.04027925  14.95326051  14.90268432\n",
      "  14.91341678  14.94289129  14.89093684  14.78343668  15.04194136]\n"
     ]
    },
    {
     "data": {
      "text/plain": [
       "<matplotlib.figure.Figure at 0x121430908>"
      ]
     },
     "metadata": {},
     "output_type": "display_data"
    },
    {
     "data": {
      "image/png": "[encoded data removed]",
      "text/plain": [
       "<matplotlib.figure.Figure at 0x12166c320>"
      ]
     },
     "metadata": {},
     "output_type": "display_data"
    }
   ],
   "source": [
    "data = np.genfromtxt('results/scores_all_datasets.csv', delimiter=',')\n",
    "\n",
    "data_rmse = [] \n",
    "data_rhs = []\n",
    "\n",
    "print(data[0])\n",
    "\n",
    "for dataset in range(4):\n",
    "    \n",
    "    #data_rmse.append([data[dataset*3], data[dataset*3+12], data[dataset*3+24]]) \n",
    "    #data_rhs.append([data[dataset*3+1], data[dataset*3+13], data[dataset*3+25]])\n",
    "    \n",
    "    data_rmse.append([data[dataset*3], data[dataset*3+12]]) \n",
    "    data_rhs.append([data[dataset*3+1], data[dataset*3+13]])\n",
    "\n",
    "\n",
    "f, (ax1, ax2, ax3, ax4) = plt.subplots(1, 4)\n",
    "#f.suptitle('Different sets of data-related parameters')\n",
    "plt_ax = [ax1, ax2, ax3, ax4]\n",
    "count = 0\n",
    "\n",
    "for data_plot in data_rmse:\n",
    "    plt_ax[count].boxplot(data_plot, showfliers=False)\n",
    "    plt.sca(plt_ax[count])\n",
    "    locs, _ = plt.xticks()\n",
    "    plt.xticks(locs, ['2 sets', '1 set'], rotation=60)\n",
    "    if count == 0:\n",
    "        plt_ax[count].set_ylabel('RMSE')\n",
    "        \n",
    "    plt_ax[count].set_title('FD00'+str(count+1))\n",
    "    count = count + 1 \n",
    "\n",
    "f.tight_layout()\n",
    "plt.savefig('rmse_comparisson.svg', bbox_inches='tight', format='svg')\n",
    "plt.savefig('rmse_comparisson.png', bbox_inches='tight')\n",
    "\n",
    "plt.clf()\n",
    "f, (ax1, ax2, ax3, ax4) = plt.subplots(1, 4)\n",
    "#f.suptitle('Different sets of data-related parameters')\n",
    "plt_ax = [ax1, ax2, ax3, ax4]\n",
    "\n",
    "count = 0\n",
    "for data_plot in data_rhs:\n",
    "    plt_ax[count].boxplot(data_plot, showfliers=False)\n",
    "    plt.sca(plt_ax[count])\n",
    "    locs, _ = plt.xticks()\n",
    "    plt.xticks(locs, ['2 sets', '1 set'], rotation=60)\n",
    "    if count == 0:\n",
    "        plt_ax[count].set_ylabel('RHS')\n",
    "        \n",
    "    plt_ax[count].set_title('FD00'+str(count+1))\n",
    "    count = count + 1 \n",
    "\n",
    "f.tight_layout()\n",
    "plt.savefig('rhs_comparisson.svg', bbox_inches='tight', format='svg')\n",
    "plt.savefig('rhs_comparisson.png', bbox_inches='tight')\n"
   ]
  },
  {
   "cell_type": "code",
   "execution_count": 4,
   "metadata": {},
   "outputs": [
    {
     "name": "stdout",
     "output_type": "stream",
     "text": [
      "Loaded model from disk\n",
      "Loading data for dataset 1 with window_size of 20, stride of 1 and constRUL of 100. Cros-Validation ratio 0\n",
      "Data loaded for dataset 1\n",
      "Description for model: Loaded_Model\n",
      "_________________________________________________________________\n",
      "Layer (type)                 Output Shape              Param #   \n",
      "=================================================================\n",
      "fc1 (Dense)                  (None, 30)                6330      \n",
      "_________________________________________________________________\n",
      "dropout_1 (Dropout)          (None, 30)                0         \n",
      "_________________________________________________________________\n",
      "fc2 (Dense)                  (None, 10)                310       \n",
      "_________________________________________________________________\n",
      "dropout_2 (Dropout)          (None, 10)                0         \n",
      "_________________________________________________________________\n",
      "out (Dense)                  (None, 1)                 11        \n",
      "=================================================================\n",
      "Total params: 6,651\n",
      "Trainable params: 6,651\n",
      "Non-trainable params: 0\n",
      "_________________________________________________________________\n"
     ]
    }
   ],
   "source": [
    "# load json and create model\n",
    "json_file = open('bestRULModel.json', 'r')\n",
    "loaded_model_json = json_file.read()\n",
    "json_file.close()\n",
    "loaded_model = model_from_json(loaded_model_json)\n",
    "# load weights into new model\n",
    "loaded_model.load_weights(\"bestRULModel.h5\")\n",
    "print(\"Loaded model from disk\")\n",
    "\n",
    "\n",
    "#Shared parameters for the models\n",
    "optimizer = Adam(lr=0, beta_1=0.5)\n",
    "lossFunction = \"mean_squared_error\"\n",
    "metrics = [\"mse\"]\n",
    "\n",
    "#Selected as per CNN paper\n",
    "selected_features = ['T24', 'T30', 'T50', 'P30', 'Nf', 'Nc', 'Ps30', 'phi', 'NRf', 'NRc', \n",
    "                     'BPR', 'htBleed', 'W31', 'W32']\n",
    "\n",
    "windowSize = 20\n",
    "stride = 1\n",
    "constRUL = 100\n",
    "\n",
    "\n",
    "dataFolder = '../CMAPSSData'\n",
    "\n",
    "#Create and compile the models\n",
    "#nFeatures = len(selected_features)\n",
    "#shapeSN = nFeatures*windowSize\n",
    "#modelRULSN = RULmodel_SN_1(shapeSN)\n",
    "loaded_model.compile(optimizer = optimizer, loss = lossFunction, metrics = metrics)\n",
    "\n",
    "min_max_scaler = MinMaxScaler(feature_range=(-1, 1))\n",
    "\n",
    "tModel = TunableModel('Loaded_Model', loaded_model, selected_features, dataFolder, window_size=windowSize,\n",
    "                      scaler = min_max_scaler, window_stride=stride, constRul = constRUL, lib_type='keras')\n",
    "tModel.loadData(verbose=1)\n",
    "tModel.getModelDescription()\n"
   ]
  },
  {
   "cell_type": "code",
   "execution_count": 5,
   "metadata": {},
   "outputs": [
    {
     "ename": "ValueError",
     "evalue": "Error when checking input: expected fc1_input to have shape (None, 210) but got array with shape (100, 280)",
     "output_type": "error",
     "traceback": [
      "\u001b[1;31m---------------------------------------------------------------------------\u001b[0m",
      "\u001b[1;31mValueError\u001b[0m                                Traceback (most recent call last)",
      "\u001b[1;32m<ipython-input-5-13cf18773350>\u001b[0m in \u001b[0;36m<module>\u001b[1;34m()\u001b[0m\n\u001b[0;32m      1\u001b[0m \u001b[1;31m# evaluate loaded model on test data\u001b[0m\u001b[1;33m\u001b[0m\u001b[1;33m\u001b[0m\u001b[0m\n\u001b[1;32m----> 2\u001b[1;33m \u001b[0mtModel\u001b[0m\u001b[1;33m.\u001b[0m\u001b[0mevaluateModel\u001b[0m\u001b[1;33m(\u001b[0m\u001b[1;33m[\u001b[0m\u001b[1;34m\"rhs\"\u001b[0m\u001b[1;33m]\u001b[0m\u001b[1;33m,\u001b[0m \u001b[0mround\u001b[0m\u001b[1;33m=\u001b[0m\u001b[1;36m2\u001b[0m\u001b[1;33m)\u001b[0m\u001b[1;33m\u001b[0m\u001b[0m\n\u001b[0m\u001b[0;32m      3\u001b[0m \u001b[0mprint\u001b[0m\u001b[1;33m(\u001b[0m\u001b[1;34m\"scores\"\u001b[0m\u001b[1;33m)\u001b[0m\u001b[1;33m\u001b[0m\u001b[0m\n\u001b[0;32m      4\u001b[0m \u001b[1;33m\u001b[0m\u001b[0m\n\u001b[0;32m      5\u001b[0m \u001b[1;31m#print(tModel.y_pred)\u001b[0m\u001b[1;33m\u001b[0m\u001b[1;33m\u001b[0m\u001b[0m\n",
      "\u001b[1;32mD:\\Projects\\NASA_RUL_-CMAPS-\\code\\tunableModel.py\u001b[0m in \u001b[0;36mevaluateModel\u001b[1;34m(self, metrics, crossValidation, round, setLimits)\u001b[0m\n\u001b[0;32m    191\u001b[0m                 \u001b[1;31m#Predict the output labels\u001b[0m\u001b[1;33m\u001b[0m\u001b[1;33m\u001b[0m\u001b[0m\n\u001b[0;32m    192\u001b[0m                 \u001b[1;32mif\u001b[0m \u001b[0mself\u001b[0m\u001b[1;33m.\u001b[0m\u001b[0m__lib_type\u001b[0m \u001b[1;33m==\u001b[0m \u001b[1;34m'keras'\u001b[0m\u001b[1;33m:\u001b[0m\u001b[1;33m\u001b[0m\u001b[0m\n\u001b[1;32m--> 193\u001b[1;33m                         \u001b[0mdefaultScores\u001b[0m \u001b[1;33m=\u001b[0m \u001b[0mself\u001b[0m\u001b[1;33m.\u001b[0m\u001b[0m__model\u001b[0m\u001b[1;33m.\u001b[0m\u001b[0mevaluate\u001b[0m\u001b[1;33m(\u001b[0m\u001b[0mx\u001b[0m \u001b[1;33m=\u001b[0m \u001b[0mX_test\u001b[0m\u001b[1;33m,\u001b[0m \u001b[0my\u001b[0m \u001b[1;33m=\u001b[0m \u001b[0my_test\u001b[0m\u001b[1;33m)\u001b[0m\u001b[1;33m\u001b[0m\u001b[0m\n\u001b[0m\u001b[0;32m    194\u001b[0m                         \u001b[0mself\u001b[0m\u001b[1;33m.\u001b[0m\u001b[0m__y_pred\u001b[0m \u001b[1;33m=\u001b[0m \u001b[0mself\u001b[0m\u001b[1;33m.\u001b[0m\u001b[0m__model\u001b[0m\u001b[1;33m.\u001b[0m\u001b[0mpredict\u001b[0m\u001b[1;33m(\u001b[0m\u001b[0mX_test\u001b[0m\u001b[1;33m)\u001b[0m\u001b[1;33m\u001b[0m\u001b[0m\n\u001b[0;32m    195\u001b[0m                 \u001b[1;32melif\u001b[0m \u001b[0mself\u001b[0m\u001b[1;33m.\u001b[0m\u001b[0m__lib_type\u001b[0m \u001b[1;33m==\u001b[0m \u001b[1;34m'scikit'\u001b[0m\u001b[1;33m:\u001b[0m\u001b[1;33m\u001b[0m\u001b[0m\n",
      "\u001b[1;32m~\\Anaconda3\\envs\\tensorflow\\lib\\site-packages\\keras\\models.py\u001b[0m in \u001b[0;36mevaluate\u001b[1;34m(self, x, y, batch_size, verbose, sample_weight)\u001b[0m\n\u001b[0;32m    920\u001b[0m                                    \u001b[0mbatch_size\u001b[0m\u001b[1;33m=\u001b[0m\u001b[0mbatch_size\u001b[0m\u001b[1;33m,\u001b[0m\u001b[1;33m\u001b[0m\u001b[0m\n\u001b[0;32m    921\u001b[0m                                    \u001b[0mverbose\u001b[0m\u001b[1;33m=\u001b[0m\u001b[0mverbose\u001b[0m\u001b[1;33m,\u001b[0m\u001b[1;33m\u001b[0m\u001b[0m\n\u001b[1;32m--> 922\u001b[1;33m                                    sample_weight=sample_weight)\n\u001b[0m\u001b[0;32m    923\u001b[0m \u001b[1;33m\u001b[0m\u001b[0m\n\u001b[0;32m    924\u001b[0m     \u001b[1;32mdef\u001b[0m \u001b[0mpredict\u001b[0m\u001b[1;33m(\u001b[0m\u001b[0mself\u001b[0m\u001b[1;33m,\u001b[0m \u001b[0mx\u001b[0m\u001b[1;33m,\u001b[0m \u001b[0mbatch_size\u001b[0m\u001b[1;33m=\u001b[0m\u001b[1;36m32\u001b[0m\u001b[1;33m,\u001b[0m \u001b[0mverbose\u001b[0m\u001b[1;33m=\u001b[0m\u001b[1;36m0\u001b[0m\u001b[1;33m)\u001b[0m\u001b[1;33m:\u001b[0m\u001b[1;33m\u001b[0m\u001b[0m\n",
      "\u001b[1;32m~\\Anaconda3\\envs\\tensorflow\\lib\\site-packages\\keras\\engine\\training.py\u001b[0m in \u001b[0;36mevaluate\u001b[1;34m(self, x, y, batch_size, verbose, sample_weight, steps)\u001b[0m\n\u001b[0;32m   1679\u001b[0m             \u001b[0msample_weight\u001b[0m\u001b[1;33m=\u001b[0m\u001b[0msample_weight\u001b[0m\u001b[1;33m,\u001b[0m\u001b[1;33m\u001b[0m\u001b[0m\n\u001b[0;32m   1680\u001b[0m             \u001b[0mcheck_batch_axis\u001b[0m\u001b[1;33m=\u001b[0m\u001b[1;32mFalse\u001b[0m\u001b[1;33m,\u001b[0m\u001b[1;33m\u001b[0m\u001b[0m\n\u001b[1;32m-> 1681\u001b[1;33m             batch_size=batch_size)\n\u001b[0m\u001b[0;32m   1682\u001b[0m         \u001b[1;31m# Prepare inputs, delegate logic to `_test_loop`.\u001b[0m\u001b[1;33m\u001b[0m\u001b[1;33m\u001b[0m\u001b[0m\n\u001b[0;32m   1683\u001b[0m         \u001b[1;32mif\u001b[0m \u001b[0mself\u001b[0m\u001b[1;33m.\u001b[0m\u001b[0muses_learning_phase\u001b[0m \u001b[1;32mand\u001b[0m \u001b[1;32mnot\u001b[0m \u001b[0misinstance\u001b[0m\u001b[1;33m(\u001b[0m\u001b[0mK\u001b[0m\u001b[1;33m.\u001b[0m\u001b[0mlearning_phase\u001b[0m\u001b[1;33m(\u001b[0m\u001b[1;33m)\u001b[0m\u001b[1;33m,\u001b[0m \u001b[0mint\u001b[0m\u001b[1;33m)\u001b[0m\u001b[1;33m:\u001b[0m\u001b[1;33m\u001b[0m\u001b[0m\n",
      "\u001b[1;32m~\\Anaconda3\\envs\\tensorflow\\lib\\site-packages\\keras\\engine\\training.py\u001b[0m in \u001b[0;36m_standardize_user_data\u001b[1;34m(self, x, y, sample_weight, class_weight, check_batch_axis, batch_size)\u001b[0m\n\u001b[0;32m   1407\u001b[0m                                     \u001b[0mself\u001b[0m\u001b[1;33m.\u001b[0m\u001b[0m_feed_input_shapes\u001b[0m\u001b[1;33m,\u001b[0m\u001b[1;33m\u001b[0m\u001b[0m\n\u001b[0;32m   1408\u001b[0m                                     \u001b[0mcheck_batch_axis\u001b[0m\u001b[1;33m=\u001b[0m\u001b[1;32mFalse\u001b[0m\u001b[1;33m,\u001b[0m\u001b[1;33m\u001b[0m\u001b[0m\n\u001b[1;32m-> 1409\u001b[1;33m                                     exception_prefix='input')\n\u001b[0m\u001b[0;32m   1410\u001b[0m         y = _standardize_input_data(y, self._feed_output_names,\n\u001b[0;32m   1411\u001b[0m                                     \u001b[0moutput_shapes\u001b[0m\u001b[1;33m,\u001b[0m\u001b[1;33m\u001b[0m\u001b[0m\n",
      "\u001b[1;32m~\\Anaconda3\\envs\\tensorflow\\lib\\site-packages\\keras\\engine\\training.py\u001b[0m in \u001b[0;36m_standardize_input_data\u001b[1;34m(data, names, shapes, check_batch_axis, exception_prefix)\u001b[0m\n\u001b[0;32m    152\u001b[0m                             \u001b[1;34m' to have shape '\u001b[0m \u001b[1;33m+\u001b[0m \u001b[0mstr\u001b[0m\u001b[1;33m(\u001b[0m\u001b[0mshapes\u001b[0m\u001b[1;33m[\u001b[0m\u001b[0mi\u001b[0m\u001b[1;33m]\u001b[0m\u001b[1;33m)\u001b[0m \u001b[1;33m+\u001b[0m\u001b[1;33m\u001b[0m\u001b[0m\n\u001b[0;32m    153\u001b[0m                             \u001b[1;34m' but got array with shape '\u001b[0m \u001b[1;33m+\u001b[0m\u001b[1;33m\u001b[0m\u001b[0m\n\u001b[1;32m--> 154\u001b[1;33m                             str(array.shape))\n\u001b[0m\u001b[0;32m    155\u001b[0m     \u001b[1;32mreturn\u001b[0m \u001b[0marrays\u001b[0m\u001b[1;33m\u001b[0m\u001b[0m\n\u001b[0;32m    156\u001b[0m \u001b[1;33m\u001b[0m\u001b[0m\n",
      "\u001b[1;31mValueError\u001b[0m: Error when checking input: expected fc1_input to have shape (None, 210) but got array with shape (100, 280)"
     ]
    }
   ],
   "source": [
    "# evaluate loaded model on test data\n",
    "tModel.evaluateModel([\"rhs\"], round=2)\n",
    "print(\"scores\")\n",
    "\n",
    "#print(tModel.y_pred)\n",
    "\n",
    "cScores = tModel.scores\n",
    "rmse = math.sqrt(cScores['score_1'])\n",
    "rmse2 = cScores['rmse']\n",
    "rhs = cScores['rhs']\n",
    "time = tModel.trainTime\n",
    "\n",
    "i = 1\n",
    "for prediction in tModel.y_pred:\n",
    "    print('Engine {}, RUL {}, Rectified RUL {}, Real RUL {}'.format(i, prediction, \n",
    "                                                                    tModel.y_pred_rectified[i-1], \n",
    "                                                                    tModel.y_test[i-1]))\n",
    "    i = i+1\n",
    "\n",
    "print(cScores)\n",
    "print(\"RMSE: {}\".format(rmse))\n",
    "print(\"RMSE2: {}\".format(rmse2))\n",
    "print(\"RHS: {}\".format(rhs))\n",
    "print(\"Time : {} seconds\".format(time))"
   ]
  },
  {
   "cell_type": "code",
   "execution_count": 12,
   "metadata": {},
   "outputs": [],
   "source": [
    "def plotRUL(cycles, rulArray, engineUnit):\n",
    "    \n",
    "    plt.clf()\n",
    "    plt.plot(cycles, rulArray, 'bo-', label='RUL')\n",
    "    plt.xlabel(\"Time (Cycle)\")\n",
    "    plt.ylabel(\"RUL\")\n",
    "    plt.title(\"Test Engine Unit #{}\".format(engineUnit))\n",
    "    \n",
    "    plt.show()\n",
    "    \n",
    "def plotRUL_Engine(tModel, engineUnit):\n",
    "\n",
    "    time_window = tModel.windowSize\n",
    "    constRUL = tModel.constRul\n",
    "    stride = tModel.windowStride\n",
    "    selectedFeatures = tModel.selectedFeatures\n",
    "    \n",
    "    df = tModel.df_train\n",
    "    df_engine = df.loc[df['Unit Number'] == engineUnit, :]\n",
    "    df_engine['Unit Number'] = 1\n",
    "    \n",
    "    X_test2, _, _, _, _ = CMAPSAuxFunctions.create_windowed_data(df_engine, selected_features, 'train', time_window=time_window, \n",
    "                                                     constRUL=constRUL, stride=stride)\n",
    "    \n",
    "    X_test2 = tModel.dataScaler.transform(X_test2)\n",
    "    #nnPred = tModel.model.predict(X_test2)\n",
    "    \n",
    "    maxCycle = X_test2.shape[0]\n",
    "    faultCycle = tModel.y_test[engineUnit-1]\n",
    "    cycles = np.arange(maxCycle)\n",
    "    rulArray = np.arange(faultCycle, maxCycle+faultCycle)\n",
    "    rulArray[rulArray > constRUL] = constRUL\n",
    "    rulArray = np.flipud(rulArray)\n",
    "    \n",
    "    plotRUL(cycles, rulArray, engineUnit)\n",
    "    #plt.plot(cycles, nnPred, 'go-', label='NN Pred')\n",
    "    #plt.legend()"
   ]
  },
  {
   "cell_type": "code",
   "execution_count": 13,
   "metadata": {},
   "outputs": [
    {
     "name": "stderr",
     "output_type": "stream",
     "text": [
      "C:\\Users\\controlslab\\Anaconda3\\envs\\tensorflow\\lib\\site-packages\\ipykernel_launcher.py:20: SettingWithCopyWarning: \n",
      "A value is trying to be set on a copy of a slice from a DataFrame.\n",
      "Try using .loc[row_indexer,col_indexer] = value instead\n",
      "\n",
      "See the caveats in the documentation: http://pandas.pydata.org/pandas-docs/stable/indexing.html#indexing-view-versus-copy\n",
      "D:\\Projects\\NASA_RUL_-CMAPS-\\code\\CMAPSAuxFunctions.py:167: SettingWithCopyWarning: \n",
      "A value is trying to be set on a copy of a slice from a DataFrame.\n",
      "Try using .loc[row_indexer,col_indexer] = value instead\n",
      "\n",
      "See the caveats in the documentation: http://pandas.pydata.org/pandas-docs/stable/indexing.html#indexing-view-versus-copy\n",
      "  df['RUL'] = df.apply(compute_training_RUL, axis = 1, args=(rul_vector,constRUL,))\n"
     ]
    },
    {
     "data": {
      "image/png": "[encoded data removed]",
      "text/plain": [
       "<Figure size 432x288 with 1 Axes>"
      ]
     },
     "metadata": {},
     "output_type": "display_data"
    }
   ],
   "source": [
    "plotRUL_Engine(tModel, 21)"
   ]
  },
  {
   "cell_type": "code",
   "execution_count": 26,
   "metadata": {},
   "outputs": [
    {
     "name": "stdout",
     "output_type": "stream",
     "text": [
      "[  19.        9.       97.       80.9299 3221.0715]\n",
      "[ 30.       1.     125.      17.4395   5.2236]\n"
     ]
    }
   ],
   "source": [
    "data = np.genfromtxt('intermediateResultsbruteforce_notRectified1.csv', delimiter=',')\n",
    "rmse = data[:,3]\n",
    "maxIndex = np.argmax(rmse)\n",
    "minIndex = np.argmin(rmse)\n",
    "print(data[maxIndex])\n",
    "print(data[minIndex])"
   ]
  },
  {
   "cell_type": "code",
   "execution_count": 27,
   "metadata": {},
   "outputs": [
    {
     "name": "stdout",
     "output_type": "stream",
     "text": [
      "[1.90000000e+01 1.00000000e+01 1.09000000e+02 7.68065000e+01\n",
      " 1.84485618e+04]\n",
      "[ 20.       1.     135.      36.891  114.8625]\n"
     ]
    }
   ],
   "source": [
    "data = np.genfromtxt('intermediateResultsbruteforce_notRectified2.csv', delimiter=',')\n",
    "rmse = data[:,3]\n",
    "maxIndex = np.argmax(rmse)\n",
    "minIndex = np.argmin(rmse)\n",
    "print(data[maxIndex])\n",
    "print(data[minIndex])"
   ]
  },
  {
   "cell_type": "code",
   "execution_count": null,
   "metadata": {},
   "outputs": [],
   "source": []
  }
 ],
 "metadata": {
  "kernelspec": {
   "display_name": "Python 3",
   "language": "python",
   "name": "python3"
  },
  "language_info": {
   "codemirror_mode": {
    "name": "ipython",
    "version": 3
   },
   "file_extension": ".py",
   "mimetype": "text/x-python",
   "name": "python",
   "nbconvert_exporter": "python",
   "pygments_lexer": "ipython3",
   "version": "3.5.4"
  }
 },
 "nbformat": 4,
 "nbformat_minor": 2
}
