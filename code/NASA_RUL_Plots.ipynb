{
 "cells": [
  {
   "cell_type": "code",
   "execution_count": 11,
   "metadata": {},
   "outputs": [],
   "source": [
    "import math\n",
    "import matplotlib.pyplot as plt\n",
    "import numpy as np\n",
    "from scipy import stats\n",
    "\n",
    "from keras.models import model_from_json\n",
    "from keras.optimizers import Adam\n",
    "from sklearn.preprocessing import StandardScaler, MinMaxScaler\n",
    "\n",
    "import custom_scores\n",
    "import CMAPSAuxFunctions\n",
    "from tunableModel import TunableModel\n",
    "\n",
    "%matplotlib inline"
   ]
  },
  {
   "cell_type": "code",
   "execution_count": 44,
   "metadata": {},
   "outputs": [
    {
     "name": "stdout",
     "output_type": "stream",
     "text": [
      "DescribeResult(nobs=10, minmax=(12.266621376727986, 13.837268516582309), mean=12.955242308582109, variance=0.27966302880455679, skewness=0.20201204255283464, kurtosis=-1.2133905294131517)\n",
      "DescribeResult(nobs=10, minmax=(237.42350047694691, 352.26800567166515), mean=290.70948500870566, variance=1484.5444191967676, skewness=0.1493268836140663, kurtosis=-1.1701682292355864)\n",
      "DescribeResult(nobs=10, minmax=(14.464465506329361, 15.57628529019712), mean=14.677520721363544, variance=0.10482436433738088, skewness=2.4308685042567246, kurtosis=4.374353316397398)\n",
      "DescribeResult(nobs=10, minmax=(16.154418929978601, 18.182472785688876), mean=16.858005715354878, variance=0.48339603163934769, skewness=0.8632985045099908, kurtosis=-0.5784246248915061)\n",
      "DescribeResult(nobs=10, minmax=(1522.3218525371171, 1910.0646263473964), mean=1732.3600226107628, variance=23120.18972954134, skewness=-0.13300756592597052, kurtosis=-1.5751868389702237)\n",
      "DescribeResult(nobs=10, minmax=(37.773115328689528, 39.638020520953432), mean=38.732721664223938, variance=0.20676138742411995, skewness=-0.1737183734288664, kurtosis=1.398084985226565)\n",
      "DescribeResult(nobs=10, minmax=(11.200446419674531, 13.579027947537334), mean=12.147829498341121, variance=0.40137608803704106, skewness=0.9198517041370645, kurtosis=0.954103598809195)\n",
      "DescribeResult(nobs=10, minmax=(165.81613974485589, 227.31359996187416), mean=200.01304840154856, variance=280.27997148462168, skewness=-0.5426002386991771, kurtosis=0.23799247906498477)\n",
      "DescribeResult(nobs=10, minmax=(17.744684466706531, 18.854586933179235), mean=17.918135374700977, variance=0.11188414494822951, skewness=2.510053156423005, kurtosis=4.613291420645772)\n",
      "DescribeResult(nobs=10, minmax=(20.918428362601485, 22.725926646354466), mean=21.922353396490728, variance=0.52950065736600871, skewness=-0.27146418151590546, kurtosis=-1.5871214475095445)\n",
      "DescribeResult(nobs=10, minmax=(5497.360384927576, 7210.3099466218127), mean=6126.2196684545597, variance=325098.76447203953, skewness=0.6400141138202493, kurtosis=-0.6528482454856679)\n",
      "DescribeResult(nobs=10, minmax=(44.058818782297749, 44.527515845175003), mean=44.281598531681993, variance=0.030327474301440154, skewness=0.13382253478893813, kurtosis=-1.3786853132622563)\n"
     ]
    }
   ],
   "source": [
    "data = np.genfromtxt('scores_all_datasets3.csv', delimiter=',')\n",
    "#print(data)\n",
    "\n",
    "for i in range(4):\n",
    "    tempScoresRMSE = data[i*3+0]\n",
    "    tempScoresRHS = data[i*3+1]\n",
    "    tempTime = data[i*3+2]\n",
    "    \n",
    "    print(stats.describe(tempScoresRMSE))\n",
    "    print(stats.describe(tempScoresRHS))\n",
    "    print(stats.describe(tempTime))"
   ]
  },
  {
   "cell_type": "code",
   "execution_count": 76,
   "metadata": {},
   "outputs": [
    {
     "name": "stdout",
     "output_type": "stream",
     "text": [
      "[ 12.60039682  11.68631679  11.13058848  10.46804662  10.55935604\n",
      "  10.81988909  11.10990549  11.27208942  11.46734494  11.65847331]\n"
     ]
    },
    {
     "data": {
      "text/plain": [
       "<matplotlib.figure.Figure at 0x10f9e21d0>"
      ]
     },
     "metadata": {},
     "output_type": "display_data"
    },
    {
     "data": {
      "image/png": "[encoded data removed]",
      "text/plain": [
       "<matplotlib.figure.Figure at 0x10eb746a0>"
      ]
     },
     "metadata": {},
     "output_type": "display_data"
    }
   ],
   "source": [
    "data = np.genfromtxt('scores_all_datasets.csv', delimiter=',')\n",
    "\n",
    "data_rmse = [] \n",
    "data_rhs = []\n",
    "\n",
    "print(data[0])\n",
    "\n",
    "for dataset in range(4):\n",
    "    \n",
    "    data_rmse.append([data[dataset*3], data[dataset*3+12], data[dataset*3+24]]) \n",
    "    data_rhs.append([data[dataset*3+1], data[dataset*3+13], data[dataset*3+25]])\n",
    "\n",
    "\n",
    "f, (ax1, ax2, ax3, ax4) = plt.subplots(1, 4)\n",
    "#f.suptitle('Different sets of data-related parameters')\n",
    "plt_ax = [ax1, ax2, ax3, ax4]\n",
    "count = 0\n",
    "\n",
    "for data_plot in data_rmse:\n",
    "    plt_ax[count].boxplot(data_plot, showfliers=False)\n",
    "    plt.sca(plt_ax[count])\n",
    "    locs, _ = plt.xticks()\n",
    "    plt.xticks(locs, ['4 sets', '2 sets', '1 set'], rotation=60)\n",
    "    if count == 0:\n",
    "        plt_ax[count].set_ylabel('RMSE')\n",
    "        \n",
    "    plt_ax[count].set_title('FD00'+str(count+1))\n",
    "    count = count + 1 \n",
    "\n",
    "f.tight_layout()\n",
    "plt.savefig('rmse_comparisson.svg', bbox_inches='tight', format='svg')\n",
    "plt.savefig('rmse_comparisson.png', bbox_inches='tight')\n",
    "\n",
    "plt.clf()\n",
    "f, (ax1, ax2, ax3, ax4) = plt.subplots(1, 4)\n",
    "#f.suptitle('Different sets of data-related parameters')\n",
    "plt_ax = [ax1, ax2, ax3, ax4]\n",
    "\n",
    "count = 0\n",
    "for data_plot in data_rhs:\n",
    "    plt_ax[count].boxplot(data_plot, showfliers=False)\n",
    "    plt.sca(plt_ax[count])\n",
    "    locs, _ = plt.xticks()\n",
    "    plt.xticks(locs, ['4 sets', '2 sets', '1 set'], rotation=60)\n",
    "    if count == 0:\n",
    "        plt_ax[count].set_ylabel('RHS')\n",
    "        \n",
    "    plt_ax[count].set_title('FD00'+str(count+1))\n",
    "    count = count + 1 \n",
    "\n",
    "f.tight_layout()\n",
    "plt.savefig('rhs_comparisson.svg', bbox_inches='tight', format='svg')\n",
    "plt.savefig('rhs_comparisson.png', bbox_inches='tight')\n"
   ]
  },
  {
   "cell_type": "code",
   "execution_count": 12,
   "metadata": {},
   "outputs": [
    {
     "name": "stdout",
     "output_type": "stream",
     "text": [
      "Loaded model from disk\n",
      "Loading data for dataset 1 with window_size of 15, stride of 2 and constRUL of 95. Cros-Validation ratio 0\n",
      "Data loaded for dataset 1\n",
      "Description for model: Loaded_Model\n",
      "_________________________________________________________________\n",
      "Layer (type)                 Output Shape              Param #   \n",
      "=================================================================\n",
      "fc1 (Dense)                  (None, 30)                6330      \n",
      "_________________________________________________________________\n",
      "dropout_1 (Dropout)          (None, 30)                0         \n",
      "_________________________________________________________________\n",
      "fc2 (Dense)                  (None, 10)                310       \n",
      "_________________________________________________________________\n",
      "dropout_2 (Dropout)          (None, 10)                0         \n",
      "_________________________________________________________________\n",
      "out (Dense)                  (None, 1)                 11        \n",
      "=================================================================\n",
      "Total params: 6,651\n",
      "Trainable params: 6,651\n",
      "Non-trainable params: 0\n",
      "_________________________________________________________________\n"
     ]
    }
   ],
   "source": [
    "# load json and create model\n",
    "json_file = open('bestRULModel.json', 'r')\n",
    "loaded_model_json = json_file.read()\n",
    "json_file.close()\n",
    "loaded_model = model_from_json(loaded_model_json)\n",
    "# load weights into new model\n",
    "loaded_model.load_weights(\"bestRULModel.h5\")\n",
    "print(\"Loaded model from disk\")\n",
    "\n",
    "\n",
    "#Shared parameters for the models\n",
    "optimizer = Adam(lr=0, beta_1=0.5)\n",
    "lossFunction = \"mean_squared_error\"\n",
    "metrics = [\"mse\"]\n",
    "\n",
    "#Selected as per CNN paper\n",
    "selected_features = ['T24', 'T30', 'T50', 'P30', 'Nf', 'Nc', 'Ps30', 'phi', 'NRf', 'NRc', \n",
    "                     'BPR', 'htBleed', 'W31', 'W32']\n",
    "\n",
    "windowSize = 15\n",
    "stride = 2\n",
    "constRUL = 95\n",
    "\n",
    "\n",
    "dataFolder = '../CMAPSSData'\n",
    "\n",
    "#Create and compile the models\n",
    "#nFeatures = len(selected_features)\n",
    "#shapeSN = nFeatures*windowSize\n",
    "#modelRULSN = RULmodel_SN_1(shapeSN)\n",
    "loaded_model.compile(optimizer = optimizer, loss = lossFunction, metrics = metrics)\n",
    "\n",
    "min_max_scaler = MinMaxScaler(feature_range=(-1, 1))\n",
    "\n",
    "tModel = TunableModel('Loaded_Model', loaded_model, selected_features, dataFolder, window_size=windowSize,\n",
    "                      scaler = min_max_scaler, window_stride=stride, constRul = constRUL)\n",
    "tModel.loadData(verbose=1)\n",
    "tModel.getModelDescription()\n"
   ]
  },
  {
   "cell_type": "code",
   "execution_count": 13,
   "metadata": {},
   "outputs": [
    {
     "name": "stdout",
     "output_type": "stream",
     "text": [
      "100/100 [==============================] - 0s 980us/step\n",
      "scores\n",
      "{'loss': 225.64123992919923, 'score_1': 225.64123992919923, 'rhs': 432.0543475395977, 'rmse': 14.70136048126159}\n",
      "RMSE: 15.021359456760205\n",
      "RMSE2: 14.70136048126159\n",
      "RHS: 432.0543475395977\n",
      "Time : None seconds\n"
     ]
    }
   ],
   "source": [
    "# evaluate loaded model on test data\n",
    "tModel.evaluateModel([\"rhs\"], round=True)\n",
    "print(\"scores\")\n",
    "\n",
    "#print(tModel.y_pred)\n",
    "\n",
    "cScores = tModel.scores\n",
    "rmse = math.sqrt(cScores['score_1'])\n",
    "rmse2 = cScores['rmse']\n",
    "rhs = cScores['rhs']\n",
    "time = tModel.trainTime\n",
    "\n",
    "print(cScores)\n",
    "print(\"RMSE: {}\".format(rmse))\n",
    "print(\"RMSE2: {}\".format(rmse2))\n",
    "print(\"RHS: {}\".format(rhs))\n",
    "print(\"Time : {} seconds\".format(time))"
   ]
  },
  {
   "cell_type": "code",
   "execution_count": null,
   "metadata": {
    "collapsed": true
   },
   "outputs": [],
   "source": []
  }
 ],
 "metadata": {
  "kernelspec": {
   "display_name": "Python 3",
   "language": "python",
   "name": "python3"
  },
  "language_info": {
   "codemirror_mode": {
    "name": "ipython",
    "version": 3
   },
   "file_extension": ".py",
   "mimetype": "text/x-python",
   "name": "python",
   "nbconvert_exporter": "python",
   "pygments_lexer": "ipython3",
   "version": "3.6.1"
  }
 },
 "nbformat": 4,
 "nbformat_minor": 2
}
