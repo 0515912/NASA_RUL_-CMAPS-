{
 "cells": [
  {
   "cell_type": "markdown",
   "metadata": {},
   "source": [
    "# Initialization\n",
    "\n",
    "Test notebook for the C-MAPPS benchmark. Test RNN architecture. Tensorflow implementation \n",
    "\n",
    "First we import the necessary packages and create the global variables."
   ]
  },
  {
   "cell_type": "code",
   "execution_count": 1,
   "metadata": {},
   "outputs": [
    {
     "name": "stderr",
     "output_type": "stream",
     "text": [
      "Using TensorFlow backend.\n"
     ]
    }
   ],
   "source": [
    "import math\n",
    "import numpy as np\n",
    "import csv\n",
    "import copy\n",
    "import tensorflow as tf\n",
    "from scipy import stats\n",
    "from sklearn.preprocessing import StandardScaler, MinMaxScaler\n",
    "\n",
    "import custom_scores\n",
    "import CMAPSAuxFunctions\n",
    "from tunableModel import TunableModel\n",
    "\n",
    "from keras.models import Sequential, Model\n",
    "from keras.layers import Dense, Input, Dropout, Reshape, Conv2D, Flatten, MaxPooling2D\n",
    "from keras.optimizers import Adam\n",
    "from keras.callbacks import LearningRateScheduler\n",
    "from keras import backend as K\n",
    "from keras import regularizers"
   ]
  },
  {
   "cell_type": "markdown",
   "metadata": {},
   "source": [
    "# Define the Model\n",
    "\n",
    "Define the RNN model using tensorflow"
   ]
  },
  {
   "cell_type": "code",
   "execution_count": 2,
   "metadata": {
    "collapsed": true
   },
   "outputs": [],
   "source": [
    "lambda_regularization = 0.20\n",
    "\n",
    "def RNNModel(input_shape):\n",
    "    \"\"\"Define the RNN model\"\"\"\n",
    "    \n",
    "    #Create a sequential model\n",
    "    model = Sequential()\n",
    "    #model.add(Masking(mask_value=0, imput))\n",
    "    model.add(LSTM(input_shape=input_shape))\n",
    "    model.add(Dense(1, activation='linear', name='out'))\n",
    "    \n",
    "    return model\n",
    "    \n",
    "\n",
    "def RULmodel_SN_6(input_shape):\n",
    "    #Create a sequential model\n",
    "    model = Sequential()\n",
    "    \n",
    "    #Add the layers for the model\n",
    "    model.add(Dense(10, input_dim=input_shape, activation='relu', kernel_initializer='glorot_normal', \n",
    "                    kernel_regularizer=regularizers.l2(lambda_regularization), name='fc1'))\n",
    "    model.add(Dense(1, activation='linear', name='out'))\n",
    "    \n",
    "    return model"
   ]
  },
  {
   "cell_type": "markdown",
   "metadata": {},
   "source": [
    "# Create tunable model\n",
    "\n",
    "Create the tunable model to train the data"
   ]
  },
  {
   "cell_type": "code",
   "execution_count": 3,
   "metadata": {},
   "outputs": [
    {
     "name": "stdout",
     "output_type": "stream",
     "text": [
      "Loading data for dataset 1 with window_size of 1, stride of 1 and constRUL of 140. Cros-Validation ratio 0\n",
      "True\n",
      "Using average sequence length 206\n",
      "(206, 14)\n",
      "(206,)\n",
      "[[  641.82    1589.7     1400.6    ...,   392.        39.06      23.419 ]\n",
      " [  641.82    1589.7     1400.6    ...,   392.        39.06      23.419 ]\n",
      " [  641.82    1589.7     1400.6    ...,   392.        39.06      23.419 ]\n",
      " ..., \n",
      " [  643.64    1599.22    1425.95   ...,   398.        38.49      23.0675]\n",
      " [  643.34    1602.36    1425.77   ...,   394.        38.45      23.1295]\n",
      " [  643.54    1601.41    1427.2    ...,   396.        38.48      22.9649]]\n",
      "[ 140.  140.  140.  140.  140.  140.  140.  140.  140.  140.  140.  140.\n",
      "  140.  140.  140.  140.  140.  140.  140.  140.  140.  140.  140.  140.\n",
      "  140.  140.  140.  140.  140.  140.  140.  140.  140.  140.  140.  140.\n",
      "  140.  140.  140.  140.  140.  140.  140.  140.  140.  140.  140.  140.\n",
      "  140.  140.  140.  140.  140.  140.  140.  140.  140.  140.  140.  140.\n",
      "  140.  140.  140.  140.  140.  140.  139.  138.  137.  136.  135.  134.\n",
      "  133.  132.  131.  130.  129.  128.  127.  126.  125.  124.  123.  122.\n",
      "  121.  120.  119.  118.  117.  116.  115.  114.  113.  112.  111.  110.\n",
      "  109.  108.  107.  106.  105.  104.  103.  102.  101.  100.   99.   98.\n",
      "   97.   96.   95.   94.   93.   92.   91.   90.   89.   88.   87.   86.\n",
      "   85.   84.   83.   82.   81.   80.   79.   78.   77.   76.   75.   74.\n",
      "   73.   72.   71.   70.   69.   68.   67.   66.   65.   64.   63.   62.\n",
      "   61.   60.   59.   58.   57.   56.   55.   54.   53.   52.   51.   50.\n",
      "   49.   48.   47.   46.   45.   44.   43.   42.   41.   40.   39.   38.\n",
      "   37.   36.   35.   34.   33.   32.   31.   30.   29.   28.   27.   26.\n",
      "   25.   24.   23.   22.   21.   20.   19.   18.   17.   16.   15.   14.\n",
      "   13.   12.   11.   10.    9.    8.    7.    6.    5.    4.    3.    2.\n",
      "    1.    0.]\n",
      "Data loaded for dataset 1\n",
      "Printing shapes\n",
      "\n",
      "Training data (X, y)\n",
      "(20600, 14)\n",
      "(20600,)\n",
      "Testing data (X, y)\n",
      "(100, 14)\n",
      "(100,)\n",
      "Printing first 5 elements\n",
      "\n",
      "Training data (X, y)\n",
      "[[  6.41820000e+02   1.58970000e+03   1.40060000e+03   5.54360000e+02\n",
      "    2.38806000e+03   9.04619000e+03   4.74700000e+01   5.21660000e+02\n",
      "    2.38802000e+03   8.13862000e+03   8.41950000e+00   3.92000000e+02\n",
      "    3.90600000e+01   2.34190000e+01]\n",
      " [  6.41820000e+02   1.58970000e+03   1.40060000e+03   5.54360000e+02\n",
      "    2.38806000e+03   9.04619000e+03   4.74700000e+01   5.21660000e+02\n",
      "    2.38802000e+03   8.13862000e+03   8.41950000e+00   3.92000000e+02\n",
      "    3.90600000e+01   2.34190000e+01]\n",
      " [  6.41820000e+02   1.58970000e+03   1.40060000e+03   5.54360000e+02\n",
      "    2.38806000e+03   9.04619000e+03   4.74700000e+01   5.21660000e+02\n",
      "    2.38802000e+03   8.13862000e+03   8.41950000e+00   3.92000000e+02\n",
      "    3.90600000e+01   2.34190000e+01]\n",
      " [  6.41820000e+02   1.58970000e+03   1.40060000e+03   5.54360000e+02\n",
      "    2.38806000e+03   9.04619000e+03   4.74700000e+01   5.21660000e+02\n",
      "    2.38802000e+03   8.13862000e+03   8.41950000e+00   3.92000000e+02\n",
      "    3.90600000e+01   2.34190000e+01]\n",
      " [  6.41820000e+02   1.58970000e+03   1.40060000e+03   5.54360000e+02\n",
      "    2.38806000e+03   9.04619000e+03   4.74700000e+01   5.21660000e+02\n",
      "    2.38802000e+03   8.13862000e+03   8.41950000e+00   3.92000000e+02\n",
      "    3.90600000e+01   2.34190000e+01]]\n",
      "[ 140.  140.  140.  140.  140.]\n",
      "Testing data (X, y)\n",
      "[[  6.42580000e+02   1.58122000e+03   1.39891000e+03   5.54420000e+02\n",
      "    2.38808000e+03   9.05640000e+03   4.72300000e+01   5.21790000e+02\n",
      "    2.38806000e+03   8.13011000e+03   8.40240000e+00   3.93000000e+02\n",
      "    3.88100000e+01   2.33552000e+01]\n",
      " [  6.42550000e+02   1.58659000e+03   1.41083000e+03   5.53520000e+02\n",
      "    2.38810000e+03   9.04477000e+03   4.76700000e+01   5.21740000e+02\n",
      "    2.38809000e+03   8.12690000e+03   8.45050000e+00   3.91000000e+02\n",
      "    3.88100000e+01   2.32618000e+01]\n",
      " [  6.42880000e+02   1.58975000e+03   1.41889000e+03   5.52590000e+02\n",
      "    2.38816000e+03   9.04926000e+03   4.78800000e+01   5.20830000e+02\n",
      "    2.38814000e+03   8.13146000e+03   8.41190000e+00   3.95000000e+02\n",
      "    3.89300000e+01   2.32740000e+01]\n",
      " [  6.42780000e+02   1.59453000e+03   1.40688000e+03   5.52640000e+02\n",
      "    2.38813000e+03   9.05130000e+03   4.76500000e+01   5.21880000e+02\n",
      "    2.38811000e+03   8.13364000e+03   8.46340000e+00   3.95000000e+02\n",
      "    3.85800000e+01   2.32581000e+01]\n",
      " [  6.42270000e+02   1.58994000e+03   1.41936000e+03   5.53290000e+02\n",
      "    2.38810000e+03   9.05399000e+03   4.74600000e+01   5.21000000e+02\n",
      "    2.38815000e+03   8.12574000e+03   8.43620000e+00   3.94000000e+02\n",
      "    3.87500000e+01   2.34117000e+01]]\n",
      "[ 112.   98.   69.   82.   91.]\n"
     ]
    }
   ],
   "source": [
    "#Shared parameters for the models\n",
    "optimizer = Adam(lr=0, beta_1=0.5)\n",
    "lossFunction = \"mean_squared_error\"\n",
    "metrics = [\"mse\"]\n",
    "\n",
    "#Selected as per CNN paper\n",
    "selected_features = ['T24', 'T30', 'T50', 'P30', 'Nf', 'Nc', 'Ps30', 'phi', 'NRf', 'NRc', \n",
    "                     'BPR', 'htBleed', 'W31', 'W32']\n",
    "\n",
    "#Selected from the results of running DE on the old model (250->50->1)\n",
    "windowSize = 1\n",
    "stride = 1\n",
    "constRUL = 140\n",
    "\n",
    "dataFolder = '../CMAPSSData'\n",
    "\n",
    "#Create and compile the models\n",
    "nFeatures = len(selected_features)\n",
    "shapeSN = nFeatures*windowSize\n",
    "modelRULSN = RULmodel_SN_6(shapeSN)\n",
    "modelRULSN.compile(optimizer = optimizer, loss = lossFunction, metrics = metrics)\n",
    "\n",
    "min_max_scaler = MinMaxScaler(feature_range=(-1, 1))\n",
    "\n",
    "tModel = TunableModel('ModelRUL_SN_1', modelRULSN, selected_features, dataFolder, 'keras', sequenceModel=True, \n",
    "                      window_size = windowSize, scaler = min_max_scaler, window_stride = stride, constRul = constRUL)\n",
    "#tModel.sequenceLength = 0\n",
    "tModel.dataScaler = None\n",
    "#tModel.sequenceStrategy = 'avg/bottom'\n",
    "tModel.changeDataset(1)\n",
    "tModel.loadData(verbose=1, rectify_labels = False)\n",
    "tModel.printData()"
   ]
  },
  {
   "cell_type": "code",
   "execution_count": 13,
   "metadata": {},
   "outputs": [
    {
     "name": "stdout",
     "output_type": "stream",
     "text": [
      "[ 1.  1.  1.  1.  1.]\n",
      "[[ 1.  1.  1.  1.  1.]\n",
      " [ 1.  1.  1.  1.  1.]\n",
      " [ 1.  1.  1.  1.  1.]\n",
      " [ 1.  1.  1.  1.  1.]\n",
      " [ 1.  1.  1.  1.  1.]]\n"
     ]
    }
   ],
   "source": [
    "a = np.ones((5))\n",
    "print(a)\n",
    "b = np.tile(a, (5,1))\n",
    "print(b)"
   ]
  },
  {
   "cell_type": "code",
   "execution_count": null,
   "metadata": {
    "collapsed": true
   },
   "outputs": [],
   "source": []
  }
 ],
 "metadata": {
  "kernelspec": {
   "display_name": "Python 3",
   "language": "python",
   "name": "python3"
  },
  "language_info": {
   "codemirror_mode": {
    "name": "ipython",
    "version": 3
   },
   "file_extension": ".py",
   "mimetype": "text/x-python",
   "name": "python",
   "nbconvert_exporter": "python",
   "pygments_lexer": "ipython3",
   "version": "3.6.1"
  }
 },
 "nbformat": 4,
 "nbformat_minor": 2
}
