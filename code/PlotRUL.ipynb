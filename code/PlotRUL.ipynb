{
 "cells": [
  {
   "cell_type": "markdown",
   "metadata": {},
   "source": [
    "# Initialization\n",
    "\n",
    "Notebook for the C-MAPPS benchmark. Plot the real vs the predicted RUL \n",
    "\n",
    "First we import the necessary packages and create the global variables."
   ]
  },
  {
   "cell_type": "code",
   "execution_count": 1,
   "metadata": {},
   "outputs": [
    {
     "name": "stderr",
     "output_type": "stream",
     "text": [
      "Using TensorFlow backend.\n"
     ]
    }
   ],
   "source": [
    "import math\n",
    "import numpy as np\n",
    "import csv\n",
    "import copy\n",
    "from scipy import stats\n",
    "from sklearn.preprocessing import StandardScaler, MinMaxScaler\n",
    "from keras.models import model_from_json, clone_model\n",
    "\n",
    "from data_handler_CMAPS import CMAPSDataHandler\n",
    "import custom_scores\n",
    "import CMAPSAuxFunctions\n",
    "from tunable_model import SequenceTunableModelRegression\n",
    "from keras import regularizers\n",
    "\n",
    "from keras.models import Sequential, Model\n",
    "from keras.layers import Dense, Input, Dropout, Reshape, Conv2D, Flatten, MaxPooling2D\n",
    "from keras.optimizers import Adam\n",
    "from keras.callbacks import LearningRateScheduler\n",
    "from keras import backend as K\n",
    "\n",
    "import matplotlib.pyplot as plt"
   ]
  },
  {
   "cell_type": "markdown",
   "metadata": {},
   "source": [
    "# Function to plot RULs"
   ]
  },
  {
   "cell_type": "code",
   "execution_count": 2,
   "metadata": {
    "collapsed": true
   },
   "outputs": [],
   "source": [
    "def plot_RUL(real_rul_list, predicted_rul_list):\n",
    "    \n",
    "    for real_rul, predicted_rul, i in zip(real_rul_list, predicted_rul_list, range(len(real_rul_list))):\n",
    "        \n",
    "        x = np.arange(1,real_rul.shape[0]+1)\n",
    "        e = real_rul-predicted_rul\n",
    "        \n",
    "        plt.clf()\n",
    "        fig = plt.figure(i)\n",
    "        fig.suptitle('Real RUL vs Predicted RUL for FD00'+str(i+1), fontsize=14)\n",
    "        #plt.title('Real RUL vs Predicted RUL')\n",
    "        \n",
    "        plt.subplot(2,1,1)\n",
    "        plt.xlabel(\"Engine Number\")\n",
    "        plt.ylabel(\"RUL\")\n",
    "        plt.plot(x, predicted_rul, 'r--')\n",
    "        plt.plot(x, real_rul, 'g--')\n",
    "        plt.legend(('Predicted RUL', 'Real RUL'), loc='center left', bbox_to_anchor=(1, 0.5))\n",
    "        \n",
    "        y_ticks_array = gen_yticks(e)\n",
    "        \n",
    "        plt.subplot(2,1,2)\n",
    "        plt.xlabel(\"Engine Number\")\n",
    "        plt.ylabel(\"Prediction Error\")\n",
    "        plt.plot(x, e, 'm--')\n",
    "        plt.yticks(y_ticks_array)\n",
    "        \n",
    "        #plt.show()\n",
    "        plt.savefig('rul_plots_dataset_'+str(i+1)+'.png', dpi=900, format='png', bbox_inches='tight')"
   ]
  },
  {
   "cell_type": "code",
   "execution_count": 3,
   "metadata": {
    "collapsed": true
   },
   "outputs": [],
   "source": [
    "def gen_yticks(error_array):\n",
    "    \n",
    "    min_val = np.amin(error_array)\n",
    "    max_val = np.amax(error_array)\n",
    "    min_val_yticks_multiplier = math.floor(min_val/25)\n",
    "    max_val_yticks_multiplier =  math.ceil(max_val/25)\n",
    "    min_val_yticks = 25*min_val_yticks_multiplier\n",
    "    max_val_yticks = 25*max_val_yticks_multiplier\n",
    "        \n",
    "    y_ticks_array = np.arange(min_val_yticks, max_val_yticks+25, 25)\n",
    "    \n",
    "    if y_ticks_array.size > 6:\n",
    "        min_val_yticks_multiplier = math.floor(min_val/50)\n",
    "        max_val_yticks_multiplier =  math.ceil(max_val/50)\n",
    "        min_val_yticks = 50*min_val_yticks_multiplier\n",
    "        max_val_yticks = 50*max_val_yticks_multiplier\n",
    "        \n",
    "        y_ticks_array = np.arange(min_val_yticks, max_val_yticks+50, 50)\n",
    "        \n",
    "    return y_ticks_array"
   ]
  },
  {
   "cell_type": "code",
   "execution_count": 4,
   "metadata": {
    "collapsed": true
   },
   "outputs": [],
   "source": [
    "def gen_stats(real_rul_list, predicted_rul_list):\n",
    "    \n",
    "    for real_rul, predicted_rul, i in zip(real_rul_list, predicted_rul_list, range(len(real_rul_list))):\n",
    "        \n",
    "        e = real_rul-predicted_rul\n",
    "        e_abs = np.absolute(e)\n",
    "        e_abs.sort()\n",
    "        \n",
    "        first_percentile = np.percentile(e_abs, 25, interpolation='lower')\n",
    "        second_percentile = np.percentile(e_abs, 50, interpolation='lower')\n",
    "        third_percentile = np.percentile(e_abs, 75, interpolation='lower')\n",
    "        \n",
    "    \n",
    "        print(\"For FD001\"+str(i+1))\n",
    "        #print(e)\n",
    "        #print(e_abs)\n",
    "        print(stats.describe(e))\n",
    "        print(stats.describe(e_abs))\n",
    "        print(first_percentile)\n",
    "        print(second_percentile)\n",
    "        print(third_percentile)"
   ]
  },
  {
   "cell_type": "markdown",
   "metadata": {},
   "source": [
    "# Create data Handler"
   ]
  },
  {
   "cell_type": "code",
   "execution_count": 5,
   "metadata": {
    "collapsed": true
   },
   "outputs": [],
   "source": [
    "#Selected as per CNN paper\n",
    "features = ['T2', 'T24', 'T30', 'T50', 'P2', 'P15', 'P30', 'Nf', 'Nc', 'epr', 'Ps30', 'phi', 'NRf', 'NRc', \n",
    "                     'BPR', 'farB', 'htBleed', 'Nf_dmd', 'PCNfR_dmd', 'W31', 'W32']\n",
    "selected_indices = np.array([2, 3, 4, 7, 8, 9, 11, 12, 13, 14, 15, 17, 20, 21])\n",
    "selected_features = list(features[i] for i in selected_indices-1)\n",
    "data_folder = '../CMAPSSData'\n",
    "\n",
    "window_size = 30\n",
    "window_stride = 1\n",
    "max_rul = 125\n",
    "\n",
    "dHandler_cmaps = CMAPSDataHandler(data_folder, 1, selected_features, max_rul, window_size, window_stride)\n",
    "#dHandler_cmaps.load_data(verbose=1, cross_validation_ratio=0.2)"
   ]
  },
  {
   "cell_type": "markdown",
   "metadata": {},
   "source": [
    "# Load models and get predicted and real RULs"
   ]
  },
  {
   "cell_type": "code",
   "execution_count": 6,
   "metadata": {},
   "outputs": [
    {
     "name": "stdout",
     "output_type": "stream",
     "text": [
      "Loaded model from disk\n",
      "Loading data for dataset 1 with window_size of 24, stride of 1 and maxRUL of 129. Cros-Validation ratio 0\n",
      "Loading data from file and computing dataframes\n",
      "Description for model: ModelRUL_SN_1\n",
      "_________________________________________________________________\n",
      "Layer (type)                 Output Shape              Param #   \n",
      "=================================================================\n",
      "fc1 (Dense)                  (None, 20)                6740      \n",
      "_________________________________________________________________\n",
      "fc2 (Dense)                  (None, 20)                420       \n",
      "_________________________________________________________________\n",
      "out (Dense)                  (None, 1)                 21        \n",
      "=================================================================\n",
      "Total params: 7,181\n",
      "Trainable params: 7,181\n",
      "Non-trainable params: 0\n",
      "_________________________________________________________________\n",
      "100/100 [==============================] - 0s 1ms/step\n",
      "scores\n",
      "{'loss': 270.64216979980466, 'score_1': 206.3658889770508, 'rhs': 3.4385813531834817, 'rmse': 14.358272876638054}\n",
      "{'loss': 270.64216979980466, 'score_1': 206.3658889770508, 'rhs': 3.4385813531834817, 'rmse': 14.358272876638054}\n",
      "RMSE: 14.365440786034057\n",
      "RMSE2: 14.358272876638054\n",
      "RHS: 3.4385813531834817\n",
      "Time : None seconds\n",
      "Loaded model from disk\n",
      "Loading data for dataset 2 with window_size of 17, stride of 1 and maxRUL of 139. Cros-Validation ratio 0\n",
      "Loading data from file and computing dataframes\n",
      "Description for model: ModelRUL_SN_1\n",
      "_________________________________________________________________\n",
      "Layer (type)                 Output Shape              Param #   \n",
      "=================================================================\n",
      "fc1 (Dense)                  (None, 20)                4780      \n",
      "_________________________________________________________________\n",
      "fc2 (Dense)                  (None, 20)                420       \n",
      "_________________________________________________________________\n",
      "out (Dense)                  (None, 1)                 21        \n",
      "=================================================================\n",
      "Total params: 5,221\n",
      "Trainable params: 5,221\n",
      "Non-trainable params: 0\n",
      "_________________________________________________________________\n",
      "259/259 [==============================] - 0s 224us/step\n",
      "scores\n",
      "{'loss': 1127.0882459957168, 'score_1': 1089.320285163791, 'rhs': 230.13091519332772, 'rmse': 33.00462118105614}\n",
      "{'loss': 1127.0882459957168, 'score_1': 1089.320285163791, 'rhs': 230.13091519332772, 'rmse': 33.00462118105614}\n",
      "RMSE: 33.00485244875048\n",
      "RMSE2: 33.00462118105614\n",
      "RHS: 230.13091519332772\n",
      "Time : None seconds\n",
      "Loaded model from disk\n",
      "Loading data for dataset 3 with window_size of 24, stride of 1 and maxRUL of 129. Cros-Validation ratio 0\n",
      "Loading data from file and computing dataframes\n",
      "Description for model: ModelRUL_SN_1\n",
      "_________________________________________________________________\n",
      "Layer (type)                 Output Shape              Param #   \n",
      "=================================================================\n",
      "fc1 (Dense)                  (None, 20)                6740      \n",
      "_________________________________________________________________\n",
      "fc2 (Dense)                  (None, 20)                420       \n",
      "_________________________________________________________________\n",
      "out (Dense)                  (None, 1)                 21        \n",
      "=================================================================\n",
      "Total params: 7,181\n",
      "Trainable params: 7,181\n",
      "Non-trainable params: 0\n",
      "_________________________________________________________________\n",
      "100/100 [==============================] - 0s 2ms/step\n",
      "scores\n",
      "{'loss': 348.7203118896484, 'score_1': 281.7239136648178, 'rhs': 6.837579257803255, 'rmse': 16.744252745345193}\n",
      "{'loss': 348.7203118896484, 'score_1': 281.7239136648178, 'rhs': 6.837579257803255, 'rmse': 16.744252745345193}\n",
      "RMSE: 16.78463325976525\n",
      "RMSE2: 16.744252745345193\n",
      "RHS: 6.837579257803255\n",
      "Time : None seconds\n",
      "Loaded model from disk\n",
      "Loading data for dataset 4 with window_size of 17, stride of 1 and maxRUL of 139. Cros-Validation ratio 0\n",
      "Loading data from file and computing dataframes\n",
      "Description for model: ModelRUL_SN_1\n",
      "_________________________________________________________________\n",
      "Layer (type)                 Output Shape              Param #   \n",
      "=================================================================\n",
      "fc1 (Dense)                  (None, 20)                4780      \n",
      "_________________________________________________________________\n",
      "fc2 (Dense)                  (None, 20)                420       \n",
      "_________________________________________________________________\n",
      "out (Dense)                  (None, 1)                 21        \n",
      "=================================================================\n",
      "Total params: 5,221\n",
      "Trainable params: 5,221\n",
      "Non-trainable params: 0\n",
      "_________________________________________________________________\n",
      "248/248 [==============================] - 0s 340us/step\n",
      "scores\n",
      "{'loss': 1340.5982272240424, 'score_1': 1275.2459323021674, 'rhs': 91.19391371789374, 'rmse': 35.68375884294269}\n",
      "{'loss': 1340.5982272240424, 'score_1': 1275.2459323021674, 'rhs': 91.19391371789374, 'rmse': 35.68375884294269}\n",
      "RMSE: 35.710585717713556\n",
      "RMSE2: 35.68375884294269\n",
      "RHS: 91.19391371789374\n",
      "Time : None seconds\n"
     ]
    }
   ],
   "source": [
    "datasets = [1, 2, 3, 4]\n",
    "\n",
    "window_sizes = {1:24,2:17,3:24,4:17}\n",
    "strides = {1:1,2:1,3:1,4:1}\n",
    "max_ruls = {1:129, 2:139, 3:129, 4:139}\n",
    "\n",
    "y_predicted_list = []\n",
    "y_true_list = []\n",
    "\n",
    "\n",
    "for i in datasets:\n",
    "\n",
    "    # load json and create model\n",
    "    json_file = open('bestRULModel_dataset_'+str(i)+'.json', 'r')\n",
    "    loaded_model_json = json_file.read()\n",
    "    json_file.close()\n",
    "    loaded_model = model_from_json(loaded_model_json)\n",
    "    # load weights into new model\n",
    "    loaded_model.load_weights(\"bestRULModel_dataset_\"+str(i)+\".h5\")\n",
    "    print(\"Loaded model from disk\")\n",
    "\n",
    "\n",
    "    #Shared parameters for the models\n",
    "    optimizer = Adam(lr=0, beta_1=0.5)\n",
    "    lossFunction = \"mean_squared_error\"\n",
    "    metrics = [\"mse\"]\n",
    "\n",
    "    #Selected as per CNN paper\n",
    "    selected_features = ['T24', 'T30', 'T50', 'P30', 'Nf', 'Nc', 'Ps30', 'phi', 'NRf', 'NRc', \n",
    "                         'BPR', 'htBleed', 'W31', 'W32']\n",
    "\n",
    "    #Create and compile the models\n",
    "    #nFeatures = len(selected_features)\n",
    "    #shapeSN = nFeatures*windowSize\n",
    "    #modelRULSN = RULmodel_SN_1(shapeSN)\n",
    "    loaded_model.compile(optimizer = optimizer, loss = lossFunction, metrics = metrics)\n",
    "\n",
    "    #min_max_scaler = MinMaxScaler(feature_range=(-1, 1))\n",
    "    min_max_scaler = MinMaxScaler()\n",
    "\n",
    "    tModel = SequenceTunableModelRegression('ModelRUL_SN_1', loaded_model, lib_type='keras', data_handler=dHandler_cmaps)\n",
    "\n",
    "    tModel.data_handler.change_dataset(i)\n",
    "    tModel.data_handler.sequence_length = window_sizes[i]\n",
    "    tModel.data_handler.sequence_stride = strides[i]\n",
    "    tModel.data_handler.max_rul = max_ruls[i]\n",
    "\n",
    "    tModel.data_handler.data_scaler = None\n",
    "    tModel.data_scaler = min_max_scaler\n",
    "\n",
    "    tModel.load_data(unroll=True, verbose=1, cross_validation_ratio=0)\n",
    "    #tModel.print_data()\n",
    "    #print(tModel.model.get_weights())\n",
    "    tModel.get_model_description()\n",
    "    \n",
    "    # evaluate loaded model on test data\n",
    "    tModel.evaluate_model(['rhs', 'rmse'], round=2)\n",
    "    print(\"scores\")\n",
    "\n",
    "    #print(tModel.y_pred)\n",
    "\n",
    "    cScores = tModel.scores\n",
    "    print(cScores)\n",
    "    rmse = math.sqrt(cScores['score_1'])\n",
    "    rmse2 = cScores['rmse']\n",
    "    rhs = cScores['rhs']\n",
    "    time = tModel.train_time\n",
    "    \n",
    "    y_predicted = tModel.y_predicted_rounded.flatten()\n",
    "    y_true = tModel.y_test.flatten()\n",
    "    \n",
    "    y_predicted_list.append(y_predicted)\n",
    "    y_true_list.append(y_true)\n",
    "\n",
    "    print(cScores)\n",
    "    print(\"RMSE: {}\".format(rmse))\n",
    "    print(\"RMSE2: {}\".format(rmse2))\n",
    "    print(\"RHS: {}\".format(rhs))\n",
    "    print(\"Time : {} seconds\".format(time))"
   ]
  },
  {
   "cell_type": "code",
   "execution_count": 7,
   "metadata": {},
   "outputs": [],
   "source": [
    "plot_RUL(y_predicted_list, y_true_list)"
   ]
  },
  {
   "cell_type": "code",
   "execution_count": 8,
   "metadata": {},
   "outputs": [
    {
     "name": "stdout",
     "output_type": "stream",
     "text": [
      "For FD0011\n",
      "DescribeResult(nobs=100, minmax=(-41.0, 38.0), mean=0.52, variance=207.96929292929292, skewness=0.0809170551822932, kurtosis=0.7991521728626081)\n",
      "DescribeResult(nobs=100, minmax=(0.0, 41.0), mean=10.12, variance=104.79353535353536, skewness=1.1960458423537905, kurtosis=0.38924759674704656)\n",
      "2.0\n",
      "6.0\n",
      "14.0\n",
      "For FD0012\n",
      "DescribeResult(nobs=259, minmax=(-138.0, 83.0), mean=-1.776061776061776, variance=1090.360510011673, skewness=-0.5417818470354242, kurtosis=0.9387414026691236)\n",
      "DescribeResult(nobs=259, minmax=(0.0, 138.0), mean=24.386100386100384, variance=496.5402711681782, skewness=1.3134015218145407, kurtosis=2.2202119564775806)\n",
      "6.0\n",
      "19.0\n",
      "38.0\n",
      "For FD0013\n",
      "DescribeResult(nobs=100, minmax=(-36.0, 56.0), mean=1.41, variance=281.1938383838384, skewness=0.28982269899486174, kurtosis=0.4573256719072951)\n",
      "DescribeResult(nobs=100, minmax=(0.0, 56.0), mean=12.87, variance=115.89202020202022, skewness=1.2088221192657573, kurtosis=1.6271374565790353)\n",
      "5.0\n",
      "10.0\n",
      "18.0\n",
      "For FD0014\n",
      "DescribeResult(nobs=248, minmax=(-97.0, 78.0), mean=2.217741935483871, variance=1273.5475382003397, skewness=-0.26705991896709647, kurtosis=-0.3959471496521383)\n",
      "DescribeResult(nobs=248, minmax=(0.0, 97.0), mean=28.903225806451612, variance=439.7071960297767, skewness=0.6638967493133566, kurtosis=-0.26983847371239067)\n",
      "12.0\n",
      "25.0\n",
      "44.0\n"
     ]
    }
   ],
   "source": [
    "gen_stats(y_predicted_list, y_true_list)"
   ]
  },
  {
   "cell_type": "markdown",
   "metadata": {
    "collapsed": true
   },
   "source": [
    "# Create plot for illustrating the data reshape"
   ]
  },
  {
   "cell_type": "code",
   "execution_count": 13,
   "metadata": {},
   "outputs": [],
   "source": [
    "def plot_windows(plotting_data):\n",
    "    \n",
    "    plt.clf()\n",
    "    \n",
    "    x = range(0, plotting_data.shape[0])\n",
    "    \n",
    "    for i in range(plotting_data.shape[1]):\n",
    "        \n",
    "        y = plotting_data[:,i]\n",
    "        y = y+i\n",
    "        plt.plot(x, y)\n",
    "        \n",
    "    plt.plot([0,0], [0,14], linestyle='-.', color='k')\n",
    "    plt.plot([5,5], [0,14], linestyle='-.', color='k')\n",
    "    \n",
    "    plt.plot([4,4], [0,14], linestyle='-.', color='r')\n",
    "    plt.plot([9,9], [0,14], linestyle='-.', color='r')\n",
    "        \n",
    "    plt.ylabel(\"Sensor number\")\n",
    "    plt.xlabel(\"Engine cycle\")\n",
    "    plt.title(\"Window and stride\")\n",
    "    #plt.show()\n",
    "    plt.savefig('window_stride.png', dpi=900, format='png', bbox_inches='tight')"
   ]
  },
  {
   "cell_type": "code",
   "execution_count": 14,
   "metadata": {},
   "outputs": [
    {
     "name": "stdout",
     "output_type": "stream",
     "text": [
      "Loading data for dataset 1 with window_size of 30, stride of 1 and maxRUL of 125. Cros-Validation ratio 0\n",
      "Loading data from file and computing dataframes\n"
     ]
    }
   ],
   "source": [
    "#Selected as per CNN paper\n",
    "features = ['T2', 'T24', 'T30', 'T50', 'P2', 'P15', 'P30', 'Nf', 'Nc', 'epr', 'Ps30', 'phi', 'NRf', 'NRc', \n",
    "                     'BPR', 'farB', 'htBleed', 'Nf_dmd', 'PCNfR_dmd', 'W31', 'W32']\n",
    "selected_indices = np.array([2, 3, 4, 7, 8, 9, 11, 12, 13, 14, 15, 17, 20, 21])\n",
    "selected_features = list(features[i] for i in selected_indices-1)\n",
    "data_folder = '../CMAPSSData'\n",
    "\n",
    "window_size = 30\n",
    "window_stride = 1\n",
    "max_rul = 125\n",
    "\n",
    "min_max_scaler = MinMaxScaler()\n",
    "\n",
    "dHandler_cmaps2 = CMAPSDataHandler(data_folder, 1, selected_features, max_rul, window_size, window_stride)\n",
    "dHandler_cmaps2.data_scaler = MinMaxScaler()\n",
    "dHandler_cmaps2.load_data(verbose=1, unroll=False)\n",
    "#dHandler_cmaps2.print_data()\n",
    "#dHandler_cmaps.load_data(verbose=1, cross_validation_ratio=0.2)\n",
    "\n",
    "\n",
    "plotting_data = dHandler_cmaps2.X_train[0]\n",
    "plot_windows(plotting_data)"
   ]
  },
  {
   "cell_type": "code",
   "execution_count": 18,
   "metadata": {},
   "outputs": [],
   "source": [
    "#Plot ReLu and Linear\n",
    "\n",
    "x = np.linspace(-10,10, 100)\n",
    "relu = x*(x>0)\n",
    "\n",
    "plt.clf()\n",
    "plt.plot(x, x, color='b')\n",
    "plt.ylabel(\"linear(x)\")\n",
    "plt.xlabel(\"x\")\n",
    "plt.title(\"Linear activation function\")\n",
    "plt.savefig('linear_function.png', dpi=900, format='png', bbox_inches='tight')\n",
    "\n",
    "plt.clf()\n",
    "plt.plot(x, relu, color='b')\n",
    "plt.ylabel(\"relu(x)\")\n",
    "plt.xlabel(\"x\")\n",
    "plt.title(\"ReLU activation function\")\n",
    "plt.savefig('relu_function.png', dpi=900, format='png', bbox_inches='tight')"
   ]
  },
  {
   "cell_type": "code",
   "execution_count": null,
   "metadata": {
    "collapsed": true
   },
   "outputs": [],
   "source": []
  }
 ],
 "metadata": {
  "kernelspec": {
   "display_name": "Python 3",
   "language": "python",
   "name": "python3"
  },
  "language_info": {
   "codemirror_mode": {
    "name": "ipython",
    "version": 3
   },
   "file_extension": ".py",
   "mimetype": "text/x-python",
   "name": "python",
   "nbconvert_exporter": "python",
   "pygments_lexer": "ipython3",
   "version": "3.6.6"
  }
 },
 "nbformat": 4,
 "nbformat_minor": 2
}
