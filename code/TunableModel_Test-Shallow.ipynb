{
 "cells": [
  {
   "cell_type": "markdown",
   "metadata": {},
   "source": [
    "# Initialization\n",
    "\n",
    "Test notebook for the DataHandlers. Test the CMAPSS DataHandler\n",
    "\n",
    "First we import the necessary packages and create the global variables."
   ]
  },
  {
   "cell_type": "code",
   "execution_count": 1,
   "metadata": {},
   "outputs": [
    {
     "name": "stderr",
     "output_type": "stream",
     "text": [
      "C:\\Users\\controlslab\\Anaconda3\\envs\\gpu_tensorflow\\lib\\site-packages\\h5py\\__init__.py:36: FutureWarning: Conversion of the second argument of issubdtype from `float` to `np.floating` is deprecated. In future, it will be treated as `np.float64 == np.dtype(float).type`.\n",
      "  from ._conv import register_converters as _register_converters\n",
      "Using TensorFlow backend.\n"
     ]
    }
   ],
   "source": [
    "import os\n",
    "import numpy as np\n",
    "import math\n",
    "import tensorflow as tf\n",
    "\n",
    "from time import time\n",
    "from keras.callbacks import TensorBoard\n",
    "\n",
    "from data_handler_CMAPS import CMAPSDataHandler\n",
    "from tunable_model import SequenceTunableModelRegression\n",
    "from sklearn.preprocessing import StandardScaler, MinMaxScaler\n",
    "\n",
    "import keras\n",
    "from keras.models import Sequential, Model\n",
    "from keras.layers import Dense, Input, Dropout, Reshape, Conv2D, Flatten, MaxPooling2D, LSTM\n",
    "from keras.optimizers import Adam, SGD\n",
    "from keras.callbacks import LearningRateScheduler\n",
    "from keras import backend as K\n",
    "from keras import regularizers\n",
    "\n",
    "import CMAPSAuxFunctions\n",
    "\n",
    "from numpy.random import seed\n",
    "from tensorflow import set_random_seed\n"
   ]
  },
  {
   "cell_type": "markdown",
   "metadata": {},
   "source": [
    "# Define different types of Keras models"
   ]
  },
  {
   "cell_type": "code",
   "execution_count": 2,
   "metadata": {},
   "outputs": [],
   "source": [
    "l2_lambda_regularization = 0.2\n",
    "\n",
    "def RULmodel_SN_5(input_shape):\n",
    "    #Create a sequential model\n",
    "    model = Sequential()\n",
    "    \n",
    "    #Add the layers for the model\n",
    "    model.add(Dense(12, input_dim=input_shape, activation='relu', kernel_initializer='glorot_normal', \n",
    "                    kernel_regularizer=regularizers.l2(l2_lambda_regularization), \n",
    "                    name='fc1'))\n",
    "    model.add(Dense(16, input_dim=input_shape, activation='relu', kernel_initializer='glorot_normal', \n",
    "                    kernel_regularizer=regularizers.l2(l2_lambda_regularization), \n",
    "                    name='fc2'))\n",
    "    model.add(Dense(12, input_dim=input_shape, activation='relu', kernel_initializer='glorot_normal', \n",
    "                    kernel_regularizer=regularizers.l2(l2_lambda_regularization), \n",
    "                    name='fc3'))\n",
    "    model.add(Dense(1, activation='linear', kernel_initializer='glorot_normal', \n",
    "                    kernel_regularizer=regularizers.l2(0.1), name='out'))\n",
    "    \n",
    "    return model\n",
    "\n",
    "def test_model(input_shape):\n",
    "    #Create a sequential model\n",
    "    model = Sequential()\n",
    "    \n",
    "    #Add the layers for the model\n",
    "    model.add(Dense(20, input_dim=input_shape, activation='relu', \n",
    "                    kernel_initializer=keras.initializers.glorot_normal(seed=0), \n",
    "                    kernel_regularizer=regularizers.l2(l2_lambda_regularization), name='fc1'))\n",
    "    model.add(Dense(1, activation='linear', \n",
    "                    kernel_initializer=keras.initializers.glorot_normal(seed=0), \n",
    "                    kernel_regularizer=regularizers.l2(l2_lambda_regularization), name='out'))\n",
    "    \n",
    "    return model"
   ]
  },
  {
   "cell_type": "markdown",
   "metadata": {},
   "source": [
    "# Create the Data Handler"
   ]
  },
  {
   "cell_type": "code",
   "execution_count": 3,
   "metadata": {},
   "outputs": [],
   "source": [
    "#Selected as per CNN paper\n",
    "features = ['T2', 'T24', 'T30', 'T50', 'P2', 'P15', 'P30', 'Nf', 'Nc', 'epr', 'Ps30', 'phi', 'NRf', 'NRc', \n",
    "                     'BPR', 'farB', 'htBleed', 'Nf_dmd', 'PCNfR_dmd', 'W31', 'W32']\n",
    "selected_indices = np.array([2, 3, 4, 7, 8, 9, 11, 12, 13, 14, 15, 17, 20, 21])\n",
    "selected_features = list(features[i] for i in selected_indices-1)\n",
    "data_folder = '../CMAPSSData'\n",
    "\n",
    "window_size = 30\n",
    "window_stride = 1\n",
    "max_rul = 125\n",
    "\n",
    "dHandler_cmaps = CMAPSDataHandler(data_folder, 1, selected_features, max_rul, window_size, window_stride)\n",
    "#dHandler_cmaps.load_data(verbose=1, cross_validation_ratio=0.2)"
   ]
  },
  {
   "cell_type": "markdown",
   "metadata": {},
   "source": [
    "# Create Tunable Model"
   ]
  },
  {
   "cell_type": "code",
   "execution_count": 4,
   "metadata": {},
   "outputs": [],
   "source": [
    "min_max_scaler = MinMaxScaler(feature_range=(-1, 1))\n",
    "#min_max_scaler = None"
   ]
  },
  {
   "cell_type": "code",
   "execution_count": 5,
   "metadata": {},
   "outputs": [],
   "source": [
    "def get_compiled_model(shape, model_type='ann'):\n",
    "    \n",
    "    K.clear_session()  #Clear the previous tensorflow graph\n",
    "    \n",
    "    #To test the model without randomness\n",
    "\n",
    "    \n",
    "    #Shared parameters for the models\n",
    "    optimizer = Adam(lr=0,beta_1=0.5)\n",
    "    \n",
    "    lossFunction = \"mean_squared_error\"\n",
    "    metrics = [\"mse\"]\n",
    "    model = None\n",
    "\n",
    "    #Create and compile the models\n",
    "    model = RULmodel_SN_5(shape)\n",
    "    model.compile(optimizer = optimizer, loss = lossFunction, metrics = metrics)\n",
    "\n",
    "    return model\n",
    "\n",
    "\n"
   ]
  },
  {
   "cell_type": "code",
   "execution_count": 6,
   "metadata": {},
   "outputs": [],
   "source": [
    "num_features = len(selected_features)\n",
    "\n",
    "shape = len(selected_features)*window_size\n",
    "model = get_compiled_model(shape, model_type='ann')\n",
    "tModel = SequenceTunableModelRegression('ModelRUL_SN_1', model, lib_type='keras', data_handler=dHandler_cmaps)\n"
   ]
  },
  {
   "cell_type": "markdown",
   "metadata": {},
   "source": [
    "# Load Data"
   ]
  },
  {
   "cell_type": "code",
   "execution_count": 7,
   "metadata": {},
   "outputs": [],
   "source": [
    "tModel.data_handler.sequence_length = 30\n",
    "#tModel.data_handler.sequence_length = maxWindowSize[datasetNumber]\n",
    "tModel.data_handler.sequence_stride = 1\n",
    "tModel.data_handler.max_rul = 129"
   ]
  },
  {
   "cell_type": "code",
   "execution_count": 8,
   "metadata": {
    "scrolled": true
   },
   "outputs": [
    {
     "name": "stdout",
     "output_type": "stream",
     "text": [
      "Loading data for dataset 1 with window_size of 30, stride of 1 and maxRUL of 129. Cros-Validation ratio 0.2\n",
      "Loading data from file and computing dataframes\n",
      "Printing shapes\n",
      "\n",
      "Training data (X, y)\n",
      "(14547, 420)\n",
      "(14547, 1)\n",
      "Cross-Validation data (X, y)\n",
      "(20, 420)\n",
      "(20, 1)\n",
      "Testing data (X, y)\n",
      "(100, 420)\n",
      "(100, 1)\n",
      "Printing first 5 elements\n",
      "\n",
      "Training data (X, y)\n",
      "[[-0.55400697 -0.34526854 -0.63551968 ... -0.63636364  0.62711864\n",
      "   0.43246698]\n",
      " [-0.60278746 -0.18107417 -0.56084763 ... -0.63636364  0.74576271\n",
      "   0.48047152]\n",
      " [-0.79094077 -0.11611253 -0.32552977 ... -0.81818182  0.40677966\n",
      "   0.43843204]\n",
      " [-0.70034843 -0.32941176 -0.44177598 ... -0.45454545  0.47457627\n",
      "   0.56000568]\n",
      " [-0.66550523 -0.59130435 -0.18183653 ... -0.81818182  0.23728814\n",
      "   0.59892061]]\n",
      "[[129.]\n",
      " [129.]\n",
      " [129.]\n",
      " [129.]\n",
      " [129.]]\n",
      "Cross-Validation data (X, y)\n",
      "[[-0.23344948  0.12071611 -0.31745711 ... -0.45454545  0.44067797\n",
      "   0.19471666]\n",
      " [-0.24738676  0.32890026  0.50393542 ... -0.27272727 -0.08474576\n",
      "   0.0123562 ]\n",
      " [-0.10801394  0.07672634  0.07608476 ...  0.45454545 -0.76271186\n",
      "  -0.22880273]\n",
      " [-0.19163763 -0.27928389 -0.13380424 ...  0.09090909  0.18644068\n",
      "  -0.06206505]\n",
      " [ 0.17073171  0.01841432  0.23188698 ...  0.09090909 -0.06779661\n",
      "  -0.37139611]]\n",
      "[[149.]\n",
      " [ 24.]\n",
      " [  4.]\n",
      " [125.]\n",
      " [ 57.]]\n",
      "Testing data (X, y)\n",
      "[[-0.67944251 -0.10946292 -0.46841574 ... -0.27272727  0.13559322\n",
      "   0.30947309]\n",
      " [ 0.02439024 -0.07365729 -0.25570131 ... -0.63636364  0.13559322\n",
      "   0.04416986]\n",
      " [ 0.12195122 -0.08644501  0.06841574 ...  0.09090909  0.33898305\n",
      "   0.07882403]\n",
      " [-0.16376307  0.16828645  0.03289606 ...  0.09090909 -0.25423729\n",
      "   0.03365999]\n",
      " [-0.07317073  0.24654731  0.0728557  ... -0.09090909  0.03389831\n",
      "   0.46996165]]\n",
      "[[112.]\n",
      " [ 98.]\n",
      " [ 69.]\n",
      " [ 82.]\n",
      " [ 91.]]\n"
     ]
    }
   ],
   "source": [
    "#Load Non sequenced data (unroll sequence into a single feature vector)\n",
    "\n",
    "tModel.data_handler.data_scaler = None\n",
    "tModel.data_scaler = min_max_scaler\n",
    "\n",
    "tModel.load_data(unroll=True, verbose=1, cross_validation_ratio=0.2)\n",
    "#tModel.data_handler.print_data()\n",
    "tModel.print_data()"
   ]
  },
  {
   "cell_type": "markdown",
   "metadata": {},
   "source": [
    "# Train the model and test some Tunable Model functionalities"
   ]
  },
  {
   "cell_type": "code",
   "execution_count": 9,
   "metadata": {},
   "outputs": [],
   "source": [
    "class TrainValTensorBoard(TensorBoard):\n",
    "    def __init__(self, log_dir='./logs', **kwargs):\n",
    "        \n",
    "        # Make the original `TensorBoard` log to a subdirectory 'training'\n",
    "        training_log_dir = os.path.join(log_dir, 'training')\n",
    "        super(TrainValTensorBoard, self).__init__(training_log_dir, **kwargs)\n",
    "\n",
    "        # Log the validation metrics to a separate subdirectory\n",
    "        self.val_log_dir = os.path.join(log_dir, 'validation')\n",
    "\n",
    "    def set_model(self, model):\n",
    "        # Setup writer for validation metrics\n",
    "        self.val_writer = tf.summary.FileWriter(self.val_log_dir)\n",
    "        \n",
    "        super(TrainValTensorBoard, self).set_model(model)\n",
    "\n",
    "    def on_epoch_end(self, epoch, logs=None):\n",
    "        # Pop the validation logs and handle them separately with\n",
    "        # `self.val_writer`. Also rename the keys so that they can\n",
    "        # be plotted on the same figure with the training metrics\n",
    "        logs = logs or {}\n",
    "        #print(\"Logs:\", logs.items())\n",
    "        val_logs = {k.replace('val_', ''): v for k, v in logs.items() if k.startswith('val_')}\n",
    "        #print(\"Val_logs:\", val_logs)\n",
    "        for name, value in val_logs.items():\n",
    "            #print(\"Name:\", name)\n",
    "            #print(\"Value:\", value)\n",
    "            summary = tf.Summary()\n",
    "            summary_value = summary.value.add()\n",
    "            summary_value.simple_value = value.item()\n",
    "            summary_value.tag = name\n",
    "            self.val_writer.add_summary(summary, epoch)\n",
    "        self.val_writer.flush()\n",
    "\n",
    "        # Pass the remaining logs to `TensorBoard.on_epoch_end`\n",
    "        logs = {k: v for k, v in logs.items() if not k.startswith('val_')}\n",
    "        super(TrainValTensorBoard, self).on_epoch_end(epoch, logs)\n",
    "\n",
    "    def on_train_end(self, logs=None):\n",
    "        super(TrainValTensorBoard, self).on_train_end(logs)\n",
    "        self.val_writer.close()\n"
   ]
  },
  {
   "cell_type": "code",
   "execution_count": 10,
   "metadata": {
    "scrolled": true
   },
   "outputs": [
    {
     "name": "stdout",
     "output_type": "stream",
     "text": [
      "training with cv\n",
      "Train on 14547 samples, validate on 20 samples\n",
      "Epoch 1/100\n",
      " 9728/14547 [===================>..........] - ETA: 0s - loss: 8683.0142 - mean_squared_error: 8672.8291 ETA: 0s - loss: 8799.3220 - mean_squared_error: 8789. - ETA: 0s - loss: 8777.3061 - mean_squared_error: 8 - ETA: 0s - loss: 8679.6016 - mean_squared_error: 8669."
     ]
    },
    {
     "name": "stderr",
     "output_type": "stream",
     "text": [
      "C:\\Users\\controlslab\\Anaconda3\\envs\\gpu_tensorflow\\lib\\site-packages\\keras\\callbacks.py:120: UserWarning: Method on_batch_end() is slow compared to the batch update (0.100725). Check your callbacks.\n",
      "  % delta_t_median)\n"
     ]
    },
    {
     "name": "stdout",
     "output_type": "stream",
     "text": [
      "10752/14547 [=====================>........] - ETA: 0s - loss: 8687.5622 - mean_squared_error: 8677.37 - ETA: 0s - loss: 8658.2398 - mean_squared_error: 8648.0548"
     ]
    },
    {
     "name": "stderr",
     "output_type": "stream",
     "text": [
      "C:\\Users\\controlslab\\Anaconda3\\envs\\gpu_tensorflow\\lib\\site-packages\\keras\\callbacks.py:120: UserWarning: Method on_batch_end() is slow compared to the batch update (0.119690). Check your callbacks.\n",
      "  % delta_t_median)\n",
      "C:\\Users\\controlslab\\Anaconda3\\envs\\gpu_tensorflow\\lib\\site-packages\\keras\\callbacks.py:120: UserWarning: Method on_batch_end() is slow compared to the batch update (0.147618). Check your callbacks.\n",
      "  % delta_t_median)\n"
     ]
    },
    {
     "name": "stdout",
     "output_type": "stream",
     "text": [
      "12288/14547 [========================>.....] - ETA: 0s - loss: 8637.1676 - mean_squared_error: 8626.9727"
     ]
    },
    {
     "name": "stderr",
     "output_type": "stream",
     "text": [
      "C:\\Users\\controlslab\\Anaconda3\\envs\\gpu_tensorflow\\lib\\site-packages\\keras\\callbacks.py:120: UserWarning: Method on_batch_end() is slow compared to the batch update (0.156607). Check your callbacks.\n",
      "  % delta_t_median)\n"
     ]
    },
    {
     "name": "stdout",
     "output_type": "stream",
     "text": [
      "12800/14547 [=========================>....] - ETA: 0s - loss: 8613.7977 - mean_squared_error: 8603.5963"
     ]
    },
    {
     "name": "stderr",
     "output_type": "stream",
     "text": [
      "C:\\Users\\controlslab\\Anaconda3\\envs\\gpu_tensorflow\\lib\\site-packages\\keras\\callbacks.py:120: UserWarning: Method on_batch_end() is slow compared to the batch update (0.156603). Check your callbacks.\n",
      "  % delta_t_median)\n"
     ]
    },
    {
     "name": "stdout",
     "output_type": "stream",
     "text": [
      "14336/14547 [============================>.] - ETA: 0s - loss: 8562.3605 - mean_squared_error: 8552.1287"
     ]
    },
    {
     "name": "stderr",
     "output_type": "stream",
     "text": [
      "C:\\Users\\controlslab\\Anaconda3\\envs\\gpu_tensorflow\\lib\\site-packages\\keras\\callbacks.py:120: UserWarning: Method on_batch_end() is slow compared to the batch update (0.128649). Check your callbacks.\n",
      "  % delta_t_median)\n",
      "C:\\Users\\controlslab\\Anaconda3\\envs\\gpu_tensorflow\\lib\\site-packages\\keras\\callbacks.py:120: UserWarning: Method on_batch_end() is slow compared to the batch update (0.138139). Check your callbacks.\n",
      "  % delta_t_median)\n"
     ]
    },
    {
     "name": "stdout",
     "output_type": "stream",
     "text": [
      "14547/14547 [==============================] - 3s 220us/step - loss: 8556.5475 - mean_squared_error: 8546.3100 - val_loss: 7122.4634 - val_mean_squared_error: 7111.7461\n",
      "Epoch 2/100\n",
      "14547/14547 [==============================] - 2s 154us/step - loss: 6907.3604 - mean_squared_error: 6894.8905 - val_loss: 4550.8423 - val_mean_squared_error: 4535.80220s - loss: 7696.7941 - mean_squared_error: 7685. - ETA: 0s - loss: 7621.6484 - mean_squared_ - ETA: 0s - loss: 7264.1417 - mean_squared_error: 7252. - ETA: 0s - loss: 7159.4579 - mean_squared_error:\n",
      "Epoch 3/100\n",
      " 1024/14547 [=>............................] - ETA: 2s - loss: 4837.7485 - mean_squared_error: 4822.60"
     ]
    },
    {
     "name": "stderr",
     "output_type": "stream",
     "text": [
      "C:\\Users\\controlslab\\Anaconda3\\envs\\gpu_tensorflow\\lib\\site-packages\\keras\\callbacks.py:120: UserWarning: Method on_batch_end() is slow compared to the batch update (0.135665). Check your callbacks.\n",
      "  % delta_t_median)\n",
      "C:\\Users\\controlslab\\Anaconda3\\envs\\gpu_tensorflow\\lib\\site-packages\\keras\\callbacks.py:120: UserWarning: Method on_batch_end() is slow compared to the batch update (0.116702). Check your callbacks.\n",
      "  % delta_t_median)\n"
     ]
    },
    {
     "name": "stdout",
     "output_type": "stream",
     "text": [
      " 2560/14547 [====>.........................] - ETA: 2s - loss: 4876.2941 - mean_squared_error: 4860.8538"
     ]
    },
    {
     "name": "stderr",
     "output_type": "stream",
     "text": [
      "C:\\Users\\controlslab\\Anaconda3\\envs\\gpu_tensorflow\\lib\\site-packages\\keras\\callbacks.py:120: UserWarning: Method on_batch_end() is slow compared to the batch update (0.128667). Check your callbacks.\n",
      "  % delta_t_median)\n",
      "C:\\Users\\controlslab\\Anaconda3\\envs\\gpu_tensorflow\\lib\\site-packages\\keras\\callbacks.py:120: UserWarning: Method on_batch_end() is slow compared to the batch update (0.113203). Check your callbacks.\n",
      "  % delta_t_median)\n",
      "C:\\Users\\controlslab\\Anaconda3\\envs\\gpu_tensorflow\\lib\\site-packages\\keras\\callbacks.py:120: UserWarning: Method on_batch_end() is slow compared to the batch update (0.124697). Check your callbacks.\n",
      "  % delta_t_median)\n"
     ]
    },
    {
     "name": "stdout",
     "output_type": "stream",
     "text": [
      " 4608/14547 [========>.....................] - ETA: 2s - loss: 4791.5426 - mean_squared_error: 4775.6961"
     ]
    },
    {
     "name": "stderr",
     "output_type": "stream",
     "text": [
      "C:\\Users\\controlslab\\Anaconda3\\envs\\gpu_tensorflow\\lib\\site-packages\\keras\\callbacks.py:120: UserWarning: Method on_batch_end() is slow compared to the batch update (0.123187). Check your callbacks.\n",
      "  % delta_t_median)\n",
      "C:\\Users\\controlslab\\Anaconda3\\envs\\gpu_tensorflow\\lib\\site-packages\\keras\\callbacks.py:120: UserWarning: Method on_batch_end() is slow compared to the batch update (0.121677). Check your callbacks.\n",
      "  % delta_t_median)\n",
      "C:\\Users\\controlslab\\Anaconda3\\envs\\gpu_tensorflow\\lib\\site-packages\\keras\\callbacks.py:120: UserWarning: Method on_batch_end() is slow compared to the batch update (0.109708). Check your callbacks.\n",
      "  % delta_t_median)\n"
     ]
    },
    {
     "name": "stdout",
     "output_type": "stream",
     "text": [
      " 7168/14547 [=============>................] - ETA: 1s - loss: 4543.5492 - mean_squared_error: 4527.1692 ETA: 1s - loss: 4717.8174 - mean_squared_error: 470"
     ]
    },
    {
     "name": "stderr",
     "output_type": "stream",
     "text": [
      "C:\\Users\\controlslab\\Anaconda3\\envs\\gpu_tensorflow\\lib\\site-packages\\keras\\callbacks.py:120: UserWarning: Method on_batch_end() is slow compared to the batch update (0.106216). Check your callbacks.\n",
      "  % delta_t_median)\n"
     ]
    },
    {
     "name": "stdout",
     "output_type": "stream",
     "text": [
      "14547/14547 [==============================] - 3s 196us/step - loss: 3767.9333 - mean_squared_error: 3750.0785 - val_loss: 1711.1815 - val_mean_squared_error: 1690.4801\n",
      "Epoch 4/100\n",
      "14547/14547 [==============================] - 2s 118us/step - loss: 1767.8100 - mean_squared_error: 1746.4132 - val_loss: 1136.9026 - val_mean_squared_error: 1115.4557 2018.4954 - mean_\n",
      "Epoch 5/100\n",
      " 3072/14547 [=====>........................] - ETA: 2s - loss: 1381.9855 - mean_squared_error: 1360.51 - ETA: 1s - loss: 1359.7331 - mean_squared_error: 1338.2502"
     ]
    },
    {
     "name": "stderr",
     "output_type": "stream",
     "text": [
      "C:\\Users\\controlslab\\Anaconda3\\envs\\gpu_tensorflow\\lib\\site-packages\\keras\\callbacks.py:120: UserWarning: Method on_batch_end() is slow compared to the batch update (0.100249). Check your callbacks.\n",
      "  % delta_t_median)\n"
     ]
    },
    {
     "name": "stdout",
     "output_type": "stream",
     "text": [
      " 4608/14547 [========>.....................] - ETA: 2s - loss: 1309.2923 - mean_squared_error: 1287.7735"
     ]
    },
    {
     "name": "stderr",
     "output_type": "stream",
     "text": [
      "C:\\Users\\controlslab\\Anaconda3\\envs\\gpu_tensorflow\\lib\\site-packages\\keras\\callbacks.py:120: UserWarning: Method on_batch_end() is slow compared to the batch update (0.119682). Check your callbacks.\n",
      "  % delta_t_median)\n",
      "C:\\Users\\controlslab\\Anaconda3\\envs\\gpu_tensorflow\\lib\\site-packages\\keras\\callbacks.py:120: UserWarning: Method on_batch_end() is slow compared to the batch update (0.111702). Check your callbacks.\n",
      "  % delta_t_median)\n",
      "C:\\Users\\controlslab\\Anaconda3\\envs\\gpu_tensorflow\\lib\\site-packages\\keras\\callbacks.py:120: UserWarning: Method on_batch_end() is slow compared to the batch update (0.103721). Check your callbacks.\n",
      "  % delta_t_median)\n"
     ]
    },
    {
     "name": "stdout",
     "output_type": "stream",
     "text": [
      " 6144/14547 [===========>..................] - ETA: 2s - loss: 1289.7141 - mean_squared_error: 1268.18 - ETA: 2s - loss: 1282.7822 - mean_squared_error: 1261.23 - ETA: 1s - loss: 1260.6306 - mean_squared_error: 1239.0651"
     ]
    },
    {
     "name": "stderr",
     "output_type": "stream",
     "text": [
      "C:\\Users\\controlslab\\Anaconda3\\envs\\gpu_tensorflow\\lib\\site-packages\\keras\\callbacks.py:120: UserWarning: Method on_batch_end() is slow compared to the batch update (0.111202). Check your callbacks.\n",
      "  % delta_t_median)\n",
      "C:\\Users\\controlslab\\Anaconda3\\envs\\gpu_tensorflow\\lib\\site-packages\\keras\\callbacks.py:120: UserWarning: Method on_batch_end() is slow compared to the batch update (0.119182). Check your callbacks.\n",
      "  % delta_t_median)\n"
     ]
    },
    {
     "name": "stdout",
     "output_type": "stream",
     "text": [
      "14547/14547 [==============================] - 3s 202us/step - loss: 1003.3922 - mean_squared_error: 981.5928 - val_loss: 645.5312 - val_mean_squared_error: 623.3080s - loss: 1140.2537 - mean_squared_error: 1118.58 - ETA: 0s - loss: 1126.7382 - mean_squared_error: 1 - ETA: 0s - loss: 1066.0196 - mean_squared_error: 104\n",
      "Epoch 6/100\n",
      " 8192/14547 [===============>..............] - ETA: 1s - loss: 515.3085 - mean_squared_error: 492.9228 ETA: 0s - loss: 565.8156 - mean_squared - ETA: 1s - loss: 525.3607 - mean_squared_error: 50"
     ]
    },
    {
     "name": "stderr",
     "output_type": "stream",
     "text": [
      "C:\\Users\\controlslab\\Anaconda3\\envs\\gpu_tensorflow\\lib\\site-packages\\keras\\callbacks.py:120: UserWarning: Method on_batch_end() is slow compared to the batch update (0.108240). Check your callbacks.\n",
      "  % delta_t_median)\n"
     ]
    },
    {
     "name": "stdout",
     "output_type": "stream",
     "text": [
      " 9728/14547 [===================>..........] - ETA: 0s - loss: 505.7422 - mean_squared_error: 483.3268"
     ]
    },
    {
     "name": "stderr",
     "output_type": "stream",
     "text": [
      "C:\\Users\\controlslab\\Anaconda3\\envs\\gpu_tensorflow\\lib\\site-packages\\keras\\callbacks.py:120: UserWarning: Method on_batch_end() is slow compared to the batch update (0.116205). Check your callbacks.\n",
      "  % delta_t_median)\n"
     ]
    },
    {
     "name": "stdout",
     "output_type": "stream",
     "text": [
      "13312/14547 [==========================>...] - ETA: 0s - loss: 493.5147 - mean_squared_error: 471.0375"
     ]
    },
    {
     "name": "stderr",
     "output_type": "stream",
     "text": [
      "C:\\Users\\controlslab\\Anaconda3\\envs\\gpu_tensorflow\\lib\\site-packages\\keras\\callbacks.py:120: UserWarning: Method on_batch_end() is slow compared to the batch update (0.105722). Check your callbacks.\n",
      "  % delta_t_median)\n"
     ]
    },
    {
     "name": "stdout",
     "output_type": "stream",
     "text": [
      "14547/14547 [==============================] - 2s 156us/step - loss: 489.3542 - mean_squared_error: 466.8575 - val_loss: 592.3287 - val_mean_squared_error: 569.5895\n",
      "Epoch 7/100\n",
      " 9216/14547 [==================>...........] - ETA: 1s - loss: 428.1592 - mean_squared_error: 405.3577 ETA: 1s - loss: 457.9868 - mean_squared_error: 435.23 - ETA: 1s - loss: 461.1457 - mean_squared - ETA: 1s - loss: 436.3612 - mean_squared_err - ETA: 1s - loss: 428.2876 - mean_squared_error: 405.4822"
     ]
    },
    {
     "name": "stderr",
     "output_type": "stream",
     "text": [
      "C:\\Users\\controlslab\\Anaconda3\\envs\\gpu_tensorflow\\lib\\site-packages\\keras\\callbacks.py:120: UserWarning: Method on_batch_end() is slow compared to the batch update (0.101752). Check your callbacks.\n",
      "  % delta_t_median)\n"
     ]
    },
    {
     "name": "stdout",
     "output_type": "stream",
     "text": [
      "11776/14547 [=======================>......] - ETA: 0s - loss: 425.9917 - mean_squared_error: 403.1660"
     ]
    },
    {
     "name": "stderr",
     "output_type": "stream",
     "text": [
      "C:\\Users\\controlslab\\Anaconda3\\envs\\gpu_tensorflow\\lib\\site-packages\\keras\\callbacks.py:120: UserWarning: Method on_batch_end() is slow compared to the batch update (0.116711). Check your callbacks.\n",
      "  % delta_t_median)\n"
     ]
    },
    {
     "name": "stdout",
     "output_type": "stream",
     "text": [
      "12288/14547 [========================>.....] - ETA: 0s - loss: 425.5464 - mean_squared_error: 402.7162"
     ]
    },
    {
     "name": "stderr",
     "output_type": "stream",
     "text": [
      "C:\\Users\\controlslab\\Anaconda3\\envs\\gpu_tensorflow\\lib\\site-packages\\keras\\callbacks.py:120: UserWarning: Method on_batch_end() is slow compared to the batch update (0.104247). Check your callbacks.\n",
      "  % delta_t_median)\n",
      "C:\\Users\\controlslab\\Anaconda3\\envs\\gpu_tensorflow\\lib\\site-packages\\keras\\callbacks.py:120: UserWarning: Method on_batch_end() is slow compared to the batch update (0.116215). Check your callbacks.\n",
      "  % delta_t_median)\n"
     ]
    },
    {
     "name": "stdout",
     "output_type": "stream",
     "text": [
      "13312/14547 [==========================>...] - ETA: 0s - loss: 427.2812 - mean_squared_error: 404.4413"
     ]
    },
    {
     "name": "stderr",
     "output_type": "stream",
     "text": [
      "C:\\Users\\controlslab\\Anaconda3\\envs\\gpu_tensorflow\\lib\\site-packages\\keras\\callbacks.py:120: UserWarning: Method on_batch_end() is slow compared to the batch update (0.118214). Check your callbacks.\n",
      "  % delta_t_median)\n"
     ]
    },
    {
     "name": "stdout",
     "output_type": "stream",
     "text": [
      "14547/14547 [==============================] - 3s 222us/step - loss: 426.3897 - mean_squared_error: 403.5389 - val_loss: 611.6059 - val_mean_squared_error: 588.6127\n"
     ]
    },
    {
     "name": "stderr",
     "output_type": "stream",
     "text": [
      "C:\\Users\\controlslab\\Anaconda3\\envs\\gpu_tensorflow\\lib\\site-packages\\keras\\callbacks.py:120: UserWarning: Method on_batch_end() is slow compared to the batch update (0.125955). Check your callbacks.\n",
      "  % delta_t_median)\n",
      "C:\\Users\\controlslab\\Anaconda3\\envs\\gpu_tensorflow\\lib\\site-packages\\keras\\callbacks.py:120: UserWarning: Method on_batch_end() is slow compared to the batch update (0.111493). Check your callbacks.\n",
      "  % delta_t_median)\n"
     ]
    },
    {
     "name": "stdout",
     "output_type": "stream",
     "text": [
      "Epoch 8/100\n",
      " 1536/14547 [==>...........................] - ETA: 3s - loss: 409.7980 - mean_squared_error: 386.7941"
     ]
    },
    {
     "name": "stderr",
     "output_type": "stream",
     "text": [
      "C:\\Users\\controlslab\\Anaconda3\\envs\\gpu_tensorflow\\lib\\site-packages\\keras\\callbacks.py:120: UserWarning: Method on_batch_end() is slow compared to the batch update (0.246340). Check your callbacks.\n",
      "  % delta_t_median)\n",
      "C:\\Users\\controlslab\\Anaconda3\\envs\\gpu_tensorflow\\lib\\site-packages\\keras\\callbacks.py:120: UserWarning: Method on_batch_end() is slow compared to the batch update (0.185504). Check your callbacks.\n",
      "  % delta_t_median)\n"
     ]
    },
    {
     "name": "stdout",
     "output_type": "stream",
     "text": [
      " 2560/14547 [====>.........................] - ETA: 3s - loss: 415.7741 - mean_squared_error: 392.7613"
     ]
    },
    {
     "name": "stderr",
     "output_type": "stream",
     "text": [
      "C:\\Users\\controlslab\\Anaconda3\\envs\\gpu_tensorflow\\lib\\site-packages\\keras\\callbacks.py:120: UserWarning: Method on_batch_end() is slow compared to the batch update (0.124667). Check your callbacks.\n",
      "  % delta_t_median)\n",
      "C:\\Users\\controlslab\\Anaconda3\\envs\\gpu_tensorflow\\lib\\site-packages\\keras\\callbacks.py:120: UserWarning: Method on_batch_end() is slow compared to the batch update (0.109208). Check your callbacks.\n",
      "  % delta_t_median)\n"
     ]
    },
    {
     "name": "stdout",
     "output_type": "stream",
     "text": [
      " 4608/14547 [========>.....................] - ETA: 2s - loss: 414.4975 - mean_squared_error: 391.4676"
     ]
    },
    {
     "name": "stderr",
     "output_type": "stream",
     "text": [
      "C:\\Users\\controlslab\\Anaconda3\\envs\\gpu_tensorflow\\lib\\site-packages\\keras\\callbacks.py:120: UserWarning: Method on_batch_end() is slow compared to the batch update (0.108225). Check your callbacks.\n",
      "  % delta_t_median)\n"
     ]
    },
    {
     "name": "stdout",
     "output_type": "stream",
     "text": [
      "14547/14547 [==============================] - 2s 112us/step - loss: 402.7545 - mean_squared_error: 379.6331 - val_loss: 531.7335 - val_mean_squared_error: 508.4613\n",
      "Epoch 9/100\n",
      " 1536/14547 [==>...........................] - ETA: 2s - loss: 398.3371 - mean_squared_error: 375.0551"
     ]
    },
    {
     "name": "stderr",
     "output_type": "stream",
     "text": [
      "C:\\Users\\controlslab\\Anaconda3\\envs\\gpu_tensorflow\\lib\\site-packages\\keras\\callbacks.py:120: UserWarning: Method on_batch_end() is slow compared to the batch update (0.110703). Check your callbacks.\n",
      "  % delta_t_median)\n",
      "C:\\Users\\controlslab\\Anaconda3\\envs\\gpu_tensorflow\\lib\\site-packages\\keras\\callbacks.py:120: UserWarning: Method on_batch_end() is slow compared to the batch update (0.101503). Check your callbacks.\n",
      "  % delta_t_median)\n"
     ]
    },
    {
     "name": "stdout",
     "output_type": "stream",
     "text": [
      " 4096/14547 [=======>......................] - ETA: 1s - loss: 383.7445 - mean_squared_error: 360.4348"
     ]
    },
    {
     "name": "stderr",
     "output_type": "stream",
     "text": [
      "C:\\Users\\controlslab\\Anaconda3\\envs\\gpu_tensorflow\\lib\\site-packages\\keras\\callbacks.py:120: UserWarning: Method on_batch_end() is slow compared to the batch update (0.116202). Check your callbacks.\n",
      "  % delta_t_median)\n"
     ]
    },
    {
     "name": "stdout",
     "output_type": "stream",
     "text": [
      " 7168/14547 [=============>................] - ETA: 1s - loss: 384.7182 - mean_squared_error: 361.3755"
     ]
    },
    {
     "name": "stderr",
     "output_type": "stream",
     "text": [
      "C:\\Users\\controlslab\\Anaconda3\\envs\\gpu_tensorflow\\lib\\site-packages\\keras\\callbacks.py:120: UserWarning: Method on_batch_end() is slow compared to the batch update (0.102736). Check your callbacks.\n",
      "  % delta_t_median)\n"
     ]
    },
    {
     "name": "stdout",
     "output_type": "stream",
     "text": [
      "14547/14547 [==============================] - 2s 161us/step - loss: 381.5084 - mean_squared_error: 358.0825 - val_loss: 532.0764 - val_mean_squared_error: 508.4387\n",
      "Epoch 10/100\n",
      " 6656/14547 [============>.................] - ETA: 1s - loss: 365.2263 - mean_squared_error: 341.5205 ETA: 2s - loss: 363.5742 - mean_squared_error:  - ETA: 1s - loss: 363.0087 - mean_squared_error"
     ]
    },
    {
     "name": "stderr",
     "output_type": "stream",
     "text": [
      "C:\\Users\\controlslab\\Anaconda3\\envs\\gpu_tensorflow\\lib\\site-packages\\keras\\callbacks.py:120: UserWarning: Method on_batch_end() is slow compared to the batch update (0.103769). Check your callbacks.\n",
      "  % delta_t_median)\n",
      "C:\\Users\\controlslab\\Anaconda3\\envs\\gpu_tensorflow\\lib\\site-packages\\keras\\callbacks.py:120: UserWarning: Method on_batch_end() is slow compared to the batch update (0.104241). Check your callbacks.\n",
      "  % delta_t_median)\n"
     ]
    },
    {
     "name": "stdout",
     "output_type": "stream",
     "text": [
      "14547/14547 [==============================] - 4s 250us/step - loss: 362.7281 - mean_squared_error: 338.9269 - val_loss: 460.6481 - val_mean_squared_error: 436.6409s: 364.6450 - mean_squared_error: 34\n",
      "Epoch 11/100\n",
      " 8192/14547 [===============>..............] - ETA: 0s - loss: 346.2216 - mean_squared_error: 322.1028 ETA: 0s - loss: 348.6078 - mean_squared_error: 324.54 - ETA: 0s - loss: 344.5604 - mean_squared_err"
     ]
    },
    {
     "name": "stderr",
     "output_type": "stream",
     "text": [
      "C:\\Users\\controlslab\\Anaconda3\\envs\\gpu_tensorflow\\lib\\site-packages\\keras\\callbacks.py:120: UserWarning: Method on_batch_end() is slow compared to the batch update (0.108723). Check your callbacks.\n",
      "  % delta_t_median)\n"
     ]
    },
    {
     "name": "stdout",
     "output_type": "stream",
     "text": [
      " 9216/14547 [==================>...........] - ETA: 0s - loss: 344.3434 - mean_squared_error: 320.21 - ETA: 0s - loss: 343.7368 - mean_squared_error: 319.60"
     ]
    },
    {
     "name": "stderr",
     "output_type": "stream",
     "text": [
      "C:\\Users\\controlslab\\Anaconda3\\envs\\gpu_tensorflow\\lib\\site-packages\\keras\\callbacks.py:120: UserWarning: Method on_batch_end() is slow compared to the batch update (0.100243). Check your callbacks.\n",
      "  % delta_t_median)\n"
     ]
    },
    {
     "name": "stdout",
     "output_type": "stream",
     "text": [
      "13824/14547 [===========================>..] - ETA: 0s - loss: 344.6884 - mean_squared_error: 320.4858 ETA: 0s - loss: 343.5523 - mean_squared_error: 319. - ETA: 0s - loss: 342.8491 - mean_squared_error: 318. - ETA: 0s - loss: 345.2298 - mean_squared_error: 321. - ETA: 0s - loss: 345.5196 - mean_squared_error: 321.32"
     ]
    },
    {
     "name": "stderr",
     "output_type": "stream",
     "text": [
      "C:\\Users\\controlslab\\Anaconda3\\envs\\gpu_tensorflow\\lib\\site-packages\\keras\\callbacks.py:120: UserWarning: Method on_batch_end() is slow compared to the batch update (0.101229). Check your callbacks.\n",
      "  % delta_t_median)\n",
      "C:\\Users\\controlslab\\Anaconda3\\envs\\gpu_tensorflow\\lib\\site-packages\\keras\\callbacks.py:120: UserWarning: Method on_batch_end() is slow compared to the batch update (0.107712). Check your callbacks.\n",
      "  % delta_t_median)\n"
     ]
    },
    {
     "name": "stdout",
     "output_type": "stream",
     "text": [
      "14547/14547 [==============================] - 3s 197us/step - loss: 344.3371 - mean_squared_error: 320.1241 - val_loss: 407.2361 - val_mean_squared_error: 382.8047\n"
     ]
    },
    {
     "name": "stderr",
     "output_type": "stream",
     "text": [
      "C:\\Users\\controlslab\\Anaconda3\\envs\\gpu_tensorflow\\lib\\site-packages\\keras\\callbacks.py:120: UserWarning: Method on_batch_end() is slow compared to the batch update (0.110774). Check your callbacks.\n",
      "  % delta_t_median)\n"
     ]
    },
    {
     "name": "stdout",
     "output_type": "stream",
     "text": [
      "Epoch 12/100\n",
      "14547/14547 [==============================] - 2s 112us/step - loss: 326.6277 - mean_squared_error: 301.9919 - val_loss: 412.2427 - val_mean_squared_error: 387.3529\n",
      "Epoch 13/100\n",
      " 2048/14547 [===>..........................] - ETA: 2s - loss: 326.7832 - mean_squared_error: 301.86"
     ]
    },
    {
     "name": "stderr",
     "output_type": "stream",
     "text": [
      "C:\\Users\\controlslab\\Anaconda3\\envs\\gpu_tensorflow\\lib\\site-packages\\keras\\callbacks.py:120: UserWarning: Method on_batch_end() is slow compared to the batch update (0.102751). Check your callbacks.\n",
      "  % delta_t_median)\n"
     ]
    },
    {
     "name": "stdout",
     "output_type": "stream",
     "text": [
      " 3584/14547 [======>.......................] - ETA: 1s - loss: 320.0384 - mean_squared_error: 295.11 - ETA: 2s - loss: 318.1107 - mean_squared_error: 293.18 - ETA: 2s - loss: 315.6270 - mean_squared_error: 290.6909"
     ]
    },
    {
     "name": "stderr",
     "output_type": "stream",
     "text": [
      "C:\\Users\\controlslab\\Anaconda3\\envs\\gpu_tensorflow\\lib\\site-packages\\keras\\callbacks.py:120: UserWarning: Method on_batch_end() is slow compared to the batch update (0.105255). Check your callbacks.\n",
      "  % delta_t_median)\n",
      "C:\\Users\\controlslab\\Anaconda3\\envs\\gpu_tensorflow\\lib\\site-packages\\keras\\callbacks.py:120: UserWarning: Method on_batch_end() is slow compared to the batch update (0.136677). Check your callbacks.\n",
      "  % delta_t_median)\n"
     ]
    },
    {
     "name": "stdout",
     "output_type": "stream",
     "text": [
      " 5120/14547 [=========>....................] - ETA: 2s - loss: 315.4322 - mean_squared_error: 290.4781"
     ]
    },
    {
     "name": "stderr",
     "output_type": "stream",
     "text": [
      "C:\\Users\\controlslab\\Anaconda3\\envs\\gpu_tensorflow\\lib\\site-packages\\keras\\callbacks.py:120: UserWarning: Method on_batch_end() is slow compared to the batch update (0.118717). Check your callbacks.\n",
      "  % delta_t_median)\n",
      "C:\\Users\\controlslab\\Anaconda3\\envs\\gpu_tensorflow\\lib\\site-packages\\keras\\callbacks.py:120: UserWarning: Method on_batch_end() is slow compared to the batch update (0.100758). Check your callbacks.\n",
      "  % delta_t_median)\n",
      "C:\\Users\\controlslab\\Anaconda3\\envs\\gpu_tensorflow\\lib\\site-packages\\keras\\callbacks.py:120: UserWarning: Method on_batch_end() is slow compared to the batch update (0.100246). Check your callbacks.\n",
      "  % delta_t_median)\n"
     ]
    },
    {
     "name": "stdout",
     "output_type": "stream",
     "text": [
      " 6144/14547 [===========>..................] - ETA: 2s - loss: 315.1441 - mean_squared_error: 290.1764"
     ]
    },
    {
     "name": "stderr",
     "output_type": "stream",
     "text": [
      "C:\\Users\\controlslab\\Anaconda3\\envs\\gpu_tensorflow\\lib\\site-packages\\keras\\callbacks.py:120: UserWarning: Method on_batch_end() is slow compared to the batch update (0.117214). Check your callbacks.\n",
      "  % delta_t_median)\n"
     ]
    },
    {
     "name": "stdout",
     "output_type": "stream",
     "text": [
      " 7680/14547 [==============>...............] - ETA: 1s - loss: 312.5898 - mean_squared_error: 287.5966"
     ]
    },
    {
     "name": "stderr",
     "output_type": "stream",
     "text": [
      "C:\\Users\\controlslab\\Anaconda3\\envs\\gpu_tensorflow\\lib\\site-packages\\keras\\callbacks.py:120: UserWarning: Method on_batch_end() is slow compared to the batch update (0.135174). Check your callbacks.\n",
      "  % delta_t_median)\n"
     ]
    },
    {
     "name": "stdout",
     "output_type": "stream",
     "text": [
      "10240/14547 [====================>.........] - ETA: 1s - loss: 312.1216 - mean_squared_error: 287.0845"
     ]
    },
    {
     "name": "stderr",
     "output_type": "stream",
     "text": [
      "C:\\Users\\controlslab\\Anaconda3\\envs\\gpu_tensorflow\\lib\\site-packages\\keras\\callbacks.py:120: UserWarning: Method on_batch_end() is slow compared to the batch update (0.132182). Check your callbacks.\n",
      "  % delta_t_median)\n",
      "C:\\Users\\controlslab\\Anaconda3\\envs\\gpu_tensorflow\\lib\\site-packages\\keras\\callbacks.py:120: UserWarning: Method on_batch_end() is slow compared to the batch update (0.133194). Check your callbacks.\n",
      "  % delta_t_median)\n"
     ]
    },
    {
     "name": "stdout",
     "output_type": "stream",
     "text": [
      "12288/14547 [========================>.....] - ETA: 0s - loss: 311.0269 - mean_squared_error: 285.9585"
     ]
    },
    {
     "name": "stderr",
     "output_type": "stream",
     "text": [
      "C:\\Users\\controlslab\\Anaconda3\\envs\\gpu_tensorflow\\lib\\site-packages\\keras\\callbacks.py:120: UserWarning: Method on_batch_end() is slow compared to the batch update (0.133679). Check your callbacks.\n",
      "  % delta_t_median)\n",
      "C:\\Users\\controlslab\\Anaconda3\\envs\\gpu_tensorflow\\lib\\site-packages\\keras\\callbacks.py:120: UserWarning: Method on_batch_end() is slow compared to the batch update (0.131706). Check your callbacks.\n",
      "  % delta_t_median)\n",
      "C:\\Users\\controlslab\\Anaconda3\\envs\\gpu_tensorflow\\lib\\site-packages\\keras\\callbacks.py:120: UserWarning: Method on_batch_end() is slow compared to the batch update (0.118206). Check your callbacks.\n",
      "  % delta_t_median)\n"
     ]
    },
    {
     "name": "stdout",
     "output_type": "stream",
     "text": [
      "14547/14547 [==============================] - 4s 249us/step - loss: 310.1973 - mean_squared_error: 285.0960 - val_loss: 371.9683 - val_mean_squared_error: 346.6440\n"
     ]
    },
    {
     "name": "stderr",
     "output_type": "stream",
     "text": [
      "C:\\Users\\controlslab\\Anaconda3\\envs\\gpu_tensorflow\\lib\\site-packages\\keras\\callbacks.py:120: UserWarning: Method on_batch_end() is slow compared to the batch update (0.105701). Check your callbacks.\n",
      "  % delta_t_median)\n"
     ]
    },
    {
     "name": "stdout",
     "output_type": "stream",
     "text": [
      "Epoch 14/100\n",
      "14547/14547 [==============================] - ETA: 0s - loss: 295.7437 - mean_squared_error: 270.2013 ETA: 1s - loss: 296.5506 - mean_squared_error: 271.17 - ETA: 1s - loss: 295.8342 - mean_squared_error - ETA: 1s - loss: 296.9125 - mean_squared_error: 271.48 - ETA: 1s - loss: 296.2557 - mean_squared_err - ETA: 0s - loss: 297.2551 - mean_squar - 3s 188us/step - loss: 295.8423 - mean_squared_error: 270.2966 - val_loss: 341.2563 - val_mean_squared_error: 315.4851\n",
      "Epoch 15/100\n",
      " 8192/14547 [===============>..............] - ETA: 0s - loss: 282.8174 - mean_squared_error: 256.9570 ETA: 0s - loss: 285.3803 - mean_squared_error: 25"
     ]
    },
    {
     "name": "stderr",
     "output_type": "stream",
     "text": [
      "C:\\Users\\controlslab\\Anaconda3\\envs\\gpu_tensorflow\\lib\\site-packages\\keras\\callbacks.py:120: UserWarning: Method on_batch_end() is slow compared to the batch update (0.110206). Check your callbacks.\n",
      "  % delta_t_median)\n"
     ]
    },
    {
     "name": "stdout",
     "output_type": "stream",
     "text": [
      " 9728/14547 [===================>..........] - ETA: 2s - loss: 283.1975 - mean_squared_error: 257.3075"
     ]
    },
    {
     "name": "stderr",
     "output_type": "stream",
     "text": [
      "C:\\Users\\controlslab\\Anaconda3\\envs\\gpu_tensorflow\\lib\\site-packages\\keras\\callbacks.py:120: UserWarning: Method on_batch_end() is slow compared to the batch update (0.128172). Check your callbacks.\n",
      "  % delta_t_median)\n"
     ]
    },
    {
     "name": "stdout",
     "output_type": "stream",
     "text": [
      "12288/14547 [========================>.....] - ETA: 0s - loss: 284.8656 - mean_squared_error: 258.9440"
     ]
    },
    {
     "name": "stderr",
     "output_type": "stream",
     "text": [
      "C:\\Users\\controlslab\\Anaconda3\\envs\\gpu_tensorflow\\lib\\site-packages\\keras\\callbacks.py:120: UserWarning: Method on_batch_end() is slow compared to the batch update (0.106230). Check your callbacks.\n",
      "  % delta_t_median)\n"
     ]
    },
    {
     "name": "stdout",
     "output_type": "stream",
     "text": [
      "14547/14547 [==============================] - 5s 328us/step - loss: 284.6873 - mean_squared_error: 258.7383 - val_loss: 353.3459 - val_mean_squared_error: 327.1714\n",
      "Epoch 16/100\n",
      " 1536/14547 [==>...........................] - ETA: 2s - loss: 270.7973 - mean_squared_error: 244.6010"
     ]
    },
    {
     "name": "stderr",
     "output_type": "stream",
     "text": [
      "C:\\Users\\controlslab\\Anaconda3\\envs\\gpu_tensorflow\\lib\\site-packages\\keras\\callbacks.py:120: UserWarning: Method on_batch_end() is slow compared to the batch update (0.170544). Check your callbacks.\n",
      "  % delta_t_median)\n",
      "C:\\Users\\controlslab\\Anaconda3\\envs\\gpu_tensorflow\\lib\\site-packages\\keras\\callbacks.py:120: UserWarning: Method on_batch_end() is slow compared to the batch update (0.125165). Check your callbacks.\n",
      "  % delta_t_median)\n"
     ]
    },
    {
     "name": "stdout",
     "output_type": "stream",
     "text": [
      " 3072/14547 [=====>........................] - ETA: 2s - loss: 273.2623 - mean_squared_error: 247.0537"
     ]
    },
    {
     "name": "stderr",
     "output_type": "stream",
     "text": [
      "C:\\Users\\controlslab\\Anaconda3\\envs\\gpu_tensorflow\\lib\\site-packages\\keras\\callbacks.py:120: UserWarning: Method on_batch_end() is slow compared to the batch update (0.105746). Check your callbacks.\n",
      "  % delta_t_median)\n"
     ]
    },
    {
     "name": "stdout",
     "output_type": "stream",
     "text": [
      "11776/14547 [=======================>......] - ETA: 0s - loss: 276.3699 - mean_squared_error: 250.0894 ETA: 1s - loss: 277.9105 - mean_squared_error: 25 - ETA: 1s - loss: 277.1430 - mean_squared_err"
     ]
    },
    {
     "name": "stderr",
     "output_type": "stream",
     "text": [
      "C:\\Users\\controlslab\\Anaconda3\\envs\\gpu_tensorflow\\lib\\site-packages\\keras\\callbacks.py:120: UserWarning: Method on_batch_end() is slow compared to the batch update (0.104682). Check your callbacks.\n",
      "  % delta_t_median)\n"
     ]
    },
    {
     "name": "stdout",
     "output_type": "stream",
     "text": [
      "14547/14547 [==============================] - 3s 188us/step - loss: 275.7020 - mean_squared_error: 249.3889 - val_loss: 331.5728 - val_mean_squared_error: 305.0998\n",
      "Epoch 17/100\n",
      " 2560/14547 [====>.........................] - ETA: 2s - loss: 267.6186 - mean_squared_error: 241.1238"
     ]
    },
    {
     "name": "stderr",
     "output_type": "stream",
     "text": [
      "C:\\Users\\controlslab\\Anaconda3\\envs\\gpu_tensorflow\\lib\\site-packages\\keras\\callbacks.py:120: UserWarning: Method on_batch_end() is slow compared to the batch update (0.126631). Check your callbacks.\n",
      "  % delta_t_median)\n",
      "C:\\Users\\controlslab\\Anaconda3\\envs\\gpu_tensorflow\\lib\\site-packages\\keras\\callbacks.py:120: UserWarning: Method on_batch_end() is slow compared to the batch update (0.114677). Check your callbacks.\n",
      "  % delta_t_median)\n"
     ]
    },
    {
     "name": "stdout",
     "output_type": "stream",
     "text": [
      " 4608/14547 [========>.....................] - ETA: 1s - loss: 267.7740 - mean_squared_error: 241.2609"
     ]
    },
    {
     "name": "stderr",
     "output_type": "stream",
     "text": [
      "C:\\Users\\controlslab\\Anaconda3\\envs\\gpu_tensorflow\\lib\\site-packages\\keras\\callbacks.py:120: UserWarning: Method on_batch_end() is slow compared to the batch update (0.102755). Check your callbacks.\n",
      "  % delta_t_median)\n",
      "C:\\Users\\controlslab\\Anaconda3\\envs\\gpu_tensorflow\\lib\\site-packages\\keras\\callbacks.py:120: UserWarning: Method on_batch_end() is slow compared to the batch update (0.106741). Check your callbacks.\n",
      "  % delta_t_median)\n",
      "C:\\Users\\controlslab\\Anaconda3\\envs\\gpu_tensorflow\\lib\\site-packages\\keras\\callbacks.py:120: UserWarning: Method on_batch_end() is slow compared to the batch update (0.102739). Check your callbacks.\n",
      "  % delta_t_median)\n"
     ]
    },
    {
     "name": "stdout",
     "output_type": "stream",
     "text": [
      "\b\b\b\b\b\b\b\b\b\b\b\b\b\b\b\b\b\b\b\b\b\b\b\b\b\b\b\b\b\b\b\b\b\b\b\b\b\b\b\b\b\b\b\b\b\b\b\b\b\b\b\b\b\b\b\b\b\b\b\b\b\b\b\b\b\b\b\b\b\b\b\b\b\b\b\b\b\b\b\b\b\b\b\b\b\b\b\b\b\b\b\b\b\b\b\b\b\b\b\b\b\b\r",
      " 5120/14547 [=========>....................] - ETA: 1s - loss: 266.0739 - mean_squared_error: 239.5546"
     ]
    },
    {
     "name": "stderr",
     "output_type": "stream",
     "text": [
      "C:\\Users\\controlslab\\Anaconda3\\envs\\gpu_tensorflow\\lib\\site-packages\\keras\\callbacks.py:120: UserWarning: Method on_batch_end() is slow compared to the batch update (0.102724). Check your callbacks.\n",
      "  % delta_t_median)\n",
      "C:\\Users\\controlslab\\Anaconda3\\envs\\gpu_tensorflow\\lib\\site-packages\\keras\\callbacks.py:120: UserWarning: Method on_batch_end() is slow compared to the batch update (0.100729). Check your callbacks.\n",
      "  % delta_t_median)\n"
     ]
    },
    {
     "name": "stdout",
     "output_type": "stream",
     "text": [
      "14547/14547 [==============================] - ETA: 0s - loss: 267.3234 - mean_squared_error: 240.71 - 3s 185us/step - loss: 267.8153 - mean_squared_error: 241.2028 - val_loss: 310.2686 - val_mean_squared_error: 283.5486\n",
      "Epoch 18/100\n",
      " 8192/14547 [===============>..............] - ETA: 0s - loss: 265.1367 - mean_squared_error: 238.3771 ETA: 0s - loss: 261.0397 - mean_squared_error: 234. - ETA: 0s - loss: 262.6758 - mean_squared_error: 23 - ETA: 0s - loss: 263.0500 - mean_squared_error"
     ]
    },
    {
     "name": "stderr",
     "output_type": "stream",
     "text": [
      "C:\\Users\\controlslab\\Anaconda3\\envs\\gpu_tensorflow\\lib\\site-packages\\keras\\callbacks.py:120: UserWarning: Method on_batch_end() is slow compared to the batch update (0.122671). Check your callbacks.\n",
      "  % delta_t_median)\n"
     ]
    },
    {
     "name": "stdout",
     "output_type": "stream",
     "text": [
      "10240/14547 [====================>.........] - ETA: 0s - loss: 263.6004 - mean_squared_error: 236.8263"
     ]
    },
    {
     "name": "stderr",
     "output_type": "stream",
     "text": [
      "C:\\Users\\controlslab\\Anaconda3\\envs\\gpu_tensorflow\\lib\\site-packages\\keras\\callbacks.py:120: UserWarning: Method on_batch_end() is slow compared to the batch update (0.104731). Check your callbacks.\n",
      "  % delta_t_median)\n"
     ]
    },
    {
     "name": "stdout",
     "output_type": "stream",
     "text": [
      "14336/14547 [============================>.] - ETA: 0s - loss: 263.2461 - mean_squared_error: 236.4378"
     ]
    },
    {
     "name": "stderr",
     "output_type": "stream",
     "text": [
      "C:\\Users\\controlslab\\Anaconda3\\envs\\gpu_tensorflow\\lib\\site-packages\\keras\\callbacks.py:120: UserWarning: Method on_batch_end() is slow compared to the batch update (0.110704). Check your callbacks.\n",
      "  % delta_t_median)\n",
      "C:\\Users\\controlslab\\Anaconda3\\envs\\gpu_tensorflow\\lib\\site-packages\\keras\\callbacks.py:120: UserWarning: Method on_batch_end() is slow compared to the batch update (0.115690). Check your callbacks.\n",
      "  % delta_t_median)\n"
     ]
    },
    {
     "name": "stdout",
     "output_type": "stream",
     "text": [
      "14547/14547 [==============================] - 3s 199us/step - loss: 262.7544 - mean_squared_error: 235.9445 - val_loss: 306.9137 - val_mean_squared_error: 279.9903\n",
      "Epoch 19/100\n",
      " 1536/14547 [==>...........................] - ETA: 2s - loss: 261.4728 - mean_squared_error: 234.5516 ETA: 3s - loss: 257.4007 - mean_squared_error: 230.48"
     ]
    },
    {
     "name": "stderr",
     "output_type": "stream",
     "text": [
      "C:\\Users\\controlslab\\Anaconda3\\envs\\gpu_tensorflow\\lib\\site-packages\\keras\\callbacks.py:120: UserWarning: Method on_batch_end() is slow compared to the batch update (0.144641). Check your callbacks.\n",
      "  % delta_t_median)\n",
      "C:\\Users\\controlslab\\Anaconda3\\envs\\gpu_tensorflow\\lib\\site-packages\\keras\\callbacks.py:120: UserWarning: Method on_batch_end() is slow compared to the batch update (0.100745). Check your callbacks.\n",
      "  % delta_t_median)\n"
     ]
    },
    {
     "name": "stdout",
     "output_type": "stream",
     "text": [
      " 9216/14547 [==================>...........] - ETA: 1s - loss: 260.1365 - mean_squared_error: 233.1718 ETA: 1s - loss: 262.2159 - mean_squared_error: 235.26 - ETA: 1s - loss: 262.0772 - mean_squared_error: 235.12 - ETA: 1s - loss: 261.7335 - mean_squared_error: 234.78 - ETA: 1s - loss: 260.8000 - mean_squared_error: 23"
     ]
    },
    {
     "name": "stderr",
     "output_type": "stream",
     "text": [
      "C:\\Users\\controlslab\\Anaconda3\\envs\\gpu_tensorflow\\lib\\site-packages\\keras\\callbacks.py:120: UserWarning: Method on_batch_end() is slow compared to the batch update (0.107651). Check your callbacks.\n",
      "  % delta_t_median)\n",
      "C:\\Users\\controlslab\\Anaconda3\\envs\\gpu_tensorflow\\lib\\site-packages\\keras\\callbacks.py:120: UserWarning: Method on_batch_end() is slow compared to the batch update (0.111641). Check your callbacks.\n",
      "  % delta_t_median)\n"
     ]
    },
    {
     "name": "stdout",
     "output_type": "stream",
     "text": [
      "12288/14547 [========================>.....] - ETA: 0s - loss: 259.8537 - mean_squared_error: 232.8723 ETA: 0s - loss: 259.6292 - mean_squared_error: 232.65"
     ]
    },
    {
     "name": "stderr",
     "output_type": "stream",
     "text": [
      "C:\\Users\\controlslab\\Anaconda3\\envs\\gpu_tensorflow\\lib\\site-packages\\keras\\callbacks.py:120: UserWarning: Method on_batch_end() is slow compared to the batch update (0.112638). Check your callbacks.\n",
      "  % delta_t_median)\n"
     ]
    },
    {
     "name": "stdout",
     "output_type": "stream",
     "text": [
      "14547/14547 [==============================] - 3s 206us/step - loss: 258.8489 - mean_squared_error: 231.8556 - val_loss: 308.8448 - val_mean_squared_error: 281.7561\n",
      "Epoch 20/100\n",
      "14547/14547 [==============================] - 4s 305us/step - loss: 255.0512 - mean_squared_error: 227.9039 - val_loss: 308.4591 - val_mean_squared_error: 281.2283- mean_squared_error: 229.\n",
      "Epoch 21/100\n",
      "11264/14547 [======================>.......] - ETA: 0s - loss: 251.9172 - mean_squared_error: 224.6324"
     ]
    },
    {
     "name": "stderr",
     "output_type": "stream",
     "text": [
      "C:\\Users\\controlslab\\Anaconda3\\envs\\gpu_tensorflow\\lib\\site-packages\\keras\\callbacks.py:120: UserWarning: Method on_batch_end() is slow compared to the batch update (0.101763). Check your callbacks.\n",
      "  % delta_t_median)\n"
     ]
    },
    {
     "name": "stdout",
     "output_type": "stream",
     "text": [
      "14547/14547 [==============================] - ETA: 0s - loss: 251.6574 - mean_squared_error: 224.3643 ETA: 0s - loss: 251.3684 - mean_squared_error: 22 - 2s 137us/step - loss: 251.5048 - mean_squared_error: 224.2112 - val_loss: 313.4718 - val_mean_squared_error: 286.1482\n",
      "Epoch 22/100\n",
      "14547/14547 [==============================] - 2s 141us/step - loss: 248.9112 - mean_squared_error: 221.5433 - val_loss: 301.6696 - val_mean_squared_error: 274.2653 - loss: 248.6491 - mean_squared\n",
      "Epoch 23/100\n",
      " 9728/14547 [===================>..........] - ETA: 0s - loss: 246.6203 - mean_squared_error: 219.1869 ETA: 1s - loss: 249.3404 - mean_squared_error: 221. - ETA: 1s - loss: 247.4441 - mean_squared_error: "
     ]
    },
    {
     "name": "stderr",
     "output_type": "stream",
     "text": [
      "C:\\Users\\controlslab\\Anaconda3\\envs\\gpu_tensorflow\\lib\\site-packages\\keras\\callbacks.py:120: UserWarning: Method on_batch_end() is slow compared to the batch update (0.111232). Check your callbacks.\n",
      "  % delta_t_median)\n"
     ]
    },
    {
     "name": "stdout",
     "output_type": "stream",
     "text": [
      "14547/14547 [==============================] - 3s 174us/step - loss: 246.6230 - mean_squared_error: 219.1834 - val_loss: 295.0554 - val_mean_squared_error: 267.5884\n",
      "Epoch 24/100\n",
      "14336/14547 [============================>.] - ETA: 0s - loss: 244.6536 - mean_squared_error: 217.1817 ETA: 1s - loss: 241.8479 - mean_squ - ETA: 1s - loss: 245.6799 - mean_squared_e - ETA: 0s - loss: 245.4765 - mean_squared_error: 218. - ETA: 0s - loss: 245.0659 - mean_squared_error: 21 - ETA: 0s - loss: 245.4529 - mean_squared_error: 217. - ETA: 0s - loss: 244.7733 - mean_squared_error: 217.30 - ETA: 0s - loss: 244.7689 - mean_squared_error: 217.29"
     ]
    },
    {
     "name": "stderr",
     "output_type": "stream",
     "text": [
      "C:\\Users\\controlslab\\Anaconda3\\envs\\gpu_tensorflow\\lib\\site-packages\\keras\\callbacks.py:120: UserWarning: Method on_batch_end() is slow compared to the batch update (0.104146). Check your callbacks.\n",
      "  % delta_t_median)\n",
      "C:\\Users\\controlslab\\Anaconda3\\envs\\gpu_tensorflow\\lib\\site-packages\\keras\\callbacks.py:120: UserWarning: Method on_batch_end() is slow compared to the batch update (0.108239). Check your callbacks.\n",
      "  % delta_t_median)\n"
     ]
    },
    {
     "name": "stdout",
     "output_type": "stream",
     "text": [
      "14547/14547 [==============================] - 3s 211us/step - loss: 244.6138 - mean_squared_error: 217.1416 - val_loss: 320.4994 - val_mean_squared_error: 292.9904\n",
      "Epoch 25/100\n",
      " 2048/14547 [===>..........................] - ETA: 2s - loss: 255.4189 - mean_squared_error: 227.9310"
     ]
    },
    {
     "name": "stderr",
     "output_type": "stream",
     "text": [
      "C:\\Users\\controlslab\\Anaconda3\\envs\\gpu_tensorflow\\lib\\site-packages\\keras\\callbacks.py:120: UserWarning: Method on_batch_end() is slow compared to the batch update (0.106446). Check your callbacks.\n",
      "  % delta_t_median)\n"
     ]
    },
    {
     "name": "stdout",
     "output_type": "stream",
     "text": [
      " 5120/14547 [=========>....................] - ETA: 1s - loss: 248.4701 - mean_squared_error: 220.9893"
     ]
    },
    {
     "name": "stderr",
     "output_type": "stream",
     "text": [
      "C:\\Users\\controlslab\\Anaconda3\\envs\\gpu_tensorflow\\lib\\site-packages\\keras\\callbacks.py:120: UserWarning: Method on_batch_end() is slow compared to the batch update (0.102252). Check your callbacks.\n",
      "  % delta_t_median)\n"
     ]
    },
    {
     "name": "stdout",
     "output_type": "stream",
     "text": [
      " 6656/14547 [============>.................] - ETA: 1s - loss: 246.2004 - mean_squared_error: 218.71\r"
     ]
    },
    {
     "name": "stderr",
     "output_type": "stream",
     "text": [
      "C:\\Users\\controlslab\\Anaconda3\\envs\\gpu_tensorflow\\lib\\site-packages\\keras\\callbacks.py:120: UserWarning: Method on_batch_end() is slow compared to the batch update (0.108276). Check your callbacks.\n",
      "  % delta_t_median)\n"
     ]
    },
    {
     "name": "stdout",
     "output_type": "stream",
     "text": [
      " 9216/14547 [==================>...........] - ETA: 2s - loss: 244.8286 - mean_squared_error: 217.3513"
     ]
    },
    {
     "name": "stderr",
     "output_type": "stream",
     "text": [
      "C:\\Users\\controlslab\\Anaconda3\\envs\\gpu_tensorflow\\lib\\site-packages\\keras\\callbacks.py:120: UserWarning: Method on_batch_end() is slow compared to the batch update (0.102272). Check your callbacks.\n",
      "  % delta_t_median)\n"
     ]
    },
    {
     "name": "stdout",
     "output_type": "stream",
     "text": [
      "14547/14547 [==============================] - 5s 367us/step - loss: 243.9222 - mean_squared_error: 216.4449 - val_loss: 311.2105 - val_mean_squared_error: 283.7139\n"
     ]
    },
    {
     "name": "stderr",
     "output_type": "stream",
     "text": [
      "C:\\Users\\controlslab\\Anaconda3\\envs\\gpu_tensorflow\\lib\\site-packages\\keras\\callbacks.py:120: UserWarning: Method on_batch_end() is slow compared to the batch update (0.103952). Check your callbacks.\n",
      "  % delta_t_median)\n"
     ]
    },
    {
     "name": "stdout",
     "output_type": "stream",
     "text": [
      "Epoch 26/100\n",
      " 1536/14547 [==>...........................] - ETA: 2s - loss: 244.4352 - mean_squared_error: 216.9310"
     ]
    },
    {
     "name": "stderr",
     "output_type": "stream",
     "text": [
      "C:\\Users\\controlslab\\Anaconda3\\envs\\gpu_tensorflow\\lib\\site-packages\\keras\\callbacks.py:120: UserWarning: Method on_batch_end() is slow compared to the batch update (0.125660). Check your callbacks.\n",
      "  % delta_t_median)\n",
      "C:\\Users\\controlslab\\Anaconda3\\envs\\gpu_tensorflow\\lib\\site-packages\\keras\\callbacks.py:120: UserWarning: Method on_batch_end() is slow compared to the batch update (0.103734). Check your callbacks.\n",
      "  % delta_t_median)\n"
     ]
    },
    {
     "name": "stdout",
     "output_type": "stream",
     "text": [
      " 3072/14547 [=====>........................] - ETA: 2s - loss: 245.1464 - mean_squared_error: 217.6426"
     ]
    },
    {
     "name": "stderr",
     "output_type": "stream",
     "text": [
      "C:\\Users\\controlslab\\Anaconda3\\envs\\gpu_tensorflow\\lib\\site-packages\\keras\\callbacks.py:120: UserWarning: Method on_batch_end() is slow compared to the batch update (0.100001). Check your callbacks.\n",
      "  % delta_t_median)\n",
      "C:\\Users\\controlslab\\Anaconda3\\envs\\gpu_tensorflow\\lib\\site-packages\\keras\\callbacks.py:120: UserWarning: Method on_batch_end() is slow compared to the batch update (0.104369). Check your callbacks.\n",
      "  % delta_t_median)\n"
     ]
    },
    {
     "name": "stdout",
     "output_type": "stream",
     "text": [
      " 7168/14547 [=============>................] - ETA: 1s - loss: 238.0347 - mean_squared_error: 210.5501 ETA: 1s - loss: 237.4872 - mean_squared_error: 209.99 - ETA: 1s - loss: 238.3295 - mean_squared_error: 210.84"
     ]
    },
    {
     "name": "stderr",
     "output_type": "stream",
     "text": [
      "C:\\Users\\controlslab\\Anaconda3\\envs\\gpu_tensorflow\\lib\\site-packages\\keras\\callbacks.py:120: UserWarning: Method on_batch_end() is slow compared to the batch update (0.100878). Check your callbacks.\n",
      "  % delta_t_median)\n"
     ]
    },
    {
     "name": "stdout",
     "output_type": "stream",
     "text": [
      " 9216/14547 [==================>...........] - ETA: 1s - loss: 236.9879 - mean_squared_error: 209.5080 ETA: 1s - loss: 237.5817 - mean_squared_error: 210."
     ]
    },
    {
     "name": "stderr",
     "output_type": "stream",
     "text": [
      "C:\\Users\\controlslab\\Anaconda3\\envs\\gpu_tensorflow\\lib\\site-packages\\keras\\callbacks.py:120: UserWarning: Method on_batch_end() is slow compared to the batch update (0.112224). Check your callbacks.\n",
      "  % delta_t_median)\n"
     ]
    },
    {
     "name": "stdout",
     "output_type": "stream",
     "text": [
      "10752/14547 [=====================>........] - ETA: 0s - loss: 238.5345 - mean_squared_error: 211.0596 ETA: 0s - loss: 238.6003 - mean_squared_error: 211.12"
     ]
    },
    {
     "name": "stderr",
     "output_type": "stream",
     "text": [
      "C:\\Users\\controlslab\\Anaconda3\\envs\\gpu_tensorflow\\lib\\site-packages\\keras\\callbacks.py:120: UserWarning: Method on_batch_end() is slow compared to the batch update (0.112608). Check your callbacks.\n",
      "  % delta_t_median)\n",
      "C:\\Users\\controlslab\\Anaconda3\\envs\\gpu_tensorflow\\lib\\site-packages\\keras\\callbacks.py:120: UserWarning: Method on_batch_end() is slow compared to the batch update (0.119091). Check your callbacks.\n",
      "  % delta_t_median)\n"
     ]
    },
    {
     "name": "stdout",
     "output_type": "stream",
     "text": [
      "13312/14547 [==========================>...] - ETA: 0s - loss: 241.4627 - mean_squared_error: 213.9953"
     ]
    },
    {
     "name": "stderr",
     "output_type": "stream",
     "text": [
      "C:\\Users\\controlslab\\Anaconda3\\envs\\gpu_tensorflow\\lib\\site-packages\\keras\\callbacks.py:120: UserWarning: Method on_batch_end() is slow compared to the batch update (0.102753). Check your callbacks.\n",
      "  % delta_t_median)\n",
      "C:\\Users\\controlslab\\Anaconda3\\envs\\gpu_tensorflow\\lib\\site-packages\\keras\\callbacks.py:120: UserWarning: Method on_batch_end() is slow compared to the batch update (0.117712). Check your callbacks.\n",
      "  % delta_t_median)\n"
     ]
    },
    {
     "name": "stdout",
     "output_type": "stream",
     "text": [
      "14547/14547 [==============================] - 3s 238us/step - loss: 242.7073 - mean_squared_error: 215.2420 - val_loss: 271.8891 - val_mean_squared_error: 244.4596\n"
     ]
    },
    {
     "name": "stderr",
     "output_type": "stream",
     "text": [
      "C:\\Users\\controlslab\\Anaconda3\\envs\\gpu_tensorflow\\lib\\site-packages\\keras\\callbacks.py:120: UserWarning: Method on_batch_end() is slow compared to the batch update (0.106728). Check your callbacks.\n",
      "  % delta_t_median)\n"
     ]
    },
    {
     "name": "stdout",
     "output_type": "stream",
     "text": [
      "Epoch 27/100\n",
      " 1536/14547 [==>...........................] - ETA: 1s - loss: 255.3159 - mean_squared_error: 227.87 - ETA: 1s - loss: 250.7211 - mean_squared_error: 223.26\r"
     ]
    },
    {
     "name": "stderr",
     "output_type": "stream",
     "text": [
      "C:\\Users\\controlslab\\Anaconda3\\envs\\gpu_tensorflow\\lib\\site-packages\\keras\\callbacks.py:120: UserWarning: Method on_batch_end() is slow compared to the batch update (0.111701). Check your callbacks.\n",
      "  % delta_t_median)\n"
     ]
    },
    {
     "name": "stdout",
     "output_type": "stream",
     "text": [
      " 5120/14547 [=========>....................] - ETA: 1s - loss: 246.2921 - mean_squared_error: 218.8536 ETA: 2s - loss: 246.7027 - mean_squared_error"
     ]
    },
    {
     "name": "stderr",
     "output_type": "stream",
     "text": [
      "C:\\Users\\controlslab\\Anaconda3\\envs\\gpu_tensorflow\\lib\\site-packages\\keras\\callbacks.py:120: UserWarning: Method on_batch_end() is slow compared to the batch update (0.100760). Check your callbacks.\n",
      "  % delta_t_median)\n"
     ]
    },
    {
     "name": "stdout",
     "output_type": "stream",
     "text": [
      "14547/14547 [==============================] - 3s 193us/step - loss: 241.0143 - mean_squared_error: 213.5856 - val_loss: 309.6398 - val_mean_squared_error: 282.2149\n",
      "Epoch 28/100\n",
      "14547/14547 [==============================] - 2s 169us/step - loss: 239.9492 - mean_squared_error: 212.5639 - val_loss: 305.5033 - val_mean_squared_error: 278.14903 - mean_squared\n",
      "Epoch 29/100\n",
      " 6144/14547 [===========>..................] - ETA: 1s - loss: 239.8738 - mean_squared_error: 212.5414"
     ]
    },
    {
     "name": "stderr",
     "output_type": "stream",
     "text": [
      "C:\\Users\\controlslab\\Anaconda3\\envs\\gpu_tensorflow\\lib\\site-packages\\keras\\callbacks.py:120: UserWarning: Method on_batch_end() is slow compared to the batch update (0.107739). Check your callbacks.\n",
      "  % delta_t_median)\n"
     ]
    },
    {
     "name": "stdout",
     "output_type": "stream",
     "text": [
      " 8192/14547 [===============>..............] - ETA: 1s - loss: 241.2021 - mean_squared_error: 213.8757"
     ]
    },
    {
     "name": "stderr",
     "output_type": "stream",
     "text": [
      "C:\\Users\\controlslab\\Anaconda3\\envs\\gpu_tensorflow\\lib\\site-packages\\keras\\callbacks.py:120: UserWarning: Method on_batch_end() is slow compared to the batch update (0.108735). Check your callbacks.\n",
      "  % delta_t_median)\n"
     ]
    },
    {
     "name": "stdout",
     "output_type": "stream",
     "text": [
      "14547/14547 [==============================] - 3s 187us/step - loss: 239.4058 - mean_squared_error: 212.0883 - val_loss: 298.7546 - val_mean_squared_error: 271.4670oss: 238.8904 - mean_squared_error\n"
     ]
    },
    {
     "name": "stderr",
     "output_type": "stream",
     "text": [
      "C:\\Users\\controlslab\\Anaconda3\\envs\\gpu_tensorflow\\lib\\site-packages\\keras\\callbacks.py:120: UserWarning: Method on_batch_end() is slow compared to the batch update (0.104733). Check your callbacks.\n",
      "  % delta_t_median)\n"
     ]
    },
    {
     "name": "stdout",
     "output_type": "stream",
     "text": [
      "Epoch 30/100\n",
      " 1536/14547 [==>...........................] - ETA: 24s - loss: 240.8191 - mean_squared_error: 213.5250"
     ]
    },
    {
     "name": "stderr",
     "output_type": "stream",
     "text": [
      "C:\\Users\\controlslab\\Anaconda3\\envs\\gpu_tensorflow\\lib\\site-packages\\keras\\callbacks.py:120: UserWarning: Method on_batch_end() is slow compared to the batch update (2.782591). Check your callbacks.\n",
      "  % delta_t_median)\n",
      "C:\\Users\\controlslab\\Anaconda3\\envs\\gpu_tensorflow\\lib\\site-packages\\keras\\callbacks.py:120: UserWarning: Method on_batch_end() is slow compared to the batch update (1.421714). Check your callbacks.\n",
      "  % delta_t_median)\n"
     ]
    },
    {
     "name": "stdout",
     "output_type": "stream",
     "text": [
      " 2048/14547 [===>..........................] - ETA: 19s - loss: 237.6573 - mean_squared_error: 210.367"
     ]
    },
    {
     "name": "stderr",
     "output_type": "stream",
     "text": [
      "C:\\Users\\controlslab\\Anaconda3\\envs\\gpu_tensorflow\\lib\\site-packages\\keras\\callbacks.py:120: UserWarning: Method on_batch_end() is slow compared to the batch update (0.198496). Check your callbacks.\n",
      "  % delta_t_median)\n",
      "C:\\Users\\controlslab\\Anaconda3\\envs\\gpu_tensorflow\\lib\\site-packages\\keras\\callbacks.py:120: UserWarning: Method on_batch_end() is slow compared to the batch update (0.143144). Check your callbacks.\n",
      "  % delta_t_median)\n"
     ]
    },
    {
     "name": "stdout",
     "output_type": "stream",
     "text": [
      " 4096/14547 [=======>......................] - ETA: 9s - loss: 237.6793 - mean_squared_error: 210.3961 "
     ]
    },
    {
     "name": "stderr",
     "output_type": "stream",
     "text": [
      "C:\\Users\\controlslab\\Anaconda3\\envs\\gpu_tensorflow\\lib\\site-packages\\keras\\callbacks.py:120: UserWarning: Method on_batch_end() is slow compared to the batch update (0.158576). Check your callbacks.\n",
      "  % delta_t_median)\n",
      "C:\\Users\\controlslab\\Anaconda3\\envs\\gpu_tensorflow\\lib\\site-packages\\keras\\callbacks.py:120: UserWarning: Method on_batch_end() is slow compared to the batch update (0.123184). Check your callbacks.\n",
      "  % delta_t_median)\n"
     ]
    },
    {
     "name": "stdout",
     "output_type": "stream",
     "text": [
      "11264/14547 [======================>.......] - ETA: 1s - loss: 236.4553 - mean_squared_error: 209.1870 ETA: 4s - loss: 236.3461 - mean_squared_e - ETA: 1s - loss: 236.1062 - mean_squared_error: 208."
     ]
    },
    {
     "name": "stderr",
     "output_type": "stream",
     "text": [
      "C:\\Users\\controlslab\\Anaconda3\\envs\\gpu_tensorflow\\lib\\site-packages\\keras\\callbacks.py:120: UserWarning: Method on_batch_end() is slow compared to the batch update (0.102240). Check your callbacks.\n",
      "  % delta_t_median)\n"
     ]
    },
    {
     "name": "stdout",
     "output_type": "stream",
     "text": [
      "14547/14547 [==============================] - 5s 332us/step - loss: 237.2743 - mean_squared_error: 210.0186 - val_loss: 291.4736 - val_mean_squared_error: 264.2812\n",
      "Epoch 31/100\n",
      " 2048/14547 [===>..........................] - ETA: 2s - loss: 234.7422 - mean_squared_error: 207.5563"
     ]
    },
    {
     "name": "stderr",
     "output_type": "stream",
     "text": [
      "C:\\Users\\controlslab\\Anaconda3\\envs\\gpu_tensorflow\\lib\\site-packages\\keras\\callbacks.py:120: UserWarning: Method on_batch_end() is slow compared to the batch update (0.171541). Check your callbacks.\n",
      "  % delta_t_median)\n",
      "C:\\Users\\controlslab\\Anaconda3\\envs\\gpu_tensorflow\\lib\\site-packages\\keras\\callbacks.py:120: UserWarning: Method on_batch_end() is slow compared to the batch update (0.136136). Check your callbacks.\n",
      "  % delta_t_median)\n",
      "C:\\Users\\controlslab\\Anaconda3\\envs\\gpu_tensorflow\\lib\\site-packages\\keras\\callbacks.py:120: UserWarning: Method on_batch_end() is slow compared to the batch update (0.100730). Check your callbacks.\n",
      "  % delta_t_median)\n"
     ]
    },
    {
     "name": "stdout",
     "output_type": "stream",
     "text": [
      " 8192/14547 [===============>..............] - ETA: 1s - loss: 237.3925 - mean_squared_error: 210.2046 ETA: 1s - loss: 238.9549 - mean_squared_error: 211. - ETA: 1s - loss: 236.3106 - mean_squared_error: 209. - ETA: 1s - loss: 235.8941 - mean_squared_error: 208. - ETA: 1s - loss: 235.6850 - mean_squared_error: 208."
     ]
    },
    {
     "name": "stderr",
     "output_type": "stream",
     "text": [
      "C:\\Users\\controlslab\\Anaconda3\\envs\\gpu_tensorflow\\lib\\site-packages\\keras\\callbacks.py:120: UserWarning: Method on_batch_end() is slow compared to the batch update (0.104962). Check your callbacks.\n",
      "  % delta_t_median)\n",
      "C:\\Users\\controlslab\\Anaconda3\\envs\\gpu_tensorflow\\lib\\site-packages\\keras\\callbacks.py:120: UserWarning: Method on_batch_end() is slow compared to the batch update (0.116428). Check your callbacks.\n",
      "  % delta_t_median)\n"
     ]
    },
    {
     "name": "stdout",
     "output_type": "stream",
     "text": [
      " 9728/14547 [===================>..........] - ETA: 1s - loss: 236.2633 - mean_squared_error: 209.07 - ETA: 1s - loss: 236.7076 - mean_squared_error: 209.5249"
     ]
    },
    {
     "name": "stderr",
     "output_type": "stream",
     "text": [
      "C:\\Users\\controlslab\\Anaconda3\\envs\\gpu_tensorflow\\lib\\site-packages\\keras\\callbacks.py:120: UserWarning: Method on_batch_end() is slow compared to the batch update (0.130663). Check your callbacks.\n",
      "  % delta_t_median)\n"
     ]
    },
    {
     "name": "stdout",
     "output_type": "stream",
     "text": [
      "10752/14547 [=====================>........] - ETA: 0s - loss: 237.7307 - mean_squared_error: 210.5523"
     ]
    },
    {
     "name": "stderr",
     "output_type": "stream",
     "text": [
      "C:\\Users\\controlslab\\Anaconda3\\envs\\gpu_tensorflow\\lib\\site-packages\\keras\\callbacks.py:120: UserWarning: Method on_batch_end() is slow compared to the batch update (0.161578). Check your callbacks.\n",
      "  % delta_t_median)\n",
      "C:\\Users\\controlslab\\Anaconda3\\envs\\gpu_tensorflow\\lib\\site-packages\\keras\\callbacks.py:120: UserWarning: Method on_batch_end() is slow compared to the batch update (0.135668). Check your callbacks.\n",
      "  % delta_t_median)\n"
     ]
    },
    {
     "name": "stdout",
     "output_type": "stream",
     "text": [
      "11776/14547 [=======================>......] - ETA: 0s - loss: 237.8149 - mean_squared_error: 210.63\r"
     ]
    },
    {
     "name": "stderr",
     "output_type": "stream",
     "text": [
      "C:\\Users\\controlslab\\Anaconda3\\envs\\gpu_tensorflow\\lib\\site-packages\\keras\\callbacks.py:120: UserWarning: Method on_batch_end() is slow compared to the batch update (0.154604). Check your callbacks.\n",
      "  % delta_t_median)\n"
     ]
    },
    {
     "name": "stdout",
     "output_type": "stream",
     "text": [
      "13312/14547 [==========================>...] - ETA: 0s - loss: 237.4272 - mean_squared_error: 210.25 - ETA: 0s - loss: 237.3157 - mean_squared_error: 210.1460"
     ]
    },
    {
     "name": "stderr",
     "output_type": "stream",
     "text": [
      "C:\\Users\\controlslab\\Anaconda3\\envs\\gpu_tensorflow\\lib\\site-packages\\keras\\callbacks.py:120: UserWarning: Method on_batch_end() is slow compared to the batch update (0.146622). Check your callbacks.\n",
      "  % delta_t_median)\n"
     ]
    },
    {
     "name": "stdout",
     "output_type": "stream",
     "text": [
      "14336/14547 [============================>.] - ETA: 0s - loss: 236.2996 - mean_squared_error: 209.1333"
     ]
    },
    {
     "name": "stderr",
     "output_type": "stream",
     "text": [
      "C:\\Users\\controlslab\\Anaconda3\\envs\\gpu_tensorflow\\lib\\site-packages\\keras\\callbacks.py:120: UserWarning: Method on_batch_end() is slow compared to the batch update (0.132161). Check your callbacks.\n",
      "  % delta_t_median)\n"
     ]
    },
    {
     "name": "stdout",
     "output_type": "stream",
     "text": [
      "14547/14547 [==============================] - 4s 280us/step - loss: 236.5205 - mean_squared_error: 209.3551 - val_loss: 305.3803 - val_mean_squared_error: 278.2645\n",
      "Epoch 32/100\n",
      "  512/14547 [>.............................] - ETA: 0s - loss: 235.0167 - mean_squared_error: 207.9009"
     ]
    },
    {
     "name": "stderr",
     "output_type": "stream",
     "text": [
      "C:\\Users\\controlslab\\Anaconda3\\envs\\gpu_tensorflow\\lib\\site-packages\\keras\\callbacks.py:120: UserWarning: Method on_batch_end() is slow compared to the batch update (0.126188). Check your callbacks.\n",
      "  % delta_t_median)\n",
      "C:\\Users\\controlslab\\Anaconda3\\envs\\gpu_tensorflow\\lib\\site-packages\\keras\\callbacks.py:120: UserWarning: Method on_batch_end() is slow compared to the batch update (0.111235). Check your callbacks.\n",
      "  % delta_t_median)\n"
     ]
    },
    {
     "name": "stdout",
     "output_type": "stream",
     "text": [
      " 7168/14547 [=============>................] - ETA: 1s - loss: 237.9184 - mean_squared_error: 210.8176 ETA: 1s - loss: 241.5801 - mean_squared_error"
     ]
    },
    {
     "name": "stderr",
     "output_type": "stream",
     "text": [
      "C:\\Users\\controlslab\\Anaconda3\\envs\\gpu_tensorflow\\lib\\site-packages\\keras\\callbacks.py:120: UserWarning: Method on_batch_end() is slow compared to the batch update (0.103750). Check your callbacks.\n",
      "  % delta_t_median)\n"
     ]
    },
    {
     "name": "stdout",
     "output_type": "stream",
     "text": [
      " 8704/14547 [================>.............] - ETA: 0s - loss: 240.8022 - mean_squared_error: 213.7047"
     ]
    },
    {
     "name": "stderr",
     "output_type": "stream",
     "text": [
      "C:\\Users\\controlslab\\Anaconda3\\envs\\gpu_tensorflow\\lib\\site-packages\\keras\\callbacks.py:120: UserWarning: Method on_batch_end() is slow compared to the batch update (0.106457). Check your callbacks.\n",
      "  % delta_t_median)\n",
      "C:\\Users\\controlslab\\Anaconda3\\envs\\gpu_tensorflow\\lib\\site-packages\\keras\\callbacks.py:120: UserWarning: Method on_batch_end() is slow compared to the batch update (0.104735). Check your callbacks.\n",
      "  % delta_t_median)\n"
     ]
    },
    {
     "name": "stdout",
     "output_type": "stream",
     "text": [
      "13824/14547 [===========================>..] - ETA: 0s - loss: 237.1734 - mean_squared_error: 210.08 - ETA: 0s - loss: 236.7171 - mean_squared_error: 209.63\r"
     ]
    },
    {
     "name": "stderr",
     "output_type": "stream",
     "text": [
      "C:\\Users\\controlslab\\Anaconda3\\envs\\gpu_tensorflow\\lib\\site-packages\\keras\\callbacks.py:120: UserWarning: Method on_batch_end() is slow compared to the batch update (0.105014). Check your callbacks.\n",
      "  % delta_t_median)\n",
      "C:\\Users\\controlslab\\Anaconda3\\envs\\gpu_tensorflow\\lib\\site-packages\\keras\\callbacks.py:120: UserWarning: Method on_batch_end() is slow compared to the batch update (0.105744). Check your callbacks.\n",
      "  % delta_t_median)\n"
     ]
    },
    {
     "name": "stdout",
     "output_type": "stream",
     "text": [
      "14547/14547 [==============================] - 3s 199us/step - loss: 236.1847 - mean_squared_error: 209.1052 - val_loss: 283.2183 - val_mean_squared_error: 256.2016\n"
     ]
    },
    {
     "name": "stderr",
     "output_type": "stream",
     "text": [
      "C:\\Users\\controlslab\\Anaconda3\\envs\\gpu_tensorflow\\lib\\site-packages\\keras\\callbacks.py:120: UserWarning: Method on_batch_end() is slow compared to the batch update (0.118348). Check your callbacks.\n",
      "  % delta_t_median)\n"
     ]
    },
    {
     "name": "stdout",
     "output_type": "stream",
     "text": [
      "Epoch 33/100\n",
      " 2048/14547 [===>..........................] - ETA: 2s - loss: 225.1308 - mean_squared_error: 198.1056"
     ]
    },
    {
     "name": "stderr",
     "output_type": "stream",
     "text": [
      "C:\\Users\\controlslab\\Anaconda3\\envs\\gpu_tensorflow\\lib\\site-packages\\keras\\callbacks.py:120: UserWarning: Method on_batch_end() is slow compared to the batch update (0.124325). Check your callbacks.\n",
      "  % delta_t_median)\n"
     ]
    },
    {
     "name": "stdout",
     "output_type": "stream",
     "text": [
      " 2560/14547 [====>.........................] - ETA: 2s - loss: 226.0122 - mean_squared_error: 198.99"
     ]
    },
    {
     "name": "stderr",
     "output_type": "stream",
     "text": [
      "C:\\Users\\controlslab\\Anaconda3\\envs\\gpu_tensorflow\\lib\\site-packages\\keras\\callbacks.py:120: UserWarning: Method on_batch_end() is slow compared to the batch update (0.113855). Check your callbacks.\n",
      "  % delta_t_median)\n"
     ]
    },
    {
     "name": "stdout",
     "output_type": "stream",
     "text": [
      " 4608/14547 [========>.....................] - ETA: 2s - loss: 232.6828 - mean_squared_error: 205.66 - ETA: 2s - loss: 231.1821 - mean_squared_error: 204.1657"
     ]
    },
    {
     "name": "stderr",
     "output_type": "stream",
     "text": [
      "C:\\Users\\controlslab\\Anaconda3\\envs\\gpu_tensorflow\\lib\\site-packages\\keras\\callbacks.py:120: UserWarning: Method on_batch_end() is slow compared to the batch update (0.130677). Check your callbacks.\n",
      "  % delta_t_median)\n",
      "C:\\Users\\controlslab\\Anaconda3\\envs\\gpu_tensorflow\\lib\\site-packages\\keras\\callbacks.py:120: UserWarning: Method on_batch_end() is slow compared to the batch update (0.114207). Check your callbacks.\n",
      "  % delta_t_median)\n"
     ]
    },
    {
     "name": "stdout",
     "output_type": "stream",
     "text": [
      " 5632/14547 [==========>...................] - ETA: 2s - loss: 233.6036 - mean_squared_error: 206.5889"
     ]
    },
    {
     "name": "stderr",
     "output_type": "stream",
     "text": [
      "C:\\Users\\controlslab\\Anaconda3\\envs\\gpu_tensorflow\\lib\\site-packages\\keras\\callbacks.py:120: UserWarning: Method on_batch_end() is slow compared to the batch update (0.113696). Check your callbacks.\n",
      "  % delta_t_median)\n",
      "C:\\Users\\controlslab\\Anaconda3\\envs\\gpu_tensorflow\\lib\\site-packages\\keras\\callbacks.py:120: UserWarning: Method on_batch_end() is slow compared to the batch update (0.105717). Check your callbacks.\n",
      "  % delta_t_median)\n",
      "C:\\Users\\controlslab\\Anaconda3\\envs\\gpu_tensorflow\\lib\\site-packages\\keras\\callbacks.py:120: UserWarning: Method on_batch_end() is slow compared to the batch update (0.107272). Check your callbacks.\n",
      "  % delta_t_median)\n"
     ]
    },
    {
     "name": "stdout",
     "output_type": "stream",
     "text": [
      "10240/14547 [====================>.........] - ETA: 1s - loss: 235.4145 - mean_squared_error: 208.4199"
     ]
    },
    {
     "name": "stderr",
     "output_type": "stream",
     "text": [
      "C:\\Users\\controlslab\\Anaconda3\\envs\\gpu_tensorflow\\lib\\site-packages\\keras\\callbacks.py:120: UserWarning: Method on_batch_end() is slow compared to the batch update (0.107783). Check your callbacks.\n",
      "  % delta_t_median)\n",
      "C:\\Users\\controlslab\\Anaconda3\\envs\\gpu_tensorflow\\lib\\site-packages\\keras\\callbacks.py:120: UserWarning: Method on_batch_end() is slow compared to the batch update (0.118695). Check your callbacks.\n",
      "  % delta_t_median)\n"
     ]
    },
    {
     "name": "stdout",
     "output_type": "stream",
     "text": [
      "12800/14547 [=========================>....] - ETA: 0s - loss: 235.0378 - mean_squared_error: 208.0517 ETA: 0s - loss: 233.9507 - mean_squared_error: 20"
     ]
    },
    {
     "name": "stderr",
     "output_type": "stream",
     "text": [
      "C:\\Users\\controlslab\\Anaconda3\\envs\\gpu_tensorflow\\lib\\site-packages\\keras\\callbacks.py:120: UserWarning: Method on_batch_end() is slow compared to the batch update (0.130651). Check your callbacks.\n",
      "  % delta_t_median)\n",
      "C:\\Users\\controlslab\\Anaconda3\\envs\\gpu_tensorflow\\lib\\site-packages\\keras\\callbacks.py:120: UserWarning: Method on_batch_end() is slow compared to the batch update (0.110220). Check your callbacks.\n",
      "  % delta_t_median)\n"
     ]
    },
    {
     "name": "stdout",
     "output_type": "stream",
     "text": [
      "14547/14547 [==============================] - 4s 254us/step - loss: 234.5035 - mean_squared_error: 207.5214 - val_loss: 303.8543 - val_mean_squared_error: 276.9011\n"
     ]
    },
    {
     "name": "stderr",
     "output_type": "stream",
     "text": [
      "C:\\Users\\controlslab\\Anaconda3\\envs\\gpu_tensorflow\\lib\\site-packages\\keras\\callbacks.py:120: UserWarning: Method on_batch_end() is slow compared to the batch update (0.122424). Check your callbacks.\n",
      "  % delta_t_median)\n"
     ]
    },
    {
     "name": "stdout",
     "output_type": "stream",
     "text": [
      "Epoch 34/100\n",
      " 1024/14547 [=>............................] - ETA: 0s - loss: 221.0212 - mean_squared_error: 194.06 - ETA: 2s - loss: 226.1606 - mean_squared_error: 199.2057"
     ]
    },
    {
     "name": "stderr",
     "output_type": "stream",
     "text": [
      "C:\\Users\\controlslab\\Anaconda3\\envs\\gpu_tensorflow\\lib\\site-packages\\keras\\callbacks.py:120: UserWarning: Method on_batch_end() is slow compared to the batch update (0.112697). Check your callbacks.\n",
      "  % delta_t_median)\n",
      "C:\\Users\\controlslab\\Anaconda3\\envs\\gpu_tensorflow\\lib\\site-packages\\keras\\callbacks.py:120: UserWarning: Method on_batch_end() is slow compared to the batch update (0.140623). Check your callbacks.\n",
      "  % delta_t_median)\n"
     ]
    },
    {
     "name": "stdout",
     "output_type": "stream",
     "text": [
      " 2560/14547 [====>.........................] - ETA: 2s - loss: 240.6716 - mean_squared_error: 213.7304"
     ]
    },
    {
     "name": "stderr",
     "output_type": "stream",
     "text": [
      "C:\\Users\\controlslab\\Anaconda3\\envs\\gpu_tensorflow\\lib\\site-packages\\keras\\callbacks.py:120: UserWarning: Method on_batch_end() is slow compared to the batch update (0.118197). Check your callbacks.\n",
      "  % delta_t_median)\n",
      "C:\\Users\\controlslab\\Anaconda3\\envs\\gpu_tensorflow\\lib\\site-packages\\keras\\callbacks.py:120: UserWarning: Method on_batch_end() is slow compared to the batch update (0.123697). Check your callbacks.\n",
      "  % delta_t_median)\n"
     ]
    },
    {
     "name": "stdout",
     "output_type": "stream",
     "text": [
      " 7168/14547 [=============>................] - ETA: 1s - loss: 237.7477 - mean_squared_error: 210.8302"
     ]
    },
    {
     "name": "stderr",
     "output_type": "stream",
     "text": [
      "C:\\Users\\controlslab\\Anaconda3\\envs\\gpu_tensorflow\\lib\\site-packages\\keras\\callbacks.py:120: UserWarning: Method on_batch_end() is slow compared to the batch update (0.109706). Check your callbacks.\n",
      "  % delta_t_median)\n"
     ]
    },
    {
     "name": "stdout",
     "output_type": "stream",
     "text": [
      "12800/14547 [=========================>....] - ETA: 0s - loss: 232.5562 - mean_squared_error: 205.6644 ETA: 1s - loss: 235.1117 - mean_squared_error: 20 - ETA: 1s - loss: 233.1591 - mean_squared_error: 206.25 - ETA: 1s - loss: 232.5900 - mean_squared_error: "
     ]
    },
    {
     "name": "stderr",
     "output_type": "stream",
     "text": [
      "C:\\Users\\controlslab\\Anaconda3\\envs\\gpu_tensorflow\\lib\\site-packages\\keras\\callbacks.py:120: UserWarning: Method on_batch_end() is slow compared to the batch update (0.115805). Check your callbacks.\n",
      "  % delta_t_median)\n"
     ]
    },
    {
     "name": "stdout",
     "output_type": "stream",
     "text": [
      "14547/14547 [==============================] - 6s 393us/step - loss: 233.4519 - mean_squared_error: 206.5669 - val_loss: 294.5060 - val_mean_squared_error: 267.6748\n",
      "Epoch 35/100\n",
      " 5632/14547 [==========>...................] - ETA: 0s - loss: 237.4771 - mean_squared_error: 210.6683"
     ]
    },
    {
     "name": "stderr",
     "output_type": "stream",
     "text": [
      "C:\\Users\\controlslab\\Anaconda3\\envs\\gpu_tensorflow\\lib\\site-packages\\keras\\callbacks.py:120: UserWarning: Method on_batch_end() is slow compared to the batch update (0.135635). Check your callbacks.\n",
      "  % delta_t_median)\n"
     ]
    },
    {
     "name": "stdout",
     "output_type": "stream",
     "text": [
      "12288/14547 [========================>.....] - ETA: 0s - loss: 233.5271 - mean_squared_error: 206.7399 ETA: 0s - loss: 234.9269 - mean_squared_err"
     ]
    },
    {
     "name": "stderr",
     "output_type": "stream",
     "text": [
      "C:\\Users\\controlslab\\Anaconda3\\envs\\gpu_tensorflow\\lib\\site-packages\\keras\\callbacks.py:120: UserWarning: Method on_batch_end() is slow compared to the batch update (0.102742). Check your callbacks.\n",
      "  % delta_t_median)\n"
     ]
    },
    {
     "name": "stdout",
     "output_type": "stream",
     "text": [
      "14547/14547 [==============================] - ETA: 0s - loss: 232.1432 - mean_squared_error: 205.36 - 2s 162us/step - loss: 232.8465 - mean_squared_error: 206.0671 - val_loss: 286.9031 - val_mean_squared_error: 260.1996\n",
      "Epoch 36/100\n",
      " 2048/14547 [===>..........................] - ETA: 2s - loss: 236.7109 - mean_squared_error: 209.9955"
     ]
    },
    {
     "name": "stderr",
     "output_type": "stream",
     "text": [
      "C:\\Users\\controlslab\\Anaconda3\\envs\\gpu_tensorflow\\lib\\site-packages\\keras\\callbacks.py:120: UserWarning: Method on_batch_end() is slow compared to the batch update (0.104720). Check your callbacks.\n",
      "  % delta_t_median)\n",
      "C:\\Users\\controlslab\\Anaconda3\\envs\\gpu_tensorflow\\lib\\site-packages\\keras\\callbacks.py:120: UserWarning: Method on_batch_end() is slow compared to the batch update (0.118682). Check your callbacks.\n",
      "  % delta_t_median)\n"
     ]
    },
    {
     "name": "stdout",
     "output_type": "stream",
     "text": [
      " 6144/14547 [===========>..................] - ETA: 1s - loss: 235.4757 - mean_squared_error: 208.7731 ETA: 2s - loss: 238.3636 - mean_squared_error: 211.65 - ETA: 2s - loss: 236.5755 - mean_squared_error: 209. - ETA: 1s - loss: 236.2353 - mean_squared_error: 209."
     ]
    },
    {
     "name": "stderr",
     "output_type": "stream",
     "text": [
      "C:\\Users\\controlslab\\Anaconda3\\envs\\gpu_tensorflow\\lib\\site-packages\\keras\\callbacks.py:120: UserWarning: Method on_batch_end() is slow compared to the batch update (0.100245). Check your callbacks.\n",
      "  % delta_t_median)\n"
     ]
    },
    {
     "name": "stdout",
     "output_type": "stream",
     "text": [
      " 8704/14547 [================>.............] - ETA: 1s - loss: 233.9437 - mean_squared_error: 207.24 - ETA: 1s - loss: 234.1302 - mean_squared_error: 207.43"
     ]
    },
    {
     "name": "stderr",
     "output_type": "stream",
     "text": [
      "C:\\Users\\controlslab\\Anaconda3\\envs\\gpu_tensorflow\\lib\\site-packages\\keras\\callbacks.py:120: UserWarning: Method on_batch_end() is slow compared to the batch update (0.101741). Check your callbacks.\n",
      "  % delta_t_median)\n"
     ]
    },
    {
     "name": "stdout",
     "output_type": "stream",
     "text": [
      "14336/14547 [============================>.] - ETA: 0s - loss: 232.5874 - mean_squared_error: 205.9227 ETA: 0s - loss: 234.2645 - mean_squared_error: 207.58 - ETA: 0s - loss: 233.4514 - mean_squared_error: "
     ]
    },
    {
     "name": "stderr",
     "output_type": "stream",
     "text": [
      "C:\\Users\\controlslab\\Anaconda3\\envs\\gpu_tensorflow\\lib\\site-packages\\keras\\callbacks.py:120: UserWarning: Method on_batch_end() is slow compared to the batch update (0.112725). Check your callbacks.\n",
      "  % delta_t_median)\n"
     ]
    },
    {
     "name": "stdout",
     "output_type": "stream",
     "text": [
      "14547/14547 [==============================] - 3s 213us/step - loss: 232.2124 - mean_squared_error: 205.5488 - val_loss: 292.3102 - val_mean_squared_error: 265.7192\n",
      "Epoch 37/100\n",
      " 1536/14547 [==>...........................] - ETA: 2s - loss: 246.2418 - mean_squared_error: 219.6390"
     ]
    },
    {
     "name": "stderr",
     "output_type": "stream",
     "text": [
      "C:\\Users\\controlslab\\Anaconda3\\envs\\gpu_tensorflow\\lib\\site-packages\\keras\\callbacks.py:120: UserWarning: Method on_batch_end() is slow compared to the batch update (0.109735). Check your callbacks.\n",
      "  % delta_t_median)\n",
      "C:\\Users\\controlslab\\Anaconda3\\envs\\gpu_tensorflow\\lib\\site-packages\\keras\\callbacks.py:120: UserWarning: Method on_batch_end() is slow compared to the batch update (0.115220). Check your callbacks.\n",
      "  % delta_t_median)\n"
     ]
    },
    {
     "name": "stdout",
     "output_type": "stream",
     "text": [
      " 5120/14547 [=========>....................] - ETA: 1s - loss: 234.4572 - mean_squared_error: 207.8746"
     ]
    },
    {
     "name": "stderr",
     "output_type": "stream",
     "text": [
      "C:\\Users\\controlslab\\Anaconda3\\envs\\gpu_tensorflow\\lib\\site-packages\\keras\\callbacks.py:120: UserWarning: Method on_batch_end() is slow compared to the batch update (0.111715). Check your callbacks.\n",
      "  % delta_t_median)\n"
     ]
    },
    {
     "name": "stdout",
     "output_type": "stream",
     "text": [
      " 6656/14547 [============>.................] - ETA: 1s - loss: 233.6362 - mean_squared_error: 207.0592"
     ]
    },
    {
     "name": "stderr",
     "output_type": "stream",
     "text": [
      "C:\\Users\\controlslab\\Anaconda3\\envs\\gpu_tensorflow\\lib\\site-packages\\keras\\callbacks.py:120: UserWarning: Method on_batch_end() is slow compared to the batch update (0.117193). Check your callbacks.\n",
      "  % delta_t_median)\n",
      "C:\\Users\\controlslab\\Anaconda3\\envs\\gpu_tensorflow\\lib\\site-packages\\keras\\callbacks.py:120: UserWarning: Method on_batch_end() is slow compared to the batch update (0.108210). Check your callbacks.\n",
      "  % delta_t_median)\n"
     ]
    },
    {
     "name": "stdout",
     "output_type": "stream",
     "text": [
      " 7680/14547 [==============>...............] - ETA: 1s - loss: 232.9609 - mean_squared_error: 206.38"
     ]
    },
    {
     "name": "stderr",
     "output_type": "stream",
     "text": [
      "C:\\Users\\controlslab\\Anaconda3\\envs\\gpu_tensorflow\\lib\\site-packages\\keras\\callbacks.py:120: UserWarning: Method on_batch_end() is slow compared to the batch update (0.112709). Check your callbacks.\n",
      "  % delta_t_median)\n",
      "C:\\Users\\controlslab\\Anaconda3\\envs\\gpu_tensorflow\\lib\\site-packages\\keras\\callbacks.py:120: UserWarning: Method on_batch_end() is slow compared to the batch update (0.107224). Check your callbacks.\n",
      "  % delta_t_median)\n"
     ]
    },
    {
     "name": "stdout",
     "output_type": "stream",
     "text": [
      " 9216/14547 [==================>...........] - ETA: 1s - loss: 231.0582 - mean_squared_error: 204.4873"
     ]
    },
    {
     "name": "stderr",
     "output_type": "stream",
     "text": [
      "C:\\Users\\controlslab\\Anaconda3\\envs\\gpu_tensorflow\\lib\\site-packages\\keras\\callbacks.py:120: UserWarning: Method on_batch_end() is slow compared to the batch update (0.116207). Check your callbacks.\n",
      "  % delta_t_median)\n",
      "C:\\Users\\controlslab\\Anaconda3\\envs\\gpu_tensorflow\\lib\\site-packages\\keras\\callbacks.py:120: UserWarning: Method on_batch_end() is slow compared to the batch update (0.114219). Check your callbacks.\n",
      "  % delta_t_median)\n"
     ]
    },
    {
     "name": "stdout",
     "output_type": "stream",
     "text": [
      "10752/14547 [=====================>........] - ETA: 0s - loss: 232.2632 - mean_squared_error: 205.6981"
     ]
    },
    {
     "name": "stderr",
     "output_type": "stream",
     "text": [
      "C:\\Users\\controlslab\\Anaconda3\\envs\\gpu_tensorflow\\lib\\site-packages\\keras\\callbacks.py:120: UserWarning: Method on_batch_end() is slow compared to the batch update (0.104246). Check your callbacks.\n",
      "  % delta_t_median)\n"
     ]
    },
    {
     "name": "stdout",
     "output_type": "stream",
     "text": [
      "13824/14547 [===========================>..] - ETA: 0s - loss: 231.4970 - mean_squared_error: 204.9442"
     ]
    },
    {
     "name": "stderr",
     "output_type": "stream",
     "text": [
      "C:\\Users\\controlslab\\Anaconda3\\envs\\gpu_tensorflow\\lib\\site-packages\\keras\\callbacks.py:120: UserWarning: Method on_batch_end() is slow compared to the batch update (0.113211). Check your callbacks.\n",
      "  % delta_t_median)\n",
      "C:\\Users\\controlslab\\Anaconda3\\envs\\gpu_tensorflow\\lib\\site-packages\\keras\\callbacks.py:120: UserWarning: Method on_batch_end() is slow compared to the batch update (0.112712). Check your callbacks.\n",
      "  % delta_t_median)\n"
     ]
    },
    {
     "name": "stdout",
     "output_type": "stream",
     "text": [
      "14547/14547 [==============================] - 3s 229us/step - loss: 231.5547 - mean_squared_error: 205.0052 - val_loss: 283.0938 - val_mean_squared_error: 256.6249\n",
      "Epoch 38/100\n",
      " 8192/14547 [===============>..............] - ETA: 1s - loss: 233.6298 - mean_squared_error: 207.1818"
     ]
    },
    {
     "name": "stderr",
     "output_type": "stream",
     "text": [
      "C:\\Users\\controlslab\\Anaconda3\\envs\\gpu_tensorflow\\lib\\site-packages\\keras\\callbacks.py:120: UserWarning: Method on_batch_end() is slow compared to the batch update (0.103708). Check your callbacks.\n",
      "  % delta_t_median)\n"
     ]
    },
    {
     "name": "stdout",
     "output_type": "stream",
     "text": [
      " 9216/14547 [==================>...........] - ETA: 1s - loss: 233.9100 - mean_squared_error: 207.4684"
     ]
    },
    {
     "name": "stderr",
     "output_type": "stream",
     "text": [
      "C:\\Users\\controlslab\\Anaconda3\\envs\\gpu_tensorflow\\lib\\site-packages\\keras\\callbacks.py:120: UserWarning: Method on_batch_end() is slow compared to the batch update (0.105731). Check your callbacks.\n",
      "  % delta_t_median)\n"
     ]
    },
    {
     "name": "stdout",
     "output_type": "stream",
     "text": [
      "10240/14547 [====================>.........] - ETA: 0s - loss: 231.0441 - mean_squared_error: 204.6078"
     ]
    },
    {
     "name": "stderr",
     "output_type": "stream",
     "text": [
      "C:\\Users\\controlslab\\Anaconda3\\envs\\gpu_tensorflow\\lib\\site-packages\\keras\\callbacks.py:120: UserWarning: Method on_batch_end() is slow compared to the batch update (0.112214). Check your callbacks.\n",
      "  % delta_t_median)\n",
      "C:\\Users\\controlslab\\Anaconda3\\envs\\gpu_tensorflow\\lib\\site-packages\\keras\\callbacks.py:120: UserWarning: Method on_batch_end() is slow compared to the batch update (0.114210). Check your callbacks.\n",
      "  % delta_t_median)\n"
     ]
    },
    {
     "name": "stdout",
     "output_type": "stream",
     "text": [
      "12288/14547 [========================>.....] - ETA: 0s - loss: 230.4569 - mean_squared_error: 204.0290"
     ]
    },
    {
     "name": "stderr",
     "output_type": "stream",
     "text": [
      "C:\\Users\\controlslab\\Anaconda3\\envs\\gpu_tensorflow\\lib\\site-packages\\keras\\callbacks.py:120: UserWarning: Method on_batch_end() is slow compared to the batch update (0.124178). Check your callbacks.\n",
      "  % delta_t_median)\n",
      "C:\\Users\\controlslab\\Anaconda3\\envs\\gpu_tensorflow\\lib\\site-packages\\keras\\callbacks.py:120: UserWarning: Method on_batch_end() is slow compared to the batch update (0.121703). Check your callbacks.\n",
      "  % delta_t_median)\n"
     ]
    },
    {
     "name": "stdout",
     "output_type": "stream",
     "text": [
      "13312/14547 [==========================>...] - ETA: 0s - loss: 231.2729 - mean_squared_error: 204.8486"
     ]
    },
    {
     "name": "stderr",
     "output_type": "stream",
     "text": [
      "C:\\Users\\controlslab\\Anaconda3\\envs\\gpu_tensorflow\\lib\\site-packages\\keras\\callbacks.py:120: UserWarning: Method on_batch_end() is slow compared to the batch update (0.104723). Check your callbacks.\n",
      "  % delta_t_median)\n"
     ]
    },
    {
     "name": "stdout",
     "output_type": "stream",
     "text": [
      "14547/14547 [==============================] - 3s 216us/step - loss: 230.6215 - mean_squared_error: 204.2000 - val_loss: 291.3678 - val_mean_squared_error: 265.0103\n",
      "Epoch 39/100\n",
      " 2560/14547 [====>.........................] - ETA: 14s - loss: 225.2841 - mean_squared_error: 198.9338"
     ]
    },
    {
     "name": "stderr",
     "output_type": "stream",
     "text": [
      "C:\\Users\\controlslab\\Anaconda3\\envs\\gpu_tensorflow\\lib\\site-packages\\keras\\callbacks.py:120: UserWarning: Method on_batch_end() is slow compared to the batch update (1.483450). Check your callbacks.\n",
      "  % delta_t_median)\n"
     ]
    },
    {
     "name": "stdout",
     "output_type": "stream",
     "text": [
      " 5632/14547 [==========>...................] - ETA: 6s - loss: 229.1474 - mean_squared_error: 202.8131 - ETA: 8s - loss: 224.9328 - mean_squared_error: 198.590 - ETA: 7s - loss: 224.3296 - mean_squared_error: 197.99 - ETA: 6s - loss: 227.1858 - mean_squared_error: 200.85"
     ]
    },
    {
     "name": "stderr",
     "output_type": "stream",
     "text": [
      "C:\\Users\\controlslab\\Anaconda3\\envs\\gpu_tensorflow\\lib\\site-packages\\keras\\callbacks.py:120: UserWarning: Method on_batch_end() is slow compared to the batch update (0.103723). Check your callbacks.\n",
      "  % delta_t_median)\n",
      "C:\\Users\\controlslab\\Anaconda3\\envs\\gpu_tensorflow\\lib\\site-packages\\keras\\callbacks.py:120: UserWarning: Method on_batch_end() is slow compared to the batch update (0.105219). Check your callbacks.\n",
      "  % delta_t_median)\n"
     ]
    },
    {
     "name": "stdout",
     "output_type": "stream",
     "text": [
      " 7168/14547 [=============>................] - ETA: 4s - loss: 227.6981 - mean_squared_error: 201.3709"
     ]
    },
    {
     "name": "stderr",
     "output_type": "stream",
     "text": [
      "C:\\Users\\controlslab\\Anaconda3\\envs\\gpu_tensorflow\\lib\\site-packages\\keras\\callbacks.py:120: UserWarning: Method on_batch_end() is slow compared to the batch update (0.112201). Check your callbacks.\n",
      "  % delta_t_median)\n"
     ]
    },
    {
     "name": "stdout",
     "output_type": "stream",
     "text": [
      " 9216/14547 [==================>...........] - ETA: 2s - loss: 228.6818 - mean_squared_error: 202.3618"
     ]
    },
    {
     "name": "stderr",
     "output_type": "stream",
     "text": [
      "C:\\Users\\controlslab\\Anaconda3\\envs\\gpu_tensorflow\\lib\\site-packages\\keras\\callbacks.py:120: UserWarning: Method on_batch_end() is slow compared to the batch update (0.117187). Check your callbacks.\n",
      "  % delta_t_median)\n"
     ]
    },
    {
     "name": "stdout",
     "output_type": "stream",
     "text": [
      "14547/14547 [==============================] - 6s 412us/step - loss: 229.7101 - mean_squared_error: 203.4134 - val_loss: 296.8557 - val_mean_squared_error: 270.6350oss: 229.7386 - mean_squared_error: 203.43 - ETA: 0s - loss: 229.7798 - mean_squared_error: 203.\n",
      "Epoch 40/100\n",
      " 2048/14547 [===>..........................] - ETA: 2s - loss: 231.4607 - mean_squared_error: 205.2378"
     ]
    },
    {
     "name": "stderr",
     "output_type": "stream",
     "text": [
      "C:\\Users\\controlslab\\Anaconda3\\envs\\gpu_tensorflow\\lib\\site-packages\\keras\\callbacks.py:120: UserWarning: Method on_batch_end() is slow compared to the batch update (0.101713). Check your callbacks.\n",
      "  % delta_t_median)\n"
     ]
    },
    {
     "name": "stdout",
     "output_type": "stream",
     "text": [
      " 3584/14547 [======>.......................] - ETA: 2s - loss: 233.7414 - mean_squared_error: 207.5269 ETA: 2s - loss: 234.9272 - mean_squared_error: 208.70"
     ]
    },
    {
     "name": "stderr",
     "output_type": "stream",
     "text": [
      "C:\\Users\\controlslab\\Anaconda3\\envs\\gpu_tensorflow\\lib\\site-packages\\keras\\callbacks.py:120: UserWarning: Method on_batch_end() is slow compared to the batch update (0.108222). Check your callbacks.\n",
      "  % delta_t_median)\n",
      "C:\\Users\\controlslab\\Anaconda3\\envs\\gpu_tensorflow\\lib\\site-packages\\keras\\callbacks.py:120: UserWarning: Method on_batch_end() is slow compared to the batch update (0.117686). Check your callbacks.\n",
      "  % delta_t_median)\n"
     ]
    },
    {
     "name": "stdout",
     "output_type": "stream",
     "text": [
      " 4608/14547 [========>.....................] - ETA: 2s - loss: 232.3176 - mean_squared_error: 206.10 - ETA: 2s - loss: 232.0924 - mean_squared_error: 205.8826"
     ]
    },
    {
     "name": "stderr",
     "output_type": "stream",
     "text": [
      "C:\\Users\\controlslab\\Anaconda3\\envs\\gpu_tensorflow\\lib\\site-packages\\keras\\callbacks.py:120: UserWarning: Method on_batch_end() is slow compared to the batch update (0.116187). Check your callbacks.\n",
      "  % delta_t_median)\n",
      "C:\\Users\\controlslab\\Anaconda3\\envs\\gpu_tensorflow\\lib\\site-packages\\keras\\callbacks.py:120: UserWarning: Method on_batch_end() is slow compared to the batch update (0.114688). Check your callbacks.\n",
      "  % delta_t_median)\n"
     ]
    },
    {
     "name": "stdout",
     "output_type": "stream",
     "text": [
      " 8704/14547 [================>.............] - ETA: 1s - loss: 230.6541 - mean_squared_error: 204.4646"
     ]
    },
    {
     "name": "stderr",
     "output_type": "stream",
     "text": [
      "C:\\Users\\controlslab\\Anaconda3\\envs\\gpu_tensorflow\\lib\\site-packages\\keras\\callbacks.py:120: UserWarning: Method on_batch_end() is slow compared to the batch update (0.121675). Check your callbacks.\n",
      "  % delta_t_median)\n"
     ]
    },
    {
     "name": "stdout",
     "output_type": "stream",
     "text": [
      "14547/14547 [==============================] - 3s 199us/step - loss: 228.7820 - mean_squared_error: 202.6185 - val_loss: 299.5769 - val_mean_squared_error: 273.4792\n",
      "Epoch 41/100\n",
      " 3584/14547 [======>.......................] - ETA: 1s - loss: 228.1922 - mean_squared_error: 202.1136 ETA: 2s - loss: 222.8737 - mean_squared_error: 196.78"
     ]
    },
    {
     "name": "stderr",
     "output_type": "stream",
     "text": [
      "C:\\Users\\controlslab\\Anaconda3\\envs\\gpu_tensorflow\\lib\\site-packages\\keras\\callbacks.py:120: UserWarning: Method on_batch_end() is slow compared to the batch update (0.109720). Check your callbacks.\n",
      "  % delta_t_median)\n"
     ]
    },
    {
     "name": "stdout",
     "output_type": "stream",
     "text": [
      " 6656/14547 [============>.................] - ETA: 1s - loss: 226.7549 - mean_squared_error: 200.6862 ETA: 1s - loss: 226.2934 - mean_squared_error: 200. - ETA: 1s - loss: 227.3400 - mean_squared_error: 201. - ETA: 1s - loss: 227.2257 - mean_squared_error: 201.1585"
     ]
    },
    {
     "name": "stderr",
     "output_type": "stream",
     "text": [
      "C:\\Users\\controlslab\\Anaconda3\\envs\\gpu_tensorflow\\lib\\site-packages\\keras\\callbacks.py:120: UserWarning: Method on_batch_end() is slow compared to the batch update (0.114205). Check your callbacks.\n",
      "  % delta_t_median)\n"
     ]
    },
    {
     "name": "stdout",
     "output_type": "stream",
     "text": [
      " 7680/14547 [==============>...............] - ETA: 1s - loss: 226.2108 - mean_squared_error: 200.14 - ETA: 1s - loss: 226.1168 - mean_squared_error: 200.0537"
     ]
    },
    {
     "name": "stderr",
     "output_type": "stream",
     "text": [
      "C:\\Users\\controlslab\\Anaconda3\\envs\\gpu_tensorflow\\lib\\site-packages\\keras\\callbacks.py:120: UserWarning: Method on_batch_end() is slow compared to the batch update (0.117709). Check your callbacks.\n",
      "  % delta_t_median)\n",
      "C:\\Users\\controlslab\\Anaconda3\\envs\\gpu_tensorflow\\lib\\site-packages\\keras\\callbacks.py:120: UserWarning: Method on_batch_end() is slow compared to the batch update (0.122201). Check your callbacks.\n",
      "  % delta_t_median)\n"
     ]
    },
    {
     "name": "stdout",
     "output_type": "stream",
     "text": [
      "10240/14547 [====================>.........] - ETA: 0s - loss: 229.9892 - mean_squared_error: 203.9402"
     ]
    },
    {
     "name": "stderr",
     "output_type": "stream",
     "text": [
      "C:\\Users\\controlslab\\Anaconda3\\envs\\gpu_tensorflow\\lib\\site-packages\\keras\\callbacks.py:120: UserWarning: Method on_batch_end() is slow compared to the batch update (0.129683). Check your callbacks.\n",
      "  % delta_t_median)\n"
     ]
    },
    {
     "name": "stdout",
     "output_type": "stream",
     "text": [
      "11264/14547 [======================>.......] - ETA: 0s - loss: 229.1069 - mean_squared_error: 203.0618"
     ]
    },
    {
     "name": "stderr",
     "output_type": "stream",
     "text": [
      "C:\\Users\\controlslab\\Anaconda3\\envs\\gpu_tensorflow\\lib\\site-packages\\keras\\callbacks.py:120: UserWarning: Method on_batch_end() is slow compared to the batch update (0.129182). Check your callbacks.\n",
      "  % delta_t_median)\n",
      "C:\\Users\\controlslab\\Anaconda3\\envs\\gpu_tensorflow\\lib\\site-packages\\keras\\callbacks.py:120: UserWarning: Method on_batch_end() is slow compared to the batch update (0.124693). Check your callbacks.\n",
      "  % delta_t_median)\n"
     ]
    },
    {
     "name": "stdout",
     "output_type": "stream",
     "text": [
      "12288/14547 [========================>.....] - ETA: 0s - loss: 228.5004 - mean_squared_error: 202.4598"
     ]
    },
    {
     "name": "stderr",
     "output_type": "stream",
     "text": [
      "C:\\Users\\controlslab\\Anaconda3\\envs\\gpu_tensorflow\\lib\\site-packages\\keras\\callbacks.py:120: UserWarning: Method on_batch_end() is slow compared to the batch update (0.126688). Check your callbacks.\n",
      "  % delta_t_median)\n",
      "C:\\Users\\controlslab\\Anaconda3\\envs\\gpu_tensorflow\\lib\\site-packages\\keras\\callbacks.py:120: UserWarning: Method on_batch_end() is slow compared to the batch update (0.116714). Check your callbacks.\n",
      "  % delta_t_median)\n"
     ]
    },
    {
     "name": "stdout",
     "output_type": "stream",
     "text": [
      "13824/14547 [===========================>..] - ETA: 0s - loss: 227.6566 - mean_squared_error: 201.6226"
     ]
    },
    {
     "name": "stderr",
     "output_type": "stream",
     "text": [
      "C:\\Users\\controlslab\\Anaconda3\\envs\\gpu_tensorflow\\lib\\site-packages\\keras\\callbacks.py:120: UserWarning: Method on_batch_end() is slow compared to the batch update (0.104746). Check your callbacks.\n",
      "  % delta_t_median)\n",
      "C:\\Users\\controlslab\\Anaconda3\\envs\\gpu_tensorflow\\lib\\site-packages\\keras\\callbacks.py:120: UserWarning: Method on_batch_end() is slow compared to the batch update (0.113709). Check your callbacks.\n",
      "  % delta_t_median)\n"
     ]
    },
    {
     "name": "stdout",
     "output_type": "stream",
     "text": [
      "14547/14547 [==============================] - 3s 220us/step - loss: 227.8342 - mean_squared_error: 201.8038 - val_loss: 303.2762 - val_mean_squared_error: 277.3217\n"
     ]
    },
    {
     "name": "stderr",
     "output_type": "stream",
     "text": [
      "C:\\Users\\controlslab\\Anaconda3\\envs\\gpu_tensorflow\\lib\\site-packages\\keras\\callbacks.py:120: UserWarning: Method on_batch_end() is slow compared to the batch update (0.105231). Check your callbacks.\n",
      "  % delta_t_median)\n"
     ]
    },
    {
     "name": "stdout",
     "output_type": "stream",
     "text": [
      "Epoch 42/100\n",
      " 2560/14547 [====>.........................] - ETA: 1s - loss: 218.8789 - mean_squared_error: 192.9321"
     ]
    },
    {
     "name": "stderr",
     "output_type": "stream",
     "text": [
      "C:\\Users\\controlslab\\Anaconda3\\envs\\gpu_tensorflow\\lib\\site-packages\\keras\\callbacks.py:120: UserWarning: Method on_batch_end() is slow compared to the batch update (0.117684). Check your callbacks.\n",
      "  % delta_t_median)\n"
     ]
    },
    {
     "name": "stdout",
     "output_type": "stream",
     "text": [
      " 7680/14547 [==============>...............] - ETA: 1s - loss: 219.9068 - mean_squared_error: 193.96 - ETA: 0s - loss: 223.4969 - mean_squared_error: 197.5798"
     ]
    },
    {
     "name": "stderr",
     "output_type": "stream",
     "text": [
      "C:\\Users\\controlslab\\Anaconda3\\envs\\gpu_tensorflow\\lib\\site-packages\\keras\\callbacks.py:120: UserWarning: Method on_batch_end() is slow compared to the batch update (0.104750). Check your callbacks.\n",
      "  % delta_t_median)\n"
     ]
    },
    {
     "name": "stdout",
     "output_type": "stream",
     "text": [
      "11264/14547 [======================>.......] - ETA: 0s - loss: 226.6646 - mean_squared_error: 200.7651 ETA: 0s - loss: 222.8422 - mean_squared_error"
     ]
    },
    {
     "name": "stderr",
     "output_type": "stream",
     "text": [
      "C:\\Users\\controlslab\\Anaconda3\\envs\\gpu_tensorflow\\lib\\site-packages\\keras\\callbacks.py:120: UserWarning: Method on_batch_end() is slow compared to the batch update (0.130181). Check your callbacks.\n",
      "  % delta_t_median)\n"
     ]
    },
    {
     "name": "stdout",
     "output_type": "stream",
     "text": [
      "11776/14547 [=======================>......] - ETA: 0s - loss: 227.2856 - mean_squared_error: 201.3880"
     ]
    },
    {
     "name": "stderr",
     "output_type": "stream",
     "text": [
      "C:\\Users\\controlslab\\Anaconda3\\envs\\gpu_tensorflow\\lib\\site-packages\\keras\\callbacks.py:120: UserWarning: Method on_batch_end() is slow compared to the batch update (0.140637). Check your callbacks.\n",
      "  % delta_t_median)\n"
     ]
    },
    {
     "name": "stdout",
     "output_type": "stream",
     "text": [
      "13312/14547 [==========================>...] - ETA: 0s - loss: 226.6733 - mean_squared_error: 200.7811"
     ]
    },
    {
     "name": "stderr",
     "output_type": "stream",
     "text": [
      "C:\\Users\\controlslab\\Anaconda3\\envs\\gpu_tensorflow\\lib\\site-packages\\keras\\callbacks.py:120: UserWarning: Method on_batch_end() is slow compared to the batch update (0.141824). Check your callbacks.\n",
      "  % delta_t_median)\n",
      "C:\\Users\\controlslab\\Anaconda3\\envs\\gpu_tensorflow\\lib\\site-packages\\keras\\callbacks.py:120: UserWarning: Method on_batch_end() is slow compared to the batch update (0.140841). Check your callbacks.\n",
      "  % delta_t_median)\n"
     ]
    },
    {
     "name": "stdout",
     "output_type": "stream",
     "text": [
      "14547/14547 [==============================] - 3s 190us/step - loss: 227.6945 - mean_squared_error: 201.8075 - val_loss: 285.4904 - val_mean_squared_error: 259.6841\n",
      "Epoch 43/100\n",
      "  512/14547 [>.............................] - ETA: 0s - loss: 253.9557 - mean_squared_error: 228.1494"
     ]
    },
    {
     "name": "stderr",
     "output_type": "stream",
     "text": [
      "C:\\Users\\controlslab\\Anaconda3\\envs\\gpu_tensorflow\\lib\\site-packages\\keras\\callbacks.py:120: UserWarning: Method on_batch_end() is slow compared to the batch update (0.139830). Check your callbacks.\n",
      "  % delta_t_median)\n",
      "C:\\Users\\controlslab\\Anaconda3\\envs\\gpu_tensorflow\\lib\\site-packages\\keras\\callbacks.py:120: UserWarning: Method on_batch_end() is slow compared to the batch update (0.122172). Check your callbacks.\n",
      "  % delta_t_median)\n"
     ]
    },
    {
     "name": "stdout",
     "output_type": "stream",
     "text": [
      " 1536/14547 [==>...........................] - ETA: 1s - loss: 228.9444 - mean_squared_error: 203.1262"
     ]
    },
    {
     "name": "stderr",
     "output_type": "stream",
     "text": [
      "C:\\Users\\controlslab\\Anaconda3\\envs\\gpu_tensorflow\\lib\\site-packages\\keras\\callbacks.py:120: UserWarning: Method on_batch_end() is slow compared to the batch update (0.106714). Check your callbacks.\n",
      "  % delta_t_median)\n"
     ]
    },
    {
     "name": "stdout",
     "output_type": "stream",
     "text": [
      " 3072/14547 [=====>........................] - ETA: 2s - loss: 230.3879 - mean_squared_error: 204.5602"
     ]
    },
    {
     "name": "stderr",
     "output_type": "stream",
     "text": [
      "C:\\Users\\controlslab\\Anaconda3\\envs\\gpu_tensorflow\\lib\\site-packages\\keras\\callbacks.py:120: UserWarning: Method on_batch_end() is slow compared to the batch update (0.104221). Check your callbacks.\n",
      "  % delta_t_median)\n",
      "C:\\Users\\controlslab\\Anaconda3\\envs\\gpu_tensorflow\\lib\\site-packages\\keras\\callbacks.py:120: UserWarning: Method on_batch_end() is slow compared to the batch update (0.101727). Check your callbacks.\n",
      "  % delta_t_median)\n"
     ]
    },
    {
     "name": "stdout",
     "output_type": "stream",
     "text": [
      "14547/14547 [==============================] - 5s 372us/step - loss: 227.2509 - mean_squared_error: 201.4899 - val_loss: 281.4687 - val_mean_squared_error: 255.8143 - loss: 226.1489 - mean_squared_err\n",
      "Epoch 44/100\n",
      " 7168/14547 [=============>................] - ETA: 1s - loss: 225.1960 - mean_squared_error: 199.5331 ETA: 0s - loss: 225.7084 - mean_squared_error - ETA: 1s - loss: 225.6713 - mean_squared_error:  - ETA: 1s - loss: 224.2805 - mean_squared_error: 198.61"
     ]
    },
    {
     "name": "stderr",
     "output_type": "stream",
     "text": [
      "C:\\Users\\controlslab\\Anaconda3\\envs\\gpu_tensorflow\\lib\\site-packages\\keras\\callbacks.py:120: UserWarning: Method on_batch_end() is slow compared to the batch update (0.101738). Check your callbacks.\n",
      "  % delta_t_median)\n",
      "C:\\Users\\controlslab\\Anaconda3\\envs\\gpu_tensorflow\\lib\\site-packages\\keras\\callbacks.py:120: UserWarning: Method on_batch_end() is slow compared to the batch update (0.105269). Check your callbacks.\n",
      "  % delta_t_median)\n",
      "C:\\Users\\controlslab\\Anaconda3\\envs\\gpu_tensorflow\\lib\\site-packages\\keras\\callbacks.py:120: UserWarning: Method on_batch_end() is slow compared to the batch update (0.101290). Check your callbacks.\n",
      "  % delta_t_median)\n"
     ]
    },
    {
     "name": "stdout",
     "output_type": "stream",
     "text": [
      "14547/14547 [==============================] - 3s 192us/step - loss: 225.8813 - mean_squared_error: 200.2475 - val_loss: 284.9564 - val_mean_squared_error: 259.4098 - loss: 224.6669 - mean_squar\n",
      "Epoch 45/100\n",
      " 1536/14547 [==>...........................] - ETA: 2s - loss: 221.9464 - mean_squared_error: 196.4041 ETA: 2s - loss: 227.0208 - mean_squared_error: 201.47"
     ]
    },
    {
     "name": "stderr",
     "output_type": "stream",
     "text": [
      "C:\\Users\\controlslab\\Anaconda3\\envs\\gpu_tensorflow\\lib\\site-packages\\keras\\callbacks.py:120: UserWarning: Method on_batch_end() is slow compared to the batch update (0.120705). Check your callbacks.\n",
      "  % delta_t_median)\n",
      "C:\\Users\\controlslab\\Anaconda3\\envs\\gpu_tensorflow\\lib\\site-packages\\keras\\callbacks.py:120: UserWarning: Method on_batch_end() is slow compared to the batch update (0.138156). Check your callbacks.\n",
      "  % delta_t_median)\n"
     ]
    },
    {
     "name": "stdout",
     "output_type": "stream",
     "text": [
      " 3584/14547 [======>.......................] - ETA: 2s - loss: 228.8464 - mean_squared_error: 203.3129"
     ]
    },
    {
     "name": "stderr",
     "output_type": "stream",
     "text": [
      "C:\\Users\\controlslab\\Anaconda3\\envs\\gpu_tensorflow\\lib\\site-packages\\keras\\callbacks.py:120: UserWarning: Method on_batch_end() is slow compared to the batch update (0.114208). Check your callbacks.\n",
      "  % delta_t_median)\n"
     ]
    },
    {
     "name": "stdout",
     "output_type": "stream",
     "text": [
      " 4608/14547 [========>.....................] - ETA: 2s - loss: 228.8945 - mean_squared_error: 203.3620"
     ]
    },
    {
     "name": "stderr",
     "output_type": "stream",
     "text": [
      "C:\\Users\\controlslab\\Anaconda3\\envs\\gpu_tensorflow\\lib\\site-packages\\keras\\callbacks.py:120: UserWarning: Method on_batch_end() is slow compared to the batch update (0.123683). Check your callbacks.\n",
      "  % delta_t_median)\n",
      "C:\\Users\\controlslab\\Anaconda3\\envs\\gpu_tensorflow\\lib\\site-packages\\keras\\callbacks.py:120: UserWarning: Method on_batch_end() is slow compared to the batch update (0.126661). Check your callbacks.\n",
      "  % delta_t_median)\n"
     ]
    },
    {
     "name": "stdout",
     "output_type": "stream",
     "text": [
      " 6656/14547 [============>.................] - ETA: 1s - loss: 227.2261 - mean_squared_error: 201.7022"
     ]
    },
    {
     "name": "stderr",
     "output_type": "stream",
     "text": [
      "C:\\Users\\controlslab\\Anaconda3\\envs\\gpu_tensorflow\\lib\\site-packages\\keras\\callbacks.py:120: UserWarning: Method on_batch_end() is slow compared to the batch update (0.117186). Check your callbacks.\n",
      "  % delta_t_median)\n",
      "C:\\Users\\controlslab\\Anaconda3\\envs\\gpu_tensorflow\\lib\\site-packages\\keras\\callbacks.py:120: UserWarning: Method on_batch_end() is slow compared to the batch update (0.108224). Check your callbacks.\n",
      "  % delta_t_median)\n"
     ]
    },
    {
     "name": "stdout",
     "output_type": "stream",
     "text": [
      " 8704/14547 [================>.............] - ETA: 1s - loss: 226.2360 - mean_squared_error: 200.7176"
     ]
    },
    {
     "name": "stderr",
     "output_type": "stream",
     "text": [
      "C:\\Users\\controlslab\\Anaconda3\\envs\\gpu_tensorflow\\lib\\site-packages\\keras\\callbacks.py:120: UserWarning: Method on_batch_end() is slow compared to the batch update (0.102251). Check your callbacks.\n",
      "  % delta_t_median)\n"
     ]
    },
    {
     "name": "stdout",
     "output_type": "stream",
     "text": [
      "14547/14547 [==============================] - ETA: 0s - loss: 225.9035 - mean_squared_error: 200.4054 ETA: 1s - loss: 224.6082 - mean_squared_error: 199.09 - ETA: 1s - loss: 224.9149 - mean_squared_error: 199. - ETA: 0s - loss: 224.8545 - mean_squared_e - 3s 223us/step - loss: 225.9137 - mean_squared_error: 200.4166 - val_loss: 306.9695 - val_mean_squared_error: 281.5494\n",
      "Epoch 46/100\n",
      " 4096/14547 [=======>......................] - ETA: 0s - loss: 221.9200 - mean_squared_error: 196.51\r"
     ]
    },
    {
     "name": "stderr",
     "output_type": "stream",
     "text": [
      "C:\\Users\\controlslab\\Anaconda3\\envs\\gpu_tensorflow\\lib\\site-packages\\keras\\callbacks.py:120: UserWarning: Method on_batch_end() is slow compared to the batch update (0.108669). Check your callbacks.\n",
      "  % delta_t_median)\n"
     ]
    },
    {
     "name": "stdout",
     "output_type": "stream",
     "text": [
      "14547/14547 [==============================] - 2s 115us/step - loss: 224.7994 - mean_squared_error: 199.4436 - val_loss: 322.0558 - val_mean_squared_error: 296.7676 loss: 220.9047 - mean_squared - ETA: 0s - loss: 225.0226 - mean_squared_error: 199.66\n",
      "Epoch 47/100\n",
      " 3072/14547 [=====>........................] - ETA: 1s - loss: 232.0583 - mean_squared_error: 206.8005"
     ]
    },
    {
     "name": "stderr",
     "output_type": "stream",
     "text": [
      "C:\\Users\\controlslab\\Anaconda3\\envs\\gpu_tensorflow\\lib\\site-packages\\keras\\callbacks.py:120: UserWarning: Method on_batch_end() is slow compared to the batch update (0.142131). Check your callbacks.\n",
      "  % delta_t_median)\n"
     ]
    },
    {
     "name": "stdout",
     "output_type": "stream",
     "text": [
      " 6656/14547 [============>.................] - ETA: 1s - loss: 227.3355 - mean_squared_error: 202.0945"
     ]
    },
    {
     "name": "stderr",
     "output_type": "stream",
     "text": [
      "C:\\Users\\controlslab\\Anaconda3\\envs\\gpu_tensorflow\\lib\\site-packages\\keras\\callbacks.py:120: UserWarning: Method on_batch_end() is slow compared to the batch update (0.107489). Check your callbacks.\n",
      "  % delta_t_median)\n",
      "C:\\Users\\controlslab\\Anaconda3\\envs\\gpu_tensorflow\\lib\\site-packages\\keras\\callbacks.py:120: UserWarning: Method on_batch_end() is slow compared to the batch update (0.107479). Check your callbacks.\n",
      "  % delta_t_median)\n"
     ]
    },
    {
     "name": "stdout",
     "output_type": "stream",
     "text": [
      "14547/14547 [==============================] - 3s 205us/step - loss: 223.8843 - mean_squared_error: 198.6781 - val_loss: 316.9152 - val_mean_squared_error: 291.7635 - loss: 224.1453 - mean_squared_e\n",
      "Epoch 48/100\n",
      " 2048/14547 [===>..........................] - ETA: 2s - loss: 228.4284 - mean_squared_error: 203.2899 ETA: 1s - loss: 234.1653 - mean_squared_error: 209."
     ]
    },
    {
     "name": "stderr",
     "output_type": "stream",
     "text": [
      "C:\\Users\\controlslab\\Anaconda3\\envs\\gpu_tensorflow\\lib\\site-packages\\keras\\callbacks.py:120: UserWarning: Method on_batch_end() is slow compared to the batch update (0.138681). Check your callbacks.\n",
      "  % delta_t_median)\n"
     ]
    },
    {
     "name": "stdout",
     "output_type": "stream",
     "text": [
      " 6144/14547 [===========>..................] - ETA: 1s - loss: 225.9264 - mean_squared_error: 200.8201 ETA: 2s - loss: 225.5460 - mean_squared_error: 20 - ETA: 1s - loss: 227.1999 - mean_squared_error: 202. - ETA: 1s - loss: 226.5350 - mean_squared_error: 201.42"
     ]
    },
    {
     "name": "stderr",
     "output_type": "stream",
     "text": [
      "C:\\Users\\controlslab\\Anaconda3\\envs\\gpu_tensorflow\\lib\\site-packages\\keras\\callbacks.py:120: UserWarning: Method on_batch_end() is slow compared to the batch update (0.104719). Check your callbacks.\n",
      "  % delta_t_median)\n",
      "C:\\Users\\controlslab\\Anaconda3\\envs\\gpu_tensorflow\\lib\\site-packages\\keras\\callbacks.py:120: UserWarning: Method on_batch_end() is slow compared to the batch update (0.106239). Check your callbacks.\n",
      "  % delta_t_median)\n"
     ]
    },
    {
     "name": "stdout",
     "output_type": "stream",
     "text": [
      " 7680/14547 [==============>...............] - ETA: 1s - loss: 226.3673 - mean_squared_error: 201.2697"
     ]
    },
    {
     "name": "stderr",
     "output_type": "stream",
     "text": [
      "C:\\Users\\controlslab\\Anaconda3\\envs\\gpu_tensorflow\\lib\\site-packages\\keras\\callbacks.py:120: UserWarning: Method on_batch_end() is slow compared to the batch update (0.112186). Check your callbacks.\n",
      "  % delta_t_median)\n"
     ]
    },
    {
     "name": "stdout",
     "output_type": "stream",
     "text": [
      " 8704/14547 [================>.............] - ETA: 1s - loss: 227.5970 - mean_squared_error: 202.50 - ETA: 1s - loss: 227.2051 - mean_squared_error: 202.1126"
     ]
    },
    {
     "name": "stderr",
     "output_type": "stream",
     "text": [
      "C:\\Users\\controlslab\\Anaconda3\\envs\\gpu_tensorflow\\lib\\site-packages\\keras\\callbacks.py:120: UserWarning: Method on_batch_end() is slow compared to the batch update (0.114693). Check your callbacks.\n",
      "  % delta_t_median)\n",
      "C:\\Users\\controlslab\\Anaconda3\\envs\\gpu_tensorflow\\lib\\site-packages\\keras\\callbacks.py:120: UserWarning: Method on_batch_end() is slow compared to the batch update (0.118184). Check your callbacks.\n",
      "  % delta_t_median)\n"
     ]
    },
    {
     "name": "stdout",
     "output_type": "stream",
     "text": [
      "11776/14547 [=======================>......] - ETA: 1s - loss: 223.3545 - mean_squared_error: 198.2754"
     ]
    },
    {
     "name": "stderr",
     "output_type": "stream",
     "text": [
      "C:\\Users\\controlslab\\Anaconda3\\envs\\gpu_tensorflow\\lib\\site-packages\\keras\\callbacks.py:120: UserWarning: Method on_batch_end() is slow compared to the batch update (0.106752). Check your callbacks.\n",
      "  % delta_t_median)\n",
      "C:\\Users\\controlslab\\Anaconda3\\envs\\gpu_tensorflow\\lib\\site-packages\\keras\\callbacks.py:120: UserWarning: Method on_batch_end() is slow compared to the batch update (0.100269). Check your callbacks.\n",
      "  % delta_t_median)\n"
     ]
    },
    {
     "name": "stdout",
     "output_type": "stream",
     "text": [
      "14547/14547 [==============================] - ETA: 0s - loss: 223.8553 - mean_squared_error: 198.7889 ETA: 0s - loss: 223.4776 - mean_squared_error: 19 - 6s 389us/step - loss: 224.0235 - mean_squared_error: 198.9582 - val_loss: 283.5403 - val_mean_squared_error: 258.5764\n",
      "Epoch 49/100\n",
      " 2048/14547 [===>..........................] - ETA: 2s - loss: 224.1871 - mean_squared_error: 199.2054 ETA: 2s - loss: 225.1403 - mean_squared_error: 200.15"
     ]
    },
    {
     "name": "stderr",
     "output_type": "stream",
     "text": [
      "C:\\Users\\controlslab\\Anaconda3\\envs\\gpu_tensorflow\\lib\\site-packages\\keras\\callbacks.py:120: UserWarning: Method on_batch_end() is slow compared to the batch update (0.110205). Check your callbacks.\n",
      "  % delta_t_median)\n"
     ]
    },
    {
     "name": "stdout",
     "output_type": "stream",
     "text": [
      " 4096/14547 [=======>......................] - ETA: 2s - loss: 219.2843 - mean_squared_error: 194.30 - ETA: 1s - loss: 218.3987 - mean_squared_error: 193.4243"
     ]
    },
    {
     "name": "stderr",
     "output_type": "stream",
     "text": [
      "C:\\Users\\controlslab\\Anaconda3\\envs\\gpu_tensorflow\\lib\\site-packages\\keras\\callbacks.py:120: UserWarning: Method on_batch_end() is slow compared to the batch update (0.114720). Check your callbacks.\n",
      "  % delta_t_median)\n"
     ]
    },
    {
     "name": "stdout",
     "output_type": "stream",
     "text": [
      "10240/14547 [====================>.........] - ETA: 0s - loss: 225.1070 - mean_squared_error: 200.1691 ETA: 1s - loss: 221.7559 - mean_squared_error: 196.79 - ETA: 1s - loss: 223.8337 - mean_squared_e"
     ]
    },
    {
     "name": "stderr",
     "output_type": "stream",
     "text": [
      "C:\\Users\\controlslab\\Anaconda3\\envs\\gpu_tensorflow\\lib\\site-packages\\keras\\callbacks.py:120: UserWarning: Method on_batch_end() is slow compared to the batch update (0.106227). Check your callbacks.\n",
      "  % delta_t_median)\n",
      "C:\\Users\\controlslab\\Anaconda3\\envs\\gpu_tensorflow\\lib\\site-packages\\keras\\callbacks.py:120: UserWarning: Method on_batch_end() is slow compared to the batch update (0.110718). Check your callbacks.\n",
      "  % delta_t_median)\n"
     ]
    },
    {
     "name": "stdout",
     "output_type": "stream",
     "text": [
      "12800/14547 [=========================>....] - ETA: 0s - loss: 223.0688 - mean_squared_error: 198.1368 ETA: 0s - loss: 224.6665 - mean_squared_error: 19"
     ]
    },
    {
     "name": "stderr",
     "output_type": "stream",
     "text": [
      "C:\\Users\\controlslab\\Anaconda3\\envs\\gpu_tensorflow\\lib\\site-packages\\keras\\callbacks.py:120: UserWarning: Method on_batch_end() is slow compared to the batch update (0.118218). Check your callbacks.\n",
      "  % delta_t_median)\n"
     ]
    },
    {
     "name": "stdout",
     "output_type": "stream",
     "text": [
      "14336/14547 [============================>.] - ETA: 0s - loss: 223.2376 - mean_squared_error: 198.3120"
     ]
    },
    {
     "name": "stderr",
     "output_type": "stream",
     "text": [
      "C:\\Users\\controlslab\\Anaconda3\\envs\\gpu_tensorflow\\lib\\site-packages\\keras\\callbacks.py:120: UserWarning: Method on_batch_end() is slow compared to the batch update (0.101226). Check your callbacks.\n",
      "  % delta_t_median)\n"
     ]
    },
    {
     "name": "stdout",
     "output_type": "stream",
     "text": [
      "14547/14547 [==============================] - 3s 222us/step - loss: 223.4719 - mean_squared_error: 198.5471 - val_loss: 297.7206 - val_mean_squared_error: 272.8586\n",
      "Epoch 50/100\n",
      " 2048/14547 [===>..........................] - ETA: 2s - loss: 229.8053 - mean_squared_error: 204.94 - ETA: 1s - loss: 218.3399 - mean_squared_error: 193.4857"
     ]
    },
    {
     "name": "stderr",
     "output_type": "stream",
     "text": [
      "C:\\Users\\controlslab\\Anaconda3\\envs\\gpu_tensorflow\\lib\\site-packages\\keras\\callbacks.py:120: UserWarning: Method on_batch_end() is slow compared to the batch update (0.101754). Check your callbacks.\n",
      "  % delta_t_median)\n"
     ]
    },
    {
     "name": "stdout",
     "output_type": "stream",
     "text": [
      " 4096/14547 [=======>......................] - ETA: 1s - loss: 223.9049 - mean_squared_error: 199.0647"
     ]
    },
    {
     "name": "stderr",
     "output_type": "stream",
     "text": [
      "C:\\Users\\controlslab\\Anaconda3\\envs\\gpu_tensorflow\\lib\\site-packages\\keras\\callbacks.py:120: UserWarning: Method on_batch_end() is slow compared to the batch update (0.102253). Check your callbacks.\n",
      "  % delta_t_median)\n",
      "C:\\Users\\controlslab\\Anaconda3\\envs\\gpu_tensorflow\\lib\\site-packages\\keras\\callbacks.py:120: UserWarning: Method on_batch_end() is slow compared to the batch update (0.102752). Check your callbacks.\n",
      "  % delta_t_median)\n"
     ]
    },
    {
     "name": "stdout",
     "output_type": "stream",
     "text": [
      "14547/14547 [==============================] - ETA: 0s - loss: 222.6587 - mean_squared_error: 197.8703 ETA: 1s - loss: 223.1713 - mean_squared_error:  - ETA: 0s - loss: 223.1328 - mean_squared_error: 19 - 2s 149us/step - loss: 222.4077 - mean_squared_error: 197.6208 - val_loss: 295.7828 - val_mean_squared_error: 271.0782\n",
      "Epoch 51/100\n",
      " 3072/14547 [=====>........................] - ETA: 2s - loss: 220.3594 - mean_squared_error: 195.6568 ETA: 1s - loss: 223.8057 - mean_squared_error: \r"
     ]
    },
    {
     "name": "stderr",
     "output_type": "stream",
     "text": [
      "C:\\Users\\controlslab\\Anaconda3\\envs\\gpu_tensorflow\\lib\\site-packages\\keras\\callbacks.py:120: UserWarning: Method on_batch_end() is slow compared to the batch update (0.123668). Check your callbacks.\n",
      "  % delta_t_median)\n"
     ]
    },
    {
     "name": "stdout",
     "output_type": "stream",
     "text": [
      " 6144/14547 [===========>..................] - ETA: 2s - loss: 219.3528 - mean_squared_error: 194.66 - ETA: 1s - loss: 219.0872 - mean_squared_error: 194.3973"
     ]
    },
    {
     "name": "stderr",
     "output_type": "stream",
     "text": [
      "C:\\Users\\controlslab\\Anaconda3\\envs\\gpu_tensorflow\\lib\\site-packages\\keras\\callbacks.py:120: UserWarning: Method on_batch_end() is slow compared to the batch update (0.114706). Check your callbacks.\n",
      "  % delta_t_median)\n"
     ]
    },
    {
     "name": "stdout",
     "output_type": "stream",
     "text": [
      " 6656/14547 [============>.................] - ETA: 1s - loss: 219.6891 - mean_squared_error: 195.0035"
     ]
    },
    {
     "name": "stderr",
     "output_type": "stream",
     "text": [
      "C:\\Users\\controlslab\\Anaconda3\\envs\\gpu_tensorflow\\lib\\site-packages\\keras\\callbacks.py:120: UserWarning: Method on_batch_end() is slow compared to the batch update (0.128156). Check your callbacks.\n",
      "  % delta_t_median)\n",
      "C:\\Users\\controlslab\\Anaconda3\\envs\\gpu_tensorflow\\lib\\site-packages\\keras\\callbacks.py:120: UserWarning: Method on_batch_end() is slow compared to the batch update (0.138144). Check your callbacks.\n",
      "  % delta_t_median)\n"
     ]
    },
    {
     "name": "stdout",
     "output_type": "stream",
     "text": [
      " 9216/14547 [==================>...........] - ETA: 1s - loss: 222.0788 - mean_squared_error: 197.40 - ETA: 1s - loss: 222.1838 - mean_squared_error: 197.5135"
     ]
    },
    {
     "name": "stderr",
     "output_type": "stream",
     "text": [
      "C:\\Users\\controlslab\\Anaconda3\\envs\\gpu_tensorflow\\lib\\site-packages\\keras\\callbacks.py:120: UserWarning: Method on_batch_end() is slow compared to the batch update (0.103238). Check your callbacks.\n",
      "  % delta_t_median)\n"
     ]
    },
    {
     "name": "stdout",
     "output_type": "stream",
     "text": [
      "10752/14547 [=====================>........] - ETA: 0s - loss: 222.0831 - mean_squared_error: 197.4236 ETA: 1s - loss: 222.3104 - mean_squared_error: 197.64"
     ]
    },
    {
     "name": "stderr",
     "output_type": "stream",
     "text": [
      "C:\\Users\\controlslab\\Anaconda3\\envs\\gpu_tensorflow\\lib\\site-packages\\keras\\callbacks.py:120: UserWarning: Method on_batch_end() is slow compared to the batch update (0.106255). Check your callbacks.\n",
      "  % delta_t_median)\n",
      "C:\\Users\\controlslab\\Anaconda3\\envs\\gpu_tensorflow\\lib\\site-packages\\keras\\callbacks.py:120: UserWarning: Method on_batch_end() is slow compared to the batch update (0.103749). Check your callbacks.\n",
      "  % delta_t_median)\n"
     ]
    },
    {
     "name": "stdout",
     "output_type": "stream",
     "text": [
      "11776/14547 [=======================>......] - ETA: 0s - loss: 220.7438 - mean_squared_error: 196.0892"
     ]
    },
    {
     "name": "stderr",
     "output_type": "stream",
     "text": [
      "C:\\Users\\controlslab\\Anaconda3\\envs\\gpu_tensorflow\\lib\\site-packages\\keras\\callbacks.py:120: UserWarning: Method on_batch_end() is slow compared to the batch update (0.115217). Check your callbacks.\n",
      "  % delta_t_median)\n"
     ]
    },
    {
     "name": "stdout",
     "output_type": "stream",
     "text": [
      "14547/14547 [==============================] - 3s 230us/step - loss: 221.9281 - mean_squared_error: 197.2851 - val_loss: 303.3809 - val_mean_squared_error: 278.8091\n",
      "Epoch 52/100\n",
      " 1536/14547 [==>...........................] - ETA: 2s - loss: 219.7712 - mean_squared_error: 195.1965 ETA: 2s - loss: 220.9773 - mean_squared_error: 196.40"
     ]
    },
    {
     "name": "stderr",
     "output_type": "stream",
     "text": [
      "C:\\Users\\controlslab\\Anaconda3\\envs\\gpu_tensorflow\\lib\\site-packages\\keras\\callbacks.py:120: UserWarning: Method on_batch_end() is slow compared to the batch update (0.132664). Check your callbacks.\n",
      "  % delta_t_median)\n",
      "C:\\Users\\controlslab\\Anaconda3\\envs\\gpu_tensorflow\\lib\\site-packages\\keras\\callbacks.py:120: UserWarning: Method on_batch_end() is slow compared to the batch update (0.117204). Check your callbacks.\n",
      "  % delta_t_median)\n"
     ]
    },
    {
     "name": "stdout",
     "output_type": "stream",
     "text": [
      " 2560/14547 [====>.........................] - ETA: 2s - loss: 221.9410 - mean_squared_error: 197.3695"
     ]
    },
    {
     "name": "stderr",
     "output_type": "stream",
     "text": [
      "C:\\Users\\controlslab\\Anaconda3\\envs\\gpu_tensorflow\\lib\\site-packages\\keras\\callbacks.py:120: UserWarning: Method on_batch_end() is slow compared to the batch update (0.101744). Check your callbacks.\n",
      "  % delta_t_median)\n"
     ]
    },
    {
     "name": "stdout",
     "output_type": "stream",
     "text": [
      " 4608/14547 [========>.....................] - ETA: 2s - loss: 221.6110 - mean_squared_error: 197.0412 ETA: 2s - loss: 221.5263 - mean_squared_error: 196.\r"
     ]
    },
    {
     "name": "stderr",
     "output_type": "stream",
     "text": [
      "C:\\Users\\controlslab\\Anaconda3\\envs\\gpu_tensorflow\\lib\\site-packages\\keras\\callbacks.py:120: UserWarning: Method on_batch_end() is slow compared to the batch update (0.107733). Check your callbacks.\n",
      "  % delta_t_median)\n",
      "C:\\Users\\controlslab\\Anaconda3\\envs\\gpu_tensorflow\\lib\\site-packages\\keras\\callbacks.py:120: UserWarning: Method on_batch_end() is slow compared to the batch update (0.113723). Check your callbacks.\n",
      "  % delta_t_median)\n"
     ]
    },
    {
     "name": "stdout",
     "output_type": "stream",
     "text": [
      " 6144/14547 [===========>..................] - ETA: 2s - loss: 221.4638 - mean_squared_error: 196.8963"
     ]
    },
    {
     "name": "stderr",
     "output_type": "stream",
     "text": [
      "C:\\Users\\controlslab\\Anaconda3\\envs\\gpu_tensorflow\\lib\\site-packages\\keras\\callbacks.py:120: UserWarning: Method on_batch_end() is slow compared to the batch update (0.115219). Check your callbacks.\n",
      "  % delta_t_median)\n",
      "C:\\Users\\controlslab\\Anaconda3\\envs\\gpu_tensorflow\\lib\\site-packages\\keras\\callbacks.py:120: UserWarning: Method on_batch_end() is slow compared to the batch update (0.111227). Check your callbacks.\n",
      "  % delta_t_median)\n"
     ]
    },
    {
     "name": "stdout",
     "output_type": "stream",
     "text": [
      " 8704/14547 [================>.............] - ETA: 1s - loss: 219.9727 - mean_squared_error: 195.4190 ETA: 1s - loss: 221.2282 - mean_squared_error: 196.67"
     ]
    },
    {
     "name": "stderr",
     "output_type": "stream",
     "text": [
      "C:\\Users\\controlslab\\Anaconda3\\envs\\gpu_tensorflow\\lib\\site-packages\\keras\\callbacks.py:120: UserWarning: Method on_batch_end() is slow compared to the batch update (0.108324). Check your callbacks.\n",
      "  % delta_t_median)\n"
     ]
    },
    {
     "name": "stdout",
     "output_type": "stream",
     "text": [
      "11776/14547 [=======================>......] - ETA: 1s - loss: 220.6303 - mean_squared_error: 196.07 - ETA: 0s - loss: 220.4108 - mean_squared_error: 195.86"
     ]
    },
    {
     "name": "stderr",
     "output_type": "stream",
     "text": [
      "C:\\Users\\controlslab\\Anaconda3\\envs\\gpu_tensorflow\\lib\\site-packages\\keras\\callbacks.py:120: UserWarning: Method on_batch_end() is slow compared to the batch update (0.106305). Check your callbacks.\n",
      "  % delta_t_median)\n"
     ]
    },
    {
     "name": "stdout",
     "output_type": "stream",
     "text": [
      "14547/14547 [==============================] - 3s 196us/step - loss: 220.6090 - mean_squared_error: 196.0820 - val_loss: 312.3000 - val_mean_squared_error: 287.8390\n",
      "Epoch 53/100\n",
      " 4096/14547 [=======>......................] - ETA: 3s - loss: 220.7649 - mean_squared_error: 196.31 - ETA: 0s - loss: 222.4344 - mean_squared_error: 197.9960"
     ]
    },
    {
     "name": "stderr",
     "output_type": "stream",
     "text": [
      "C:\\Users\\controlslab\\Anaconda3\\envs\\gpu_tensorflow\\lib\\site-packages\\keras\\callbacks.py:120: UserWarning: Method on_batch_end() is slow compared to the batch update (0.191519). Check your callbacks.\n",
      "  % delta_t_median)\n",
      "C:\\Users\\controlslab\\Anaconda3\\envs\\gpu_tensorflow\\lib\\site-packages\\keras\\callbacks.py:120: UserWarning: Method on_batch_end() is slow compared to the batch update (0.107728). Check your callbacks.\n",
      "  % delta_t_median)\n"
     ]
    },
    {
     "name": "stdout",
     "output_type": "stream",
     "text": [
      "11264/14547 [======================>.......] - ETA: 1s - loss: 220.6564 - mean_squared_error: 196.2468"
     ]
    },
    {
     "name": "stderr",
     "output_type": "stream",
     "text": [
      "C:\\Users\\controlslab\\Anaconda3\\envs\\gpu_tensorflow\\lib\\site-packages\\keras\\callbacks.py:120: UserWarning: Method on_batch_end() is slow compared to the batch update (0.102749). Check your callbacks.\n",
      "  % delta_t_median)\n"
     ]
    },
    {
     "name": "stdout",
     "output_type": "stream",
     "text": [
      "14547/14547 [==============================] - 5s 342us/step - loss: 221.1170 - mean_squared_error: 196.7239 - val_loss: 319.7094 - val_mean_squared_error: 295.3957\n",
      "Epoch 54/100\n",
      " 1536/14547 [==>...........................] - ETA: 3s - loss: 207.8059 - mean_squared_error: 183.5074 ETA: 2s - loss: 202.4951 - mean_squared_error: 178.18"
     ]
    },
    {
     "name": "stderr",
     "output_type": "stream",
     "text": [
      "C:\\Users\\controlslab\\Anaconda3\\envs\\gpu_tensorflow\\lib\\site-packages\\keras\\callbacks.py:120: UserWarning: Method on_batch_end() is slow compared to the batch update (0.155584). Check your callbacks.\n",
      "  % delta_t_median)\n",
      "C:\\Users\\controlslab\\Anaconda3\\envs\\gpu_tensorflow\\lib\\site-packages\\keras\\callbacks.py:120: UserWarning: Method on_batch_end() is slow compared to the batch update (0.148104). Check your callbacks.\n",
      "  % delta_t_median)\n"
     ]
    },
    {
     "name": "stdout",
     "output_type": "stream",
     "text": [
      " 4096/14547 [=======>......................] - ETA: 2s - loss: 214.5757 - mean_squared_error: 190.2916"
     ]
    },
    {
     "name": "stderr",
     "output_type": "stream",
     "text": [
      "C:\\Users\\controlslab\\Anaconda3\\envs\\gpu_tensorflow\\lib\\site-packages\\keras\\callbacks.py:120: UserWarning: Method on_batch_end() is slow compared to the batch update (0.134147). Check your callbacks.\n",
      "  % delta_t_median)\n",
      "C:\\Users\\controlslab\\Anaconda3\\envs\\gpu_tensorflow\\lib\\site-packages\\keras\\callbacks.py:120: UserWarning: Method on_batch_end() is slow compared to the batch update (0.127671). Check your callbacks.\n",
      "  % delta_t_median)\n"
     ]
    },
    {
     "name": "stdout",
     "output_type": "stream",
     "text": [
      " 5632/14547 [==========>...................] - ETA: 2s - loss: 219.3585 - mean_squared_error: 195.0815 ETA: 2s - loss: 217.5802 - mean_squared_error: 193.30"
     ]
    },
    {
     "name": "stderr",
     "output_type": "stream",
     "text": [
      "C:\\Users\\controlslab\\Anaconda3\\envs\\gpu_tensorflow\\lib\\site-packages\\keras\\callbacks.py:120: UserWarning: Method on_batch_end() is slow compared to the batch update (0.113718). Check your callbacks.\n",
      "  % delta_t_median)\n"
     ]
    },
    {
     "name": "stdout",
     "output_type": "stream",
     "text": [
      "14547/14547 [==============================] - 2s 166us/step - loss: 220.1600 - mean_squared_error: 195.9178 - val_loss: 311.6511 - val_mean_squared_error: 287.4654\n",
      "Epoch 55/100\n",
      " 1536/14547 [==>...........................] - ETA: 3s - loss: 221.7289 - mean_squared_error: 197.5513"
     ]
    },
    {
     "name": "stderr",
     "output_type": "stream",
     "text": [
      "C:\\Users\\controlslab\\Anaconda3\\envs\\gpu_tensorflow\\lib\\site-packages\\keras\\callbacks.py:120: UserWarning: Method on_batch_end() is slow compared to the batch update (0.218446). Check your callbacks.\n",
      "  % delta_t_median)\n",
      "C:\\Users\\controlslab\\Anaconda3\\envs\\gpu_tensorflow\\lib\\site-packages\\keras\\callbacks.py:120: UserWarning: Method on_batch_end() is slow compared to the batch update (0.142140). Check your callbacks.\n",
      "  % delta_t_median)\n"
     ]
    },
    {
     "name": "stdout",
     "output_type": "stream",
     "text": [
      " 7680/14547 [==============>...............] - ETA: 1s - loss: 222.9492 - mean_squared_error: 198.7996 ETA: 1s - loss: 220.9701 - mean_squared_error: 196.80 - ETA: 2s - loss: 221.3953 - mean_squared_error - ETA: 1s - loss: 221.9086 - mean_squared_error: 197.7615"
     ]
    },
    {
     "name": "stderr",
     "output_type": "stream",
     "text": [
      "C:\\Users\\controlslab\\Anaconda3\\envs\\gpu_tensorflow\\lib\\site-packages\\keras\\callbacks.py:120: UserWarning: Method on_batch_end() is slow compared to the batch update (0.105741). Check your callbacks.\n",
      "  % delta_t_median)\n"
     ]
    },
    {
     "name": "stdout",
     "output_type": "stream",
     "text": [
      " 8192/14547 [===============>..............] - ETA: 1s - loss: 221.5627 - mean_squared_error: 197.4190"
     ]
    },
    {
     "name": "stderr",
     "output_type": "stream",
     "text": [
      "C:\\Users\\controlslab\\Anaconda3\\envs\\gpu_tensorflow\\lib\\site-packages\\keras\\callbacks.py:120: UserWarning: Method on_batch_end() is slow compared to the batch update (0.101753). Check your callbacks.\n",
      "  % delta_t_median)\n",
      "C:\\Users\\controlslab\\Anaconda3\\envs\\gpu_tensorflow\\lib\\site-packages\\keras\\callbacks.py:120: UserWarning: Method on_batch_end() is slow compared to the batch update (0.117699). Check your callbacks.\n",
      "  % delta_t_median)\n"
     ]
    },
    {
     "name": "stdout",
     "output_type": "stream",
     "text": [
      "10240/14547 [====================>.........] - ETA: 1s - loss: 221.6357 - mean_squared_error: 197.5045 ETA: 1s - loss: 220.9742 - mean_squared_error: 196.84"
     ]
    },
    {
     "name": "stderr",
     "output_type": "stream",
     "text": [
      "C:\\Users\\controlslab\\Anaconda3\\envs\\gpu_tensorflow\\lib\\site-packages\\keras\\callbacks.py:120: UserWarning: Method on_batch_end() is slow compared to the batch update (0.137147). Check your callbacks.\n",
      "  % delta_t_median)\n"
     ]
    },
    {
     "name": "stdout",
     "output_type": "stream",
     "text": [
      "14547/14547 [==============================] - 3s 214us/step - loss: 219.1628 - mean_squared_error: 195.0504 - val_loss: 314.2649 - val_mean_squared_error: 290.2115\n",
      "Epoch 56/100\n",
      " 5120/14547 [=========>....................] - ETA: 1s - loss: 220.3514 - mean_squared_error: 196.32"
     ]
    },
    {
     "name": "stderr",
     "output_type": "stream",
     "text": [
      "C:\\Users\\controlslab\\Anaconda3\\envs\\gpu_tensorflow\\lib\\site-packages\\keras\\callbacks.py:120: UserWarning: Method on_batch_end() is slow compared to the batch update (0.100929). Check your callbacks.\n",
      "  % delta_t_median)\n",
      "C:\\Users\\controlslab\\Anaconda3\\envs\\gpu_tensorflow\\lib\\site-packages\\keras\\callbacks.py:120: UserWarning: Method on_batch_end() is slow compared to the batch update (0.102825). Check your callbacks.\n",
      "  % delta_t_median)\n"
     ]
    },
    {
     "name": "stdout",
     "output_type": "stream",
     "text": [
      " 6656/14547 [============>.................] - ETA: 1s - loss: 222.3965 - mean_squared_error: 198.3818 ETA: 1s - loss: 222.5997 - mean_squared_error: 198.58"
     ]
    },
    {
     "name": "stderr",
     "output_type": "stream",
     "text": [
      "C:\\Users\\controlslab\\Anaconda3\\envs\\gpu_tensorflow\\lib\\site-packages\\keras\\callbacks.py:120: UserWarning: Method on_batch_end() is slow compared to the batch update (0.104218). Check your callbacks.\n",
      "  % delta_t_median)\n",
      "C:\\Users\\controlslab\\Anaconda3\\envs\\gpu_tensorflow\\lib\\site-packages\\keras\\callbacks.py:120: UserWarning: Method on_batch_end() is slow compared to the batch update (0.108444). Check your callbacks.\n",
      "  % delta_t_median)\n"
     ]
    },
    {
     "name": "stdout",
     "output_type": "stream",
     "text": [
      "10752/14547 [=====================>........] - ETA: 0s - loss: 222.0154 - mean_squared_error: 198.0171"
     ]
    },
    {
     "name": "stderr",
     "output_type": "stream",
     "text": [
      "C:\\Users\\controlslab\\Anaconda3\\envs\\gpu_tensorflow\\lib\\site-packages\\keras\\callbacks.py:120: UserWarning: Method on_batch_end() is slow compared to the batch update (0.108943). Check your callbacks.\n",
      "  % delta_t_median)\n",
      "C:\\Users\\controlslab\\Anaconda3\\envs\\gpu_tensorflow\\lib\\site-packages\\keras\\callbacks.py:120: UserWarning: Method on_batch_end() is slow compared to the batch update (0.105218). Check your callbacks.\n",
      "  % delta_t_median)\n",
      "C:\\Users\\controlslab\\Anaconda3\\envs\\gpu_tensorflow\\lib\\site-packages\\keras\\callbacks.py:120: UserWarning: Method on_batch_end() is slow compared to the batch update (0.104717). Check your callbacks.\n",
      "  % delta_t_median)\n"
     ]
    },
    {
     "name": "stdout",
     "output_type": "stream",
     "text": [
      "14547/14547 [==============================] - 3s 173us/step - loss: 218.5640 - mean_squared_error: 194.5807 - val_loss: 320.5694 - val_mean_squared_error: 296.6411\n",
      "Epoch 57/100\n",
      " 2560/14547 [====>.........................] - ETA: 1s - loss: 221.5212 - mean_squared_error: 197.6226"
     ]
    },
    {
     "name": "stderr",
     "output_type": "stream",
     "text": [
      "C:\\Users\\controlslab\\Anaconda3\\envs\\gpu_tensorflow\\lib\\site-packages\\keras\\callbacks.py:120: UserWarning: Method on_batch_end() is slow compared to the batch update (0.168549). Check your callbacks.\n",
      "  % delta_t_median)\n"
     ]
    },
    {
     "name": "stdout",
     "output_type": "stream",
     "text": [
      " 7168/14547 [=============>................] - ETA: 1s - loss: 216.8545 - mean_squared_error: 192.9682 ETA: 1s - loss: 217.1518 - mean_squared_error: 193. - ETA: 1s - loss: 217.1884 - mean_squared_error: 193.30 - ETA: 1s - loss: 217.7511 - mean_squared_error: 193.8709"
     ]
    },
    {
     "name": "stderr",
     "output_type": "stream",
     "text": [
      "C:\\Users\\controlslab\\Anaconda3\\envs\\gpu_tensorflow\\lib\\site-packages\\keras\\callbacks.py:120: UserWarning: Method on_batch_end() is slow compared to the batch update (0.119208). Check your callbacks.\n",
      "  % delta_t_median)\n",
      "C:\\Users\\controlslab\\Anaconda3\\envs\\gpu_tensorflow\\lib\\site-packages\\keras\\callbacks.py:120: UserWarning: Method on_batch_end() is slow compared to the batch update (0.144639). Check your callbacks.\n",
      "  % delta_t_median)\n"
     ]
    },
    {
     "name": "stdout",
     "output_type": "stream",
     "text": [
      " 8704/14547 [================>.............] - ETA: 1s - loss: 217.6954 - mean_squared_error: 193.8226 ETA: 1s - loss: 216.5714 - mean_squared_error: 192.69"
     ]
    },
    {
     "name": "stderr",
     "output_type": "stream",
     "text": [
      "C:\\Users\\controlslab\\Anaconda3\\envs\\gpu_tensorflow\\lib\\site-packages\\keras\\callbacks.py:120: UserWarning: Method on_batch_end() is slow compared to the batch update (0.119707). Check your callbacks.\n",
      "  % delta_t_median)\n",
      "C:\\Users\\controlslab\\Anaconda3\\envs\\gpu_tensorflow\\lib\\site-packages\\keras\\callbacks.py:120: UserWarning: Method on_batch_end() is slow compared to the batch update (0.111714). Check your callbacks.\n",
      "  % delta_t_median)\n"
     ]
    },
    {
     "name": "stdout",
     "output_type": "stream",
     "text": [
      "10240/14547 [====================>.........] - ETA: 0s - loss: 219.5700 - mean_squared_error: 195.7044"
     ]
    },
    {
     "name": "stderr",
     "output_type": "stream",
     "text": [
      "C:\\Users\\controlslab\\Anaconda3\\envs\\gpu_tensorflow\\lib\\site-packages\\keras\\callbacks.py:120: UserWarning: Method on_batch_end() is slow compared to the batch update (0.138642). Check your callbacks.\n",
      "  % delta_t_median)\n",
      "C:\\Users\\controlslab\\Anaconda3\\envs\\gpu_tensorflow\\lib\\site-packages\\keras\\callbacks.py:120: UserWarning: Method on_batch_end() is slow compared to the batch update (0.148130). Check your callbacks.\n",
      "  % delta_t_median)\n"
     ]
    },
    {
     "name": "stdout",
     "output_type": "stream",
     "text": [
      "12288/14547 [========================>.....] - ETA: 0s - loss: 218.4469 - mean_squared_error: 194.5893"
     ]
    },
    {
     "name": "stderr",
     "output_type": "stream",
     "text": [
      "C:\\Users\\controlslab\\Anaconda3\\envs\\gpu_tensorflow\\lib\\site-packages\\keras\\callbacks.py:120: UserWarning: Method on_batch_end() is slow compared to the batch update (0.136148). Check your callbacks.\n",
      "  % delta_t_median)\n",
      "C:\\Users\\controlslab\\Anaconda3\\envs\\gpu_tensorflow\\lib\\site-packages\\keras\\callbacks.py:120: UserWarning: Method on_batch_end() is slow compared to the batch update (0.115205). Check your callbacks.\n",
      "  % delta_t_median)\n",
      "C:\\Users\\controlslab\\Anaconda3\\envs\\gpu_tensorflow\\lib\\site-packages\\keras\\callbacks.py:120: UserWarning: Method on_batch_end() is slow compared to the batch update (0.100259). Check your callbacks.\n",
      "  % delta_t_median)\n"
     ]
    },
    {
     "name": "stdout",
     "output_type": "stream",
     "text": [
      "14547/14547 [==============================] - 3s 216us/step - loss: 218.4294 - mean_squared_error: 194.5802 - val_loss: 314.6807 - val_mean_squared_error: 290.8742\n"
     ]
    },
    {
     "name": "stderr",
     "output_type": "stream",
     "text": [
      "C:\\Users\\controlslab\\Anaconda3\\envs\\gpu_tensorflow\\lib\\site-packages\\keras\\callbacks.py:120: UserWarning: Method on_batch_end() is slow compared to the batch update (0.100258). Check your callbacks.\n",
      "  % delta_t_median)\n"
     ]
    },
    {
     "name": "stdout",
     "output_type": "stream",
     "text": [
      "Epoch 58/100\n",
      " 3072/14547 [=====>........................] - ETA: 1s - loss: 213.0379 - mean_squared_error: 189.2335"
     ]
    },
    {
     "name": "stderr",
     "output_type": "stream",
     "text": [
      "C:\\Users\\controlslab\\Anaconda3\\envs\\gpu_tensorflow\\lib\\site-packages\\keras\\callbacks.py:120: UserWarning: Method on_batch_end() is slow compared to the batch update (0.116206). Check your callbacks.\n",
      "  % delta_t_median)\n"
     ]
    },
    {
     "name": "stdout",
     "output_type": "stream",
     "text": [
      "14547/14547 [==============================] - ETA: 0s - loss: 217.6655 - mean_squared_error: 193.9223 ETA: 1s - loss: 215.3481 - mean_squared_error - ETA: 0s - loss: 216.7825 - mean_squared_error - ETA: 0s - loss: 217.0084 - mean_squared_err - 5s 367us/step - loss: 217.8960 - mean_squared_error: 194.1538 - val_loss: 330.7022 - val_mean_squared_error: 307.0077\n",
      "Epoch 59/100"
     ]
    },
    {
     "name": "stderr",
     "output_type": "stream",
     "text": [
      "C:\\Users\\controlslab\\Anaconda3\\envs\\gpu_tensorflow\\lib\\site-packages\\keras\\callbacks.py:120: UserWarning: Method on_batch_end() is slow compared to the batch update (0.100244). Check your callbacks.\n",
      "  % delta_t_median)\n"
     ]
    },
    {
     "name": "stdout",
     "output_type": "stream",
     "text": [
      "\n",
      " 1536/14547 [==>...........................] - ETA: 3s - loss: 211.9102 - mean_squared_error: 188.2356 ETA: 2s - loss: 210.3621 - mean_squared_error: 186.67"
     ]
    },
    {
     "name": "stderr",
     "output_type": "stream",
     "text": [
      "C:\\Users\\controlslab\\Anaconda3\\envs\\gpu_tensorflow\\lib\\site-packages\\keras\\callbacks.py:120: UserWarning: Method on_batch_end() is slow compared to the batch update (0.153589). Check your callbacks.\n",
      "  % delta_t_median)\n",
      "C:\\Users\\controlslab\\Anaconda3\\envs\\gpu_tensorflow\\lib\\site-packages\\keras\\callbacks.py:120: UserWarning: Method on_batch_end() is slow compared to the batch update (0.155107). Check your callbacks.\n",
      "  % delta_t_median)\n"
     ]
    },
    {
     "name": "stdout",
     "output_type": "stream",
     "text": [
      " 3072/14547 [=====>........................] - ETA: 2s - loss: 207.9572 - mean_squared_error: 184.2871"
     ]
    },
    {
     "name": "stderr",
     "output_type": "stream",
     "text": [
      "C:\\Users\\controlslab\\Anaconda3\\envs\\gpu_tensorflow\\lib\\site-packages\\keras\\callbacks.py:120: UserWarning: Method on_batch_end() is slow compared to the batch update (0.131662). Check your callbacks.\n",
      "  % delta_t_median)\n"
     ]
    },
    {
     "name": "stdout",
     "output_type": "stream",
     "text": [
      " 8704/14547 [================>.............] - ETA: 1s - loss: 216.7852 - mean_squared_error: 193.1405 ETA: 1s - loss: 216.3333 - mean_squared_error: 192.67 - ETA: 1s - loss: 215.9738 - mean_squared_error: 192.32 - ETA: 1s - loss: 217.1382 - mean_squared_error: 193."
     ]
    },
    {
     "name": "stderr",
     "output_type": "stream",
     "text": [
      "C:\\Users\\controlslab\\Anaconda3\\envs\\gpu_tensorflow\\lib\\site-packages\\keras\\callbacks.py:120: UserWarning: Method on_batch_end() is slow compared to the batch update (0.111730). Check your callbacks.\n",
      "  % delta_t_median)\n",
      "C:\\Users\\controlslab\\Anaconda3\\envs\\gpu_tensorflow\\lib\\site-packages\\keras\\callbacks.py:120: UserWarning: Method on_batch_end() is slow compared to the batch update (0.114719). Check your callbacks.\n",
      "  % delta_t_median)\n"
     ]
    },
    {
     "name": "stdout",
     "output_type": "stream",
     "text": [
      "14547/14547 [==============================] - 3s 233us/step - loss: 217.0302 - mean_squared_error: 193.4139 - val_loss: 362.0490 - val_mean_squared_error: 338.4782 loss: 215.8946 - mean_squared_error: 192.26 - ETA: 0s - loss: 215.5255 - mean_squared_error\n"
     ]
    },
    {
     "name": "stderr",
     "output_type": "stream",
     "text": [
      "C:\\Users\\controlslab\\Anaconda3\\envs\\gpu_tensorflow\\lib\\site-packages\\keras\\callbacks.py:120: UserWarning: Method on_batch_end() is slow compared to the batch update (0.102536). Check your callbacks.\n",
      "  % delta_t_median)\n"
     ]
    },
    {
     "name": "stdout",
     "output_type": "stream",
     "text": [
      "Epoch 60/100\n",
      " 1536/14547 [==>...........................] - ETA: 2s - loss: 229.6417 - mean_squared_error: 206.1119"
     ]
    },
    {
     "name": "stderr",
     "output_type": "stream",
     "text": [
      "C:\\Users\\controlslab\\Anaconda3\\envs\\gpu_tensorflow\\lib\\site-packages\\keras\\callbacks.py:120: UserWarning: Method on_batch_end() is slow compared to the batch update (0.134640). Check your callbacks.\n",
      "  % delta_t_median)\n",
      "C:\\Users\\controlslab\\Anaconda3\\envs\\gpu_tensorflow\\lib\\site-packages\\keras\\callbacks.py:120: UserWarning: Method on_batch_end() is slow compared to the batch update (0.109221). Check your callbacks.\n",
      "  % delta_t_median)\n"
     ]
    },
    {
     "name": "stdout",
     "output_type": "stream",
     "text": [
      " 3072/14547 [=====>........................] - ETA: 2s - loss: 220.5061 - mean_squared_error: 196.9753 ETA: 2s - loss: 223.7806 - mean_squared_error: 200.24"
     ]
    },
    {
     "name": "stderr",
     "output_type": "stream",
     "text": [
      "C:\\Users\\controlslab\\Anaconda3\\envs\\gpu_tensorflow\\lib\\site-packages\\keras\\callbacks.py:120: UserWarning: Method on_batch_end() is slow compared to the batch update (0.132222). Check your callbacks.\n",
      "  % delta_t_median)\n",
      "C:\\Users\\controlslab\\Anaconda3\\envs\\gpu_tensorflow\\lib\\site-packages\\keras\\callbacks.py:120: UserWarning: Method on_batch_end() is slow compared to the batch update (0.133431). Check your callbacks.\n",
      "  % delta_t_median)\n"
     ]
    },
    {
     "name": "stdout",
     "output_type": "stream",
     "text": [
      " 6144/14547 [===========>..................] - ETA: 2s - loss: 217.4859 - mean_squared_error: 193.9674"
     ]
    },
    {
     "name": "stderr",
     "output_type": "stream",
     "text": [
      "C:\\Users\\controlslab\\Anaconda3\\envs\\gpu_tensorflow\\lib\\site-packages\\keras\\callbacks.py:120: UserWarning: Method on_batch_end() is slow compared to the batch update (0.114994). Check your callbacks.\n",
      "  % delta_t_median)\n"
     ]
    },
    {
     "name": "stdout",
     "output_type": "stream",
     "text": [
      " 7168/14547 [=============>................] - ETA: 1s - loss: 217.7668 - mean_squared_error: 194.25"
     ]
    },
    {
     "name": "stderr",
     "output_type": "stream",
     "text": [
      "C:\\Users\\controlslab\\Anaconda3\\envs\\gpu_tensorflow\\lib\\site-packages\\keras\\callbacks.py:120: UserWarning: Method on_batch_end() is slow compared to the batch update (0.104249). Check your callbacks.\n",
      "  % delta_t_median)\n"
     ]
    },
    {
     "name": "stdout",
     "output_type": "stream",
     "text": [
      "10240/14547 [====================>.........] - ETA: 1s - loss: 218.7462 - mean_squared_error: 195.2490"
     ]
    },
    {
     "name": "stderr",
     "output_type": "stream",
     "text": [
      "C:\\Users\\controlslab\\Anaconda3\\envs\\gpu_tensorflow\\lib\\site-packages\\keras\\callbacks.py:120: UserWarning: Method on_batch_end() is slow compared to the batch update (0.104745). Check your callbacks.\n",
      "  % delta_t_median)\n"
     ]
    },
    {
     "name": "stdout",
     "output_type": "stream",
     "text": [
      "13312/14547 [==========================>...] - ETA: 0s - loss: 217.6109 - mean_squared_error: 194.1271 ETA: 0s - loss: 218.1558 - mean_squared_error: 19"
     ]
    },
    {
     "name": "stderr",
     "output_type": "stream",
     "text": [
      "C:\\Users\\controlslab\\Anaconda3\\envs\\gpu_tensorflow\\lib\\site-packages\\keras\\callbacks.py:120: UserWarning: Method on_batch_end() is slow compared to the batch update (0.107722). Check your callbacks.\n",
      "  % delta_t_median)\n"
     ]
    },
    {
     "name": "stdout",
     "output_type": "stream",
     "text": [
      "14547/14547 [==============================] - 3s 239us/step - loss: 217.6172 - mean_squared_error: 194.1379 - val_loss: 296.6722 - val_mean_squared_error: 273.2725\n",
      "Epoch 61/100\n",
      " 6656/14547 [============>.................] - ETA: 1s - loss: 215.3213 - mean_squared_error: 191.9315"
     ]
    },
    {
     "name": "stderr",
     "output_type": "stream",
     "text": [
      "C:\\Users\\controlslab\\Anaconda3\\envs\\gpu_tensorflow\\lib\\site-packages\\keras\\callbacks.py:120: UserWarning: Method on_batch_end() is slow compared to the batch update (0.103963). Check your callbacks.\n",
      "  % delta_t_median)\n",
      "C:\\Users\\controlslab\\Anaconda3\\envs\\gpu_tensorflow\\lib\\site-packages\\keras\\callbacks.py:120: UserWarning: Method on_batch_end() is slow compared to the batch update (0.106715). Check your callbacks.\n",
      "  % delta_t_median)\n"
     ]
    },
    {
     "name": "stdout",
     "output_type": "stream",
     "text": [
      "\b\b\b\b\b\b\b\b\b\b\b\b\b\b\b\b\b\b\b\b\b\b\b\b\b\b\b\b\b\b\b\b\b\b\b\b\b\b\b\b\b\b\b\b\b\b\b\b\b\b\b\b\b\b\b\b\b\b\b\b\b\b\b\b\b\b\b\b\b\b\b\b\b\b\b\b\b\b\b\b\b\b\b\b\b\b\b\b\b\b\b\b\b\b\b\b\b\b\b\b\b\b\r",
      " 7168/14547 [=============>................] - ETA: 1s - loss: 215.2879 - mean_squared_error: 191.8984"
     ]
    },
    {
     "name": "stderr",
     "output_type": "stream",
     "text": [
      "C:\\Users\\controlslab\\Anaconda3\\envs\\gpu_tensorflow\\lib\\site-packages\\keras\\callbacks.py:120: UserWarning: Method on_batch_end() is slow compared to the batch update (0.110722). Check your callbacks.\n",
      "  % delta_t_median)\n",
      "C:\\Users\\controlslab\\Anaconda3\\envs\\gpu_tensorflow\\lib\\site-packages\\keras\\callbacks.py:120: UserWarning: Method on_batch_end() is slow compared to the batch update (0.122675). Check your callbacks.\n",
      "  % delta_t_median)\n"
     ]
    },
    {
     "name": "stdout",
     "output_type": "stream",
     "text": [
      " 8704/14547 [================>.............] - ETA: 1s - loss: 218.3440 - mean_squared_error: 194.9626"
     ]
    },
    {
     "name": "stderr",
     "output_type": "stream",
     "text": [
      "C:\\Users\\controlslab\\Anaconda3\\envs\\gpu_tensorflow\\lib\\site-packages\\keras\\callbacks.py:120: UserWarning: Method on_batch_end() is slow compared to the batch update (0.139112). Check your callbacks.\n",
      "  % delta_t_median)\n",
      "C:\\Users\\controlslab\\Anaconda3\\envs\\gpu_tensorflow\\lib\\site-packages\\keras\\callbacks.py:120: UserWarning: Method on_batch_end() is slow compared to the batch update (0.130634). Check your callbacks.\n",
      "  % delta_t_median)\n",
      "C:\\Users\\controlslab\\Anaconda3\\envs\\gpu_tensorflow\\lib\\site-packages\\keras\\callbacks.py:120: UserWarning: Method on_batch_end() is slow compared to the batch update (0.119697). Check your callbacks.\n",
      "  % delta_t_median)\n"
     ]
    },
    {
     "name": "stdout",
     "output_type": "stream",
     "text": [
      "11776/14547 [=======================>......] - ETA: 0s - loss: 216.8139 - mean_squared_error: 193.4454 ETA: 0s - loss: 217.3115 - mean_squared_error: 193.94"
     ]
    },
    {
     "name": "stderr",
     "output_type": "stream",
     "text": [
      "C:\\Users\\controlslab\\Anaconda3\\envs\\gpu_tensorflow\\lib\\site-packages\\keras\\callbacks.py:120: UserWarning: Method on_batch_end() is slow compared to the batch update (0.115689). Check your callbacks.\n",
      "  % delta_t_median)\n",
      "C:\\Users\\controlslab\\Anaconda3\\envs\\gpu_tensorflow\\lib\\site-packages\\keras\\callbacks.py:120: UserWarning: Method on_batch_end() is slow compared to the batch update (0.115204). Check your callbacks.\n",
      "  % delta_t_median)\n"
     ]
    },
    {
     "name": "stdout",
     "output_type": "stream",
     "text": [
      "14547/14547 [==============================] - 3s 231us/step - loss: 215.9974 - mean_squared_error: 192.6398 - val_loss: 300.0499 - val_mean_squared_error: 276.7767\n",
      "Epoch 62/100\n",
      " 1536/14547 [==>...........................] - ETA: 2s - loss: 214.4273 - mean_squared_error: 191.1372 ETA: 2s - loss: 223.3857 - mean_squared_error: 200.09"
     ]
    },
    {
     "name": "stderr",
     "output_type": "stream",
     "text": [
      "C:\\Users\\controlslab\\Anaconda3\\envs\\gpu_tensorflow\\lib\\site-packages\\keras\\callbacks.py:120: UserWarning: Method on_batch_end() is slow compared to the batch update (0.127681). Check your callbacks.\n",
      "  % delta_t_median)\n",
      "C:\\Users\\controlslab\\Anaconda3\\envs\\gpu_tensorflow\\lib\\site-packages\\keras\\callbacks.py:120: UserWarning: Method on_batch_end() is slow compared to the batch update (0.103747). Check your callbacks.\n",
      "  % delta_t_median)\n"
     ]
    },
    {
     "name": "stdout",
     "output_type": "stream",
     "text": [
      " 3072/14547 [=====>........................] - ETA: 2s - loss: 215.4405 - mean_squared_error: 192.1563"
     ]
    },
    {
     "name": "stderr",
     "output_type": "stream",
     "text": [
      "C:\\Users\\controlslab\\Anaconda3\\envs\\gpu_tensorflow\\lib\\site-packages\\keras\\callbacks.py:120: UserWarning: Method on_batch_end() is slow compared to the batch update (0.102256). Check your callbacks.\n",
      "  % delta_t_median)\n"
     ]
    },
    {
     "name": "stdout",
     "output_type": "stream",
     "text": [
      " 3584/14547 [======>.......................] - ETA: 2s - loss: 215.3674 - mean_squared_error: 192.0834"
     ]
    },
    {
     "name": "stderr",
     "output_type": "stream",
     "text": [
      "C:\\Users\\controlslab\\Anaconda3\\envs\\gpu_tensorflow\\lib\\site-packages\\keras\\callbacks.py:120: UserWarning: Method on_batch_end() is slow compared to the batch update (0.104736). Check your callbacks.\n",
      "  % delta_t_median)\n",
      "C:\\Users\\controlslab\\Anaconda3\\envs\\gpu_tensorflow\\lib\\site-packages\\keras\\callbacks.py:120: UserWarning: Method on_batch_end() is slow compared to the batch update (0.124699). Check your callbacks.\n",
      "  % delta_t_median)\n"
     ]
    },
    {
     "name": "stdout",
     "output_type": "stream",
     "text": [
      " 5120/14547 [=========>....................] - ETA: 2s - loss: 214.1512 - mean_squared_error: 190.8735 ETA: 2s - loss: 213.7132 - mean_squared_error: 190.43"
     ]
    },
    {
     "name": "stderr",
     "output_type": "stream",
     "text": [
      "C:\\Users\\controlslab\\Anaconda3\\envs\\gpu_tensorflow\\lib\\site-packages\\keras\\callbacks.py:120: UserWarning: Method on_batch_end() is slow compared to the batch update (0.123201). Check your callbacks.\n",
      "  % delta_t_median)\n",
      "C:\\Users\\controlslab\\Anaconda3\\envs\\gpu_tensorflow\\lib\\site-packages\\keras\\callbacks.py:120: UserWarning: Method on_batch_end() is slow compared to the batch update (0.121702). Check your callbacks.\n",
      "  % delta_t_median)\n",
      "C:\\Users\\controlslab\\Anaconda3\\envs\\gpu_tensorflow\\lib\\site-packages\\keras\\callbacks.py:120: UserWarning: Method on_batch_end() is slow compared to the batch update (0.113225). Check your callbacks.\n",
      "  % delta_t_median)\n"
     ]
    },
    {
     "name": "stdout",
     "output_type": "stream",
     "text": [
      " 9216/14547 [==================>...........] - ETA: 1s - loss: 214.5118 - mean_squared_error: 191.2569 ETA: 1s - loss: 214.9597 - mean_squared_error: "
     ]
    },
    {
     "name": "stderr",
     "output_type": "stream",
     "text": [
      "C:\\Users\\controlslab\\Anaconda3\\envs\\gpu_tensorflow\\lib\\site-packages\\keras\\callbacks.py:120: UserWarning: Method on_batch_end() is slow compared to the batch update (0.107227). Check your callbacks.\n",
      "  % delta_t_median)\n",
      "C:\\Users\\controlslab\\Anaconda3\\envs\\gpu_tensorflow\\lib\\site-packages\\keras\\callbacks.py:120: UserWarning: Method on_batch_end() is slow compared to the batch update (0.105246). Check your callbacks.\n",
      "  % delta_t_median)\n"
     ]
    },
    {
     "name": "stdout",
     "output_type": "stream",
     "text": [
      "12288/14547 [========================>.....] - ETA: 0s - loss: 214.5862 - mean_squared_error: 191.3378 ETA: 0s - loss: 215.4301 - mean_squared_error: 192."
     ]
    },
    {
     "name": "stderr",
     "output_type": "stream",
     "text": [
      "C:\\Users\\controlslab\\Anaconda3\\envs\\gpu_tensorflow\\lib\\site-packages\\keras\\callbacks.py:120: UserWarning: Method on_batch_end() is slow compared to the batch update (0.106243). Check your callbacks.\n",
      "  % delta_t_median)\n",
      "C:\\Users\\controlslab\\Anaconda3\\envs\\gpu_tensorflow\\lib\\site-packages\\keras\\callbacks.py:120: UserWarning: Method on_batch_end() is slow compared to the batch update (0.107726). Check your callbacks.\n",
      "  % delta_t_median)\n"
     ]
    },
    {
     "name": "stdout",
     "output_type": "stream",
     "text": [
      "13824/14547 [===========================>..] - ETA: 0s - loss: 215.2304 - mean_squared_error: 191.9887"
     ]
    },
    {
     "name": "stderr",
     "output_type": "stream",
     "text": [
      "C:\\Users\\controlslab\\Anaconda3\\envs\\gpu_tensorflow\\lib\\site-packages\\keras\\callbacks.py:120: UserWarning: Method on_batch_end() is slow compared to the batch update (0.110219). Check your callbacks.\n",
      "  % delta_t_median)\n",
      "C:\\Users\\controlslab\\Anaconda3\\envs\\gpu_tensorflow\\lib\\site-packages\\keras\\callbacks.py:120: UserWarning: Method on_batch_end() is slow compared to the batch update (0.109235). Check your callbacks.\n",
      "  % delta_t_median)\n",
      "C:\\Users\\controlslab\\Anaconda3\\envs\\gpu_tensorflow\\lib\\site-packages\\keras\\callbacks.py:120: UserWarning: Method on_batch_end() is slow compared to the batch update (0.113223). Check your callbacks.\n",
      "  % delta_t_median)\n"
     ]
    },
    {
     "name": "stdout",
     "output_type": "stream",
     "text": [
      "14547/14547 [==============================] - 6s 443us/step - loss: 216.2715 - mean_squared_error: 193.0327 - val_loss: 299.1682 - val_mean_squared_error: 276.0152\n",
      "Epoch 63/100\n",
      "  512/14547 [>.............................] - ETA: 0s - loss: 221.3662 - mean_squared_error: 198.2133"
     ]
    },
    {
     "name": "stderr",
     "output_type": "stream",
     "text": [
      "C:\\Users\\controlslab\\Anaconda3\\envs\\gpu_tensorflow\\lib\\site-packages\\keras\\callbacks.py:120: UserWarning: Method on_batch_end() is slow compared to the batch update (0.130165). Check your callbacks.\n",
      "  % delta_t_median)\n"
     ]
    },
    {
     "name": "stdout",
     "output_type": "stream",
     "text": [
      " 7680/14547 [==============>...............] - ETA: 1s - loss: 214.5213 - mean_squared_error: 191.3881 ETA: 0s - loss: 218.1095 - mean_squared_error: "
     ]
    },
    {
     "name": "stderr",
     "output_type": "stream",
     "text": [
      "C:\\Users\\controlslab\\Anaconda3\\envs\\gpu_tensorflow\\lib\\site-packages\\keras\\callbacks.py:120: UserWarning: Method on_batch_end() is slow compared to the batch update (0.100744). Check your callbacks.\n",
      "  % delta_t_median)\n"
     ]
    },
    {
     "name": "stdout",
     "output_type": "stream",
     "text": [
      " 9216/14547 [==================>...........] - ETA: 0s - loss: 214.1381 - mean_squared_error: 191.0097"
     ]
    },
    {
     "name": "stderr",
     "output_type": "stream",
     "text": [
      "C:\\Users\\controlslab\\Anaconda3\\envs\\gpu_tensorflow\\lib\\site-packages\\keras\\callbacks.py:120: UserWarning: Method on_batch_end() is slow compared to the batch update (0.108736). Check your callbacks.\n",
      "  % delta_t_median)\n"
     ]
    },
    {
     "name": "stdout",
     "output_type": "stream",
     "text": [
      "11264/14547 [======================>.......] - ETA: 0s - loss: 214.3995 - mean_squared_error: 191.2802"
     ]
    },
    {
     "name": "stderr",
     "output_type": "stream",
     "text": [
      "C:\\Users\\controlslab\\Anaconda3\\envs\\gpu_tensorflow\\lib\\site-packages\\keras\\callbacks.py:120: UserWarning: Method on_batch_end() is slow compared to the batch update (0.107725). Check your callbacks.\n",
      "  % delta_t_median)\n"
     ]
    },
    {
     "name": "stdout",
     "output_type": "stream",
     "text": [
      "12800/14547 [=========================>....] - ETA: 0s - loss: 214.4145 - mean_squared_error: 191.3000"
     ]
    },
    {
     "name": "stderr",
     "output_type": "stream",
     "text": [
      "C:\\Users\\controlslab\\Anaconda3\\envs\\gpu_tensorflow\\lib\\site-packages\\keras\\callbacks.py:120: UserWarning: Method on_batch_end() is slow compared to the batch update (0.112216). Check your callbacks.\n",
      "  % delta_t_median)\n",
      "C:\\Users\\controlslab\\Anaconda3\\envs\\gpu_tensorflow\\lib\\site-packages\\keras\\callbacks.py:120: UserWarning: Method on_batch_end() is slow compared to the batch update (0.117200). Check your callbacks.\n",
      "  % delta_t_median)\n"
     ]
    },
    {
     "name": "stdout",
     "output_type": "stream",
     "text": [
      "14336/14547 [============================>.] - ETA: 0s - loss: 215.7218 - mean_squared_error: 192.61"
     ]
    },
    {
     "name": "stderr",
     "output_type": "stream",
     "text": [
      "C:\\Users\\controlslab\\Anaconda3\\envs\\gpu_tensorflow\\lib\\site-packages\\keras\\callbacks.py:120: UserWarning: Method on_batch_end() is slow compared to the batch update (0.134154). Check your callbacks.\n",
      "  % delta_t_median)\n",
      "C:\\Users\\controlslab\\Anaconda3\\envs\\gpu_tensorflow\\lib\\site-packages\\keras\\callbacks.py:120: UserWarning: Method on_batch_end() is slow compared to the batch update (0.123718). Check your callbacks.\n",
      "  % delta_t_median)\n"
     ]
    },
    {
     "name": "stdout",
     "output_type": "stream",
     "text": [
      "14547/14547 [==============================] - 3s 211us/step - loss: 215.5528 - mean_squared_error: 192.4450 - val_loss: 310.1062 - val_mean_squared_error: 287.0720\n",
      "Epoch 64/100\n",
      " 1536/14547 [==>...........................] - ETA: 2s - loss: 226.3343 - mean_squared_error: 203.3162"
     ]
    },
    {
     "name": "stderr",
     "output_type": "stream",
     "text": [
      "C:\\Users\\controlslab\\Anaconda3\\envs\\gpu_tensorflow\\lib\\site-packages\\keras\\callbacks.py:120: UserWarning: Method on_batch_end() is slow compared to the batch update (0.138655). Check your callbacks.\n",
      "  % delta_t_median)\n",
      "C:\\Users\\controlslab\\Anaconda3\\envs\\gpu_tensorflow\\lib\\site-packages\\keras\\callbacks.py:120: UserWarning: Method on_batch_end() is slow compared to the batch update (0.109231). Check your callbacks.\n",
      "  % delta_t_median)\n"
     ]
    },
    {
     "name": "stdout",
     "output_type": "stream",
     "text": [
      " 3072/14547 [=====>........................] - ETA: 2s - loss: 220.2605 - mean_squared_error: 197.2425"
     ]
    },
    {
     "name": "stderr",
     "output_type": "stream",
     "text": [
      "C:\\Users\\controlslab\\Anaconda3\\envs\\gpu_tensorflow\\lib\\site-packages\\keras\\callbacks.py:120: UserWarning: Method on_batch_end() is slow compared to the batch update (0.100742). Check your callbacks.\n",
      "  % delta_t_median)\n"
     ]
    },
    {
     "name": "stdout",
     "output_type": "stream",
     "text": [
      " 9728/14547 [===================>..........] - ETA: 0s - loss: 217.2839 - mean_squared_error: 194.2800 ETA: 1s - loss: 219.6821 - mean_squared_error: 196."
     ]
    },
    {
     "name": "stderr",
     "output_type": "stream",
     "text": [
      "C:\\Users\\controlslab\\Anaconda3\\envs\\gpu_tensorflow\\lib\\site-packages\\keras\\callbacks.py:120: UserWarning: Method on_batch_end() is slow compared to the batch update (0.104244). Check your callbacks.\n",
      "  % delta_t_median)\n"
     ]
    },
    {
     "name": "stdout",
     "output_type": "stream",
     "text": [
      "13824/14547 [===========================>..] - ETA: 0s - loss: 216.7107 - mean_squared_error: 193.7240 ETA: 0s - loss: 215.8282 - mean_squared_error: 192."
     ]
    },
    {
     "name": "stderr",
     "output_type": "stream",
     "text": [
      "C:\\Users\\controlslab\\Anaconda3\\envs\\gpu_tensorflow\\lib\\site-packages\\keras\\callbacks.py:120: UserWarning: Method on_batch_end() is slow compared to the batch update (0.102756). Check your callbacks.\n",
      "  % delta_t_median)\n",
      "C:\\Users\\controlslab\\Anaconda3\\envs\\gpu_tensorflow\\lib\\site-packages\\keras\\callbacks.py:120: UserWarning: Method on_batch_end() is slow compared to the batch update (0.120674). Check your callbacks.\n",
      "  % delta_t_median)\n"
     ]
    },
    {
     "name": "stdout",
     "output_type": "stream",
     "text": [
      "14547/14547 [==============================] - 3s 208us/step - loss: 216.4142 - mean_squared_error: 193.4310 - val_loss: 296.7925 - val_mean_squared_error: 273.8938\n"
     ]
    },
    {
     "name": "stderr",
     "output_type": "stream",
     "text": [
      "C:\\Users\\controlslab\\Anaconda3\\envs\\gpu_tensorflow\\lib\\site-packages\\keras\\callbacks.py:120: UserWarning: Method on_batch_end() is slow compared to the batch update (0.126173). Check your callbacks.\n",
      "  % delta_t_median)\n"
     ]
    },
    {
     "name": "stdout",
     "output_type": "stream",
     "text": [
      "Epoch 65/100\n",
      " 1536/14547 [==>...........................] - ETA: 3s - loss: 212.6420 - mean_squared_error: 189.7256"
     ]
    },
    {
     "name": "stderr",
     "output_type": "stream",
     "text": [
      "C:\\Users\\controlslab\\Anaconda3\\envs\\gpu_tensorflow\\lib\\site-packages\\keras\\callbacks.py:120: UserWarning: Method on_batch_end() is slow compared to the batch update (0.224429). Check your callbacks.\n",
      "  % delta_t_median)\n",
      "C:\\Users\\controlslab\\Anaconda3\\envs\\gpu_tensorflow\\lib\\site-packages\\keras\\callbacks.py:120: UserWarning: Method on_batch_end() is slow compared to the batch update (0.158591). Check your callbacks.\n",
      "  % delta_t_median)\n"
     ]
    },
    {
     "name": "stdout",
     "output_type": "stream",
     "text": [
      " 2560/14547 [====>.........................] - ETA: 2s - loss: 217.1931 - mean_squared_error: 194.2811"
     ]
    },
    {
     "name": "stderr",
     "output_type": "stream",
     "text": [
      "C:\\Users\\controlslab\\Anaconda3\\envs\\gpu_tensorflow\\lib\\site-packages\\keras\\callbacks.py:120: UserWarning: Method on_batch_end() is slow compared to the batch update (0.106731). Check your callbacks.\n",
      "  % delta_t_median)\n",
      "C:\\Users\\controlslab\\Anaconda3\\envs\\gpu_tensorflow\\lib\\site-packages\\keras\\callbacks.py:120: UserWarning: Method on_batch_end() is slow compared to the batch update (0.114727). Check your callbacks.\n",
      "  % delta_t_median)\n"
     ]
    },
    {
     "name": "stdout",
     "output_type": "stream",
     "text": [
      " 3584/14547 [======>.......................] - ETA: 3s - loss: 214.0592 - mean_squared_error: 191.1516"
     ]
    },
    {
     "name": "stderr",
     "output_type": "stream",
     "text": [
      "C:\\Users\\controlslab\\Anaconda3\\envs\\gpu_tensorflow\\lib\\site-packages\\keras\\callbacks.py:120: UserWarning: Method on_batch_end() is slow compared to the batch update (0.112181). Check your callbacks.\n",
      "  % delta_t_median)\n",
      "C:\\Users\\controlslab\\Anaconda3\\envs\\gpu_tensorflow\\lib\\site-packages\\keras\\callbacks.py:120: UserWarning: Method on_batch_end() is slow compared to the batch update (0.109636). Check your callbacks.\n",
      "  % delta_t_median)\n"
     ]
    },
    {
     "name": "stdout",
     "output_type": "stream",
     "text": [
      " 5120/14547 [=========>....................] - ETA: 2s - loss: 212.8383 - mean_squared_error: 189.9389"
     ]
    },
    {
     "name": "stderr",
     "output_type": "stream",
     "text": [
      "C:\\Users\\controlslab\\Anaconda3\\envs\\gpu_tensorflow\\lib\\site-packages\\keras\\callbacks.py:120: UserWarning: Method on_batch_end() is slow compared to the batch update (0.104186). Check your callbacks.\n",
      "  % delta_t_median)\n"
     ]
    },
    {
     "name": "stdout",
     "output_type": "stream",
     "text": [
      " 7168/14547 [=============>................] - ETA: 1s - loss: 211.0432 - mean_squared_error: 188.1533"
     ]
    },
    {
     "name": "stderr",
     "output_type": "stream",
     "text": [
      "C:\\Users\\controlslab\\Anaconda3\\envs\\gpu_tensorflow\\lib\\site-packages\\keras\\callbacks.py:120: UserWarning: Method on_batch_end() is slow compared to the batch update (0.108714). Check your callbacks.\n",
      "  % delta_t_median)\n",
      "C:\\Users\\controlslab\\Anaconda3\\envs\\gpu_tensorflow\\lib\\site-packages\\keras\\callbacks.py:120: UserWarning: Method on_batch_end() is slow compared to the batch update (0.106755). Check your callbacks.\n",
      "  % delta_t_median)\n"
     ]
    },
    {
     "name": "stdout",
     "output_type": "stream",
     "text": [
      " 9728/14547 [===================>..........] - ETA: 1s - loss: 213.7534 - mean_squared_error: 190.8748"
     ]
    },
    {
     "name": "stderr",
     "output_type": "stream",
     "text": [
      "C:\\Users\\controlslab\\Anaconda3\\envs\\gpu_tensorflow\\lib\\site-packages\\keras\\callbacks.py:120: UserWarning: Method on_batch_end() is slow compared to the batch update (0.117725). Check your callbacks.\n",
      "  % delta_t_median)\n"
     ]
    },
    {
     "name": "stdout",
     "output_type": "stream",
     "text": [
      "12288/14547 [========================>.....] - ETA: 0s - loss: 214.1723 - mean_squared_error: 191.3024 ETA: 0s - loss: 214.0384 - mean_squared_error: 191.\r"
     ]
    },
    {
     "name": "stderr",
     "output_type": "stream",
     "text": [
      "C:\\Users\\controlslab\\Anaconda3\\envs\\gpu_tensorflow\\lib\\site-packages\\keras\\callbacks.py:120: UserWarning: Method on_batch_end() is slow compared to the batch update (0.110716). Check your callbacks.\n",
      "  % delta_t_median)\n"
     ]
    },
    {
     "name": "stdout",
     "output_type": "stream",
     "text": [
      "14547/14547 [==============================] - ETA: 0s - loss: 215.5448 - mean_squared_error: 192.68 - 4s 256us/step - loss: 215.1807 - mean_squared_error: 192.3173 - val_loss: 328.2825 - val_mean_squared_error: 305.4522\n",
      "Epoch 66/100\n",
      " 1536/14547 [==>...........................] - ETA: 1s - loss: 213.3018 - mean_squared_error: 190.48 - ETA: 1s - loss: 209.8216 - mean_squared_error: 187.0084"
     ]
    },
    {
     "name": "stderr",
     "output_type": "stream",
     "text": [
      "C:\\Users\\controlslab\\Anaconda3\\envs\\gpu_tensorflow\\lib\\site-packages\\keras\\callbacks.py:120: UserWarning: Method on_batch_end() is slow compared to the batch update (0.115691). Check your callbacks.\n",
      "  % delta_t_median)\n"
     ]
    },
    {
     "name": "stdout",
     "output_type": "stream",
     "text": [
      " 4096/14547 [=======>......................] - ETA: 1s - loss: 214.9548 - mean_squared_error: 192.1537 ETA: 1s - loss: 215.4323 - mean_squared_error: 192.62"
     ]
    },
    {
     "name": "stderr",
     "output_type": "stream",
     "text": [
      "C:\\Users\\controlslab\\Anaconda3\\envs\\gpu_tensorflow\\lib\\site-packages\\keras\\callbacks.py:120: UserWarning: Method on_batch_end() is slow compared to the batch update (0.104747). Check your callbacks.\n",
      "  % delta_t_median)\n"
     ]
    },
    {
     "name": "stdout",
     "output_type": "stream",
     "text": [
      " 8704/14547 [================>.............] - ETA: 1s - loss: 212.8115 - mean_squared_error: 190.0269"
     ]
    },
    {
     "name": "stderr",
     "output_type": "stream",
     "text": [
      "C:\\Users\\controlslab\\Anaconda3\\envs\\gpu_tensorflow\\lib\\site-packages\\keras\\callbacks.py:120: UserWarning: Method on_batch_end() is slow compared to the batch update (0.101243). Check your callbacks.\n",
      "  % delta_t_median)\n"
     ]
    },
    {
     "name": "stdout",
     "output_type": "stream",
     "text": [
      "12288/14547 [========================>.....] - ETA: 0s - loss: 213.6942 - mean_squared_error: 190.9251"
     ]
    },
    {
     "name": "stderr",
     "output_type": "stream",
     "text": [
      "C:\\Users\\controlslab\\Anaconda3\\envs\\gpu_tensorflow\\lib\\site-packages\\keras\\callbacks.py:120: UserWarning: Method on_batch_end() is slow compared to the batch update (0.111216). Check your callbacks.\n",
      "  % delta_t_median)\n"
     ]
    },
    {
     "name": "stdout",
     "output_type": "stream",
     "text": [
      "14547/14547 [==============================] - 3s 186us/step - loss: 213.7821 - mean_squared_error: 191.0241 - val_loss: 294.1693 - val_mean_squared_error: 271.4911\n",
      "Epoch 67/100\n",
      " 6144/14547 [===========>..................] - ETA: 1s - loss: 217.0938 - mean_squared_error: 194.41 - ETA: 1s - loss: 214.0729 - mean_squared_error: 191.39"
     ]
    },
    {
     "name": "stderr",
     "output_type": "stream",
     "text": [
      "C:\\Users\\controlslab\\Anaconda3\\envs\\gpu_tensorflow\\lib\\site-packages\\keras\\callbacks.py:120: UserWarning: Method on_batch_end() is slow compared to the batch update (0.116715). Check your callbacks.\n",
      "  % delta_t_median)\n"
     ]
    },
    {
     "name": "stdout",
     "output_type": "stream",
     "text": [
      "10240/14547 [====================>.........] - ETA: 2s - loss: 213.6119 - mean_squared_error: 190.9455 ETA: 1s - loss: 213.0838 - mean_squared_error: "
     ]
    },
    {
     "name": "stderr",
     "output_type": "stream",
     "text": [
      "C:\\Users\\controlslab\\Anaconda3\\envs\\gpu_tensorflow\\lib\\site-packages\\keras\\callbacks.py:120: UserWarning: Method on_batch_end() is slow compared to the batch update (0.131182). Check your callbacks.\n",
      "  % delta_t_median)\n",
      "C:\\Users\\controlslab\\Anaconda3\\envs\\gpu_tensorflow\\lib\\site-packages\\keras\\callbacks.py:120: UserWarning: Method on_batch_end() is slow compared to the batch update (0.119199). Check your callbacks.\n",
      "  % delta_t_median)\n"
     ]
    },
    {
     "name": "stdout",
     "output_type": "stream",
     "text": [
      "14547/14547 [==============================] - 6s 417us/step - loss: 213.7361 - mean_squared_error: 191.0886 - val_loss: 311.5665 - val_mean_squared_error: 288.9858 - loss: 212.7499 - mean_squared_error: 19\n"
     ]
    },
    {
     "name": "stderr",
     "output_type": "stream",
     "text": [
      "C:\\Users\\controlslab\\Anaconda3\\envs\\gpu_tensorflow\\lib\\site-packages\\keras\\callbacks.py:120: UserWarning: Method on_batch_end() is slow compared to the batch update (0.108238). Check your callbacks.\n",
      "  % delta_t_median)\n"
     ]
    },
    {
     "name": "stdout",
     "output_type": "stream",
     "text": [
      "Epoch 68/100\n",
      " 1024/14547 [=>............................] - ETA: 2s - loss: 216.6784 - mean_squared_error: 194.1024"
     ]
    },
    {
     "name": "stderr",
     "output_type": "stream",
     "text": [
      "C:\\Users\\controlslab\\Anaconda3\\envs\\gpu_tensorflow\\lib\\site-packages\\keras\\callbacks.py:120: UserWarning: Method on_batch_end() is slow compared to the batch update (0.129652). Check your callbacks.\n",
      "  % delta_t_median)\n",
      "C:\\Users\\controlslab\\Anaconda3\\envs\\gpu_tensorflow\\lib\\site-packages\\keras\\callbacks.py:120: UserWarning: Method on_batch_end() is slow compared to the batch update (0.159073). Check your callbacks.\n",
      "  % delta_t_median)\n"
     ]
    },
    {
     "name": "stdout",
     "output_type": "stream",
     "text": [
      " 2560/14547 [====>.........................] - ETA: 3s - loss: 221.4376 - mean_squared_error: 198.8620 ETA: 2s - loss: 222.1454 - mean_squared_error: 199.57"
     ]
    },
    {
     "name": "stderr",
     "output_type": "stream",
     "text": [
      "C:\\Users\\controlslab\\Anaconda3\\envs\\gpu_tensorflow\\lib\\site-packages\\keras\\callbacks.py:120: UserWarning: Method on_batch_end() is slow compared to the batch update (0.139639). Check your callbacks.\n",
      "  % delta_t_median)\n",
      "C:\\Users\\controlslab\\Anaconda3\\envs\\gpu_tensorflow\\lib\\site-packages\\keras\\callbacks.py:120: UserWarning: Method on_batch_end() is slow compared to the batch update (0.149626). Check your callbacks.\n",
      "  % delta_t_median)\n"
     ]
    },
    {
     "name": "stdout",
     "output_type": "stream",
     "text": [
      " 4096/14547 [=======>......................] - ETA: 2s - loss: 217.7190 - mean_squared_error: 195.1448"
     ]
    },
    {
     "name": "stderr",
     "output_type": "stream",
     "text": [
      "C:\\Users\\controlslab\\Anaconda3\\envs\\gpu_tensorflow\\lib\\site-packages\\keras\\callbacks.py:120: UserWarning: Method on_batch_end() is slow compared to the batch update (0.130527). Check your callbacks.\n",
      "  % delta_t_median)\n",
      "C:\\Users\\controlslab\\Anaconda3\\envs\\gpu_tensorflow\\lib\\site-packages\\keras\\callbacks.py:120: UserWarning: Method on_batch_end() is slow compared to the batch update (0.130089). Check your callbacks.\n",
      "  % delta_t_median)\n"
     ]
    },
    {
     "name": "stdout",
     "output_type": "stream",
     "text": [
      " 6144/14547 [===========>..................] - ETA: 2s - loss: 216.3273 - mean_squared_error: 193.7627 ETA: 2s - loss: 216.1874 - mean_squared_error: 193.61"
     ]
    },
    {
     "name": "stderr",
     "output_type": "stream",
     "text": [
      "C:\\Users\\controlslab\\Anaconda3\\envs\\gpu_tensorflow\\lib\\site-packages\\keras\\callbacks.py:120: UserWarning: Method on_batch_end() is slow compared to the batch update (0.135589). Check your callbacks.\n",
      "  % delta_t_median)\n",
      "C:\\Users\\controlslab\\Anaconda3\\envs\\gpu_tensorflow\\lib\\site-packages\\keras\\callbacks.py:120: UserWarning: Method on_batch_end() is slow compared to the batch update (0.127597). Check your callbacks.\n",
      "  % delta_t_median)\n"
     ]
    },
    {
     "name": "stdout",
     "output_type": "stream",
     "text": [
      " 7680/14547 [==============>...............] - ETA: 1s - loss: 216.6434 - mean_squared_error: 194.0845"
     ]
    },
    {
     "name": "stderr",
     "output_type": "stream",
     "text": [
      "C:\\Users\\controlslab\\Anaconda3\\envs\\gpu_tensorflow\\lib\\site-packages\\keras\\callbacks.py:120: UserWarning: Method on_batch_end() is slow compared to the batch update (0.113196). Check your callbacks.\n",
      "  % delta_t_median)\n"
     ]
    },
    {
     "name": "stdout",
     "output_type": "stream",
     "text": [
      "10752/14547 [=====================>........] - ETA: 1s - loss: 214.1665 - mean_squared_error: 191.6190"
     ]
    },
    {
     "name": "stderr",
     "output_type": "stream",
     "text": [
      "C:\\Users\\controlslab\\Anaconda3\\envs\\gpu_tensorflow\\lib\\site-packages\\keras\\callbacks.py:120: UserWarning: Method on_batch_end() is slow compared to the batch update (0.121189). Check your callbacks.\n",
      "  % delta_t_median)\n"
     ]
    },
    {
     "name": "stdout",
     "output_type": "stream",
     "text": [
      "14547/14547 [==============================] - 4s 269us/step - loss: 212.9270 - mean_squared_error: 190.3934 - val_loss: 310.7399 - val_mean_squared_error: 288.2571\n"
     ]
    },
    {
     "name": "stderr",
     "output_type": "stream",
     "text": [
      "C:\\Users\\controlslab\\Anaconda3\\envs\\gpu_tensorflow\\lib\\site-packages\\keras\\callbacks.py:120: UserWarning: Method on_batch_end() is slow compared to the batch update (0.102228). Check your callbacks.\n",
      "  % delta_t_median)\n"
     ]
    },
    {
     "name": "stdout",
     "output_type": "stream",
     "text": [
      "Epoch 69/100\n",
      " 1536/14547 [==>...........................] - ETA: 1s - loss: 210.0302 - mean_squared_error: 187.5473"
     ]
    },
    {
     "name": "stderr",
     "output_type": "stream",
     "text": [
      "C:\\Users\\controlslab\\Anaconda3\\envs\\gpu_tensorflow\\lib\\site-packages\\keras\\callbacks.py:120: UserWarning: Method on_batch_end() is slow compared to the batch update (0.122672). Check your callbacks.\n",
      "  % delta_t_median)\n"
     ]
    },
    {
     "name": "stdout",
     "output_type": "stream",
     "text": [
      " 6144/14547 [===========>..................] - ETA: 1s - loss: 213.6641 - mean_squared_error: 191.2016"
     ]
    },
    {
     "name": "stderr",
     "output_type": "stream",
     "text": [
      "C:\\Users\\controlslab\\Anaconda3\\envs\\gpu_tensorflow\\lib\\site-packages\\keras\\callbacks.py:120: UserWarning: Method on_batch_end() is slow compared to the batch update (0.125677). Check your callbacks.\n",
      "  % delta_t_median)\n",
      "C:\\Users\\controlslab\\Anaconda3\\envs\\gpu_tensorflow\\lib\\site-packages\\keras\\callbacks.py:120: UserWarning: Method on_batch_end() is slow compared to the batch update (0.117698). Check your callbacks.\n",
      "  % delta_t_median)\n"
     ]
    },
    {
     "name": "stdout",
     "output_type": "stream",
     "text": [
      " 7168/14547 [=============>................] - ETA: 1s - loss: 215.4263 - mean_squared_error: 192.9665"
     ]
    },
    {
     "name": "stderr",
     "output_type": "stream",
     "text": [
      "C:\\Users\\controlslab\\Anaconda3\\envs\\gpu_tensorflow\\lib\\site-packages\\keras\\callbacks.py:120: UserWarning: Method on_batch_end() is slow compared to the batch update (0.127186). Check your callbacks.\n",
      "  % delta_t_median)\n"
     ]
    },
    {
     "name": "stdout",
     "output_type": "stream",
     "text": [
      " 8704/14547 [================>.............] - ETA: 1s - loss: 214.8140 - mean_squared_error: 192.3573"
     ]
    },
    {
     "name": "stderr",
     "output_type": "stream",
     "text": [
      "C:\\Users\\controlslab\\Anaconda3\\envs\\gpu_tensorflow\\lib\\site-packages\\keras\\callbacks.py:120: UserWarning: Method on_batch_end() is slow compared to the batch update (0.129666). Check your callbacks.\n",
      "  % delta_t_median)\n",
      "C:\\Users\\controlslab\\Anaconda3\\envs\\gpu_tensorflow\\lib\\site-packages\\keras\\callbacks.py:120: UserWarning: Method on_batch_end() is slow compared to the batch update (0.123682). Check your callbacks.\n",
      "  % delta_t_median)\n"
     ]
    },
    {
     "name": "stdout",
     "output_type": "stream",
     "text": [
      "13312/14547 [==========================>...] - ETA: 0s - loss: 212.0432 - mean_squared_error: 189.6036"
     ]
    },
    {
     "name": "stderr",
     "output_type": "stream",
     "text": [
      "C:\\Users\\controlslab\\Anaconda3\\envs\\gpu_tensorflow\\lib\\site-packages\\keras\\callbacks.py:120: UserWarning: Method on_batch_end() is slow compared to the batch update (0.151606). Check your callbacks.\n",
      "  % delta_t_median)\n",
      "C:\\Users\\controlslab\\Anaconda3\\envs\\gpu_tensorflow\\lib\\site-packages\\keras\\callbacks.py:120: UserWarning: Method on_batch_end() is slow compared to the batch update (0.125178). Check your callbacks.\n",
      "  % delta_t_median)\n"
     ]
    },
    {
     "name": "stdout",
     "output_type": "stream",
     "text": [
      "14547/14547 [==============================] - 4s 263us/step - loss: 212.4569 - mean_squared_error: 190.0220 - val_loss: 306.5364 - val_mean_squared_error: 284.1785\n"
     ]
    },
    {
     "name": "stderr",
     "output_type": "stream",
     "text": [
      "C:\\Users\\controlslab\\Anaconda3\\envs\\gpu_tensorflow\\lib\\site-packages\\keras\\callbacks.py:120: UserWarning: Method on_batch_end() is slow compared to the batch update (0.127145). Check your callbacks.\n",
      "  % delta_t_median)\n",
      "C:\\Users\\controlslab\\Anaconda3\\envs\\gpu_tensorflow\\lib\\site-packages\\keras\\callbacks.py:120: UserWarning: Method on_batch_end() is slow compared to the batch update (0.113183). Check your callbacks.\n",
      "  % delta_t_median)\n"
     ]
    },
    {
     "name": "stdout",
     "output_type": "stream",
     "text": [
      "Epoch 70/100\n",
      " 8192/14547 [===============>..............] - ETA: 0s - loss: 215.9499 - mean_squared_error: 193.6084 ETA: 0s - loss: 217.4418 - mean_squared_err"
     ]
    },
    {
     "name": "stderr",
     "output_type": "stream",
     "text": [
      "C:\\Users\\controlslab\\Anaconda3\\envs\\gpu_tensorflow\\lib\\site-packages\\keras\\callbacks.py:120: UserWarning: Method on_batch_end() is slow compared to the batch update (0.124160). Check your callbacks.\n",
      "  % delta_t_median)\n"
     ]
    },
    {
     "name": "stdout",
     "output_type": "stream",
     "text": [
      "10240/14547 [====================>.........] - ETA: 0s - loss: 212.8599 - mean_squared_error: 190.5259"
     ]
    },
    {
     "name": "stderr",
     "output_type": "stream",
     "text": [
      "C:\\Users\\controlslab\\Anaconda3\\envs\\gpu_tensorflow\\lib\\site-packages\\keras\\callbacks.py:120: UserWarning: Method on_batch_end() is slow compared to the batch update (0.143632). Check your callbacks.\n",
      "  % delta_t_median)\n",
      "C:\\Users\\controlslab\\Anaconda3\\envs\\gpu_tensorflow\\lib\\site-packages\\keras\\callbacks.py:120: UserWarning: Method on_batch_end() is slow compared to the batch update (0.139151). Check your callbacks.\n",
      "  % delta_t_median)\n"
     ]
    },
    {
     "name": "stdout",
     "output_type": "stream",
     "text": [
      "13312/14547 [==========================>...] - ETA: 0s - loss: 212.1125 - mean_squared_error: 189.7905"
     ]
    },
    {
     "name": "stderr",
     "output_type": "stream",
     "text": [
      "C:\\Users\\controlslab\\Anaconda3\\envs\\gpu_tensorflow\\lib\\site-packages\\keras\\callbacks.py:120: UserWarning: Method on_batch_end() is slow compared to the batch update (0.102494). Check your callbacks.\n",
      "  % delta_t_median)\n"
     ]
    },
    {
     "name": "stdout",
     "output_type": "stream",
     "text": [
      "14547/14547 [==============================] - 3s 189us/step - loss: 212.1533 - mean_squared_error: 189.8365 - val_loss: 300.5362 - val_mean_squared_error: 278.3024\n",
      "Epoch 71/100\n",
      " 1024/14547 [=>............................] - ETA: 0s - loss: 218.0336 - mean_squared_error: 195.79 - ETA: 2s - loss: 213.3681 - mean_squared_error: 191.1142"
     ]
    },
    {
     "name": "stderr",
     "output_type": "stream",
     "text": [
      "C:\\Users\\controlslab\\Anaconda3\\envs\\gpu_tensorflow\\lib\\site-packages\\keras\\callbacks.py:120: UserWarning: Method on_batch_end() is slow compared to the batch update (0.117079). Check your callbacks.\n",
      "  % delta_t_median)\n",
      "C:\\Users\\controlslab\\Anaconda3\\envs\\gpu_tensorflow\\lib\\site-packages\\keras\\callbacks.py:120: UserWarning: Method on_batch_end() is slow compared to the batch update (0.105423). Check your callbacks.\n",
      "  % delta_t_median)\n"
     ]
    },
    {
     "name": "stdout",
     "output_type": "stream",
     "text": [
      " 3072/14547 [=====>........................] - ETA: 3s - loss: 210.5329 - mean_squared_error: 188.2791"
     ]
    },
    {
     "name": "stderr",
     "output_type": "stream",
     "text": [
      "C:\\Users\\controlslab\\Anaconda3\\envs\\gpu_tensorflow\\lib\\site-packages\\keras\\callbacks.py:120: UserWarning: Method on_batch_end() is slow compared to the batch update (0.146803). Check your callbacks.\n",
      "  % delta_t_median)\n"
     ]
    },
    {
     "name": "stdout",
     "output_type": "stream",
     "text": [
      " 4096/14547 [=======>......................] - ETA: 2s - loss: 209.2343 - mean_squared_error: 186.9853"
     ]
    },
    {
     "name": "stderr",
     "output_type": "stream",
     "text": [
      "C:\\Users\\controlslab\\Anaconda3\\envs\\gpu_tensorflow\\lib\\site-packages\\keras\\callbacks.py:120: UserWarning: Method on_batch_end() is slow compared to the batch update (0.138326). Check your callbacks.\n",
      "  % delta_t_median)\n"
     ]
    },
    {
     "name": "stdout",
     "output_type": "stream",
     "text": [
      " 5632/14547 [==========>...................] - ETA: 2s - loss: 210.8781 - mean_squared_error: 188.6369"
     ]
    },
    {
     "name": "stderr",
     "output_type": "stream",
     "text": [
      "C:\\Users\\controlslab\\Anaconda3\\envs\\gpu_tensorflow\\lib\\site-packages\\keras\\callbacks.py:120: UserWarning: Method on_batch_end() is slow compared to the batch update (0.138650). Check your callbacks.\n",
      "  % delta_t_median)\n",
      "C:\\Users\\controlslab\\Anaconda3\\envs\\gpu_tensorflow\\lib\\site-packages\\keras\\callbacks.py:120: UserWarning: Method on_batch_end() is slow compared to the batch update (0.127864). Check your callbacks.\n",
      "  % delta_t_median)\n",
      "C:\\Users\\controlslab\\Anaconda3\\envs\\gpu_tensorflow\\lib\\site-packages\\keras\\callbacks.py:120: UserWarning: Method on_batch_end() is slow compared to the batch update (0.125176). Check your callbacks.\n",
      "  % delta_t_median)\n"
     ]
    },
    {
     "name": "stdout",
     "output_type": "stream",
     "text": [
      " 8192/14547 [===============>..............] - ETA: 1s - loss: 210.7847 - mean_squared_error: 188.5527 ETA: 2s - loss: 212.0452 - mean_squared_error: 189. - ETA: 1s - loss: 211.5157 - mean_squared_error: 189.28"
     ]
    },
    {
     "name": "stderr",
     "output_type": "stream",
     "text": [
      "C:\\Users\\controlslab\\Anaconda3\\envs\\gpu_tensorflow\\lib\\site-packages\\keras\\callbacks.py:120: UserWarning: Method on_batch_end() is slow compared to the batch update (0.116189). Check your callbacks.\n",
      "  % delta_t_median)\n"
     ]
    },
    {
     "name": "stdout",
     "output_type": "stream",
     "text": [
      "12288/14547 [========================>.....] - ETA: 0s - loss: 211.1052 - mean_squared_error: 188.8850 ETA: 1s - loss: 210.5456 - mean_squared_error: 18 - ETA: 1s - loss: 210.8144 - mean_squared_error: 18"
     ]
    },
    {
     "name": "stderr",
     "output_type": "stream",
     "text": [
      "C:\\Users\\controlslab\\Anaconda3\\envs\\gpu_tensorflow\\lib\\site-packages\\keras\\callbacks.py:120: UserWarning: Method on_batch_end() is slow compared to the batch update (0.105243). Check your callbacks.\n",
      "  % delta_t_median)\n"
     ]
    },
    {
     "name": "stdout",
     "output_type": "stream",
     "text": [
      "13312/14547 [==========================>...] - ETA: 0s - loss: 211.7983 - mean_squared_error: 189.58"
     ]
    },
    {
     "name": "stderr",
     "output_type": "stream",
     "text": [
      "C:\\Users\\controlslab\\Anaconda3\\envs\\gpu_tensorflow\\lib\\site-packages\\keras\\callbacks.py:120: UserWarning: Method on_batch_end() is slow compared to the batch update (0.107243). Check your callbacks.\n",
      "  % delta_t_median)\n"
     ]
    },
    {
     "name": "stdout",
     "output_type": "stream",
     "text": [
      "14547/14547 [==============================] - 4s 272us/step - loss: 212.3406 - mean_squared_error: 190.1256 - val_loss: 301.9656 - val_mean_squared_error: 279.8129\n"
     ]
    },
    {
     "name": "stderr",
     "output_type": "stream",
     "text": [
      "C:\\Users\\controlslab\\Anaconda3\\envs\\gpu_tensorflow\\lib\\site-packages\\keras\\callbacks.py:120: UserWarning: Method on_batch_end() is slow compared to the batch update (0.111231). Check your callbacks.\n",
      "  % delta_t_median)\n",
      "C:\\Users\\controlslab\\Anaconda3\\envs\\gpu_tensorflow\\lib\\site-packages\\keras\\callbacks.py:120: UserWarning: Method on_batch_end() is slow compared to the batch update (0.102754). Check your callbacks.\n",
      "  % delta_t_median)\n"
     ]
    },
    {
     "name": "stdout",
     "output_type": "stream",
     "text": [
      "Epoch 72/100\n",
      " 9216/14547 [==================>...........] - ETA: 0s - loss: 210.7416 - mean_squared_error: 188.6128"
     ]
    },
    {
     "name": "stderr",
     "output_type": "stream",
     "text": [
      "C:\\Users\\controlslab\\Anaconda3\\envs\\gpu_tensorflow\\lib\\site-packages\\keras\\callbacks.py:120: UserWarning: Method on_batch_end() is slow compared to the batch update (0.103250). Check your callbacks.\n",
      "  % delta_t_median)\n",
      "C:\\Users\\controlslab\\Anaconda3\\envs\\gpu_tensorflow\\lib\\site-packages\\keras\\callbacks.py:120: UserWarning: Method on_batch_end() is slow compared to the batch update (0.109219). Check your callbacks.\n",
      "  % delta_t_median)\n"
     ]
    },
    {
     "name": "stdout",
     "output_type": "stream",
     "text": [
      "13312/14547 [==========================>...] - ETA: 0s - loss: 213.6339 - mean_squared_error: 191.5185 ETA: 0s - loss: 213.0192 - mean_squared_error: 19"
     ]
    },
    {
     "name": "stderr",
     "output_type": "stream",
     "text": [
      "C:\\Users\\controlslab\\Anaconda3\\envs\\gpu_tensorflow\\lib\\site-packages\\keras\\callbacks.py:120: UserWarning: Method on_batch_end() is slow compared to the batch update (0.100231). Check your callbacks.\n",
      "  % delta_t_median)\n",
      "C:\\Users\\controlslab\\Anaconda3\\envs\\gpu_tensorflow\\lib\\site-packages\\keras\\callbacks.py:120: UserWarning: Method on_batch_end() is slow compared to the batch update (0.104732). Check your callbacks.\n",
      "  % delta_t_median)\n"
     ]
    },
    {
     "name": "stdout",
     "output_type": "stream",
     "text": [
      "14547/14547 [==============================] - 3s 176us/step - loss: 213.1226 - mean_squared_error: 191.0121 - val_loss: 340.7248 - val_mean_squared_error: 318.6554\n",
      "Epoch 73/100\n",
      "  512/14547 [>.............................] - ETA: 0s - loss: 220.7397 - mean_squared_error: 198.6703"
     ]
    },
    {
     "name": "stderr",
     "output_type": "stream",
     "text": [
      "C:\\Users\\controlslab\\Anaconda3\\envs\\gpu_tensorflow\\lib\\site-packages\\keras\\callbacks.py:120: UserWarning: Method on_batch_end() is slow compared to the batch update (0.111229). Check your callbacks.\n",
      "  % delta_t_median)\n"
     ]
    },
    {
     "name": "stdout",
     "output_type": "stream",
     "text": [
      " 2048/14547 [===>..........................] - ETA: 2s - loss: 211.9637 - mean_squared_error: 189.9229"
     ]
    },
    {
     "name": "stderr",
     "output_type": "stream",
     "text": [
      "C:\\Users\\controlslab\\Anaconda3\\envs\\gpu_tensorflow\\lib\\site-packages\\keras\\callbacks.py:120: UserWarning: Method on_batch_end() is slow compared to the batch update (0.136635). Check your callbacks.\n",
      "  % delta_t_median)\n",
      "C:\\Users\\controlslab\\Anaconda3\\envs\\gpu_tensorflow\\lib\\site-packages\\keras\\callbacks.py:120: UserWarning: Method on_batch_end() is slow compared to the batch update (0.116666). Check your callbacks.\n",
      "  % delta_t_median)\n"
     ]
    },
    {
     "name": "stdout",
     "output_type": "stream",
     "text": [
      " 4608/14547 [========>.....................] - ETA: 2s - loss: 213.5292 - mean_squared_error: 191.4983 ETA: 2s - loss: 215.5838 - mean_squared_error: 19"
     ]
    },
    {
     "name": "stderr",
     "output_type": "stream",
     "text": [
      "C:\\Users\\controlslab\\Anaconda3\\envs\\gpu_tensorflow\\lib\\site-packages\\keras\\callbacks.py:120: UserWarning: Method on_batch_end() is slow compared to the batch update (0.112701). Check your callbacks.\n",
      "  % delta_t_median)\n",
      "C:\\Users\\controlslab\\Anaconda3\\envs\\gpu_tensorflow\\lib\\site-packages\\keras\\callbacks.py:120: UserWarning: Method on_batch_end() is slow compared to the batch update (0.108737). Check your callbacks.\n",
      "  % delta_t_median)\n"
     ]
    },
    {
     "name": "stdout",
     "output_type": "stream",
     "text": [
      " 6656/14547 [============>.................] - ETA: 1s - loss: 214.4625 - mean_squared_error: 192.4439"
     ]
    },
    {
     "name": "stderr",
     "output_type": "stream",
     "text": [
      "C:\\Users\\controlslab\\Anaconda3\\envs\\gpu_tensorflow\\lib\\site-packages\\keras\\callbacks.py:120: UserWarning: Method on_batch_end() is slow compared to the batch update (0.108724). Check your callbacks.\n",
      "  % delta_t_median)\n"
     ]
    },
    {
     "name": "stdout",
     "output_type": "stream",
     "text": [
      " 9728/14547 [===================>..........] - ETA: 1s - loss: 213.5731 - mean_squared_error: 191.56 - ETA: 1s - loss: 211.0635 - mean_squared_error: 189.0584"
     ]
    },
    {
     "name": "stderr",
     "output_type": "stream",
     "text": [
      "C:\\Users\\controlslab\\Anaconda3\\envs\\gpu_tensorflow\\lib\\site-packages\\keras\\callbacks.py:120: UserWarning: Method on_batch_end() is slow compared to the batch update (0.115056). Check your callbacks.\n",
      "  % delta_t_median)\n",
      "C:\\Users\\controlslab\\Anaconda3\\envs\\gpu_tensorflow\\lib\\site-packages\\keras\\callbacks.py:120: UserWarning: Method on_batch_end() is slow compared to the batch update (0.108013). Check your callbacks.\n",
      "  % delta_t_median)\n"
     ]
    },
    {
     "name": "stdout",
     "output_type": "stream",
     "text": [
      "14547/14547 [==============================] - 4s 265us/step - loss: 211.4201 - mean_squared_error: 189.4274 - val_loss: 325.4888 - val_mean_squared_error: 303.52410s - loss: 211.1873 - mean_squared_error: 189.19 - ETA: 0s - loss: 211.5343 - mean_squared_error: 189.\n",
      "Epoch 74/100\n",
      "  512/14547 [>.............................] - ETA: 0s - loss: 216.4693 - mean_squared_error: 194.5046"
     ]
    },
    {
     "name": "stderr",
     "output_type": "stream",
     "text": [
      "C:\\Users\\controlslab\\Anaconda3\\envs\\gpu_tensorflow\\lib\\site-packages\\keras\\callbacks.py:120: UserWarning: Method on_batch_end() is slow compared to the batch update (0.143635). Check your callbacks.\n",
      "  % delta_t_median)\n"
     ]
    },
    {
     "name": "stdout",
     "output_type": "stream",
     "text": [
      " 3072/14547 [=====>........................] - ETA: 2s - loss: 205.9369 - mean_squared_error: 183.9874 ETA: 1s - loss: 209.2354 - mean_squared_error: 187."
     ]
    },
    {
     "name": "stderr",
     "output_type": "stream",
     "text": [
      "C:\\Users\\controlslab\\Anaconda3\\envs\\gpu_tensorflow\\lib\\site-packages\\keras\\callbacks.py:120: UserWarning: Method on_batch_end() is slow compared to the batch update (0.105742). Check your callbacks.\n",
      "  % delta_t_median)\n"
     ]
    },
    {
     "name": "stdout",
     "output_type": "stream",
     "text": [
      " 4608/14547 [========>.....................] - ETA: 2s - loss: 204.6123 - mean_squared_error: 182.6719"
     ]
    },
    {
     "name": "stderr",
     "output_type": "stream",
     "text": [
      "C:\\Users\\controlslab\\Anaconda3\\envs\\gpu_tensorflow\\lib\\site-packages\\keras\\callbacks.py:120: UserWarning: Method on_batch_end() is slow compared to the batch update (0.102725). Check your callbacks.\n",
      "  % delta_t_median)\n",
      "C:\\Users\\controlslab\\Anaconda3\\envs\\gpu_tensorflow\\lib\\site-packages\\keras\\callbacks.py:120: UserWarning: Method on_batch_end() is slow compared to the batch update (0.102237). Check your callbacks.\n",
      "  % delta_t_median)\n"
     ]
    },
    {
     "name": "stdout",
     "output_type": "stream",
     "text": [
      " 6656/14547 [============>.................] - ETA: 1s - loss: 210.1033 - mean_squared_error: 188.1690"
     ]
    },
    {
     "name": "stderr",
     "output_type": "stream",
     "text": [
      "C:\\Users\\controlslab\\Anaconda3\\envs\\gpu_tensorflow\\lib\\site-packages\\keras\\callbacks.py:120: UserWarning: Method on_batch_end() is slow compared to the batch update (0.111214). Check your callbacks.\n",
      "  % delta_t_median)\n"
     ]
    },
    {
     "name": "stdout",
     "output_type": "stream",
     "text": [
      " 9216/14547 [==================>...........] - ETA: 1s - loss: 212.4318 - mean_squared_error: 190.50"
     ]
    },
    {
     "name": "stderr",
     "output_type": "stream",
     "text": [
      "C:\\Users\\controlslab\\Anaconda3\\envs\\gpu_tensorflow\\lib\\site-packages\\keras\\callbacks.py:120: UserWarning: Method on_batch_end() is slow compared to the batch update (0.108235). Check your callbacks.\n",
      "  % delta_t_median)\n"
     ]
    },
    {
     "name": "stdout",
     "output_type": "stream",
     "text": [
      "11264/14547 [======================>.......] - ETA: 0s - loss: 211.4497 - mean_squared_error: 189.5332"
     ]
    },
    {
     "name": "stderr",
     "output_type": "stream",
     "text": [
      "C:\\Users\\controlslab\\Anaconda3\\envs\\gpu_tensorflow\\lib\\site-packages\\keras\\callbacks.py:120: UserWarning: Method on_batch_end() is slow compared to the batch update (0.112212). Check your callbacks.\n",
      "  % delta_t_median)\n",
      "C:\\Users\\controlslab\\Anaconda3\\envs\\gpu_tensorflow\\lib\\site-packages\\keras\\callbacks.py:120: UserWarning: Method on_batch_end() is slow compared to the batch update (0.108722). Check your callbacks.\n",
      "  % delta_t_median)\n"
     ]
    },
    {
     "name": "stdout",
     "output_type": "stream",
     "text": [
      "14336/14547 [============================>.] - ETA: 0s - loss: 211.4904 - mean_squared_error: 189.5826 ETA: 0s - loss: 211.1763 - mean_squared_error: 189.26 - ETA: 0s - loss: 211.9682 - mean_squared_error: 190.05"
     ]
    },
    {
     "name": "stderr",
     "output_type": "stream",
     "text": [
      "C:\\Users\\controlslab\\Anaconda3\\envs\\gpu_tensorflow\\lib\\site-packages\\keras\\callbacks.py:120: UserWarning: Method on_batch_end() is slow compared to the batch update (0.114692). Check your callbacks.\n",
      "  % delta_t_median)\n",
      "C:\\Users\\controlslab\\Anaconda3\\envs\\gpu_tensorflow\\lib\\site-packages\\keras\\callbacks.py:120: UserWarning: Method on_batch_end() is slow compared to the batch update (0.104222). Check your callbacks.\n",
      "  % delta_t_median)\n"
     ]
    },
    {
     "name": "stdout",
     "output_type": "stream",
     "text": [
      "14547/14547 [==============================] - 3s 233us/step - loss: 211.5263 - mean_squared_error: 189.6192 - val_loss: 305.1233 - val_mean_squared_error: 283.2957\n",
      "Epoch 75/100\n",
      "14336/14547 [============================>.] - ETA: 0s - loss: 210.1871 - mean_squared_error: 188.3835 ETA: 0s - loss: 211.4448 - mean_squared_error:  - ETA: 0s - loss: 210.0313 - mean_squared_error:  - ETA: 0s - loss: 210.4715 - mean_squared_error: 18"
     ]
    },
    {
     "name": "stderr",
     "output_type": "stream",
     "text": [
      "C:\\Users\\controlslab\\Anaconda3\\envs\\gpu_tensorflow\\lib\\site-packages\\keras\\callbacks.py:120: UserWarning: Method on_batch_end() is slow compared to the batch update (0.102442). Check your callbacks.\n",
      "  % delta_t_median)\n"
     ]
    },
    {
     "name": "stdout",
     "output_type": "stream",
     "text": [
      "14547/14547 [==============================] - 2s 161us/step - loss: 210.3567 - mean_squared_error: 188.5536 - val_loss: 316.3491 - val_mean_squared_error: 294.5876\n",
      "Epoch 76/100\n",
      " 1024/14547 [=>............................] - ETA: 2s - loss: 217.1711 - mean_squared_error: 195.41"
     ]
    },
    {
     "name": "stderr",
     "output_type": "stream",
     "text": [
      "C:\\Users\\controlslab\\Anaconda3\\envs\\gpu_tensorflow\\lib\\site-packages\\keras\\callbacks.py:120: UserWarning: Method on_batch_end() is slow compared to the batch update (0.127729). Check your callbacks.\n",
      "  % delta_t_median)\n",
      "C:\\Users\\controlslab\\Anaconda3\\envs\\gpu_tensorflow\\lib\\site-packages\\keras\\callbacks.py:120: UserWarning: Method on_batch_end() is slow compared to the batch update (0.102746). Check your callbacks.\n",
      "  % delta_t_median)\n"
     ]
    },
    {
     "name": "stdout",
     "output_type": "stream",
     "text": [
      " 2560/14547 [====>.........................] - ETA: 2s - loss: 214.3083 - mean_squared_error: 192.5439"
     ]
    },
    {
     "name": "stderr",
     "output_type": "stream",
     "text": [
      "C:\\Users\\controlslab\\Anaconda3\\envs\\gpu_tensorflow\\lib\\site-packages\\keras\\callbacks.py:120: UserWarning: Method on_batch_end() is slow compared to the batch update (0.136172). Check your callbacks.\n",
      "  % delta_t_median)\n",
      "C:\\Users\\controlslab\\Anaconda3\\envs\\gpu_tensorflow\\lib\\site-packages\\keras\\callbacks.py:120: UserWarning: Method on_batch_end() is slow compared to the batch update (0.144614). Check your callbacks.\n",
      "  % delta_t_median)\n"
     ]
    },
    {
     "name": "stdout",
     "output_type": "stream",
     "text": [
      " 4608/14547 [========>.....................] - ETA: 2s - loss: 210.3741 - mean_squared_error: 188.6131"
     ]
    },
    {
     "name": "stderr",
     "output_type": "stream",
     "text": [
      "C:\\Users\\controlslab\\Anaconda3\\envs\\gpu_tensorflow\\lib\\site-packages\\keras\\callbacks.py:120: UserWarning: Method on_batch_end() is slow compared to the batch update (0.140650). Check your callbacks.\n",
      "  % delta_t_median)\n",
      "C:\\Users\\controlslab\\Anaconda3\\envs\\gpu_tensorflow\\lib\\site-packages\\keras\\callbacks.py:120: UserWarning: Method on_batch_end() is slow compared to the batch update (0.134189). Check your callbacks.\n",
      "  % delta_t_median)\n"
     ]
    },
    {
     "name": "stdout",
     "output_type": "stream",
     "text": [
      " 7680/14547 [==============>...............] - ETA: 1s - loss: 213.5051 - mean_squared_error: 191.7553"
     ]
    },
    {
     "name": "stderr",
     "output_type": "stream",
     "text": [
      "C:\\Users\\controlslab\\Anaconda3\\envs\\gpu_tensorflow\\lib\\site-packages\\keras\\callbacks.py:120: UserWarning: Method on_batch_end() is slow compared to the batch update (0.122392). Check your callbacks.\n",
      "  % delta_t_median)\n",
      "C:\\Users\\controlslab\\Anaconda3\\envs\\gpu_tensorflow\\lib\\site-packages\\keras\\callbacks.py:120: UserWarning: Method on_batch_end() is slow compared to the batch update (0.111729). Check your callbacks.\n",
      "  % delta_t_median)\n",
      "C:\\Users\\controlslab\\Anaconda3\\envs\\gpu_tensorflow\\lib\\site-packages\\keras\\callbacks.py:120: UserWarning: Method on_batch_end() is slow compared to the batch update (0.103735). Check your callbacks.\n",
      "  % delta_t_median)\n"
     ]
    },
    {
     "name": "stdout",
     "output_type": "stream",
     "text": [
      "10752/14547 [=====================>........] - ETA: 0s - loss: 212.3686 - mean_squared_error: 190.6309 ETA: 1s - loss: 213.3433 - mean_squared_error: "
     ]
    },
    {
     "name": "stderr",
     "output_type": "stream",
     "text": [
      "C:\\Users\\controlslab\\Anaconda3\\envs\\gpu_tensorflow\\lib\\site-packages\\keras\\callbacks.py:120: UserWarning: Method on_batch_end() is slow compared to the batch update (0.115704). Check your callbacks.\n",
      "  % delta_t_median)\n"
     ]
    },
    {
     "name": "stdout",
     "output_type": "stream",
     "text": [
      "14336/14547 [============================>.] - ETA: 0s - loss: 209.8861 - mean_squared_error: 188.16"
     ]
    },
    {
     "name": "stderr",
     "output_type": "stream",
     "text": [
      "C:\\Users\\controlslab\\Anaconda3\\envs\\gpu_tensorflow\\lib\\site-packages\\keras\\callbacks.py:120: UserWarning: Method on_batch_end() is slow compared to the batch update (0.103736). Check your callbacks.\n",
      "  % delta_t_median)\n"
     ]
    },
    {
     "name": "stdout",
     "output_type": "stream",
     "text": [
      "14547/14547 [==============================] - 6s 411us/step - loss: 209.5840 - mean_squared_error: 187.8591 - val_loss: 346.3164 - val_mean_squared_error: 324.6212\n",
      "Epoch 77/100\n",
      " 1024/14547 [=>............................] - ETA: 3s - loss: 209.4710 - mean_squared_error: 187.7860"
     ]
    },
    {
     "name": "stderr",
     "output_type": "stream",
     "text": [
      "C:\\Users\\controlslab\\Anaconda3\\envs\\gpu_tensorflow\\lib\\site-packages\\keras\\callbacks.py:120: UserWarning: Method on_batch_end() is slow compared to the batch update (0.167552). Check your callbacks.\n",
      "  % delta_t_median)\n",
      "C:\\Users\\controlslab\\Anaconda3\\envs\\gpu_tensorflow\\lib\\site-packages\\keras\\callbacks.py:120: UserWarning: Method on_batch_end() is slow compared to the batch update (0.162087). Check your callbacks.\n",
      "  % delta_t_median)\n"
     ]
    },
    {
     "name": "stdout",
     "output_type": "stream",
     "text": [
      " 2048/14547 [===>..........................] - ETA: 3s - loss: 206.8135 - mean_squared_error: 185.1404"
     ]
    },
    {
     "name": "stderr",
     "output_type": "stream",
     "text": [
      "C:\\Users\\controlslab\\Anaconda3\\envs\\gpu_tensorflow\\lib\\site-packages\\keras\\callbacks.py:120: UserWarning: Method on_batch_end() is slow compared to the batch update (0.161568). Check your callbacks.\n",
      "  % delta_t_median)\n",
      "C:\\Users\\controlslab\\Anaconda3\\envs\\gpu_tensorflow\\lib\\site-packages\\keras\\callbacks.py:120: UserWarning: Method on_batch_end() is slow compared to the batch update (0.159095). Check your callbacks.\n",
      "  % delta_t_median)\n"
     ]
    },
    {
     "name": "stdout",
     "output_type": "stream",
     "text": [
      " 3584/14547 [======>.......................] - ETA: 3s - loss: 213.8017 - mean_squared_error: 192.1323"
     ]
    },
    {
     "name": "stderr",
     "output_type": "stream",
     "text": [
      "C:\\Users\\controlslab\\Anaconda3\\envs\\gpu_tensorflow\\lib\\site-packages\\keras\\callbacks.py:120: UserWarning: Method on_batch_end() is slow compared to the batch update (0.156623). Check your callbacks.\n",
      "  % delta_t_median)\n",
      "C:\\Users\\controlslab\\Anaconda3\\envs\\gpu_tensorflow\\lib\\site-packages\\keras\\callbacks.py:120: UserWarning: Method on_batch_end() is slow compared to the batch update (0.149621). Check your callbacks.\n",
      "  % delta_t_median)\n",
      "C:\\Users\\controlslab\\Anaconda3\\envs\\gpu_tensorflow\\lib\\site-packages\\keras\\callbacks.py:120: UserWarning: Method on_batch_end() is slow compared to the batch update (0.142619). Check your callbacks.\n",
      "  % delta_t_median)\n"
     ]
    },
    {
     "name": "stdout",
     "output_type": "stream",
     "text": [
      " 5632/14547 [==========>...................] - ETA: 2s - loss: 212.3965 - mean_squared_error: 190.7348"
     ]
    },
    {
     "name": "stderr",
     "output_type": "stream",
     "text": [
      "C:\\Users\\controlslab\\Anaconda3\\envs\\gpu_tensorflow\\lib\\site-packages\\keras\\callbacks.py:120: UserWarning: Method on_batch_end() is slow compared to the batch update (0.141632). Check your callbacks.\n",
      "  % delta_t_median)\n",
      "C:\\Users\\controlslab\\Anaconda3\\envs\\gpu_tensorflow\\lib\\site-packages\\keras\\callbacks.py:120: UserWarning: Method on_batch_end() is slow compared to the batch update (0.140635). Check your callbacks.\n",
      "  % delta_t_median)\n"
     ]
    },
    {
     "name": "stdout",
     "output_type": "stream",
     "text": [
      " 7680/14547 [==============>...............] - ETA: 2s - loss: 214.8829 - mean_squared_error: 193.2278 ETA: 2s - loss: 213.2096 - mean_squared_error: 191. - ETA: 1s - loss: 216.0183 - mean_squared_error: 194.3670"
     ]
    },
    {
     "name": "stderr",
     "output_type": "stream",
     "text": [
      "C:\\Users\\controlslab\\Anaconda3\\envs\\gpu_tensorflow\\lib\\site-packages\\keras\\callbacks.py:120: UserWarning: Method on_batch_end() is slow compared to the batch update (0.129165). Check your callbacks.\n",
      "  % delta_t_median)\n"
     ]
    },
    {
     "name": "stdout",
     "output_type": "stream",
     "text": [
      "10752/14547 [=====================>........] - ETA: 1s - loss: 212.5808 - mean_squared_error: 190.9446"
     ]
    },
    {
     "name": "stderr",
     "output_type": "stream",
     "text": [
      "C:\\Users\\controlslab\\Anaconda3\\envs\\gpu_tensorflow\\lib\\site-packages\\keras\\callbacks.py:120: UserWarning: Method on_batch_end() is slow compared to the batch update (0.111213). Check your callbacks.\n",
      "  % delta_t_median)\n",
      "C:\\Users\\controlslab\\Anaconda3\\envs\\gpu_tensorflow\\lib\\site-packages\\keras\\callbacks.py:120: UserWarning: Method on_batch_end() is slow compared to the batch update (0.136648). Check your callbacks.\n",
      "  % delta_t_median)\n",
      "C:\\Users\\controlslab\\Anaconda3\\envs\\gpu_tensorflow\\lib\\site-packages\\keras\\callbacks.py:120: UserWarning: Method on_batch_end() is slow compared to the batch update (0.118696). Check your callbacks.\n",
      "  % delta_t_median)\n"
     ]
    },
    {
     "name": "stdout",
     "output_type": "stream",
     "text": [
      "11776/14547 [=======================>......] - ETA: 0s - loss: 212.2534 - mean_squared_error: 190.6176"
     ]
    },
    {
     "name": "stderr",
     "output_type": "stream",
     "text": [
      "C:\\Users\\controlslab\\Anaconda3\\envs\\gpu_tensorflow\\lib\\site-packages\\keras\\callbacks.py:120: UserWarning: Method on_batch_end() is slow compared to the batch update (0.103224). Check your callbacks.\n",
      "  % delta_t_median)\n"
     ]
    },
    {
     "name": "stdout",
     "output_type": "stream",
     "text": [
      "13312/14547 [==========================>...] - ETA: 0s - loss: 210.6672 - mean_squared_error: 189.0351"
     ]
    },
    {
     "name": "stderr",
     "output_type": "stream",
     "text": [
      "C:\\Users\\controlslab\\Anaconda3\\envs\\gpu_tensorflow\\lib\\site-packages\\keras\\callbacks.py:120: UserWarning: Method on_batch_end() is slow compared to the batch update (0.114194). Check your callbacks.\n",
      "  % delta_t_median)\n"
     ]
    },
    {
     "name": "stdout",
     "output_type": "stream",
     "text": [
      "14336/14547 [============================>.] - ETA: 0s - loss: 211.0257 - mean_squared_error: 189.3979"
     ]
    },
    {
     "name": "stderr",
     "output_type": "stream",
     "text": [
      "C:\\Users\\controlslab\\Anaconda3\\envs\\gpu_tensorflow\\lib\\site-packages\\keras\\callbacks.py:120: UserWarning: Method on_batch_end() is slow compared to the batch update (0.104219). Check your callbacks.\n",
      "  % delta_t_median)\n",
      "C:\\Users\\controlslab\\Anaconda3\\envs\\gpu_tensorflow\\lib\\site-packages\\keras\\callbacks.py:120: UserWarning: Method on_batch_end() is slow compared to the batch update (0.111713). Check your callbacks.\n",
      "  % delta_t_median)\n"
     ]
    },
    {
     "name": "stdout",
     "output_type": "stream",
     "text": [
      "14547/14547 [==============================] - 4s 276us/step - loss: 210.7516 - mean_squared_error: 189.1247 - val_loss: 303.5323 - val_mean_squared_error: 281.9716\n",
      "Epoch 78/100\n",
      " 1536/14547 [==>...........................] - ETA: 2s - loss: 209.1569 - mean_squared_error: 187.5847 ETA: 1s - loss: 211.7905 - mean_squared_error: 190.22"
     ]
    },
    {
     "name": "stderr",
     "output_type": "stream",
     "text": [
      "C:\\Users\\controlslab\\Anaconda3\\envs\\gpu_tensorflow\\lib\\site-packages\\keras\\callbacks.py:120: UserWarning: Method on_batch_end() is slow compared to the batch update (0.134168). Check your callbacks.\n",
      "  % delta_t_median)\n",
      "C:\\Users\\controlslab\\Anaconda3\\envs\\gpu_tensorflow\\lib\\site-packages\\keras\\callbacks.py:120: UserWarning: Method on_batch_end() is slow compared to the batch update (0.106725). Check your callbacks.\n",
      "  % delta_t_median)\n"
     ]
    },
    {
     "name": "stdout",
     "output_type": "stream",
     "text": [
      " 3072/14547 [=====>........................] - ETA: 2s - loss: 209.6083 - mean_squared_error: 188.0433"
     ]
    },
    {
     "name": "stderr",
     "output_type": "stream",
     "text": [
      "C:\\Users\\controlslab\\Anaconda3\\envs\\gpu_tensorflow\\lib\\site-packages\\keras\\callbacks.py:120: UserWarning: Method on_batch_end() is slow compared to the batch update (0.118699). Check your callbacks.\n",
      "  % delta_t_median)\n",
      "C:\\Users\\controlslab\\Anaconda3\\envs\\gpu_tensorflow\\lib\\site-packages\\keras\\callbacks.py:120: UserWarning: Method on_batch_end() is slow compared to the batch update (0.109726). Check your callbacks.\n",
      "  % delta_t_median)\n"
     ]
    },
    {
     "name": "stdout",
     "output_type": "stream",
     "text": [
      " 5632/14547 [==========>...................] - ETA: 2s - loss: 205.4420 - mean_squared_error: 183.8855"
     ]
    },
    {
     "name": "stderr",
     "output_type": "stream",
     "text": [
      "C:\\Users\\controlslab\\Anaconda3\\envs\\gpu_tensorflow\\lib\\site-packages\\keras\\callbacks.py:120: UserWarning: Method on_batch_end() is slow compared to the batch update (0.112726). Check your callbacks.\n",
      "  % delta_t_median)\n"
     ]
    },
    {
     "name": "stdout",
     "output_type": "stream",
     "text": [
      " 6656/14547 [============>.................] - ETA: 2s - loss: 206.5690 - mean_squared_error: 185.0151"
     ]
    },
    {
     "name": "stderr",
     "output_type": "stream",
     "text": [
      "C:\\Users\\controlslab\\Anaconda3\\envs\\gpu_tensorflow\\lib\\site-packages\\keras\\callbacks.py:120: UserWarning: Method on_batch_end() is slow compared to the batch update (0.121700). Check your callbacks.\n",
      "  % delta_t_median)\n",
      "C:\\Users\\controlslab\\Anaconda3\\envs\\gpu_tensorflow\\lib\\site-packages\\keras\\callbacks.py:120: UserWarning: Method on_batch_end() is slow compared to the batch update (0.119709). Check your callbacks.\n",
      "  % delta_t_median)\n"
     ]
    },
    {
     "name": "stdout",
     "output_type": "stream",
     "text": [
      " 8192/14547 [===============>..............] - ETA: 1s - loss: 210.6160 - mean_squared_error: 189.0685"
     ]
    },
    {
     "name": "stderr",
     "output_type": "stream",
     "text": [
      "C:\\Users\\controlslab\\Anaconda3\\envs\\gpu_tensorflow\\lib\\site-packages\\keras\\callbacks.py:120: UserWarning: Method on_batch_end() is slow compared to the batch update (0.104248). Check your callbacks.\n",
      "  % delta_t_median)\n",
      "C:\\Users\\controlslab\\Anaconda3\\envs\\gpu_tensorflow\\lib\\site-packages\\keras\\callbacks.py:120: UserWarning: Method on_batch_end() is slow compared to the batch update (0.130167). Check your callbacks.\n",
      "  % delta_t_median)\n"
     ]
    },
    {
     "name": "stdout",
     "output_type": "stream",
     "text": [
      " 9216/14547 [==================>...........] - ETA: 1s - loss: 209.4944 - mean_squared_error: 187.9493"
     ]
    },
    {
     "name": "stderr",
     "output_type": "stream",
     "text": [
      "C:\\Users\\controlslab\\Anaconda3\\envs\\gpu_tensorflow\\lib\\site-packages\\keras\\callbacks.py:120: UserWarning: Method on_batch_end() is slow compared to the batch update (0.144125). Check your callbacks.\n",
      "  % delta_t_median)\n",
      "C:\\Users\\controlslab\\Anaconda3\\envs\\gpu_tensorflow\\lib\\site-packages\\keras\\callbacks.py:120: UserWarning: Method on_batch_end() is slow compared to the batch update (0.137118). Check your callbacks.\n",
      "  % delta_t_median)\n"
     ]
    },
    {
     "name": "stdout",
     "output_type": "stream",
     "text": [
      "11776/14547 [=======================>......] - ETA: 0s - loss: 208.5573 - mean_squared_error: 187.0185"
     ]
    },
    {
     "name": "stderr",
     "output_type": "stream",
     "text": [
      "C:\\Users\\controlslab\\Anaconda3\\envs\\gpu_tensorflow\\lib\\site-packages\\keras\\callbacks.py:120: UserWarning: Method on_batch_end() is slow compared to the batch update (0.122701). Check your callbacks.\n",
      "  % delta_t_median)\n",
      "C:\\Users\\controlslab\\Anaconda3\\envs\\gpu_tensorflow\\lib\\site-packages\\keras\\callbacks.py:120: UserWarning: Method on_batch_end() is slow compared to the batch update (0.110728). Check your callbacks.\n",
      "  % delta_t_median)\n"
     ]
    },
    {
     "name": "stdout",
     "output_type": "stream",
     "text": [
      "13312/14547 [==========================>...] - ETA: 0s - loss: 209.6724 - mean_squared_error: 188.1374"
     ]
    },
    {
     "name": "stderr",
     "output_type": "stream",
     "text": [
      "C:\\Users\\controlslab\\Anaconda3\\envs\\gpu_tensorflow\\lib\\site-packages\\keras\\callbacks.py:120: UserWarning: Method on_batch_end() is slow compared to the batch update (0.115706). Check your callbacks.\n",
      "  % delta_t_median)\n",
      "C:\\Users\\controlslab\\Anaconda3\\envs\\gpu_tensorflow\\lib\\site-packages\\keras\\callbacks.py:120: UserWarning: Method on_batch_end() is slow compared to the batch update (0.111204). Check your callbacks.\n",
      "  % delta_t_median)\n",
      "C:\\Users\\controlslab\\Anaconda3\\envs\\gpu_tensorflow\\lib\\site-packages\\keras\\callbacks.py:120: UserWarning: Method on_batch_end() is slow compared to the batch update (0.106226). Check your callbacks.\n",
      "  % delta_t_median)\n"
     ]
    },
    {
     "name": "stdout",
     "output_type": "stream",
     "text": [
      "14336/14547 [============================>.] - ETA: 0s - loss: 209.2017 - mean_squared_error: 187.6688"
     ]
    },
    {
     "name": "stderr",
     "output_type": "stream",
     "text": [
      "C:\\Users\\controlslab\\Anaconda3\\envs\\gpu_tensorflow\\lib\\site-packages\\keras\\callbacks.py:120: UserWarning: Method on_batch_end() is slow compared to the batch update (0.103670). Check your callbacks.\n",
      "  % delta_t_median)\n"
     ]
    },
    {
     "name": "stdout",
     "output_type": "stream",
     "text": [
      "14547/14547 [==============================] - 4s 264us/step - loss: 209.1261 - mean_squared_error: 187.5936 - val_loss: 318.0871 - val_mean_squared_error: 296.5958\n",
      "Epoch 79/100\n",
      " 6144/14547 [===========>..................] - ETA: 1s - loss: 204.8264 - mean_squared_error: 183.3563 ETA: 1s - loss: 205.9466 - mean_squared_error: 184.46 - ETA: 1s - loss: 201.8478 - mean_squared_error: 180.37 - ETA: 1s - loss: 200.8906 - mean_squared_error: 17 - ETA: 2s - loss: 206.8314 - mean_squared_error: 18"
     ]
    },
    {
     "name": "stderr",
     "output_type": "stream",
     "text": [
      "C:\\Users\\controlslab\\Anaconda3\\envs\\gpu_tensorflow\\lib\\site-packages\\keras\\callbacks.py:120: UserWarning: Method on_batch_end() is slow compared to the batch update (0.109734). Check your callbacks.\n",
      "  % delta_t_median)\n"
     ]
    },
    {
     "name": "stdout",
     "output_type": "stream",
     "text": [
      " 6656/14547 [============>.................] - ETA: 1s - loss: 204.9711 - mean_squared_error: 183.5025"
     ]
    },
    {
     "name": "stderr",
     "output_type": "stream",
     "text": [
      "C:\\Users\\controlslab\\Anaconda3\\envs\\gpu_tensorflow\\lib\\site-packages\\keras\\callbacks.py:120: UserWarning: Method on_batch_end() is slow compared to the batch update (0.119210). Check your callbacks.\n",
      "  % delta_t_median)\n",
      "C:\\Users\\controlslab\\Anaconda3\\envs\\gpu_tensorflow\\lib\\site-packages\\keras\\callbacks.py:120: UserWarning: Method on_batch_end() is slow compared to the batch update (0.114709). Check your callbacks.\n",
      "  % delta_t_median)\n"
     ]
    },
    {
     "name": "stdout",
     "output_type": "stream",
     "text": [
      " 8192/14547 [===============>..............] - ETA: 1s - loss: 205.5534 - mean_squared_error: 184.08 - ETA: 1s - loss: 207.4881 - mean_squared_error: 186.0240"
     ]
    },
    {
     "name": "stderr",
     "output_type": "stream",
     "text": [
      "C:\\Users\\controlslab\\Anaconda3\\envs\\gpu_tensorflow\\lib\\site-packages\\keras\\callbacks.py:120: UserWarning: Method on_batch_end() is slow compared to the batch update (0.125664). Check your callbacks.\n",
      "  % delta_t_median)\n"
     ]
    },
    {
     "name": "stdout",
     "output_type": "stream",
     "text": [
      "10240/14547 [====================>.........] - ETA: 1s - loss: 209.1614 - mean_squared_error: 187.69"
     ]
    },
    {
     "name": "stderr",
     "output_type": "stream",
     "text": [
      "C:\\Users\\controlslab\\Anaconda3\\envs\\gpu_tensorflow\\lib\\site-packages\\keras\\callbacks.py:120: UserWarning: Method on_batch_end() is slow compared to the batch update (0.121192). Check your callbacks.\n",
      "  % delta_t_median)\n",
      "C:\\Users\\controlslab\\Anaconda3\\envs\\gpu_tensorflow\\lib\\site-packages\\keras\\callbacks.py:120: UserWarning: Method on_batch_end() is slow compared to the batch update (0.124184). Check your callbacks.\n",
      "  % delta_t_median)\n"
     ]
    },
    {
     "name": "stdout",
     "output_type": "stream",
     "text": [
      "13312/14547 [==========================>...] - ETA: 0s - loss: 209.7596 - mean_squared_error: 188.3054"
     ]
    },
    {
     "name": "stderr",
     "output_type": "stream",
     "text": [
      "C:\\Users\\controlslab\\Anaconda3\\envs\\gpu_tensorflow\\lib\\site-packages\\keras\\callbacks.py:120: UserWarning: Method on_batch_end() is slow compared to the batch update (0.130680). Check your callbacks.\n",
      "  % delta_t_median)\n",
      "C:\\Users\\controlslab\\Anaconda3\\envs\\gpu_tensorflow\\lib\\site-packages\\keras\\callbacks.py:120: UserWarning: Method on_batch_end() is slow compared to the batch update (0.116688). Check your callbacks.\n",
      "  % delta_t_median)\n"
     ]
    },
    {
     "name": "stdout",
     "output_type": "stream",
     "text": [
      "14547/14547 [==============================] - 4s 247us/step - loss: 208.8502 - mean_squared_error: 187.3985 - val_loss: 323.7377 - val_mean_squared_error: 302.3260\n"
     ]
    },
    {
     "name": "stderr",
     "output_type": "stream",
     "text": [
      "C:\\Users\\controlslab\\Anaconda3\\envs\\gpu_tensorflow\\lib\\site-packages\\keras\\callbacks.py:120: UserWarning: Method on_batch_end() is slow compared to the batch update (0.126177). Check your callbacks.\n",
      "  % delta_t_median)\n"
     ]
    },
    {
     "name": "stdout",
     "output_type": "stream",
     "text": [
      "Epoch 80/100\n",
      " 1536/14547 [==>...........................] - ETA: 2s - loss: 215.7504 - mean_squared_error: 194.3467"
     ]
    },
    {
     "name": "stderr",
     "output_type": "stream",
     "text": [
      "C:\\Users\\controlslab\\Anaconda3\\envs\\gpu_tensorflow\\lib\\site-packages\\keras\\callbacks.py:120: UserWarning: Method on_batch_end() is slow compared to the batch update (0.134658). Check your callbacks.\n",
      "  % delta_t_median)\n",
      "C:\\Users\\controlslab\\Anaconda3\\envs\\gpu_tensorflow\\lib\\site-packages\\keras\\callbacks.py:120: UserWarning: Method on_batch_end() is slow compared to the batch update (0.130161). Check your callbacks.\n",
      "  % delta_t_median)\n",
      "C:\\Users\\controlslab\\Anaconda3\\envs\\gpu_tensorflow\\lib\\site-packages\\keras\\callbacks.py:120: UserWarning: Method on_batch_end() is slow compared to the batch update (0.125663). Check your callbacks.\n",
      "  % delta_t_median)\n"
     ]
    },
    {
     "name": "stdout",
     "output_type": "stream",
     "text": [
      " 4096/14547 [=======>......................] - ETA: 2s - loss: 209.0637 - mean_squared_error: 187.6686"
     ]
    },
    {
     "name": "stderr",
     "output_type": "stream",
     "text": [
      "C:\\Users\\controlslab\\Anaconda3\\envs\\gpu_tensorflow\\lib\\site-packages\\keras\\callbacks.py:120: UserWarning: Method on_batch_end() is slow compared to the batch update (0.122186). Check your callbacks.\n",
      "  % delta_t_median)\n",
      "C:\\Users\\controlslab\\Anaconda3\\envs\\gpu_tensorflow\\lib\\site-packages\\keras\\callbacks.py:120: UserWarning: Method on_batch_end() is slow compared to the batch update (0.118710). Check your callbacks.\n",
      "  % delta_t_median)\n"
     ]
    },
    {
     "name": "stdout",
     "output_type": "stream",
     "text": [
      " 7680/14547 [==============>...............] - ETA: 1s - loss: 210.2960 - mean_squared_error: 188.9110"
     ]
    },
    {
     "name": "stderr",
     "output_type": "stream",
     "text": [
      "C:\\Users\\controlslab\\Anaconda3\\envs\\gpu_tensorflow\\lib\\site-packages\\keras\\callbacks.py:120: UserWarning: Method on_batch_end() is slow compared to the batch update (0.103896). Check your callbacks.\n",
      "  % delta_t_median)\n",
      "C:\\Users\\controlslab\\Anaconda3\\envs\\gpu_tensorflow\\lib\\site-packages\\keras\\callbacks.py:120: UserWarning: Method on_batch_end() is slow compared to the batch update (0.104408). Check your callbacks.\n",
      "  % delta_t_median)\n"
     ]
    },
    {
     "name": "stdout",
     "output_type": "stream",
     "text": [
      "10240/14547 [====================>.........] - ETA: 1s - loss: 210.4346 - mean_squared_error: 189.0590"
     ]
    },
    {
     "name": "stderr",
     "output_type": "stream",
     "text": [
      "C:\\Users\\controlslab\\Anaconda3\\envs\\gpu_tensorflow\\lib\\site-packages\\keras\\callbacks.py:120: UserWarning: Method on_batch_end() is slow compared to the batch update (0.118138). Check your callbacks.\n",
      "  % delta_t_median)\n"
     ]
    },
    {
     "name": "stdout",
     "output_type": "stream",
     "text": [
      "10752/14547 [=====================>........] - ETA: 0s - loss: 210.1828 - mean_squared_error: 188.8069"
     ]
    },
    {
     "name": "stderr",
     "output_type": "stream",
     "text": [
      "C:\\Users\\controlslab\\Anaconda3\\envs\\gpu_tensorflow\\lib\\site-packages\\keras\\callbacks.py:120: UserWarning: Method on_batch_end() is slow compared to the batch update (0.111375). Check your callbacks.\n",
      "  % delta_t_median)\n"
     ]
    },
    {
     "name": "stdout",
     "output_type": "stream",
     "text": [
      "14336/14547 [============================>.] - ETA: 0s - loss: 209.0346 - mean_squared_error: 187.6711"
     ]
    },
    {
     "name": "stderr",
     "output_type": "stream",
     "text": [
      "C:\\Users\\controlslab\\Anaconda3\\envs\\gpu_tensorflow\\lib\\site-packages\\keras\\callbacks.py:120: UserWarning: Method on_batch_end() is slow compared to the batch update (0.137627). Check your callbacks.\n",
      "  % delta_t_median)\n",
      "C:\\Users\\controlslab\\Anaconda3\\envs\\gpu_tensorflow\\lib\\site-packages\\keras\\callbacks.py:120: UserWarning: Method on_batch_end() is slow compared to the batch update (0.108209). Check your callbacks.\n",
      "  % delta_t_median)\n"
     ]
    },
    {
     "name": "stdout",
     "output_type": "stream",
     "text": [
      "14547/14547 [==============================] - 4s 255us/step - loss: 209.3406 - mean_squared_error: 187.9779 - val_loss: 299.0630 - val_mean_squared_error: 277.7707\n",
      "Epoch 81/100\n",
      "  512/14547 [>.............................] - ETA: 0s - loss: 214.9512 - mean_squared_error: 193.6588"
     ]
    },
    {
     "name": "stderr",
     "output_type": "stream",
     "text": [
      "C:\\Users\\controlslab\\Anaconda3\\envs\\gpu_tensorflow\\lib\\site-packages\\keras\\callbacks.py:120: UserWarning: Method on_batch_end() is slow compared to the batch update (0.113695). Check your callbacks.\n",
      "  % delta_t_median)\n"
     ]
    },
    {
     "name": "stdout",
     "output_type": "stream",
     "text": [
      " 4608/14547 [========>.....................] - ETA: 8s - loss: 209.5675 - mean_squared_error: 188.2607"
     ]
    },
    {
     "name": "stderr",
     "output_type": "stream",
     "text": [
      "C:\\Users\\controlslab\\Anaconda3\\envs\\gpu_tensorflow\\lib\\site-packages\\keras\\callbacks.py:120: UserWarning: Method on_batch_end() is slow compared to the batch update (0.108709). Check your callbacks.\n",
      "  % delta_t_median)\n"
     ]
    },
    {
     "name": "stdout",
     "output_type": "stream",
     "text": [
      " 8704/14547 [================>.............] - ETA: 3s - loss: 209.3118 - mean_squared_error: 188.02 - ETA: 3s - loss: 209.6297 - mean_squared_error: 188.3429"
     ]
    },
    {
     "name": "stderr",
     "output_type": "stream",
     "text": [
      "C:\\Users\\controlslab\\Anaconda3\\envs\\gpu_tensorflow\\lib\\site-packages\\keras\\callbacks.py:120: UserWarning: Method on_batch_end() is slow compared to the batch update (0.109222). Check your callbacks.\n",
      "  % delta_t_median)\n"
     ]
    },
    {
     "name": "stdout",
     "output_type": "stream",
     "text": [
      "12288/14547 [========================>.....] - ETA: 1s - loss: 208.2360 - mean_squared_error: 186.9670 ETA: 2s - loss: 208.0608 - mean_squared_error: "
     ]
    },
    {
     "name": "stderr",
     "output_type": "stream",
     "text": [
      "C:\\Users\\controlslab\\Anaconda3\\envs\\gpu_tensorflow\\lib\\site-packages\\keras\\callbacks.py:120: UserWarning: Method on_batch_end() is slow compared to the batch update (0.134169). Check your callbacks.\n",
      "  % delta_t_median)\n",
      "C:\\Users\\controlslab\\Anaconda3\\envs\\gpu_tensorflow\\lib\\site-packages\\keras\\callbacks.py:120: UserWarning: Method on_batch_end() is slow compared to the batch update (0.147059). Check your callbacks.\n",
      "  % delta_t_median)\n"
     ]
    },
    {
     "name": "stdout",
     "output_type": "stream",
     "text": [
      "14547/14547 [==============================] - 6s 446us/step - loss: 209.0719 - mean_squared_error: 187.8075 - val_loss: 368.9703 - val_mean_squared_error: 347.6969\n"
     ]
    },
    {
     "name": "stderr",
     "output_type": "stream",
     "text": [
      "C:\\Users\\controlslab\\Anaconda3\\envs\\gpu_tensorflow\\lib\\site-packages\\keras\\callbacks.py:120: UserWarning: Method on_batch_end() is slow compared to the batch update (0.143570). Check your callbacks.\n",
      "  % delta_t_median)\n"
     ]
    },
    {
     "name": "stdout",
     "output_type": "stream",
     "text": [
      "Epoch 82/100\n",
      " 5120/14547 [=========>....................] - ETA: 0s - loss: 210.9984 - mean_squared_error: 189.7818"
     ]
    },
    {
     "name": "stderr",
     "output_type": "stream",
     "text": [
      "C:\\Users\\controlslab\\Anaconda3\\envs\\gpu_tensorflow\\lib\\site-packages\\keras\\callbacks.py:120: UserWarning: Method on_batch_end() is slow compared to the batch update (0.106395). Check your callbacks.\n",
      "  % delta_t_median)\n"
     ]
    },
    {
     "name": "stdout",
     "output_type": "stream",
     "text": [
      " 8704/14547 [================>.............] - ETA: 0s - loss: 206.8717 - mean_squared_error: 185.6666 ETA: 0s - loss: 207.4842 - mean_squared_error: 186.27"
     ]
    },
    {
     "name": "stderr",
     "output_type": "stream",
     "text": [
      "C:\\Users\\controlslab\\Anaconda3\\envs\\gpu_tensorflow\\lib\\site-packages\\keras\\callbacks.py:120: UserWarning: Method on_batch_end() is slow compared to the batch update (0.102740). Check your callbacks.\n",
      "  % delta_t_median)\n",
      "C:\\Users\\controlslab\\Anaconda3\\envs\\gpu_tensorflow\\lib\\site-packages\\keras\\callbacks.py:120: UserWarning: Method on_batch_end() is slow compared to the batch update (0.115221). Check your callbacks.\n",
      "  % delta_t_median)\n"
     ]
    },
    {
     "name": "stdout",
     "output_type": "stream",
     "text": [
      "10752/14547 [=====================>........] - ETA: 0s - loss: 207.1165 - mean_squared_error: 185.9154"
     ]
    },
    {
     "name": "stderr",
     "output_type": "stream",
     "text": [
      "C:\\Users\\controlslab\\Anaconda3\\envs\\gpu_tensorflow\\lib\\site-packages\\keras\\callbacks.py:120: UserWarning: Method on_batch_end() is slow compared to the batch update (0.119209). Check your callbacks.\n",
      "  % delta_t_median)\n"
     ]
    },
    {
     "name": "stdout",
     "output_type": "stream",
     "text": [
      "11776/14547 [=======================>......] - ETA: 0s - loss: 207.2447 - mean_squared_error: 186.0478"
     ]
    },
    {
     "name": "stderr",
     "output_type": "stream",
     "text": [
      "C:\\Users\\controlslab\\Anaconda3\\envs\\gpu_tensorflow\\lib\\site-packages\\keras\\callbacks.py:120: UserWarning: Method on_batch_end() is slow compared to the batch update (0.114222). Check your callbacks.\n",
      "  % delta_t_median)\n",
      "C:\\Users\\controlslab\\Anaconda3\\envs\\gpu_tensorflow\\lib\\site-packages\\keras\\callbacks.py:120: UserWarning: Method on_batch_end() is slow compared to the batch update (0.118210). Check your callbacks.\n",
      "  % delta_t_median)\n",
      "C:\\Users\\controlslab\\Anaconda3\\envs\\gpu_tensorflow\\lib\\site-packages\\keras\\callbacks.py:120: UserWarning: Method on_batch_end() is slow compared to the batch update (0.110217). Check your callbacks.\n",
      "  % delta_t_median)\n"
     ]
    },
    {
     "name": "stdout",
     "output_type": "stream",
     "text": [
      "14336/14547 [============================>.] - ETA: 0s - loss: 209.1360 - mean_squared_error: 187.94 - ETA: 0s - loss: 208.9513 - mean_squared_error: 187.7610"
     ]
    },
    {
     "name": "stderr",
     "output_type": "stream",
     "text": [
      "C:\\Users\\controlslab\\Anaconda3\\envs\\gpu_tensorflow\\lib\\site-packages\\keras\\callbacks.py:120: UserWarning: Method on_batch_end() is slow compared to the batch update (0.112226). Check your callbacks.\n",
      "  % delta_t_median)\n",
      "C:\\Users\\controlslab\\Anaconda3\\envs\\gpu_tensorflow\\lib\\site-packages\\keras\\callbacks.py:120: UserWarning: Method on_batch_end() is slow compared to the batch update (0.105730). Check your callbacks.\n",
      "  % delta_t_median)\n"
     ]
    },
    {
     "name": "stdout",
     "output_type": "stream",
     "text": [
      "14547/14547 [==============================] - 3s 194us/step - loss: 208.9100 - mean_squared_error: 187.7201 - val_loss: 305.5059 - val_mean_squared_error: 284.3814\n",
      "Epoch 83/100\n",
      " 1024/14547 [=>............................] - ETA: 2s - loss: 201.1221 - mean_squared_error: 179.9866"
     ]
    },
    {
     "name": "stderr",
     "output_type": "stream",
     "text": [
      "C:\\Users\\controlslab\\Anaconda3\\envs\\gpu_tensorflow\\lib\\site-packages\\keras\\callbacks.py:120: UserWarning: Method on_batch_end() is slow compared to the batch update (0.135660). Check your callbacks.\n",
      "  % delta_t_median)\n",
      "C:\\Users\\controlslab\\Anaconda3\\envs\\gpu_tensorflow\\lib\\site-packages\\keras\\callbacks.py:120: UserWarning: Method on_batch_end() is slow compared to the batch update (0.144129). Check your callbacks.\n",
      "  % delta_t_median)\n"
     ]
    },
    {
     "name": "stdout",
     "output_type": "stream",
     "text": [
      " 4608/14547 [========>.....................] - ETA: 2s - loss: 195.8922 - mean_squared_error: 174.7617 ETA: 2s - loss: 198.5443 - mean_squared_error"
     ]
    },
    {
     "name": "stderr",
     "output_type": "stream",
     "text": [
      "C:\\Users\\controlslab\\Anaconda3\\envs\\gpu_tensorflow\\lib\\site-packages\\keras\\callbacks.py:120: UserWarning: Method on_batch_end() is slow compared to the batch update (0.134160). Check your callbacks.\n",
      "  % delta_t_median)\n"
     ]
    },
    {
     "name": "stdout",
     "output_type": "stream",
     "text": [
      " 5632/14547 [==========>...................] - ETA: 2s - loss: 200.8671 - mean_squared_error: 179.7431"
     ]
    },
    {
     "name": "stderr",
     "output_type": "stream",
     "text": [
      "C:\\Users\\controlslab\\Anaconda3\\envs\\gpu_tensorflow\\lib\\site-packages\\keras\\callbacks.py:120: UserWarning: Method on_batch_end() is slow compared to the batch update (0.138640). Check your callbacks.\n",
      "  % delta_t_median)\n",
      "C:\\Users\\controlslab\\Anaconda3\\envs\\gpu_tensorflow\\lib\\site-packages\\keras\\callbacks.py:120: UserWarning: Method on_batch_end() is slow compared to the batch update (0.137140). Check your callbacks.\n",
      "  % delta_t_median)\n"
     ]
    },
    {
     "name": "stdout",
     "output_type": "stream",
     "text": [
      " 8704/14547 [================>.............] - ETA: 1s - loss: 203.5948 - mean_squared_error: 182.48 - ETA: 1s - loss: 203.8181 - mean_squared_error: 182.7052"
     ]
    },
    {
     "name": "stderr",
     "output_type": "stream",
     "text": [
      "C:\\Users\\controlslab\\Anaconda3\\envs\\gpu_tensorflow\\lib\\site-packages\\keras\\callbacks.py:120: UserWarning: Method on_batch_end() is slow compared to the batch update (0.143222). Check your callbacks.\n",
      "  % delta_t_median)\n"
     ]
    },
    {
     "name": "stdout",
     "output_type": "stream",
     "text": [
      "11264/14547 [======================>.......] - ETA: 0s - loss: 205.5858 - mean_squared_error: 184.4769"
     ]
    },
    {
     "name": "stderr",
     "output_type": "stream",
     "text": [
      "C:\\Users\\controlslab\\Anaconda3\\envs\\gpu_tensorflow\\lib\\site-packages\\keras\\callbacks.py:120: UserWarning: Method on_batch_end() is slow compared to the batch update (0.135138). Check your callbacks.\n",
      "  % delta_t_median)\n",
      "C:\\Users\\controlslab\\Anaconda3\\envs\\gpu_tensorflow\\lib\\site-packages\\keras\\callbacks.py:120: UserWarning: Method on_batch_end() is slow compared to the batch update (0.127159). Check your callbacks.\n",
      "  % delta_t_median)\n"
     ]
    },
    {
     "name": "stdout",
     "output_type": "stream",
     "text": [
      "12288/14547 [========================>.....] - ETA: 0s - loss: 206.1618 - mean_squared_error: 185.0550"
     ]
    },
    {
     "name": "stderr",
     "output_type": "stream",
     "text": [
      "C:\\Users\\controlslab\\Anaconda3\\envs\\gpu_tensorflow\\lib\\site-packages\\keras\\callbacks.py:120: UserWarning: Method on_batch_end() is slow compared to the batch update (0.124651). Check your callbacks.\n",
      "  % delta_t_median)\n",
      "C:\\Users\\controlslab\\Anaconda3\\envs\\gpu_tensorflow\\lib\\site-packages\\keras\\callbacks.py:120: UserWarning: Method on_batch_end() is slow compared to the batch update (0.112683). Check your callbacks.\n",
      "  % delta_t_median)\n"
     ]
    },
    {
     "name": "stdout",
     "output_type": "stream",
     "text": [
      "14547/14547 [==============================] - 4s 275us/step - loss: 207.4998 - mean_squared_error: 186.3974 - val_loss: 327.9340 - val_mean_squared_error: 306.8633\n",
      "Epoch 84/100\n",
      " 1536/14547 [==>...........................] - ETA: 2s - loss: 199.7616 - mean_squared_error: 178.6989"
     ]
    },
    {
     "name": "stderr",
     "output_type": "stream",
     "text": [
      "C:\\Users\\controlslab\\Anaconda3\\envs\\gpu_tensorflow\\lib\\site-packages\\keras\\callbacks.py:120: UserWarning: Method on_batch_end() is slow compared to the batch update (0.143641). Check your callbacks.\n",
      "  % delta_t_median)\n",
      "C:\\Users\\controlslab\\Anaconda3\\envs\\gpu_tensorflow\\lib\\site-packages\\keras\\callbacks.py:120: UserWarning: Method on_batch_end() is slow compared to the batch update (0.114616). Check your callbacks.\n",
      "  % delta_t_median)\n"
     ]
    },
    {
     "name": "stdout",
     "output_type": "stream",
     "text": [
      " 9216/14547 [==================>...........] - ETA: 1s - loss: 205.2792 - mean_squared_error: 184.2383 ETA: 2s - loss: 209.4727 - mean_squared_err - ETA: 1s - loss: 207.1532 - mean_squared_error: 186.10 - ETA: 1s - loss: 206.8547 - mean_squared_err - ETA: 1s - loss: 205.5766 - mean_squared_error: 184.5366"
     ]
    },
    {
     "name": "stderr",
     "output_type": "stream",
     "text": [
      "C:\\Users\\controlslab\\Anaconda3\\envs\\gpu_tensorflow\\lib\\site-packages\\keras\\callbacks.py:120: UserWarning: Method on_batch_end() is slow compared to the batch update (0.102738). Check your callbacks.\n",
      "  % delta_t_median)\n"
     ]
    },
    {
     "name": "stdout",
     "output_type": "stream",
     "text": [
      "11264/14547 [======================>.......] - ETA: 0s - loss: 207.0387 - mean_squared_error: 186.0045"
     ]
    },
    {
     "name": "stderr",
     "output_type": "stream",
     "text": [
      "C:\\Users\\controlslab\\Anaconda3\\envs\\gpu_tensorflow\\lib\\site-packages\\keras\\callbacks.py:120: UserWarning: Method on_batch_end() is slow compared to the batch update (0.100741). Check your callbacks.\n",
      "  % delta_t_median)\n",
      "C:\\Users\\controlslab\\Anaconda3\\envs\\gpu_tensorflow\\lib\\site-packages\\keras\\callbacks.py:120: UserWarning: Method on_batch_end() is slow compared to the batch update (0.109719). Check your callbacks.\n",
      "  % delta_t_median)\n"
     ]
    },
    {
     "name": "stdout",
     "output_type": "stream",
     "text": [
      "14547/14547 [==============================] - 4s 249us/step - loss: 208.0647 - mean_squared_error: 187.0375 - val_loss: 384.8474 - val_mean_squared_error: 363.8166\n"
     ]
    },
    {
     "name": "stderr",
     "output_type": "stream",
     "text": [
      "C:\\Users\\controlslab\\Anaconda3\\envs\\gpu_tensorflow\\lib\\site-packages\\keras\\callbacks.py:120: UserWarning: Method on_batch_end() is slow compared to the batch update (0.120192). Check your callbacks.\n",
      "  % delta_t_median)\n"
     ]
    },
    {
     "name": "stdout",
     "output_type": "stream",
     "text": [
      "Epoch 85/100\n",
      " 2048/14547 [===>..........................] - ETA: 1s - loss: 208.6086 - mean_squared_error: 187.6169"
     ]
    },
    {
     "name": "stderr",
     "output_type": "stream",
     "text": [
      "C:\\Users\\controlslab\\Anaconda3\\envs\\gpu_tensorflow\\lib\\site-packages\\keras\\callbacks.py:120: UserWarning: Method on_batch_end() is slow compared to the batch update (0.113724). Check your callbacks.\n",
      "  % delta_t_median)\n"
     ]
    },
    {
     "name": "stdout",
     "output_type": "stream",
     "text": [
      " 4096/14547 [=======>......................] - ETA: 1s - loss: 210.9170 - mean_squared_error: 189.93 - ETA: 2s - loss: 211.4626 - mean_squared_error: 190.4836"
     ]
    },
    {
     "name": "stderr",
     "output_type": "stream",
     "text": [
      "C:\\Users\\controlslab\\Anaconda3\\envs\\gpu_tensorflow\\lib\\site-packages\\keras\\callbacks.py:120: UserWarning: Method on_batch_end() is slow compared to the batch update (0.100731). Check your callbacks.\n",
      "  % delta_t_median)\n",
      "C:\\Users\\controlslab\\Anaconda3\\envs\\gpu_tensorflow\\lib\\site-packages\\keras\\callbacks.py:120: UserWarning: Method on_batch_end() is slow compared to the batch update (0.101244). Check your callbacks.\n",
      "  % delta_t_median)\n"
     ]
    },
    {
     "name": "stdout",
     "output_type": "stream",
     "text": [
      " 6144/14547 [===========>..................] - ETA: 1s - loss: 211.4645 - mean_squared_error: 190.48 - ETA: 1s - loss: 210.7998 - mean_squared_error: 189.82\r"
     ]
    },
    {
     "name": "stderr",
     "output_type": "stream",
     "text": [
      "C:\\Users\\controlslab\\Anaconda3\\envs\\gpu_tensorflow\\lib\\site-packages\\keras\\callbacks.py:120: UserWarning: Method on_batch_end() is slow compared to the batch update (0.100743). Check your callbacks.\n",
      "  % delta_t_median)\n"
     ]
    },
    {
     "name": "stdout",
     "output_type": "stream",
     "text": [
      " 7680/14547 [==============>...............] - ETA: 4s - loss: 207.8275 - mean_squared_error: 186.8558"
     ]
    },
    {
     "name": "stderr",
     "output_type": "stream",
     "text": [
      "C:\\Users\\controlslab\\Anaconda3\\envs\\gpu_tensorflow\\lib\\site-packages\\keras\\callbacks.py:120: UserWarning: Method on_batch_end() is slow compared to the batch update (0.101256). Check your callbacks.\n",
      "  % delta_t_median)\n"
     ]
    },
    {
     "name": "stdout",
     "output_type": "stream",
     "text": [
      "11264/14547 [======================>.......] - ETA: 1s - loss: 206.7898 - mean_squared_error: 185.8287 ETA: 2s - loss: 207.0955 - mean_squared_error: 186.13 - ETA: 2s - loss: 207.0938 - mean_squared_error: 18"
     ]
    },
    {
     "name": "stderr",
     "output_type": "stream",
     "text": [
      "C:\\Users\\controlslab\\Anaconda3\\envs\\gpu_tensorflow\\lib\\site-packages\\keras\\callbacks.py:120: UserWarning: Method on_batch_end() is slow compared to the batch update (0.107234). Check your callbacks.\n",
      "  % delta_t_median)\n"
     ]
    },
    {
     "name": "stdout",
     "output_type": "stream",
     "text": [
      "14547/14547 [==============================] - 6s 421us/step - loss: 207.2641 - mean_squared_error: 186.3125 - val_loss: 359.2915 - val_mean_squared_error: 338.3422\n",
      "Epoch 86/100\n",
      "  512/14547 [>.............................] - ETA: 0s - loss: 212.8453 - mean_squared_error: 191.8961"
     ]
    },
    {
     "name": "stderr",
     "output_type": "stream",
     "text": [
      "C:\\Users\\controlslab\\Anaconda3\\envs\\gpu_tensorflow\\lib\\site-packages\\keras\\callbacks.py:120: UserWarning: Method on_batch_end() is slow compared to the batch update (0.105241). Check your callbacks.\n",
      "  % delta_t_median)\n",
      "C:\\Users\\controlslab\\Anaconda3\\envs\\gpu_tensorflow\\lib\\site-packages\\keras\\callbacks.py:120: UserWarning: Method on_batch_end() is slow compared to the batch update (0.102747). Check your callbacks.\n",
      "  % delta_t_median)\n"
     ]
    },
    {
     "name": "stdout",
     "output_type": "stream",
     "text": [
      " 2048/14547 [===>..........................] - ETA: 2s - loss: 205.4861 - mean_squared_error: 184.5654"
     ]
    },
    {
     "name": "stderr",
     "output_type": "stream",
     "text": [
      "C:\\Users\\controlslab\\Anaconda3\\envs\\gpu_tensorflow\\lib\\site-packages\\keras\\callbacks.py:120: UserWarning: Method on_batch_end() is slow compared to the batch update (0.120677). Check your callbacks.\n",
      "  % delta_t_median)\n"
     ]
    },
    {
     "name": "stdout",
     "output_type": "stream",
     "text": [
      " 7168/14547 [=============>................] - ETA: 1s - loss: 206.8268 - mean_squared_error: 185.9244 ETA: 2s - loss: 206.7664 - mean_squared"
     ]
    },
    {
     "name": "stderr",
     "output_type": "stream",
     "text": [
      "C:\\Users\\controlslab\\Anaconda3\\envs\\gpu_tensorflow\\lib\\site-packages\\keras\\callbacks.py:120: UserWarning: Method on_batch_end() is slow compared to the batch update (0.113026). Check your callbacks.\n",
      "  % delta_t_median)\n",
      "C:\\Users\\controlslab\\Anaconda3\\envs\\gpu_tensorflow\\lib\\site-packages\\keras\\callbacks.py:120: UserWarning: Method on_batch_end() is slow compared to the batch update (0.117029). Check your callbacks.\n",
      "  % delta_t_median)\n"
     ]
    },
    {
     "name": "stdout",
     "output_type": "stream",
     "text": [
      " 9216/14547 [==================>...........] - ETA: 1s - loss: 205.6371 - mean_squared_error: 184.7456"
     ]
    },
    {
     "name": "stderr",
     "output_type": "stream",
     "text": [
      "C:\\Users\\controlslab\\Anaconda3\\envs\\gpu_tensorflow\\lib\\site-packages\\keras\\callbacks.py:120: UserWarning: Method on_batch_end() is slow compared to the batch update (0.118198). Check your callbacks.\n",
      "  % delta_t_median)\n",
      "C:\\Users\\controlslab\\Anaconda3\\envs\\gpu_tensorflow\\lib\\site-packages\\keras\\callbacks.py:120: UserWarning: Method on_batch_end() is slow compared to the batch update (0.115520). Check your callbacks.\n",
      "  % delta_t_median)\n"
     ]
    },
    {
     "name": "stdout",
     "output_type": "stream",
     "text": [
      "11264/14547 [======================>.......] - ETA: 0s - loss: 205.9808 - mean_squared_error: 185.09 - ETA: 0s - loss: 206.9492 - mean_squared_error: 186.0645"
     ]
    },
    {
     "name": "stderr",
     "output_type": "stream",
     "text": [
      "C:\\Users\\controlslab\\Anaconda3\\envs\\gpu_tensorflow\\lib\\site-packages\\keras\\callbacks.py:120: UserWarning: Method on_batch_end() is slow compared to the batch update (0.105559). Check your callbacks.\n",
      "  % delta_t_median)\n",
      "C:\\Users\\controlslab\\Anaconda3\\envs\\gpu_tensorflow\\lib\\site-packages\\keras\\callbacks.py:120: UserWarning: Method on_batch_end() is slow compared to the batch update (0.104516). Check your callbacks.\n",
      "  % delta_t_median)\n"
     ]
    },
    {
     "name": "stdout",
     "output_type": "stream",
     "text": [
      "11776/14547 [=======================>......] - ETA: 0s - loss: 207.1240 - mean_squared_error: 186.24\r"
     ]
    },
    {
     "name": "stderr",
     "output_type": "stream",
     "text": [
      "C:\\Users\\controlslab\\Anaconda3\\envs\\gpu_tensorflow\\lib\\site-packages\\keras\\callbacks.py:120: UserWarning: Method on_batch_end() is slow compared to the batch update (0.105685). Check your callbacks.\n",
      "  % delta_t_median)\n"
     ]
    },
    {
     "name": "stdout",
     "output_type": "stream",
     "text": [
      "13312/14547 [==========================>...] - ETA: 0s - loss: 207.5657 - mean_squared_error: 186.6851"
     ]
    },
    {
     "name": "stderr",
     "output_type": "stream",
     "text": [
      "C:\\Users\\controlslab\\Anaconda3\\envs\\gpu_tensorflow\\lib\\site-packages\\keras\\callbacks.py:120: UserWarning: Method on_batch_end() is slow compared to the batch update (0.105302). Check your callbacks.\n",
      "  % delta_t_median)\n"
     ]
    },
    {
     "name": "stdout",
     "output_type": "stream",
     "text": [
      "14547/14547 [==============================] - 4s 246us/step - loss: 207.1999 - mean_squared_error: 186.3231 - val_loss: 378.9243 - val_mean_squared_error: 358.0422\n"
     ]
    },
    {
     "name": "stderr",
     "output_type": "stream",
     "text": [
      "C:\\Users\\controlslab\\Anaconda3\\envs\\gpu_tensorflow\\lib\\site-packages\\keras\\callbacks.py:120: UserWarning: Method on_batch_end() is slow compared to the batch update (0.108382). Check your callbacks.\n",
      "  % delta_t_median)\n",
      "C:\\Users\\controlslab\\Anaconda3\\envs\\gpu_tensorflow\\lib\\site-packages\\keras\\callbacks.py:120: UserWarning: Method on_batch_end() is slow compared to the batch update (0.103806). Check your callbacks.\n",
      "  % delta_t_median)\n"
     ]
    },
    {
     "name": "stdout",
     "output_type": "stream",
     "text": [
      "Epoch 87/100\n",
      " 1536/14547 [==>...........................] - ETA: 2s - loss: 208.0734 - mean_squared_error: 187.2372 ETA: 2s - loss: 206.7297 - mean_squared_error: 185.87"
     ]
    },
    {
     "name": "stderr",
     "output_type": "stream",
     "text": [
      "C:\\Users\\controlslab\\Anaconda3\\envs\\gpu_tensorflow\\lib\\site-packages\\keras\\callbacks.py:120: UserWarning: Method on_batch_end() is slow compared to the batch update (0.114694). Check your callbacks.\n",
      "  % delta_t_median)\n"
     ]
    },
    {
     "name": "stdout",
     "output_type": "stream",
     "text": [
      " 7168/14547 [=============>................] - ETA: 1s - loss: 211.0085 - mean_squared_error: 190.1909 ETA: 2s - loss: 213.8973 - mean_squared_error: 193. - ETA: 1s - loss: 212.4009 - mean_squared_error: 191. - ETA: 1s - loss: 209.9803 - mean_squared_error: 189.16"
     ]
    },
    {
     "name": "stderr",
     "output_type": "stream",
     "text": [
      "C:\\Users\\controlslab\\Anaconda3\\envs\\gpu_tensorflow\\lib\\site-packages\\keras\\callbacks.py:120: UserWarning: Method on_batch_end() is slow compared to the batch update (0.130177). Check your callbacks.\n",
      "  % delta_t_median)\n",
      "C:\\Users\\controlslab\\Anaconda3\\envs\\gpu_tensorflow\\lib\\site-packages\\keras\\callbacks.py:120: UserWarning: Method on_batch_end() is slow compared to the batch update (0.111712). Check your callbacks.\n",
      "  % delta_t_median)\n"
     ]
    },
    {
     "name": "stdout",
     "output_type": "stream",
     "text": [
      " 8704/14547 [================>.............] - ETA: 1s - loss: 209.3667 - mean_squared_error: 188.5511"
     ]
    },
    {
     "name": "stderr",
     "output_type": "stream",
     "text": [
      "C:\\Users\\controlslab\\Anaconda3\\envs\\gpu_tensorflow\\lib\\site-packages\\keras\\callbacks.py:120: UserWarning: Method on_batch_end() is slow compared to the batch update (0.128171). Check your callbacks.\n",
      "  % delta_t_median)\n",
      "C:\\Users\\controlslab\\Anaconda3\\envs\\gpu_tensorflow\\lib\\site-packages\\keras\\callbacks.py:120: UserWarning: Method on_batch_end() is slow compared to the batch update (0.121175). Check your callbacks.\n",
      "  % delta_t_median)\n"
     ]
    },
    {
     "name": "stdout",
     "output_type": "stream",
     "text": [
      "11264/14547 [======================>.......] - ETA: 0s - loss: 209.2157 - mean_squared_error: 188.40"
     ]
    },
    {
     "name": "stderr",
     "output_type": "stream",
     "text": [
      "C:\\Users\\controlslab\\Anaconda3\\envs\\gpu_tensorflow\\lib\\site-packages\\keras\\callbacks.py:120: UserWarning: Method on_batch_end() is slow compared to the batch update (0.123170). Check your callbacks.\n",
      "  % delta_t_median)\n",
      "C:\\Users\\controlslab\\Anaconda3\\envs\\gpu_tensorflow\\lib\\site-packages\\keras\\callbacks.py:120: UserWarning: Method on_batch_end() is slow compared to the batch update (0.121176). Check your callbacks.\n",
      "  % delta_t_median)\n"
     ]
    },
    {
     "name": "stdout",
     "output_type": "stream",
     "text": [
      "14547/14547 [==============================] - 4s 264us/step - loss: 206.9371 - mean_squared_error: 186.1351 - val_loss: 328.9319 - val_mean_squared_error: 308.1724\n"
     ]
    },
    {
     "name": "stderr",
     "output_type": "stream",
     "text": [
      "C:\\Users\\controlslab\\Anaconda3\\envs\\gpu_tensorflow\\lib\\site-packages\\keras\\callbacks.py:120: UserWarning: Method on_batch_end() is slow compared to the batch update (0.113707). Check your callbacks.\n",
      "  % delta_t_median)\n"
     ]
    },
    {
     "name": "stdout",
     "output_type": "stream",
     "text": [
      "Epoch 88/100\n",
      " 2560/14547 [====>.........................] - ETA: 1s - loss: 211.9099 - mean_squared_error: 191.16 - ETA: 2s - loss: 205.6149 - mean_squared_error: 184.8699"
     ]
    },
    {
     "name": "stderr",
     "output_type": "stream",
     "text": [
      "C:\\Users\\controlslab\\Anaconda3\\envs\\gpu_tensorflow\\lib\\site-packages\\keras\\callbacks.py:120: UserWarning: Method on_batch_end() is slow compared to the batch update (0.107240). Check your callbacks.\n",
      "  % delta_t_median)\n",
      "C:\\Users\\controlslab\\Anaconda3\\envs\\gpu_tensorflow\\lib\\site-packages\\keras\\callbacks.py:120: UserWarning: Method on_batch_end() is slow compared to the batch update (0.115718). Check your callbacks.\n",
      "  % delta_t_median)\n"
     ]
    },
    {
     "name": "stdout",
     "output_type": "stream",
     "text": [
      " 4096/14547 [=======>......................] - ETA: 2s - loss: 206.3877 - mean_squared_error: 185.6466 ETA: 2s - loss: 206.2242 - mean_squared_error: 185.47"
     ]
    },
    {
     "name": "stderr",
     "output_type": "stream",
     "text": [
      "C:\\Users\\controlslab\\Anaconda3\\envs\\gpu_tensorflow\\lib\\site-packages\\keras\\callbacks.py:120: UserWarning: Method on_batch_end() is slow compared to the batch update (0.115753). Check your callbacks.\n",
      "  % delta_t_median)\n"
     ]
    },
    {
     "name": "stdout",
     "output_type": "stream",
     "text": [
      " 5120/14547 [=========>....................] - ETA: 2s - loss: 204.6553 - mean_squared_error: 183.9179"
     ]
    },
    {
     "name": "stderr",
     "output_type": "stream",
     "text": [
      "C:\\Users\\controlslab\\Anaconda3\\envs\\gpu_tensorflow\\lib\\site-packages\\keras\\callbacks.py:120: UserWarning: Method on_batch_end() is slow compared to the batch update (0.115788). Check your callbacks.\n",
      "  % delta_t_median)\n",
      "C:\\Users\\controlslab\\Anaconda3\\envs\\gpu_tensorflow\\lib\\site-packages\\keras\\callbacks.py:120: UserWarning: Method on_batch_end() is slow compared to the batch update (0.117234). Check your callbacks.\n",
      "  % delta_t_median)\n"
     ]
    },
    {
     "name": "stdout",
     "output_type": "stream",
     "text": [
      " 6656/14547 [============>.................] - ETA: 1s - loss: 204.7310 - mean_squared_error: 183.9989 ETA: 2s - loss: 204.5226 - mean_squared_error: 183.78"
     ]
    },
    {
     "name": "stderr",
     "output_type": "stream",
     "text": [
      "C:\\Users\\controlslab\\Anaconda3\\envs\\gpu_tensorflow\\lib\\site-packages\\keras\\callbacks.py:120: UserWarning: Method on_batch_end() is slow compared to the batch update (0.119195). Check your callbacks.\n",
      "  % delta_t_median)\n"
     ]
    },
    {
     "name": "stdout",
     "output_type": "stream",
     "text": [
      " 8704/14547 [================>.............] - ETA: 1s - loss: 204.6806 - mean_squared_error: 183.9566"
     ]
    },
    {
     "name": "stderr",
     "output_type": "stream",
     "text": [
      "C:\\Users\\controlslab\\Anaconda3\\envs\\gpu_tensorflow\\lib\\site-packages\\keras\\callbacks.py:120: UserWarning: Method on_batch_end() is slow compared to the batch update (0.122185). Check your callbacks.\n",
      "  % delta_t_median)\n",
      "C:\\Users\\controlslab\\Anaconda3\\envs\\gpu_tensorflow\\lib\\site-packages\\keras\\callbacks.py:120: UserWarning: Method on_batch_end() is slow compared to the batch update (0.117185). Check your callbacks.\n",
      "  % delta_t_median)\n"
     ]
    },
    {
     "name": "stdout",
     "output_type": "stream",
     "text": [
      "12800/14547 [=========================>....] - ETA: 0s - loss: 205.1720 - mean_squared_error: 184.4548 ETA: 1s - loss: 206.0248 - mean_squared_error: 185. - ETA: 0s - loss: 206.5387 - mean_squared_error: "
     ]
    },
    {
     "name": "stderr",
     "output_type": "stream",
     "text": [
      "C:\\Users\\controlslab\\Anaconda3\\envs\\gpu_tensorflow\\lib\\site-packages\\keras\\callbacks.py:120: UserWarning: Method on_batch_end() is slow compared to the batch update (0.119191). Check your callbacks.\n",
      "  % delta_t_median)\n",
      "C:\\Users\\controlslab\\Anaconda3\\envs\\gpu_tensorflow\\lib\\site-packages\\keras\\callbacks.py:120: UserWarning: Method on_batch_end() is slow compared to the batch update (0.110714). Check your callbacks.\n",
      "  % delta_t_median)\n"
     ]
    },
    {
     "name": "stdout",
     "output_type": "stream",
     "text": [
      "14547/14547 [==============================] - 4s 258us/step - loss: 205.7403 - mean_squared_error: 185.0280 - val_loss: 325.5667 - val_mean_squared_error: 304.8915\n"
     ]
    },
    {
     "name": "stderr",
     "output_type": "stream",
     "text": [
      "C:\\Users\\controlslab\\Anaconda3\\envs\\gpu_tensorflow\\lib\\site-packages\\keras\\callbacks.py:120: UserWarning: Method on_batch_end() is slow compared to the batch update (0.133154). Check your callbacks.\n",
      "  % delta_t_median)\n"
     ]
    },
    {
     "name": "stdout",
     "output_type": "stream",
     "text": [
      "Epoch 89/100\n",
      " 1536/14547 [==>...........................] - ETA: 2s - loss: 204.3146 - mean_squared_error: 183.6431"
     ]
    },
    {
     "name": "stderr",
     "output_type": "stream",
     "text": [
      "C:\\Users\\controlslab\\Anaconda3\\envs\\gpu_tensorflow\\lib\\site-packages\\keras\\callbacks.py:120: UserWarning: Method on_batch_end() is slow compared to the batch update (0.138656). Check your callbacks.\n",
      "  % delta_t_median)\n",
      "C:\\Users\\controlslab\\Anaconda3\\envs\\gpu_tensorflow\\lib\\site-packages\\keras\\callbacks.py:120: UserWarning: Method on_batch_end() is slow compared to the batch update (0.111725). Check your callbacks.\n",
      "  % delta_t_median)\n"
     ]
    },
    {
     "name": "stdout",
     "output_type": "stream",
     "text": [
      " 3072/14547 [=====>........................] - ETA: 2s - loss: 208.9714 - mean_squared_error: 188.3033"
     ]
    },
    {
     "name": "stderr",
     "output_type": "stream",
     "text": [
      "C:\\Users\\controlslab\\Anaconda3\\envs\\gpu_tensorflow\\lib\\site-packages\\keras\\callbacks.py:120: UserWarning: Method on_batch_end() is slow compared to the batch update (0.125686). Check your callbacks.\n",
      "  % delta_t_median)\n",
      "C:\\Users\\controlslab\\Anaconda3\\envs\\gpu_tensorflow\\lib\\site-packages\\keras\\callbacks.py:120: UserWarning: Method on_batch_end() is slow compared to the batch update (0.126187). Check your callbacks.\n",
      "  % delta_t_median)\n"
     ]
    },
    {
     "name": "stdout",
     "output_type": "stream",
     "text": [
      " 4608/14547 [========>.....................] - ETA: 2s - loss: 209.1277 - mean_squared_error: 188.4604"
     ]
    },
    {
     "name": "stderr",
     "output_type": "stream",
     "text": [
      "C:\\Users\\controlslab\\Anaconda3\\envs\\gpu_tensorflow\\lib\\site-packages\\keras\\callbacks.py:120: UserWarning: Method on_batch_end() is slow compared to the batch update (0.126662). Check your callbacks.\n",
      "  % delta_t_median)\n",
      "C:\\Users\\controlslab\\Anaconda3\\envs\\gpu_tensorflow\\lib\\site-packages\\keras\\callbacks.py:120: UserWarning: Method on_batch_end() is slow compared to the batch update (0.126174). Check your callbacks.\n",
      "  % delta_t_median)\n"
     ]
    },
    {
     "name": "stdout",
     "output_type": "stream",
     "text": [
      " 6656/14547 [============>.................] - ETA: 1s - loss: 210.8920 - mean_squared_error: 190.2322"
     ]
    },
    {
     "name": "stderr",
     "output_type": "stream",
     "text": [
      "C:\\Users\\controlslab\\Anaconda3\\envs\\gpu_tensorflow\\lib\\site-packages\\keras\\callbacks.py:120: UserWarning: Method on_batch_end() is slow compared to the batch update (0.124689). Check your callbacks.\n",
      "  % delta_t_median)\n"
     ]
    },
    {
     "name": "stdout",
     "output_type": "stream",
     "text": [
      " 8192/14547 [===============>..............] - ETA: 1s - loss: 212.4895 - mean_squared_error: 191.8357"
     ]
    },
    {
     "name": "stderr",
     "output_type": "stream",
     "text": [
      "C:\\Users\\controlslab\\Anaconda3\\envs\\gpu_tensorflow\\lib\\site-packages\\keras\\callbacks.py:120: UserWarning: Method on_batch_end() is slow compared to the batch update (0.120702). Check your callbacks.\n",
      "  % delta_t_median)\n",
      "C:\\Users\\controlslab\\Anaconda3\\envs\\gpu_tensorflow\\lib\\site-packages\\keras\\callbacks.py:120: UserWarning: Method on_batch_end() is slow compared to the batch update (0.115703). Check your callbacks.\n",
      "  % delta_t_median)\n",
      "C:\\Users\\controlslab\\Anaconda3\\envs\\gpu_tensorflow\\lib\\site-packages\\keras\\callbacks.py:120: UserWarning: Method on_batch_end() is slow compared to the batch update (0.112213). Check your callbacks.\n",
      "  % delta_t_median)\n"
     ]
    },
    {
     "name": "stdout",
     "output_type": "stream",
     "text": [
      " 9728/14547 [===================>..........] - ETA: 1s - loss: 211.1428 - mean_squared_error: 190.4938"
     ]
    },
    {
     "name": "stderr",
     "output_type": "stream",
     "text": [
      "C:\\Users\\controlslab\\Anaconda3\\envs\\gpu_tensorflow\\lib\\site-packages\\keras\\callbacks.py:120: UserWarning: Method on_batch_end() is slow compared to the batch update (0.106241). Check your callbacks.\n",
      "  % delta_t_median)\n"
     ]
    },
    {
     "name": "stdout",
     "output_type": "stream",
     "text": [
      "14547/14547 [==============================] - 6s 406us/step - loss: 206.3573 - mean_squared_error: 185.7202 - val_loss: 369.9799 - val_mean_squared_error: 349.3198\n",
      "Epoch 90/100\n",
      " 2048/14547 [===>..........................] - ETA: 2s - loss: 212.0244 - mean_squared_error: 191.4060"
     ]
    },
    {
     "name": "stderr",
     "output_type": "stream",
     "text": [
      "C:\\Users\\controlslab\\Anaconda3\\envs\\gpu_tensorflow\\lib\\site-packages\\keras\\callbacks.py:120: UserWarning: Method on_batch_end() is slow compared to the batch update (0.108219). Check your callbacks.\n",
      "  % delta_t_median)\n"
     ]
    },
    {
     "name": "stdout",
     "output_type": "stream",
     "text": [
      " 3584/14547 [======>.......................] - ETA: 2s - loss: 210.5410 - mean_squared_error: 189.9283"
     ]
    },
    {
     "name": "stderr",
     "output_type": "stream",
     "text": [
      "C:\\Users\\controlslab\\Anaconda3\\envs\\gpu_tensorflow\\lib\\site-packages\\keras\\callbacks.py:120: UserWarning: Method on_batch_end() is slow compared to the batch update (0.114695). Check your callbacks.\n",
      "  % delta_t_median)\n",
      "C:\\Users\\controlslab\\Anaconda3\\envs\\gpu_tensorflow\\lib\\site-packages\\keras\\callbacks.py:120: UserWarning: Method on_batch_end() is slow compared to the batch update (0.116690). Check your callbacks.\n",
      "  % delta_t_median)\n"
     ]
    },
    {
     "name": "stdout",
     "output_type": "stream",
     "text": [
      " 5120/14547 [=========>....................] - ETA: 2s - loss: 209.8888 - mean_squared_error: 189.2798"
     ]
    },
    {
     "name": "stderr",
     "output_type": "stream",
     "text": [
      "C:\\Users\\controlslab\\Anaconda3\\envs\\gpu_tensorflow\\lib\\site-packages\\keras\\callbacks.py:120: UserWarning: Method on_batch_end() is slow compared to the batch update (0.106729). Check your callbacks.\n",
      "  % delta_t_median)\n"
     ]
    },
    {
     "name": "stdout",
     "output_type": "stream",
     "text": [
      " 8192/14547 [===============>..............] - ETA: 1s - loss: 205.0209 - mean_squared_error: 184.4169"
     ]
    },
    {
     "name": "stderr",
     "output_type": "stream",
     "text": [
      "C:\\Users\\controlslab\\Anaconda3\\envs\\gpu_tensorflow\\lib\\site-packages\\keras\\callbacks.py:120: UserWarning: Method on_batch_end() is slow compared to the batch update (0.103249). Check your callbacks.\n",
      "  % delta_t_median)\n"
     ]
    },
    {
     "name": "stdout",
     "output_type": "stream",
     "text": [
      "10752/14547 [=====================>........] - ETA: 0s - loss: 207.5358 - mean_squared_error: 186.9380 ETA: 1s - loss: 205.9354 - mean_squared_error: 185.33"
     ]
    },
    {
     "name": "stderr",
     "output_type": "stream",
     "text": [
      "C:\\Users\\controlslab\\Anaconda3\\envs\\gpu_tensorflow\\lib\\site-packages\\keras\\callbacks.py:120: UserWarning: Method on_batch_end() is slow compared to the batch update (0.115428). Check your callbacks.\n",
      "  % delta_t_median)\n"
     ]
    },
    {
     "name": "stdout",
     "output_type": "stream",
     "text": [
      "13824/14547 [===========================>..] - ETA: 0s - loss: 206.1684 - mean_squared_error: 185.5771 ETA: 0s - loss: 206.4485 - mean_squared_error: 185. - ETA: 0s - loss: 206.6648 - mean_squared_error: 186.07"
     ]
    },
    {
     "name": "stderr",
     "output_type": "stream",
     "text": [
      "C:\\Users\\controlslab\\Anaconda3\\envs\\gpu_tensorflow\\lib\\site-packages\\keras\\callbacks.py:120: UserWarning: Method on_batch_end() is slow compared to the batch update (0.121911). Check your callbacks.\n",
      "  % delta_t_median)\n",
      "C:\\Users\\controlslab\\Anaconda3\\envs\\gpu_tensorflow\\lib\\site-packages\\keras\\callbacks.py:120: UserWarning: Method on_batch_end() is slow compared to the batch update (0.110729). Check your callbacks.\n",
      "  % delta_t_median)\n"
     ]
    },
    {
     "name": "stdout",
     "output_type": "stream",
     "text": [
      "14547/14547 [==============================] - 4s 262us/step - loss: 206.4209 - mean_squared_error: 185.8324 - val_loss: 303.0296 - val_mean_squared_error: 282.5137\n",
      "Epoch 91/100\n",
      " 1536/14547 [==>...........................] - ETA: 2s - loss: 198.0547 - mean_squared_error: 177.5248"
     ]
    },
    {
     "name": "stderr",
     "output_type": "stream",
     "text": [
      "C:\\Users\\controlslab\\Anaconda3\\envs\\gpu_tensorflow\\lib\\site-packages\\keras\\callbacks.py:120: UserWarning: Method on_batch_end() is slow compared to the batch update (0.113697). Check your callbacks.\n",
      "  % delta_t_median)\n"
     ]
    },
    {
     "name": "stdout",
     "output_type": "stream",
     "text": [
      " 4096/14547 [=======>......................] - ETA: 2s - loss: 196.2002 - mean_squared_error: 175.6663"
     ]
    },
    {
     "name": "stderr",
     "output_type": "stream",
     "text": [
      "C:\\Users\\controlslab\\Anaconda3\\envs\\gpu_tensorflow\\lib\\site-packages\\keras\\callbacks.py:120: UserWarning: Method on_batch_end() is slow compared to the batch update (0.120166). Check your callbacks.\n",
      "  % delta_t_median)\n"
     ]
    },
    {
     "name": "stdout",
     "output_type": "stream",
     "text": [
      " 5120/14547 [=========>....................] - ETA: 2s - loss: 197.2377 - mean_squared_error: 176.7060"
     ]
    },
    {
     "name": "stderr",
     "output_type": "stream",
     "text": [
      "C:\\Users\\controlslab\\Anaconda3\\envs\\gpu_tensorflow\\lib\\site-packages\\keras\\callbacks.py:120: UserWarning: Method on_batch_end() is slow compared to the batch update (0.110744). Check your callbacks.\n",
      "  % delta_t_median)\n"
     ]
    },
    {
     "name": "stdout",
     "output_type": "stream",
     "text": [
      " 6656/14547 [============>.................] - ETA: 1s - loss: 199.8720 - mean_squared_error: 179.3459"
     ]
    },
    {
     "name": "stderr",
     "output_type": "stream",
     "text": [
      "C:\\Users\\controlslab\\Anaconda3\\envs\\gpu_tensorflow\\lib\\site-packages\\keras\\callbacks.py:120: UserWarning: Method on_batch_end() is slow compared to the batch update (0.117213). Check your callbacks.\n",
      "  % delta_t_median)\n"
     ]
    },
    {
     "name": "stdout",
     "output_type": "stream",
     "text": [
      " 8704/14547 [================>.............] - ETA: 1s - loss: 203.6954 - mean_squared_error: 183.1767"
     ]
    },
    {
     "name": "stderr",
     "output_type": "stream",
     "text": [
      "C:\\Users\\controlslab\\Anaconda3\\envs\\gpu_tensorflow\\lib\\site-packages\\keras\\callbacks.py:120: UserWarning: Method on_batch_end() is slow compared to the batch update (0.106965). Check your callbacks.\n",
      "  % delta_t_median)\n"
     ]
    },
    {
     "name": "stdout",
     "output_type": "stream",
     "text": [
      "10240/14547 [====================>.........] - ETA: 1s - loss: 204.5647 - mean_squared_error: 184.0492"
     ]
    },
    {
     "name": "stderr",
     "output_type": "stream",
     "text": [
      "C:\\Users\\controlslab\\Anaconda3\\envs\\gpu_tensorflow\\lib\\site-packages\\keras\\callbacks.py:120: UserWarning: Method on_batch_end() is slow compared to the batch update (0.121401). Check your callbacks.\n",
      "  % delta_t_median)\n",
      "C:\\Users\\controlslab\\Anaconda3\\envs\\gpu_tensorflow\\lib\\site-packages\\keras\\callbacks.py:120: UserWarning: Method on_batch_end() is slow compared to the batch update (0.123202). Check your callbacks.\n",
      "  % delta_t_median)\n",
      "C:\\Users\\controlslab\\Anaconda3\\envs\\gpu_tensorflow\\lib\\site-packages\\keras\\callbacks.py:120: UserWarning: Method on_batch_end() is slow compared to the batch update (0.107244). Check your callbacks.\n",
      "  % delta_t_median)\n"
     ]
    },
    {
     "name": "stdout",
     "output_type": "stream",
     "text": [
      "11264/14547 [======================>.......] - ETA: 0s - loss: 206.5349 - mean_squared_error: 186.0202"
     ]
    },
    {
     "name": "stderr",
     "output_type": "stream",
     "text": [
      "C:\\Users\\controlslab\\Anaconda3\\envs\\gpu_tensorflow\\lib\\site-packages\\keras\\callbacks.py:120: UserWarning: Method on_batch_end() is slow compared to the batch update (0.109489). Check your callbacks.\n",
      "  % delta_t_median)\n",
      "C:\\Users\\controlslab\\Anaconda3\\envs\\gpu_tensorflow\\lib\\site-packages\\keras\\callbacks.py:120: UserWarning: Method on_batch_end() is slow compared to the batch update (0.106992). Check your callbacks.\n",
      "  % delta_t_median)\n"
     ]
    },
    {
     "name": "stdout",
     "output_type": "stream",
     "text": [
      "12800/14547 [=========================>....] - ETA: 0s - loss: 206.7929 - mean_squared_error: 186.28 - ETA: 0s - loss: 206.6205 - mean_squared_error: 186.1105"
     ]
    },
    {
     "name": "stderr",
     "output_type": "stream",
     "text": [
      "C:\\Users\\controlslab\\Anaconda3\\envs\\gpu_tensorflow\\lib\\site-packages\\keras\\callbacks.py:120: UserWarning: Method on_batch_end() is slow compared to the batch update (0.102239). Check your callbacks.\n",
      "  % delta_t_median)\n"
     ]
    },
    {
     "name": "stdout",
     "output_type": "stream",
     "text": [
      "14547/14547 [==============================] - 4s 255us/step - loss: 206.7122 - mean_squared_error: 186.2058 - val_loss: 371.3600 - val_mean_squared_error: 350.8383\n",
      "Epoch 92/100\n",
      "  512/14547 [>.............................] - ETA: 0s - loss: 233.1647 - mean_squared_error: 212.6431"
     ]
    },
    {
     "name": "stderr",
     "output_type": "stream",
     "text": [
      "C:\\Users\\controlslab\\Anaconda3\\envs\\gpu_tensorflow\\lib\\site-packages\\keras\\callbacks.py:120: UserWarning: Method on_batch_end() is slow compared to the batch update (0.104485). Check your callbacks.\n",
      "  % delta_t_median)\n"
     ]
    },
    {
     "name": "stdout",
     "output_type": "stream",
     "text": [
      " 2560/14547 [====>.........................] - ETA: 2s - loss: 208.3898 - mean_squared_error: 187.9094"
     ]
    },
    {
     "name": "stderr",
     "output_type": "stream",
     "text": [
      "C:\\Users\\controlslab\\Anaconda3\\envs\\gpu_tensorflow\\lib\\site-packages\\keras\\callbacks.py:120: UserWarning: Method on_batch_end() is slow compared to the batch update (0.124695). Check your callbacks.\n",
      "  % delta_t_median)\n",
      "C:\\Users\\controlslab\\Anaconda3\\envs\\gpu_tensorflow\\lib\\site-packages\\keras\\callbacks.py:120: UserWarning: Method on_batch_end() is slow compared to the batch update (0.117708). Check your callbacks.\n",
      "  % delta_t_median)\n"
     ]
    },
    {
     "name": "stdout",
     "output_type": "stream",
     "text": [
      " 4096/14547 [=======>......................] - ETA: 2s - loss: 206.0705 - mean_squared_error: 185.5995"
     ]
    },
    {
     "name": "stderr",
     "output_type": "stream",
     "text": [
      "C:\\Users\\controlslab\\Anaconda3\\envs\\gpu_tensorflow\\lib\\site-packages\\keras\\callbacks.py:120: UserWarning: Method on_batch_end() is slow compared to the batch update (0.121202). Check your callbacks.\n",
      "  % delta_t_median)\n"
     ]
    },
    {
     "name": "stdout",
     "output_type": "stream",
     "text": [
      " 5120/14547 [=========>....................] - ETA: 2s - loss: 208.0826 - mean_squared_error: 187.6136"
     ]
    },
    {
     "name": "stderr",
     "output_type": "stream",
     "text": [
      "C:\\Users\\controlslab\\Anaconda3\\envs\\gpu_tensorflow\\lib\\site-packages\\keras\\callbacks.py:120: UserWarning: Method on_batch_end() is slow compared to the batch update (0.128655). Check your callbacks.\n",
      "  % delta_t_median)\n"
     ]
    },
    {
     "name": "stdout",
     "output_type": "stream",
     "text": [
      " 7168/14547 [=============>................] - ETA: 1s - loss: 206.8090 - mean_squared_error: 186.3523"
     ]
    },
    {
     "name": "stderr",
     "output_type": "stream",
     "text": [
      "C:\\Users\\controlslab\\Anaconda3\\envs\\gpu_tensorflow\\lib\\site-packages\\keras\\callbacks.py:120: UserWarning: Method on_batch_end() is slow compared to the batch update (0.108221). Check your callbacks.\n",
      "  % delta_t_median)\n",
      "C:\\Users\\controlslab\\Anaconda3\\envs\\gpu_tensorflow\\lib\\site-packages\\keras\\callbacks.py:120: UserWarning: Method on_batch_end() is slow compared to the batch update (0.125162). Check your callbacks.\n",
      "  % delta_t_median)\n"
     ]
    },
    {
     "name": "stdout",
     "output_type": "stream",
     "text": [
      " 8704/14547 [================>.............] - ETA: 1s - loss: 207.0065 - mean_squared_error: 186.5541"
     ]
    },
    {
     "name": "stderr",
     "output_type": "stream",
     "text": [
      "C:\\Users\\controlslab\\Anaconda3\\envs\\gpu_tensorflow\\lib\\site-packages\\keras\\callbacks.py:120: UserWarning: Method on_batch_end() is slow compared to the batch update (0.141121). Check your callbacks.\n",
      "  % delta_t_median)\n",
      "C:\\Users\\controlslab\\Anaconda3\\envs\\gpu_tensorflow\\lib\\site-packages\\keras\\callbacks.py:120: UserWarning: Method on_batch_end() is slow compared to the batch update (0.115675). Check your callbacks.\n",
      "  % delta_t_median)\n"
     ]
    },
    {
     "name": "stdout",
     "output_type": "stream",
     "text": [
      "11264/14547 [======================>.......] - ETA: 0s - loss: 204.4109 - mean_squared_error: 183.9638"
     ]
    },
    {
     "name": "stderr",
     "output_type": "stream",
     "text": [
      "C:\\Users\\controlslab\\Anaconda3\\envs\\gpu_tensorflow\\lib\\site-packages\\keras\\callbacks.py:120: UserWarning: Method on_batch_end() is slow compared to the batch update (0.112199). Check your callbacks.\n",
      "  % delta_t_median)\n"
     ]
    },
    {
     "name": "stdout",
     "output_type": "stream",
     "text": [
      "12800/14547 [=========================>....] - ETA: 0s - loss: 204.8805 - mean_squared_error: 184.4350"
     ]
    },
    {
     "name": "stderr",
     "output_type": "stream",
     "text": [
      "C:\\Users\\controlslab\\Anaconda3\\envs\\gpu_tensorflow\\lib\\site-packages\\keras\\callbacks.py:120: UserWarning: Method on_batch_end() is slow compared to the batch update (0.128169). Check your callbacks.\n",
      "  % delta_t_median)\n"
     ]
    },
    {
     "name": "stdout",
     "output_type": "stream",
     "text": [
      "13824/14547 [===========================>..] - ETA: 0s - loss: 205.5025 - mean_squared_error: 185.0577"
     ]
    },
    {
     "name": "stderr",
     "output_type": "stream",
     "text": [
      "C:\\Users\\controlslab\\Anaconda3\\envs\\gpu_tensorflow\\lib\\site-packages\\keras\\callbacks.py:120: UserWarning: Method on_batch_end() is slow compared to the batch update (0.100654). Check your callbacks.\n",
      "  % delta_t_median)\n",
      "C:\\Users\\controlslab\\Anaconda3\\envs\\gpu_tensorflow\\lib\\site-packages\\keras\\callbacks.py:120: UserWarning: Method on_batch_end() is slow compared to the batch update (0.118701). Check your callbacks.\n",
      "  % delta_t_median)\n"
     ]
    },
    {
     "name": "stdout",
     "output_type": "stream",
     "text": [
      "14547/14547 [==============================] - 4s 259us/step - loss: 205.2375 - mean_squared_error: 184.7932 - val_loss: 341.4782 - val_mean_squared_error: 321.0449\n"
     ]
    },
    {
     "name": "stderr",
     "output_type": "stream",
     "text": [
      "C:\\Users\\controlslab\\Anaconda3\\envs\\gpu_tensorflow\\lib\\site-packages\\keras\\callbacks.py:120: UserWarning: Method on_batch_end() is slow compared to the batch update (0.109725). Check your callbacks.\n",
      "  % delta_t_median)\n"
     ]
    },
    {
     "name": "stdout",
     "output_type": "stream",
     "text": [
      "Epoch 93/100\n",
      " 2048/14547 [===>..........................] - ETA: 2s - loss: 199.3325 - mean_squared_error: 178.9131"
     ]
    },
    {
     "name": "stderr",
     "output_type": "stream",
     "text": [
      "C:\\Users\\controlslab\\Anaconda3\\envs\\gpu_tensorflow\\lib\\site-packages\\keras\\callbacks.py:120: UserWarning: Method on_batch_end() is slow compared to the batch update (0.136663). Check your callbacks.\n",
      "  % delta_t_median)\n"
     ]
    },
    {
     "name": "stdout",
     "output_type": "stream",
     "text": [
      " 4608/14547 [========>.....................] - ETA: 2s - loss: 203.3878 - mean_squared_error: 182.9710"
     ]
    },
    {
     "name": "stderr",
     "output_type": "stream",
     "text": [
      "C:\\Users\\controlslab\\Anaconda3\\envs\\gpu_tensorflow\\lib\\site-packages\\keras\\callbacks.py:120: UserWarning: Method on_batch_end() is slow compared to the batch update (0.110730). Check your callbacks.\n",
      "  % delta_t_median)\n",
      "C:\\Users\\controlslab\\Anaconda3\\envs\\gpu_tensorflow\\lib\\site-packages\\keras\\callbacks.py:120: UserWarning: Method on_batch_end() is slow compared to the batch update (0.110723). Check your callbacks.\n",
      "  % delta_t_median)\n"
     ]
    },
    {
     "name": "stdout",
     "output_type": "stream",
     "text": [
      " 6144/14547 [===========>..................] - ETA: 1s - loss: 204.1106 - mean_squared_error: 183.69 - ETA: 1s - loss: 204.0558 - mean_squared_error: 183.6403"
     ]
    },
    {
     "name": "stderr",
     "output_type": "stream",
     "text": [
      "C:\\Users\\controlslab\\Anaconda3\\envs\\gpu_tensorflow\\lib\\site-packages\\keras\\callbacks.py:120: UserWarning: Method on_batch_end() is slow compared to the batch update (0.110727). Check your callbacks.\n",
      "  % delta_t_median)\n"
     ]
    },
    {
     "name": "stdout",
     "output_type": "stream",
     "text": [
      " 8704/14547 [================>.............] - ETA: 1s - loss: 206.2628 - mean_squared_error: 185.8481 ETA: 1s - loss: 203.9933 - mean_squared_error: 18"
     ]
    },
    {
     "name": "stderr",
     "output_type": "stream",
     "text": [
      "C:\\Users\\controlslab\\Anaconda3\\envs\\gpu_tensorflow\\lib\\site-packages\\keras\\callbacks.py:120: UserWarning: Method on_batch_end() is slow compared to the batch update (0.113451). Check your callbacks.\n",
      "  % delta_t_median)\n",
      "C:\\Users\\controlslab\\Anaconda3\\envs\\gpu_tensorflow\\lib\\site-packages\\keras\\callbacks.py:120: UserWarning: Method on_batch_end() is slow compared to the batch update (0.109217). Check your callbacks.\n",
      "  % delta_t_median)\n"
     ]
    },
    {
     "name": "stdout",
     "output_type": "stream",
     "text": [
      "10240/14547 [====================>.........] - ETA: 1s - loss: 207.3951 - mean_squared_error: 186.98 - ETA: 1s - loss: 206.3194 - mean_squared_error: 185.9081"
     ]
    },
    {
     "name": "stderr",
     "output_type": "stream",
     "text": [
      "C:\\Users\\controlslab\\Anaconda3\\envs\\gpu_tensorflow\\lib\\site-packages\\keras\\callbacks.py:120: UserWarning: Method on_batch_end() is slow compared to the batch update (0.123415). Check your callbacks.\n",
      "  % delta_t_median)\n",
      "C:\\Users\\controlslab\\Anaconda3\\envs\\gpu_tensorflow\\lib\\site-packages\\keras\\callbacks.py:120: UserWarning: Method on_batch_end() is slow compared to the batch update (0.111945). Check your callbacks.\n",
      "  % delta_t_median)\n"
     ]
    },
    {
     "name": "stdout",
     "output_type": "stream",
     "text": [
      "12288/14547 [========================>.....] - ETA: 0s - loss: 205.9531 - mean_squared_error: 185.5478"
     ]
    },
    {
     "name": "stderr",
     "output_type": "stream",
     "text": [
      "C:\\Users\\controlslab\\Anaconda3\\envs\\gpu_tensorflow\\lib\\site-packages\\keras\\callbacks.py:120: UserWarning: Method on_batch_end() is slow compared to the batch update (0.142128). Check your callbacks.\n",
      "  % delta_t_median)\n"
     ]
    },
    {
     "name": "stdout",
     "output_type": "stream",
     "text": [
      "13824/14547 [===========================>..] - ETA: 0s - loss: 207.4978 - mean_squared_error: 187.0974"
     ]
    },
    {
     "name": "stderr",
     "output_type": "stream",
     "text": [
      "C:\\Users\\controlslab\\Anaconda3\\envs\\gpu_tensorflow\\lib\\site-packages\\keras\\callbacks.py:120: UserWarning: Method on_batch_end() is slow compared to the batch update (0.124666). Check your callbacks.\n",
      "  % delta_t_median)\n"
     ]
    },
    {
     "name": "stdout",
     "output_type": "stream",
     "text": [
      "14336/14547 [============================>.] - ETA: 0s - loss: 206.5515 - mean_squared_error: 186.15"
     ]
    },
    {
     "name": "stderr",
     "output_type": "stream",
     "text": [
      "C:\\Users\\controlslab\\Anaconda3\\envs\\gpu_tensorflow\\lib\\site-packages\\keras\\callbacks.py:120: UserWarning: Method on_batch_end() is slow compared to the batch update (0.125910). Check your callbacks.\n",
      "  % delta_t_median)\n",
      "C:\\Users\\controlslab\\Anaconda3\\envs\\gpu_tensorflow\\lib\\site-packages\\keras\\callbacks.py:120: UserWarning: Method on_batch_end() is slow compared to the batch update (0.110192). Check your callbacks.\n",
      "  % delta_t_median)\n"
     ]
    },
    {
     "name": "stdout",
     "output_type": "stream",
     "text": [
      "14547/14547 [==============================] - 4s 255us/step - loss: 206.2815 - mean_squared_error: 185.8832 - val_loss: 307.5682 - val_mean_squared_error: 287.2496\n",
      "Epoch 94/100\n",
      " 1536/14547 [==>...........................] - ETA: 26s - loss: 199.0940 - mean_squared_error: 178.7691"
     ]
    },
    {
     "name": "stderr",
     "output_type": "stream",
     "text": [
      "C:\\Users\\controlslab\\Anaconda3\\envs\\gpu_tensorflow\\lib\\site-packages\\keras\\callbacks.py:120: UserWarning: Method on_batch_end() is slow compared to the batch update (3.024512). Check your callbacks.\n",
      "  % delta_t_median)\n",
      "C:\\Users\\controlslab\\Anaconda3\\envs\\gpu_tensorflow\\lib\\site-packages\\keras\\callbacks.py:120: UserWarning: Method on_batch_end() is slow compared to the batch update (1.548669). Check your callbacks.\n",
      "  % delta_t_median)\n"
     ]
    },
    {
     "name": "stdout",
     "output_type": "stream",
     "text": [
      " 3072/14547 [=====>........................] - ETA: 13s - loss: 205.3639 - mean_squared_error: 185.0401"
     ]
    },
    {
     "name": "stderr",
     "output_type": "stream",
     "text": [
      "C:\\Users\\controlslab\\Anaconda3\\envs\\gpu_tensorflow\\lib\\site-packages\\keras\\callbacks.py:120: UserWarning: Method on_batch_end() is slow compared to the batch update (0.102241). Check your callbacks.\n",
      "  % delta_t_median)\n"
     ]
    },
    {
     "name": "stdout",
     "output_type": "stream",
     "text": [
      " 5632/14547 [==========>...................] - ETA: 6s - loss: 204.0423 - mean_squared_error: 183.7165"
     ]
    },
    {
     "name": "stderr",
     "output_type": "stream",
     "text": [
      "C:\\Users\\controlslab\\Anaconda3\\envs\\gpu_tensorflow\\lib\\site-packages\\keras\\callbacks.py:120: UserWarning: Method on_batch_end() is slow compared to the batch update (0.106802). Check your callbacks.\n",
      "  % delta_t_median)\n"
     ]
    },
    {
     "name": "stdout",
     "output_type": "stream",
     "text": [
      " 7168/14547 [=============>................] - ETA: 4s - loss: 202.6398 - mean_squared_error: 182.3142"
     ]
    },
    {
     "name": "stderr",
     "output_type": "stream",
     "text": [
      "C:\\Users\\controlslab\\Anaconda3\\envs\\gpu_tensorflow\\lib\\site-packages\\keras\\callbacks.py:120: UserWarning: Method on_batch_end() is slow compared to the batch update (0.118234). Check your callbacks.\n",
      "  % delta_t_median)\n"
     ]
    },
    {
     "name": "stdout",
     "output_type": "stream",
     "text": [
      " 9216/14547 [==================>...........] - ETA: 3s - loss: 204.1336 - mean_squared_error: 183.8114"
     ]
    },
    {
     "name": "stderr",
     "output_type": "stream",
     "text": [
      "C:\\Users\\controlslab\\Anaconda3\\envs\\gpu_tensorflow\\lib\\site-packages\\keras\\callbacks.py:120: UserWarning: Method on_batch_end() is slow compared to the batch update (0.133643). Check your callbacks.\n",
      "  % delta_t_median)\n"
     ]
    },
    {
     "name": "stdout",
     "output_type": "stream",
     "text": [
      "12288/14547 [========================>.....] - ETA: 1s - loss: 204.8824 - mean_squared_error: 184.5670"
     ]
    },
    {
     "name": "stderr",
     "output_type": "stream",
     "text": [
      "C:\\Users\\controlslab\\Anaconda3\\envs\\gpu_tensorflow\\lib\\site-packages\\keras\\callbacks.py:120: UserWarning: Method on_batch_end() is slow compared to the batch update (0.117211). Check your callbacks.\n",
      "  % delta_t_median)\n"
     ]
    },
    {
     "name": "stdout",
     "output_type": "stream",
     "text": [
      "14336/14547 [============================>.] - ETA: 0s - loss: 205.2558 - mean_squared_error: 184.9438 ETA: 0s - loss: 204.0807 - mean_squared_error: 183."
     ]
    },
    {
     "name": "stderr",
     "output_type": "stream",
     "text": [
      "C:\\Users\\controlslab\\Anaconda3\\envs\\gpu_tensorflow\\lib\\site-packages\\keras\\callbacks.py:120: UserWarning: Method on_batch_end() is slow compared to the batch update (0.138145). Check your callbacks.\n",
      "  % delta_t_median)\n"
     ]
    },
    {
     "name": "stdout",
     "output_type": "stream",
     "text": [
      "14547/14547 [==============================] - 7s 461us/step - loss: 204.8033 - mean_squared_error: 184.4917 - val_loss: 346.5797 - val_mean_squared_error: 326.2798\n",
      "Epoch 95/100\n",
      " 8192/14547 [===============>..............] - ETA: 1s - loss: 203.8225 - mean_squared_error: 183.5529"
     ]
    },
    {
     "name": "stderr",
     "output_type": "stream",
     "text": [
      "C:\\Users\\controlslab\\Anaconda3\\envs\\gpu_tensorflow\\lib\\site-packages\\keras\\callbacks.py:120: UserWarning: Method on_batch_end() is slow compared to the batch update (0.120676). Check your callbacks.\n",
      "  % delta_t_median)\n"
     ]
    },
    {
     "name": "stdout",
     "output_type": "stream",
     "text": [
      " 8704/14547 [================>.............] - ETA: 1s - loss: 202.9722 - mean_squared_error: 182.70\r"
     ]
    },
    {
     "name": "stderr",
     "output_type": "stream",
     "text": [
      "C:\\Users\\controlslab\\Anaconda3\\envs\\gpu_tensorflow\\lib\\site-packages\\keras\\callbacks.py:120: UserWarning: Method on_batch_end() is slow compared to the batch update (0.125678). Check your callbacks.\n",
      "  % delta_t_median)\n"
     ]
    },
    {
     "name": "stdout",
     "output_type": "stream",
     "text": [
      " 9728/14547 [===================>..........] - ETA: 0s - loss: 203.9567 - mean_squared_error: 183.6910"
     ]
    },
    {
     "name": "stderr",
     "output_type": "stream",
     "text": [
      "C:\\Users\\controlslab\\Anaconda3\\envs\\gpu_tensorflow\\lib\\site-packages\\keras\\callbacks.py:120: UserWarning: Method on_batch_end() is slow compared to the batch update (0.137124). Check your callbacks.\n",
      "  % delta_t_median)\n",
      "C:\\Users\\controlslab\\Anaconda3\\envs\\gpu_tensorflow\\lib\\site-packages\\keras\\callbacks.py:120: UserWarning: Method on_batch_end() is slow compared to the batch update (0.137146). Check your callbacks.\n",
      "  % delta_t_median)\n"
     ]
    },
    {
     "name": "stdout",
     "output_type": "stream",
     "text": [
      "13312/14547 [==========================>...] - ETA: 0s - loss: 203.5536 - mean_squared_error: 183.3000"
     ]
    },
    {
     "name": "stderr",
     "output_type": "stream",
     "text": [
      "C:\\Users\\controlslab\\Anaconda3\\envs\\gpu_tensorflow\\lib\\site-packages\\keras\\callbacks.py:120: UserWarning: Method on_batch_end() is slow compared to the batch update (0.116272). Check your callbacks.\n",
      "  % delta_t_median)\n"
     ]
    },
    {
     "name": "stdout",
     "output_type": "stream",
     "text": [
      "13824/14547 [===========================>..] - ETA: 0s - loss: 203.8946 - mean_squared_error: 183.6427"
     ]
    },
    {
     "name": "stderr",
     "output_type": "stream",
     "text": [
      "C:\\Users\\controlslab\\Anaconda3\\envs\\gpu_tensorflow\\lib\\site-packages\\keras\\callbacks.py:120: UserWarning: Method on_batch_end() is slow compared to the batch update (0.127740). Check your callbacks.\n",
      "  % delta_t_median)\n",
      "C:\\Users\\controlslab\\Anaconda3\\envs\\gpu_tensorflow\\lib\\site-packages\\keras\\callbacks.py:120: UserWarning: Method on_batch_end() is slow compared to the batch update (0.150126). Check your callbacks.\n",
      "  % delta_t_median)\n"
     ]
    },
    {
     "name": "stdout",
     "output_type": "stream",
     "text": [
      "14547/14547 [==============================] - 3s 234us/step - loss: 204.9817 - mean_squared_error: 184.7316 - val_loss: 314.0609 - val_mean_squared_error: 293.8543\n",
      "Epoch 96/100\n",
      "  512/14547 [>.............................] - ETA: 0s - loss: 196.3589 - mean_squared_error: 176.1523"
     ]
    },
    {
     "name": "stderr",
     "output_type": "stream",
     "text": [
      "C:\\Users\\controlslab\\Anaconda3\\envs\\gpu_tensorflow\\lib\\site-packages\\keras\\callbacks.py:120: UserWarning: Method on_batch_end() is slow compared to the batch update (0.138212). Check your callbacks.\n",
      "  % delta_t_median)\n"
     ]
    },
    {
     "name": "stdout",
     "output_type": "stream",
     "text": [
      " 2560/14547 [====>.........................] - ETA: 2s - loss: 203.5933 - mean_squared_error: 183.3717 ETA: 1s - loss: 197.8420 - mean_squared_error: 177."
     ]
    },
    {
     "name": "stderr",
     "output_type": "stream",
     "text": [
      "C:\\Users\\controlslab\\Anaconda3\\envs\\gpu_tensorflow\\lib\\site-packages\\keras\\callbacks.py:120: UserWarning: Method on_batch_end() is slow compared to the batch update (0.119680). Check your callbacks.\n",
      "  % delta_t_median)\n"
     ]
    },
    {
     "name": "stdout",
     "output_type": "stream",
     "text": [
      " 4096/14547 [=======>......................] - ETA: 2s - loss: 203.5024 - mean_squared_error: 183.2887"
     ]
    },
    {
     "name": "stderr",
     "output_type": "stream",
     "text": [
      "C:\\Users\\controlslab\\Anaconda3\\envs\\gpu_tensorflow\\lib\\site-packages\\keras\\callbacks.py:120: UserWarning: Method on_batch_end() is slow compared to the batch update (0.140200). Check your callbacks.\n",
      "  % delta_t_median)\n",
      "C:\\Users\\controlslab\\Anaconda3\\envs\\gpu_tensorflow\\lib\\site-packages\\keras\\callbacks.py:120: UserWarning: Method on_batch_end() is slow compared to the batch update (0.109309). Check your callbacks.\n",
      "  % delta_t_median)\n"
     ]
    },
    {
     "name": "stdout",
     "output_type": "stream",
     "text": [
      " 6144/14547 [===========>..................] - ETA: 1s - loss: 203.9093 - mean_squared_error: 183.7022 ETA: 2s - loss: 203.1922 - mean_squared_error: 182.98"
     ]
    },
    {
     "name": "stderr",
     "output_type": "stream",
     "text": [
      "C:\\Users\\controlslab\\Anaconda3\\envs\\gpu_tensorflow\\lib\\site-packages\\keras\\callbacks.py:120: UserWarning: Method on_batch_end() is slow compared to the batch update (0.111217). Check your callbacks.\n",
      "  % delta_t_median)\n"
     ]
    },
    {
     "name": "stdout",
     "output_type": "stream",
     "text": [
      "12800/14547 [=========================>....] - ETA: 0s - loss: 204.1808 - mean_squared_error: 183.9845 ETA: 0s - loss: 201.7396 - mean_squared_error: 181.53 - ETA: 0s - loss: 202.7909 - mean_squared_error: "
     ]
    },
    {
     "name": "stderr",
     "output_type": "stream",
     "text": [
      "C:\\Users\\controlslab\\Anaconda3\\envs\\gpu_tensorflow\\lib\\site-packages\\keras\\callbacks.py:120: UserWarning: Method on_batch_end() is slow compared to the batch update (0.111210). Check your callbacks.\n",
      "  % delta_t_median)\n",
      "C:\\Users\\controlslab\\Anaconda3\\envs\\gpu_tensorflow\\lib\\site-packages\\keras\\callbacks.py:120: UserWarning: Method on_batch_end() is slow compared to the batch update (0.111723). Check your callbacks.\n",
      "  % delta_t_median)\n"
     ]
    },
    {
     "name": "stdout",
     "output_type": "stream",
     "text": [
      "14336/14547 [============================>.] - ETA: 0s - loss: 205.2616 - mean_squared_error: 185.0665"
     ]
    },
    {
     "name": "stderr",
     "output_type": "stream",
     "text": [
      "C:\\Users\\controlslab\\Anaconda3\\envs\\gpu_tensorflow\\lib\\site-packages\\keras\\callbacks.py:120: UserWarning: Method on_batch_end() is slow compared to the batch update (0.100170). Check your callbacks.\n",
      "  % delta_t_median)\n"
     ]
    },
    {
     "name": "stdout",
     "output_type": "stream",
     "text": [
      "14547/14547 [==============================] - 3s 225us/step - loss: 205.1124 - mean_squared_error: 184.9174 - val_loss: 343.2564 - val_mean_squared_error: 323.0767\n",
      "Epoch 97/100\n",
      " 3584/14547 [======>.......................] - ETA: 2s - loss: 210.8602 - mean_squared_error: 190.6977 ETA: 1s - loss: 202.8988 - mean_squared_error: 182. - ETA: 2s - loss: 205.5974 - mean_squared_error: 185."
     ]
    },
    {
     "name": "stderr",
     "output_type": "stream",
     "text": [
      "C:\\Users\\controlslab\\Anaconda3\\envs\\gpu_tensorflow\\lib\\site-packages\\keras\\callbacks.py:120: UserWarning: Method on_batch_end() is slow compared to the batch update (0.141622). Check your callbacks.\n",
      "  % delta_t_median)\n",
      "C:\\Users\\controlslab\\Anaconda3\\envs\\gpu_tensorflow\\lib\\site-packages\\keras\\callbacks.py:120: UserWarning: Method on_batch_end() is slow compared to the batch update (0.130067). Check your callbacks.\n",
      "  % delta_t_median)\n",
      "C:\\Users\\controlslab\\Anaconda3\\envs\\gpu_tensorflow\\lib\\site-packages\\keras\\callbacks.py:120: UserWarning: Method on_batch_end() is slow compared to the batch update (0.118511). Check your callbacks.\n",
      "  % delta_t_median)\n"
     ]
    },
    {
     "name": "stdout",
     "output_type": "stream",
     "text": [
      " 6144/14547 [===========>..................] - ETA: 2s - loss: 208.2044 - mean_squared_error: 188.0520"
     ]
    },
    {
     "name": "stderr",
     "output_type": "stream",
     "text": [
      "C:\\Users\\controlslab\\Anaconda3\\envs\\gpu_tensorflow\\lib\\site-packages\\keras\\callbacks.py:120: UserWarning: Method on_batch_end() is slow compared to the batch update (0.145126). Check your callbacks.\n",
      "  % delta_t_median)\n"
     ]
    },
    {
     "name": "stdout",
     "output_type": "stream",
     "text": [
      " 7168/14547 [=============>................] - ETA: 1s - loss: 206.5751 - mean_squared_error: 186.4246"
     ]
    },
    {
     "name": "stderr",
     "output_type": "stream",
     "text": [
      "C:\\Users\\controlslab\\Anaconda3\\envs\\gpu_tensorflow\\lib\\site-packages\\keras\\callbacks.py:120: UserWarning: Method on_batch_end() is slow compared to the batch update (0.133571). Check your callbacks.\n",
      "  % delta_t_median)\n"
     ]
    },
    {
     "name": "stdout",
     "output_type": "stream",
     "text": [
      " 8192/14547 [===============>..............] - ETA: 1s - loss: 204.2410 - mean_squared_error: 184.0916"
     ]
    },
    {
     "name": "stderr",
     "output_type": "stream",
     "text": [
      "C:\\Users\\controlslab\\Anaconda3\\envs\\gpu_tensorflow\\lib\\site-packages\\keras\\callbacks.py:120: UserWarning: Method on_batch_end() is slow compared to the batch update (0.125590). Check your callbacks.\n",
      "  % delta_t_median)\n",
      "C:\\Users\\controlslab\\Anaconda3\\envs\\gpu_tensorflow\\lib\\site-packages\\keras\\callbacks.py:120: UserWarning: Method on_batch_end() is slow compared to the batch update (0.120107). Check your callbacks.\n",
      "  % delta_t_median)\n"
     ]
    },
    {
     "name": "stdout",
     "output_type": "stream",
     "text": [
      "11264/14547 [======================>.......] - ETA: 0s - loss: 203.5891 - mean_squared_error: 183.4407 ETA: 1s - loss: 203.7867 - mean_squared_error: 183.63 - ETA: 1s - loss: 203.2444 - mean_squared_error: 183. - ETA: 1s - loss: 203.3481 - mean_squared_error: 183.19"
     ]
    },
    {
     "name": "stderr",
     "output_type": "stream",
     "text": [
      "C:\\Users\\controlslab\\Anaconda3\\envs\\gpu_tensorflow\\lib\\site-packages\\keras\\callbacks.py:120: UserWarning: Method on_batch_end() is slow compared to the batch update (0.129180). Check your callbacks.\n",
      "  % delta_t_median)\n",
      "C:\\Users\\controlslab\\Anaconda3\\envs\\gpu_tensorflow\\lib\\site-packages\\keras\\callbacks.py:120: UserWarning: Method on_batch_end() is slow compared to the batch update (0.139139). Check your callbacks.\n",
      "  % delta_t_median)\n"
     ]
    },
    {
     "name": "stdout",
     "output_type": "stream",
     "text": [
      "12288/14547 [========================>.....] - ETA: 0s - loss: 203.3716 - mean_squared_error: 183.2249"
     ]
    },
    {
     "name": "stderr",
     "output_type": "stream",
     "text": [
      "C:\\Users\\controlslab\\Anaconda3\\envs\\gpu_tensorflow\\lib\\site-packages\\keras\\callbacks.py:120: UserWarning: Method on_batch_end() is slow compared to the batch update (0.135650). Check your callbacks.\n",
      "  % delta_t_median)\n",
      "C:\\Users\\controlslab\\Anaconda3\\envs\\gpu_tensorflow\\lib\\site-packages\\keras\\callbacks.py:120: UserWarning: Method on_batch_end() is slow compared to the batch update (0.146606). Check your callbacks.\n",
      "  % delta_t_median)\n"
     ]
    },
    {
     "name": "stdout",
     "output_type": "stream",
     "text": [
      "14336/14547 [============================>.] - ETA: 0s - loss: 203.3518 - mean_squared_error: 183.2108"
     ]
    },
    {
     "name": "stderr",
     "output_type": "stream",
     "text": [
      "C:\\Users\\controlslab\\Anaconda3\\envs\\gpu_tensorflow\\lib\\site-packages\\keras\\callbacks.py:120: UserWarning: Method on_batch_end() is slow compared to the batch update (0.151108). Check your callbacks.\n",
      "  % delta_t_median)\n",
      "C:\\Users\\controlslab\\Anaconda3\\envs\\gpu_tensorflow\\lib\\site-packages\\keras\\callbacks.py:120: UserWarning: Method on_batch_end() is slow compared to the batch update (0.134652). Check your callbacks.\n",
      "  % delta_t_median)\n"
     ]
    },
    {
     "name": "stdout",
     "output_type": "stream",
     "text": [
      "14547/14547 [==============================] - 4s 294us/step - loss: 203.6043 - mean_squared_error: 183.4638 - val_loss: 300.3891 - val_mean_squared_error: 280.3099\n",
      "Epoch 98/100\n",
      " 2560/14547 [====>.........................] - ETA: 2s - loss: 203.6765 - mean_squared_error: 183.5598 ETA: 1s - loss: 210.9649 - mean_squared_error: 190.85 - ETA: 2s - loss: 206.2868 - mean_squared_error: 186.17"
     ]
    },
    {
     "name": "stderr",
     "output_type": "stream",
     "text": [
      "C:\\Users\\controlslab\\Anaconda3\\envs\\gpu_tensorflow\\lib\\site-packages\\keras\\callbacks.py:120: UserWarning: Method on_batch_end() is slow compared to the batch update (0.133656). Check your callbacks.\n",
      "  % delta_t_median)\n",
      "C:\\Users\\controlslab\\Anaconda3\\envs\\gpu_tensorflow\\lib\\site-packages\\keras\\callbacks.py:120: UserWarning: Method on_batch_end() is slow compared to the batch update (0.147605). Check your callbacks.\n",
      "  % delta_t_median)\n"
     ]
    },
    {
     "name": "stdout",
     "output_type": "stream",
     "text": [
      " 3584/14547 [======>.......................] - ETA: 3s - loss: 205.6288 - mean_squared_error: 185.5104"
     ]
    },
    {
     "name": "stderr",
     "output_type": "stream",
     "text": [
      "C:\\Users\\controlslab\\Anaconda3\\envs\\gpu_tensorflow\\lib\\site-packages\\keras\\callbacks.py:120: UserWarning: Method on_batch_end() is slow compared to the batch update (0.144611). Check your callbacks.\n",
      "  % delta_t_median)\n"
     ]
    },
    {
     "name": "stdout",
     "output_type": "stream",
     "text": [
      " 5120/14547 [=========>....................] - ETA: 2s - loss: 205.1667 - mean_squared_error: 185.0494"
     ]
    },
    {
     "name": "stderr",
     "output_type": "stream",
     "text": [
      "C:\\Users\\controlslab\\Anaconda3\\envs\\gpu_tensorflow\\lib\\site-packages\\keras\\callbacks.py:120: UserWarning: Method on_batch_end() is slow compared to the batch update (0.150098). Check your callbacks.\n",
      "  % delta_t_median)\n"
     ]
    },
    {
     "name": "stdout",
     "output_type": "stream",
     "text": [
      " 8192/14547 [===============>..............] - ETA: 4s - loss: 204.5049 - mean_squared_error: 184.4006 ETA: 2s - loss: 204.8531 - mean_squared_error: 18"
     ]
    },
    {
     "name": "stderr",
     "output_type": "stream",
     "text": [
      "C:\\Users\\controlslab\\Anaconda3\\envs\\gpu_tensorflow\\lib\\site-packages\\keras\\callbacks.py:120: UserWarning: Method on_batch_end() is slow compared to the batch update (0.129650). Check your callbacks.\n",
      "  % delta_t_median)\n",
      "C:\\Users\\controlslab\\Anaconda3\\envs\\gpu_tensorflow\\lib\\site-packages\\keras\\callbacks.py:120: UserWarning: Method on_batch_end() is slow compared to the batch update (0.114707). Check your callbacks.\n",
      "  % delta_t_median)\n"
     ]
    },
    {
     "name": "stdout",
     "output_type": "stream",
     "text": [
      "11264/14547 [======================>.......] - ETA: 1s - loss: 201.9812 - mean_squared_error: 181.88"
     ]
    },
    {
     "name": "stderr",
     "output_type": "stream",
     "text": [
      "C:\\Users\\controlslab\\Anaconda3\\envs\\gpu_tensorflow\\lib\\site-packages\\keras\\callbacks.py:120: UserWarning: Method on_batch_end() is slow compared to the batch update (0.105232). Check your callbacks.\n",
      "  % delta_t_median)\n"
     ]
    },
    {
     "name": "stdout",
     "output_type": "stream",
     "text": [
      "13312/14547 [==========================>...] - ETA: 0s - loss: 203.8938 - mean_squared_error: 183.8017"
     ]
    },
    {
     "name": "stderr",
     "output_type": "stream",
     "text": [
      "C:\\Users\\controlslab\\Anaconda3\\envs\\gpu_tensorflow\\lib\\site-packages\\keras\\callbacks.py:120: UserWarning: Method on_batch_end() is slow compared to the batch update (0.132645). Check your callbacks.\n",
      "  % delta_t_median)\n",
      "C:\\Users\\controlslab\\Anaconda3\\envs\\gpu_tensorflow\\lib\\site-packages\\keras\\callbacks.py:120: UserWarning: Method on_batch_end() is slow compared to the batch update (0.117706). Check your callbacks.\n",
      "  % delta_t_median)\n"
     ]
    },
    {
     "name": "stdout",
     "output_type": "stream",
     "text": [
      "14547/14547 [==============================] - ETA: 0s - loss: 204.1562 - mean_squared_error: 184.06 - 7s 496us/step - loss: 204.0221 - mean_squared_error: 183.9341 - val_loss: 348.7619 - val_mean_squared_error: 328.6980\n"
     ]
    },
    {
     "name": "stderr",
     "output_type": "stream",
     "text": [
      "C:\\Users\\controlslab\\Anaconda3\\envs\\gpu_tensorflow\\lib\\site-packages\\keras\\callbacks.py:120: UserWarning: Method on_batch_end() is slow compared to the batch update (0.115455). Check your callbacks.\n",
      "  % delta_t_median)\n"
     ]
    },
    {
     "name": "stdout",
     "output_type": "stream",
     "text": [
      "Epoch 99/100\n",
      " 1536/14547 [==>...........................] - ETA: 2s - loss: 201.5049 - mean_squared_error: 181.4578"
     ]
    },
    {
     "name": "stderr",
     "output_type": "stream",
     "text": [
      "C:\\Users\\controlslab\\Anaconda3\\envs\\gpu_tensorflow\\lib\\site-packages\\keras\\callbacks.py:120: UserWarning: Method on_batch_end() is slow compared to the batch update (0.105250). Check your callbacks.\n",
      "  % delta_t_median)\n",
      "C:\\Users\\controlslab\\Anaconda3\\envs\\gpu_tensorflow\\lib\\site-packages\\keras\\callbacks.py:120: UserWarning: Method on_batch_end() is slow compared to the batch update (0.140625). Check your callbacks.\n",
      "  % delta_t_median)\n"
     ]
    },
    {
     "name": "stdout",
     "output_type": "stream",
     "text": [
      " 3072/14547 [=====>........................] - ETA: 2s - loss: 200.8470 - mean_squared_error: 180.7986"
     ]
    },
    {
     "name": "stderr",
     "output_type": "stream",
     "text": [
      "C:\\Users\\controlslab\\Anaconda3\\envs\\gpu_tensorflow\\lib\\site-packages\\keras\\callbacks.py:120: UserWarning: Method on_batch_end() is slow compared to the batch update (0.107699). Check your callbacks.\n",
      "  % delta_t_median)\n"
     ]
    },
    {
     "name": "stdout",
     "output_type": "stream",
     "text": [
      " 5120/14547 [=========>....................] - ETA: 2s - loss: 200.3926 - mean_squared_error: 180.3504 ETA: 2s - loss: 201.5594 - mean_squared_error: 181."
     ]
    },
    {
     "name": "stderr",
     "output_type": "stream",
     "text": [
      "C:\\Users\\controlslab\\Anaconda3\\envs\\gpu_tensorflow\\lib\\site-packages\\keras\\callbacks.py:120: UserWarning: Method on_batch_end() is slow compared to the batch update (0.109721). Check your callbacks.\n",
      "  % delta_t_median)\n"
     ]
    },
    {
     "name": "stdout",
     "output_type": "stream",
     "text": [
      " 6656/14547 [============>.................] - ETA: 1s - loss: 200.2416 - mean_squared_error: 180.2037"
     ]
    },
    {
     "name": "stderr",
     "output_type": "stream",
     "text": [
      "C:\\Users\\controlslab\\Anaconda3\\envs\\gpu_tensorflow\\lib\\site-packages\\keras\\callbacks.py:120: UserWarning: Method on_batch_end() is slow compared to the batch update (0.121203). Check your callbacks.\n",
      "  % delta_t_median)\n"
     ]
    },
    {
     "name": "stdout",
     "output_type": "stream",
     "text": [
      " 7680/14547 [==============>...............] - ETA: 1s - loss: 200.5733 - mean_squared_error: 180.53 - ETA: 1s - loss: 200.4546 - mean_squared_error: 180.4190"
     ]
    },
    {
     "name": "stderr",
     "output_type": "stream",
     "text": [
      "C:\\Users\\controlslab\\Anaconda3\\envs\\gpu_tensorflow\\lib\\site-packages\\keras\\callbacks.py:120: UserWarning: Method on_batch_end() is slow compared to the batch update (0.107220). Check your callbacks.\n",
      "  % delta_t_median)\n",
      "C:\\Users\\controlslab\\Anaconda3\\envs\\gpu_tensorflow\\lib\\site-packages\\keras\\callbacks.py:120: UserWarning: Method on_batch_end() is slow compared to the batch update (0.113222). Check your callbacks.\n",
      "  % delta_t_median)\n"
     ]
    },
    {
     "name": "stdout",
     "output_type": "stream",
     "text": [
      "11776/14547 [=======================>......] - ETA: 0s - loss: 202.8444 - mean_squared_error: 182.8183"
     ]
    },
    {
     "name": "stderr",
     "output_type": "stream",
     "text": [
      "C:\\Users\\controlslab\\Anaconda3\\envs\\gpu_tensorflow\\lib\\site-packages\\keras\\callbacks.py:120: UserWarning: Method on_batch_end() is slow compared to the batch update (0.116267). Check your callbacks.\n",
      "  % delta_t_median)\n"
     ]
    },
    {
     "name": "stdout",
     "output_type": "stream",
     "text": [
      "12800/14547 [=========================>....] - ETA: 0s - loss: 203.4455 - mean_squared_error: 183.4198"
     ]
    },
    {
     "name": "stderr",
     "output_type": "stream",
     "text": [
      "C:\\Users\\controlslab\\Anaconda3\\envs\\gpu_tensorflow\\lib\\site-packages\\keras\\callbacks.py:120: UserWarning: Method on_batch_end() is slow compared to the batch update (0.118762). Check your callbacks.\n",
      "  % delta_t_median)\n"
     ]
    },
    {
     "name": "stdout",
     "output_type": "stream",
     "text": [
      "14547/14547 [==============================] - 4s 263us/step - loss: 203.8690 - mean_squared_error: 183.8431 - val_loss: 332.8634 - val_mean_squared_error: 312.8391\n"
     ]
    },
    {
     "name": "stderr",
     "output_type": "stream",
     "text": [
      "C:\\Users\\controlslab\\Anaconda3\\envs\\gpu_tensorflow\\lib\\site-packages\\keras\\callbacks.py:120: UserWarning: Method on_batch_end() is slow compared to the batch update (0.111727). Check your callbacks.\n",
      "  % delta_t_median)\n"
     ]
    },
    {
     "name": "stdout",
     "output_type": "stream",
     "text": [
      "Epoch 100/100\n",
      " 5632/14547 [==========>...................] - ETA: 1s - loss: 200.7477 - mean_squared_error: 180.7458 ETA: 1s - loss: 196.1558 - mean_squared_e"
     ]
    },
    {
     "name": "stderr",
     "output_type": "stream",
     "text": [
      "C:\\Users\\controlslab\\Anaconda3\\envs\\gpu_tensorflow\\lib\\site-packages\\keras\\callbacks.py:120: UserWarning: Method on_batch_end() is slow compared to the batch update (0.103256). Check your callbacks.\n",
      "  % delta_t_median)\n",
      "C:\\Users\\controlslab\\Anaconda3\\envs\\gpu_tensorflow\\lib\\site-packages\\keras\\callbacks.py:120: UserWarning: Method on_batch_end() is slow compared to the batch update (0.101739). Check your callbacks.\n",
      "  % delta_t_median)\n"
     ]
    },
    {
     "name": "stdout",
     "output_type": "stream",
     "text": [
      " 8704/14547 [================>.............] - ETA: 1s - loss: 202.6564 - mean_squared_error: 182.6653"
     ]
    },
    {
     "name": "stderr",
     "output_type": "stream",
     "text": [
      "C:\\Users\\controlslab\\Anaconda3\\envs\\gpu_tensorflow\\lib\\site-packages\\keras\\callbacks.py:120: UserWarning: Method on_batch_end() is slow compared to the batch update (0.103202). Check your callbacks.\n",
      "  % delta_t_median)\n",
      "C:\\Users\\controlslab\\Anaconda3\\envs\\gpu_tensorflow\\lib\\site-packages\\keras\\callbacks.py:120: UserWarning: Method on_batch_end() is slow compared to the batch update (0.106969). Check your callbacks.\n",
      "  % delta_t_median)\n"
     ]
    },
    {
     "name": "stdout",
     "output_type": "stream",
     "text": [
      "11776/14547 [=======================>......] - ETA: 0s - loss: 203.6879 - mean_squared_error: 183.7039 ETA: 0s - loss: 202.7438 - mean_squared_error: 182.75"
     ]
    },
    {
     "name": "stderr",
     "output_type": "stream",
     "text": [
      "C:\\Users\\controlslab\\Anaconda3\\envs\\gpu_tensorflow\\lib\\site-packages\\keras\\callbacks.py:120: UserWarning: Method on_batch_end() is slow compared to the batch update (0.110977). Check your callbacks.\n",
      "  % delta_t_median)\n",
      "C:\\Users\\controlslab\\Anaconda3\\envs\\gpu_tensorflow\\lib\\site-packages\\keras\\callbacks.py:120: UserWarning: Method on_batch_end() is slow compared to the batch update (0.110481). Check your callbacks.\n",
      "  % delta_t_median)\n"
     ]
    },
    {
     "name": "stdout",
     "output_type": "stream",
     "text": [
      "14336/14547 [============================>.] - ETA: 0s - loss: 204.4038 - mean_squared_error: 184.4265 ETA: 0s - loss: 204.2770 - mean_squared_error: 184. - ETA: 0s - loss: 204.1104 - mean_squared_error: 184.1344"
     ]
    },
    {
     "name": "stderr",
     "output_type": "stream",
     "text": [
      "C:\\Users\\controlslab\\Anaconda3\\envs\\gpu_tensorflow\\lib\\site-packages\\keras\\callbacks.py:120: UserWarning: Method on_batch_end() is slow compared to the batch update (0.128915). Check your callbacks.\n",
      "  % delta_t_median)\n"
     ]
    },
    {
     "name": "stdout",
     "output_type": "stream",
     "text": [
      "14547/14547 [==============================] - 4s 250us/step - loss: 203.9918 - mean_squared_error: 184.0166 - val_loss: 306.8349 - val_mean_squared_error: 286.9239\n"
     ]
    }
   ],
   "source": [
    "nFeatures = len(selected_features)\n",
    "\n",
    "lrate = LearningRateScheduler(CMAPSAuxFunctions.step_decay)\n",
    "\n",
    "shape = nFeatures*tModel.data_handler.sequence_length\n",
    "\n",
    "\n",
    "model = get_compiled_model(shape, model_type='ann')\n",
    "tModel.change_model('ModelRUL_SN_1', model, 'keras')\n",
    "\n",
    "\n",
    "#tensorboard = TensorBoard(log_dir='./logs')\n",
    "#log_dir=\"./logs\".format(time())\n",
    "tensorboard = TrainValTensorBoard(log_dir=\"./logs\".format(time()),write_graph=False)\n",
    "\n",
    "tModel.epochs = 100 \n",
    "tModel.train_model(learningRate_scheduler=lrate, verbose=1, tensorboard=tensorboard,)\n",
    "\n",
    "\n"
   ]
  },
  {
   "cell_type": "code",
   "execution_count": 11,
   "metadata": {},
   "outputs": [
    {
     "name": "stdout",
     "output_type": "stream",
     "text": [
      "20/20 [==============================] - 0s 50us/step\n",
      "scores\n",
      "Engine 1, Predicted RUL 145.05886840820312, Rounded RUL 145.0, Real RUL 112.0\n",
      "Engine 2, Predicted RUL 22.499370574951172, Rounded RUL 22.0, Real RUL 98.0\n",
      "Engine 3, Predicted RUL 5.530709266662598, Rounded RUL 5.0, Real RUL 69.0\n",
      "Engine 4, Predicted RUL 97.9443359375, Rounded RUL 97.0, Real RUL 82.0\n",
      "Engine 5, Predicted RUL 52.59850311279297, Rounded RUL 52.0, Real RUL 91.0\n",
      "Engine 6, Predicted RUL 112.5205307006836, Rounded RUL 112.0, Real RUL 93.0\n",
      "Engine 7, Predicted RUL 7.716517925262451, Rounded RUL 7.0, Real RUL 91.0\n",
      "Engine 8, Predicted RUL 87.5880126953125, Rounded RUL 87.0, Real RUL 95.0\n",
      "Engine 9, Predicted RUL 129.9507598876953, Rounded RUL 129.0, Real RUL 111.0\n",
      "Engine 10, Predicted RUL 79.93858337402344, Rounded RUL 79.0, Real RUL 96.0\n",
      "Engine 11, Predicted RUL 55.984073638916016, Rounded RUL 55.0, Real RUL 97.0\n",
      "Engine 12, Predicted RUL 11.1906156539917, Rounded RUL 11.0, Real RUL 124.0\n",
      "Engine 13, Predicted RUL 113.33118438720703, Rounded RUL 113.0, Real RUL 95.0\n",
      "Engine 14, Predicted RUL 113.85492706298828, Rounded RUL 113.0, Real RUL 107.0\n",
      "Engine 15, Predicted RUL 115.81221771240234, Rounded RUL 115.0, Real RUL 83.0\n",
      "Engine 16, Predicted RUL 56.96494674682617, Rounded RUL 56.0, Real RUL 84.0\n",
      "Engine 17, Predicted RUL 106.85844421386719, Rounded RUL 106.0, Real RUL 50.0\n",
      "Engine 18, Predicted RUL 118.3958740234375, Rounded RUL 118.0, Real RUL 28.0\n",
      "Engine 19, Predicted RUL 100.60022735595703, Rounded RUL 100.0, Real RUL 87.0\n",
      "Engine 20, Predicted RUL 100.14495849609375, Rounded RUL 100.0, Real RUL 16.0\n",
      "{'rmse': 16.746641454333464, 'score_1': 286.92388916015625, 'loss': 306.83489990234375, 'rhs': 6.375527885901184}\n",
      "RMSE2: 16.746641454333464\n",
      "RHS: 6.375527885901184\n",
      "Time : 381.4418333002159 seconds\n"
     ]
    }
   ],
   "source": [
    "tModel.evaluate_model(['rhs', 'rmse'], round=2, cross_validation=True)\n",
    "print(\"scores\")\n",
    "\n",
    "cScores = tModel.scores\n",
    "#rmse = math.sqrt(cScores['score_1'])\n",
    "rmse2 = cScores['rmse']\n",
    "rhs = cScores['rhs']\n",
    "time = tModel.train_time\n",
    "\n",
    "i = range(1,len(tModel.y_test)+1)\n",
    "\n",
    "\n",
    "for i, rul_prediction, rul_prediction_rounded, true_rul in zip(i, np.ravel(tModel.y_predicted), tModel.y_predicted_rounded, np.ravel(tModel.y_test)):\n",
    "    print('Engine {}, Predicted RUL {}, Rounded RUL {}, Real RUL {}'.format(i, rul_prediction, \n",
    "                                                                    rul_prediction_rounded, \n",
    "                                                                    true_rul))\n",
    "\n",
    "print(cScores)\n",
    "#print(\"RMSE: {}\".format(rmse))\n",
    "print(\"RMSE2: {}\".format(rmse2))\n",
    "print(\"RHS: {}\".format(rhs))\n",
    "print(\"Time : {} seconds\".format(time))"
   ]
  },
  {
   "cell_type": "code",
   "execution_count": 12,
   "metadata": {},
   "outputs": [
    {
     "name": "stdout",
     "output_type": "stream",
     "text": [
      "100/100 [==============================] - 0s 4ms/step: \n",
      "scores\n",
      "Engine 1, Predicted RUL 112.33728790283203, Rounded RUL 112.0, Real RUL 112.0\n",
      "Engine 2, Predicted RUL 128.4075164794922, Rounded RUL 128.0, Real RUL 98.0\n",
      "Engine 3, Predicted RUL 65.3319320678711, Rounded RUL 65.0, Real RUL 69.0\n",
      "Engine 4, Predicted RUL 88.33563995361328, Rounded RUL 88.0, Real RUL 82.0\n",
      "Engine 5, Predicted RUL 104.48941802978516, Rounded RUL 104.0, Real RUL 91.0\n",
      "Engine 6, Predicted RUL 110.60025787353516, Rounded RUL 110.0, Real RUL 93.0\n",
      "Engine 7, Predicted RUL 96.71713256835938, Rounded RUL 96.0, Real RUL 91.0\n",
      "Engine 8, Predicted RUL 94.51876831054688, Rounded RUL 94.0, Real RUL 95.0\n",
      "Engine 9, Predicted RUL 122.18558502197266, Rounded RUL 122.0, Real RUL 111.0\n",
      "Engine 10, Predicted RUL 91.20944213867188, Rounded RUL 91.0, Real RUL 96.0\n",
      "Engine 11, Predicted RUL 97.83984375, Rounded RUL 97.0, Real RUL 97.0\n",
      "Engine 12, Predicted RUL 94.43685913085938, Rounded RUL 94.0, Real RUL 124.0\n",
      "Engine 13, Predicted RUL 75.44833374023438, Rounded RUL 75.0, Real RUL 95.0\n",
      "Engine 14, Predicted RUL 120.55990600585938, Rounded RUL 120.0, Real RUL 107.0\n",
      "Engine 15, Predicted RUL 100.03748321533203, Rounded RUL 100.0, Real RUL 83.0\n",
      "Engine 16, Predicted RUL 97.48514556884766, Rounded RUL 97.0, Real RUL 84.0\n",
      "Engine 17, Predicted RUL 50.60483932495117, Rounded RUL 50.0, Real RUL 50.0\n",
      "Engine 18, Predicted RUL 31.024696350097656, Rounded RUL 31.0, Real RUL 28.0\n",
      "Engine 19, Predicted RUL 96.40540313720703, Rounded RUL 96.0, Real RUL 87.0\n",
      "Engine 20, Predicted RUL 10.378268241882324, Rounded RUL 10.0, Real RUL 16.0\n",
      "Engine 21, Predicted RUL 80.56002807617188, Rounded RUL 80.0, Real RUL 57.0\n",
      "Engine 22, Predicted RUL 125.26185607910156, Rounded RUL 125.0, Real RUL 111.0\n",
      "Engine 23, Predicted RUL 122.03719329833984, Rounded RUL 122.0, Real RUL 113.0\n",
      "Engine 24, Predicted RUL 17.661745071411133, Rounded RUL 17.0, Real RUL 20.0\n",
      "Engine 25, Predicted RUL 105.21134948730469, Rounded RUL 105.0, Real RUL 145.0\n",
      "Engine 26, Predicted RUL 110.15865325927734, Rounded RUL 110.0, Real RUL 119.0\n",
      "Engine 27, Predicted RUL 94.2822494506836, Rounded RUL 94.0, Real RUL 66.0\n",
      "Engine 28, Predicted RUL 106.30082702636719, Rounded RUL 106.0, Real RUL 97.0\n",
      "Engine 29, Predicted RUL 97.34815979003906, Rounded RUL 97.0, Real RUL 90.0\n",
      "Engine 30, Predicted RUL 110.15414428710938, Rounded RUL 110.0, Real RUL 115.0\n",
      "Engine 31, Predicted RUL 5.530709266662598, Rounded RUL 5.0, Real RUL 8.0\n",
      "Engine 32, Predicted RUL 46.02110290527344, Rounded RUL 46.0, Real RUL 48.0\n",
      "Engine 33, Predicted RUL 116.9997329711914, Rounded RUL 116.0, Real RUL 106.0\n",
      "Engine 34, Predicted RUL 8.135421752929688, Rounded RUL 8.0, Real RUL 7.0\n",
      "Engine 35, Predicted RUL 8.75643539428711, Rounded RUL 8.0, Real RUL 11.0\n",
      "Engine 36, Predicted RUL 19.465904235839844, Rounded RUL 19.0, Real RUL 19.0\n",
      "Engine 37, Predicted RUL 28.381685256958008, Rounded RUL 28.0, Real RUL 21.0\n",
      "Engine 38, Predicted RUL 56.247650146484375, Rounded RUL 56.0, Real RUL 50.0\n",
      "Engine 39, Predicted RUL 130.45359802246094, Rounded RUL 130.0, Real RUL 142.0\n",
      "Engine 40, Predicted RUL 32.547462463378906, Rounded RUL 32.0, Real RUL 28.0\n",
      "Engine 41, Predicted RUL 25.797550201416016, Rounded RUL 25.0, Real RUL 18.0\n",
      "Engine 42, Predicted RUL 15.369370460510254, Rounded RUL 15.0, Real RUL 10.0\n",
      "Engine 43, Predicted RUL 72.43515014648438, Rounded RUL 72.0, Real RUL 59.0\n",
      "Engine 44, Predicted RUL 99.15229797363281, Rounded RUL 99.0, Real RUL 109.0\n",
      "Engine 45, Predicted RUL 81.1402587890625, Rounded RUL 81.0, Real RUL 114.0\n",
      "Engine 46, Predicted RUL 45.69135284423828, Rounded RUL 45.0, Real RUL 47.0\n",
      "Engine 47, Predicted RUL 120.74952697753906, Rounded RUL 120.0, Real RUL 135.0\n",
      "Engine 48, Predicted RUL 97.40682220458984, Rounded RUL 97.0, Real RUL 92.0\n",
      "Engine 49, Predicted RUL 14.11661148071289, Rounded RUL 14.0, Real RUL 21.0\n",
      "Engine 50, Predicted RUL 90.15430450439453, Rounded RUL 90.0, Real RUL 79.0\n",
      "Engine 51, Predicted RUL 106.30270385742188, Rounded RUL 106.0, Real RUL 114.0\n",
      "Engine 52, Predicted RUL 24.755359649658203, Rounded RUL 24.0, Real RUL 29.0\n",
      "Engine 53, Predicted RUL 23.081663131713867, Rounded RUL 23.0, Real RUL 26.0\n",
      "Engine 54, Predicted RUL 108.82305908203125, Rounded RUL 108.0, Real RUL 97.0\n",
      "Engine 55, Predicted RUL 116.13966369628906, Rounded RUL 116.0, Real RUL 137.0\n",
      "Engine 56, Predicted RUL 19.036054611206055, Rounded RUL 19.0, Real RUL 15.0\n",
      "Engine 57, Predicted RUL 108.80160522460938, Rounded RUL 108.0, Real RUL 103.0\n",
      "Engine 58, Predicted RUL 53.07001495361328, Rounded RUL 53.0, Real RUL 37.0\n",
      "Engine 59, Predicted RUL 103.18450927734375, Rounded RUL 103.0, Real RUL 114.0\n",
      "Engine 60, Predicted RUL 112.08976745605469, Rounded RUL 112.0, Real RUL 100.0\n",
      "Engine 61, Predicted RUL 16.459415435791016, Rounded RUL 16.0, Real RUL 21.0\n",
      "Engine 62, Predicted RUL 38.80632781982422, Rounded RUL 38.0, Real RUL 54.0\n",
      "Engine 63, Predicted RUL 91.81287384033203, Rounded RUL 91.0, Real RUL 72.0\n",
      "Engine 64, Predicted RUL 22.54389190673828, Rounded RUL 22.0, Real RUL 28.0\n",
      "Engine 65, Predicted RUL 118.59266662597656, Rounded RUL 118.0, Real RUL 128.0\n",
      "Engine 66, Predicted RUL 19.000844955444336, Rounded RUL 19.0, Real RUL 14.0\n",
      "Engine 67, Predicted RUL 118.77945709228516, Rounded RUL 118.0, Real RUL 77.0\n",
      "Engine 68, Predicted RUL 5.530709266662598, Rounded RUL 5.0, Real RUL 8.0\n",
      "Engine 69, Predicted RUL 114.13581085205078, Rounded RUL 114.0, Real RUL 121.0\n",
      "Engine 70, Predicted RUL 94.20124053955078, Rounded RUL 94.0, Real RUL 94.0\n",
      "Engine 71, Predicted RUL 105.52308654785156, Rounded RUL 105.0, Real RUL 118.0\n",
      "Engine 72, Predicted RUL 67.18309020996094, Rounded RUL 67.0, Real RUL 50.0\n",
      "Engine 73, Predicted RUL 102.69952392578125, Rounded RUL 102.0, Real RUL 131.0\n",
      "Engine 74, Predicted RUL 104.10868835449219, Rounded RUL 104.0, Real RUL 126.0\n",
      "Engine 75, Predicted RUL 101.4986572265625, Rounded RUL 101.0, Real RUL 113.0\n",
      "Engine 76, Predicted RUL 5.530709266662598, Rounded RUL 5.0, Real RUL 10.0\n",
      "Engine 77, Predicted RUL 35.280696868896484, Rounded RUL 35.0, Real RUL 34.0\n",
      "Engine 78, Predicted RUL 139.52291870117188, Rounded RUL 139.0, Real RUL 107.0\n",
      "Engine 79, Predicted RUL 96.73794555664062, Rounded RUL 96.0, Real RUL 63.0\n",
      "Engine 80, Predicted RUL 99.52043151855469, Rounded RUL 99.0, Real RUL 90.0\n",
      "Engine 81, Predicted RUL 5.530709266662598, Rounded RUL 5.0, Real RUL 8.0\n",
      "Engine 82, Predicted RUL 10.114527702331543, Rounded RUL 10.0, Real RUL 9.0\n",
      "Engine 83, Predicted RUL 133.12307739257812, Rounded RUL 133.0, Real RUL 137.0\n",
      "Engine 84, Predicted RUL 85.75757598876953, Rounded RUL 85.0, Real RUL 58.0\n",
      "Engine 85, Predicted RUL 138.30276489257812, Rounded RUL 138.0, Real RUL 118.0\n",
      "Engine 86, Predicted RUL 109.96514129638672, Rounded RUL 109.0, Real RUL 89.0\n",
      "Engine 87, Predicted RUL 117.14361572265625, Rounded RUL 117.0, Real RUL 116.0\n",
      "Engine 88, Predicted RUL 120.98786163330078, Rounded RUL 120.0, Real RUL 115.0\n",
      "Engine 89, Predicted RUL 111.50276947021484, Rounded RUL 111.0, Real RUL 136.0\n",
      "Engine 90, Predicted RUL 27.376508712768555, Rounded RUL 27.0, Real RUL 28.0\n",
      "Engine 91, Predicted RUL 29.516265869140625, Rounded RUL 29.0, Real RUL 38.0\n",
      "Engine 92, Predicted RUL 24.302696228027344, Rounded RUL 24.0, Real RUL 20.0\n",
      "Engine 93, Predicted RUL 51.50103759765625, Rounded RUL 51.0, Real RUL 85.0\n",
      "Engine 94, Predicted RUL 71.61289978027344, Rounded RUL 71.0, Real RUL 55.0\n",
      "Engine 95, Predicted RUL 105.24363708496094, Rounded RUL 105.0, Real RUL 128.0\n",
      "Engine 96, Predicted RUL 99.68900299072266, Rounded RUL 99.0, Real RUL 137.0\n",
      "Engine 97, Predicted RUL 80.14767456054688, Rounded RUL 80.0, Real RUL 82.0\n",
      "Engine 98, Predicted RUL 73.37906646728516, Rounded RUL 73.0, Real RUL 59.0\n",
      "Engine 99, Predicted RUL 108.2912368774414, Rounded RUL 108.0, Real RUL 117.0\n",
      "Engine 100, Predicted RUL 20.852720260620117, Rounded RUL 20.0, Real RUL 20.0\n",
      "{'rmse': 15.22333734763833, 'score_1': 233.59481018066407, 'loss': 253.50583129882813, 'rhs': 3.771912259806527}\n",
      "RMSE2: 15.22333734763833\n",
      "RHS: 3.771912259806527\n",
      "Time : 381.4418333002159 seconds\n"
     ]
    }
   ],
   "source": [
    "tModel.evaluate_model(['rhs', 'rmse'], round=2, cross_validation=False)\n",
    "print(\"scores\")\n",
    "\n",
    "cScores = tModel.scores\n",
    "#rmse = math.sqrt(cScores['score_1'])\n",
    "rmse2 = cScores['rmse']\n",
    "rhs = cScores['rhs']\n",
    "time = tModel.train_time\n",
    "\n",
    "i = range(1,len(tModel.y_test)+1)\n",
    "\n",
    "\n",
    "for i, rul_prediction, rul_prediction_rounded, true_rul in zip(i, np.ravel(tModel.y_predicted), tModel.y_predicted_rounded, np.ravel(tModel.y_test)):\n",
    "    print('Engine {}, Predicted RUL {}, Rounded RUL {}, Real RUL {}'.format(i, rul_prediction, \n",
    "                                                                    rul_prediction_rounded, \n",
    "                                                                    true_rul))\n",
    "\n",
    "print(cScores)\n",
    "#print(\"RMSE: {}\".format(rmse))\n",
    "print(\"RMSE2: {}\".format(rmse2))\n",
    "print(\"RHS: {}\".format(rhs))\n",
    "print(\"Time : {} seconds\".format(time))"
   ]
  },
  {
   "cell_type": "code",
   "execution_count": null,
   "metadata": {},
   "outputs": [],
   "source": []
  }
 ],
 "metadata": {
  "kernelspec": {
   "display_name": "Python 3",
   "language": "python",
   "name": "python3"
  },
  "language_info": {
   "codemirror_mode": {
    "name": "ipython",
    "version": 3
   },
   "file_extension": ".py",
   "mimetype": "text/x-python",
   "name": "python",
   "nbconvert_exporter": "python",
   "pygments_lexer": "ipython3",
   "version": "3.6.6"
  }
 },
 "nbformat": 4,
 "nbformat_minor": 2
}
