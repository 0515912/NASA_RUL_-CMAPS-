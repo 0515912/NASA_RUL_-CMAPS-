{
 "cells": [
  {
   "cell_type": "markdown",
   "metadata": {},
   "source": [
    "# Initialization\n",
    "\n",
    "Test notebook for the C-MAPPS benchmark. Test using SVM. \n",
    "\n",
    "First we import the necessary packages and create the global variables."
   ]
  },
  {
   "cell_type": "code",
   "execution_count": 1,
   "metadata": {},
   "outputs": [],
   "source": [
    "#print(__doc__)\n",
    "\n",
    "import math\n",
    "import custom_scores\n",
    "import CMAPSAuxFunctions\n",
    "import numpy as np\n",
    "import matplotlib.pyplot as plt\n",
    "\n",
    "from sklearn.svm import SVR\n",
    "from sklearn.preprocessing import StandardScaler, MinMaxScaler\n",
    "\n",
    "from tunableModel import TunableModel\n",
    "\n",
    "%matplotlib inline"
   ]
  },
  {
   "cell_type": "markdown",
   "metadata": {},
   "source": [
    "# Create the model"
   ]
  },
  {
   "cell_type": "code",
   "execution_count": 2,
   "metadata": {
    "collapsed": true
   },
   "outputs": [],
   "source": [
    "#Selected as per CNN paper\n",
    "selected_features = ['T24', 'T30', 'T50', 'P30', 'Nf', 'Nc', 'Ps30', 'phi', 'NRf', 'NRc', \n",
    "                     'BPR', 'htBleed', 'W31', 'W32']\n",
    "\n",
    "#Selected from the results of running DE on the old model (250->50->1)\n",
    "windowSize = 20\n",
    "stride = 2\n",
    "constRUL = 105\n",
    "\n",
    "dataFolder = '../CMAPSSData'\n",
    "\n",
    "#Create and compile the models\n",
    "svr_rbf = SVR(kernel='rbf', C=1e3, gamma=0.1)\n",
    "\n",
    "min_max_scaler = MinMaxScaler(feature_range=(-1, 1))\n",
    "\n",
    "tModel = TunableModel('ModelRUL_SVM_RFB', svr_rbf, selected_features, dataFolder, 'scikit', window_size=windowSize,\n",
    "                      scaler = min_max_scaler, window_stride=stride, constRul = constRUL)"
   ]
  },
  {
   "cell_type": "markdown",
   "metadata": {},
   "source": [
    "# Load the data"
   ]
  },
  {
   "cell_type": "code",
   "execution_count": 3,
   "metadata": {},
   "outputs": [
    {
     "name": "stdout",
     "output_type": "stream",
     "text": [
      "Loading data for dataset 1 with window_size of 20, stride of 2 and constRUL of 105. Cros-Validation ratio 0\n",
      "Data loaded for dataset 1\n",
      "Printing shapes\n",
      "\n",
      "Training data (X, y)\n",
      "(9390, 280)\n",
      "(9390, 1)\n",
      "Testing data (X, y)\n",
      "(100, 280)\n",
      "(100, 1)\n",
      "Printing first 5 elements\n",
      "\n",
      "Training data (X, y)\n",
      "[[-0.62199313 -0.07920059 -0.42905692 ..., -0.4         0.36        0.52472609]\n",
      " [-0.25773196 -0.16358253 -0.27612574 ..., -0.4         0.184       0.39798638]\n",
      " [-0.24398625 -0.41722181 -0.19031436 ..., -0.4         0.312       0.36955878]\n",
      " [-0.16838488  0.05008636 -0.54927782 ...,  0.          0.088       0.50370151]\n",
      " [-0.41580756 -0.0160375  -0.67544605 ..., -0.8         0.328       0.11637548]]\n",
      "[[ 105.]\n",
      " [ 105.]\n",
      " [ 105.]\n",
      " [ 105.]\n",
      " [ 105.]]\n",
      "Testing data (X, y)\n",
      "[[-0.12714777 -0.19121638 -0.54715378 ..., -0.2         0.008       0.32691738]\n",
      " [ 0.01718213 -0.37132988 -0.03101105 ..., -0.6         0.008       0.05034054]\n",
      " [ 0.04467354 -0.10584752 -0.09005947 ...,  0.2         0.2         0.08646728]\n",
      " [-0.58075601  0.20503331  0.31096007 ...,  0.2        -0.36        0.03938407]\n",
      " [-0.12714777  0.04071058 -0.06839422 ...,  0.         -0.088       0.49422564]]\n",
      "[[ 112.]\n",
      " [  98.]\n",
      " [  69.]\n",
      " [  82.]\n",
      " [  91.]]\n"
     ]
    }
   ],
   "source": [
    "#Selected from the results of running DE on the old model (250->50->1)\n",
    "windowSize = 20\n",
    "stride = 2\n",
    "constRUL = 105\n",
    "dataset = 1\n",
    "tModel.changeDataset(dataset)\n",
    "tModel.loadData(verbose=1, rectify_labels = False)\n",
    "tModel.printData(printTop=True)"
   ]
  },
  {
   "cell_type": "markdown",
   "metadata": {},
   "source": [
    "# Train the regressor"
   ]
  },
  {
   "cell_type": "code",
   "execution_count": 12,
   "metadata": {},
   "outputs": [
    {
     "name": "stdout",
     "output_type": "stream",
     "text": [
      "[LibSVM]"
     ]
    },
    {
     "name": "stderr",
     "output_type": "stream",
     "text": [
      "/Users/davidlaredorazo/anaconda/envs/tensorflow/lib/python3.6/site-packages/sklearn/svm/base.py:218: ConvergenceWarning: Solver terminated early (max_iter=100).  Consider pre-processing your data with StandardScaler or MinMaxScaler.\n",
      "  % self.max_iter, ConvergenceWarning)\n"
     ]
    }
   ],
   "source": [
    "#To change the model parameters the model has to be get first and then reinserted in the object\n",
    "model = tModel.model\n",
    "model.C = 1e4\n",
    "model.epsilon = 0.2\n",
    "model.gamma = 0.1\n",
    "model.max_iter = 100\n",
    "model.verbose = True\n",
    "tModel.changeModel('ModelRUL_SVM_RFB', model, 'scikit')\n",
    "\n",
    "#Train the model\n",
    "tModel.trainModel()"
   ]
  },
  {
   "cell_type": "markdown",
   "metadata": {},
   "source": [
    "# Evaluate the performance of the regressor"
   ]
  },
  {
   "cell_type": "code",
   "execution_count": 13,
   "metadata": {},
   "outputs": [
    {
     "name": "stdout",
     "output_type": "stream",
     "text": [
      "scores\n",
      "Engine 1, RUL 86.23892120247264, Rectified RUL 86.0, Real RUL [ 112.]\n",
      "Engine 2, RUL 93.01335059449957, Rectified RUL 93.0, Real RUL [ 98.]\n",
      "Engine 3, RUL 54.93112150855232, Rectified RUL 54.0, Real RUL [ 69.]\n",
      "Engine 4, RUL 75.96922872046741, Rectified RUL 75.0, Real RUL [ 82.]\n",
      "Engine 5, RUL 92.24433007340869, Rectified RUL 92.0, Real RUL [ 91.]\n",
      "Engine 6, RUL 83.45339622293615, Rectified RUL 83.0, Real RUL [ 93.]\n",
      "Engine 7, RUL 89.20086770587588, Rectified RUL 89.0, Real RUL [ 91.]\n",
      "Engine 8, RUL 80.79550328221241, Rectified RUL 80.0, Real RUL [ 95.]\n",
      "Engine 9, RUL 89.48323386158063, Rectified RUL 89.0, Real RUL [ 111.]\n",
      "Engine 10, RUL 79.60724151516987, Rectified RUL 79.0, Real RUL [ 96.]\n",
      "Engine 11, RUL 76.7936560828835, Rectified RUL 76.0, Real RUL [ 97.]\n",
      "Engine 12, RUL 86.17028177153807, Rectified RUL 86.0, Real RUL [ 124.]\n",
      "Engine 13, RUL 80.8486555799432, Rectified RUL 80.0, Real RUL [ 95.]\n",
      "Engine 14, RUL 85.12779377570644, Rectified RUL 85.0, Real RUL [ 107.]\n",
      "Engine 15, RUL 84.63621735397047, Rectified RUL 84.0, Real RUL [ 83.]\n",
      "Engine 16, RUL 87.84900802987406, Rectified RUL 87.0, Real RUL [ 84.]\n",
      "Engine 17, RUL 65.9344372849284, Rectified RUL 65.0, Real RUL [ 50.]\n",
      "Engine 18, RUL 45.56936696161405, Rectified RUL 45.0, Real RUL [ 28.]\n",
      "Engine 19, RUL 82.21537305421982, Rectified RUL 82.0, Real RUL [ 87.]\n",
      "Engine 20, RUL 26.109421731756136, Rectified RUL 26.0, Real RUL [ 16.]\n",
      "Engine 21, RUL 78.62089952806363, Rectified RUL 78.0, Real RUL [ 57.]\n",
      "Engine 22, RUL 88.72088835712802, Rectified RUL 88.0, Real RUL [ 111.]\n",
      "Engine 23, RUL 91.43017251989043, Rectified RUL 91.0, Real RUL [ 113.]\n",
      "Engine 24, RUL 46.262451698700545, Rectified RUL 46.0, Real RUL [ 20.]\n",
      "Engine 25, RUL 80.35545088134428, Rectified RUL 80.0, Real RUL [ 145.]\n",
      "Engine 26, RUL 85.38462309382507, Rectified RUL 85.0, Real RUL [ 119.]\n",
      "Engine 27, RUL 91.96326309757964, Rectified RUL 91.0, Real RUL [ 66.]\n",
      "Engine 28, RUL 88.20235821450771, Rectified RUL 88.0, Real RUL [ 97.]\n",
      "Engine 29, RUL 86.71852187188793, Rectified RUL 86.0, Real RUL [ 90.]\n",
      "Engine 30, RUL 89.46291039274384, Rectified RUL 89.0, Real RUL [ 115.]\n",
      "Engine 31, RUL 26.29384491856297, Rectified RUL 26.0, Real RUL [ 8.]\n",
      "Engine 32, RUL 68.27406426894038, Rectified RUL 68.0, Real RUL [ 48.]\n",
      "Engine 33, RUL 82.98516537990056, Rectified RUL 82.0, Real RUL [ 106.]\n",
      "Engine 34, RUL 26.747410478149334, Rectified RUL 26.0, Real RUL [ 7.]\n",
      "Engine 35, RUL 22.324669341669512, Rectified RUL 22.0, Real RUL [ 11.]\n",
      "Engine 36, RUL 31.614016045057216, Rectified RUL 31.0, Real RUL [ 19.]\n",
      "Engine 37, RUL 44.94847134450497, Rectified RUL 44.0, Real RUL [ 21.]\n",
      "Engine 38, RUL 43.1507261262001, Rectified RUL 43.0, Real RUL [ 50.]\n",
      "Engine 39, RUL 85.19257185731666, Rectified RUL 85.0, Real RUL [ 142.]\n",
      "Engine 40, RUL 36.37677521884011, Rectified RUL 36.0, Real RUL [ 28.]\n",
      "Engine 41, RUL 53.759459437532406, Rectified RUL 53.0, Real RUL [ 18.]\n",
      "Engine 42, RUL 37.376244165805375, Rectified RUL 37.0, Real RUL [ 10.]\n",
      "Engine 43, RUL 76.817724109981, Rectified RUL 76.0, Real RUL [ 59.]\n",
      "Engine 44, RUL 84.76050486994515, Rectified RUL 84.0, Real RUL [ 109.]\n",
      "Engine 45, RUL 52.65480780874354, Rectified RUL 52.0, Real RUL [ 114.]\n",
      "Engine 46, RUL 45.192407284724005, Rectified RUL 45.0, Real RUL [ 47.]\n",
      "Engine 47, RUL 85.44066560176617, Rectified RUL 85.0, Real RUL [ 135.]\n",
      "Engine 48, RUL 86.15302189717501, Rectified RUL 86.0, Real RUL [ 92.]\n",
      "Engine 49, RUL 30.890651586106287, Rectified RUL 30.0, Real RUL [ 21.]\n",
      "Engine 50, RUL 86.78293052721018, Rectified RUL 86.0, Real RUL [ 79.]\n",
      "Engine 51, RUL 91.36952299859213, Rectified RUL 91.0, Real RUL [ 114.]\n",
      "Engine 52, RUL 51.579610110533764, Rectified RUL 51.0, Real RUL [ 29.]\n",
      "Engine 53, RUL 48.89621289111415, Rectified RUL 48.0, Real RUL [ 26.]\n",
      "Engine 54, RUL 86.20267028836105, Rectified RUL 86.0, Real RUL [ 97.]\n",
      "Engine 55, RUL 84.59980264168426, Rectified RUL 84.0, Real RUL [ 137.]\n",
      "Engine 56, RUL 33.34278101319475, Rectified RUL 33.0, Real RUL [ 15.]\n",
      "Engine 57, RUL 83.03194341851852, Rectified RUL 83.0, Real RUL [ 103.]\n",
      "Engine 58, RUL 47.05487545451321, Rectified RUL 47.0, Real RUL [ 37.]\n",
      "Engine 59, RUL 85.30802390906318, Rectified RUL 85.0, Real RUL [ 114.]\n",
      "Engine 60, RUL 91.22800173247151, Rectified RUL 91.0, Real RUL [ 100.]\n",
      "Engine 61, RUL 29.72175436322853, Rectified RUL 29.0, Real RUL [ 21.]\n",
      "Engine 62, RUL 63.674205457363946, Rectified RUL 63.0, Real RUL [ 54.]\n",
      "Engine 63, RUL 84.44079584407336, Rectified RUL 84.0, Real RUL [ 72.]\n",
      "Engine 64, RUL 34.96743502692255, Rectified RUL 34.0, Real RUL [ 28.]\n",
      "Engine 65, RUL 78.04865611994803, Rectified RUL 78.0, Real RUL [ 128.]\n",
      "Engine 66, RUL 38.474240327984845, Rectified RUL 38.0, Real RUL [ 14.]\n",
      "Engine 67, RUL 83.3352427425526, Rectified RUL 83.0, Real RUL [ 77.]\n",
      "Engine 68, RUL 24.665823034632993, Rectified RUL 24.0, Real RUL [ 8.]\n",
      "Engine 69, RUL 85.19091786519347, Rectified RUL 85.0, Real RUL [ 121.]\n",
      "Engine 70, RUL 94.79631988549474, Rectified RUL 94.0, Real RUL [ 94.]\n",
      "Engine 71, RUL 80.22509727443558, Rectified RUL 80.0, Real RUL [ 118.]\n",
      "Engine 72, RUL 73.15564987408212, Rectified RUL 73.0, Real RUL [ 50.]\n",
      "Engine 73, RUL 87.68109494779183, Rectified RUL 87.0, Real RUL [ 131.]\n",
      "Engine 74, RUL 85.25927136160394, Rectified RUL 85.0, Real RUL [ 126.]\n",
      "Engine 75, RUL 81.31997143842398, Rectified RUL 81.0, Real RUL [ 113.]\n",
      "Engine 76, RUL 28.665414097307995, Rectified RUL 28.0, Real RUL [ 10.]\n",
      "Engine 77, RUL 51.935785747044086, Rectified RUL 51.0, Real RUL [ 34.]\n",
      "Engine 78, RUL 76.83468119484755, Rectified RUL 76.0, Real RUL [ 107.]\n",
      "Engine 79, RUL 83.6014077694786, Rectified RUL 83.0, Real RUL [ 63.]\n",
      "Engine 80, RUL 81.3659929261323, Rectified RUL 81.0, Real RUL [ 90.]\n",
      "Engine 81, RUL 25.4460260982506, Rectified RUL 25.0, Real RUL [ 8.]\n",
      "Engine 82, RUL 29.217218033298646, Rectified RUL 29.0, Real RUL [ 9.]\n",
      "Engine 83, RUL 96.24977479849903, Rectified RUL 96.0, Real RUL [ 137.]\n",
      "Engine 84, RUL 64.28813481448438, Rectified RUL 64.0, Real RUL [ 58.]\n",
      "Engine 85, RUL 100.372495029708, Rectified RUL 100.0, Real RUL [ 118.]\n",
      "Engine 86, RUL 83.67650483378877, Rectified RUL 83.0, Real RUL [ 89.]\n",
      "Engine 87, RUL 85.24554495815856, Rectified RUL 85.0, Real RUL [ 116.]\n",
      "Engine 88, RUL 87.50142938961332, Rectified RUL 87.0, Real RUL [ 115.]\n",
      "Engine 89, RUL 92.63186327337735, Rectified RUL 92.0, Real RUL [ 136.]\n",
      "Engine 90, RUL 40.433331372205416, Rectified RUL 40.0, Real RUL [ 28.]\n",
      "Engine 91, RUL 35.76376043582401, Rectified RUL 35.0, Real RUL [ 38.]\n",
      "Engine 92, RUL 35.05516614303773, Rectified RUL 35.0, Real RUL [ 20.]\n",
      "Engine 93, RUL 40.41436968593039, Rectified RUL 40.0, Real RUL [ 85.]\n",
      "Engine 94, RUL 55.66782446349708, Rectified RUL 55.0, Real RUL [ 55.]\n",
      "Engine 95, RUL 84.10102511950541, Rectified RUL 84.0, Real RUL [ 128.]\n",
      "Engine 96, RUL 88.07333111299258, Rectified RUL 88.0, Real RUL [ 137.]\n",
      "Engine 97, RUL 85.56211757090637, Rectified RUL 85.0, Real RUL [ 82.]\n",
      "Engine 98, RUL 65.15354883789024, Rectified RUL 65.0, Real RUL [ 59.]\n",
      "Engine 99, RUL 84.16389634121444, Rectified RUL 84.0, Real RUL [ 117.]\n",
      "Engine 100, RUL 44.58291446895077, Rectified RUL 44.0, Real RUL [ 20.]\n",
      "{'loss': 0.6305739111129629, 'rhs': 1116.953907237694, 'rmse': 25.329232124168314}\n",
      "RMSE2: 25.329232124168314\n",
      "RHS: 1116.953907237694\n",
      "Time : 0.6242919999999987 seconds\n"
     ]
    }
   ],
   "source": [
    "tModel.evaluateModel([\"rhs\"], round=2)\n",
    "print(\"scores\")\n",
    "\n",
    "#print(tModel.y_pred)\n",
    "\n",
    "cScores = tModel.scores\n",
    "#rmse = math.sqrt(cScores['score_1'])\n",
    "rmse2 = cScores['rmse']\n",
    "rhs = cScores['rhs']\n",
    "time = tModel.trainTime\n",
    "\n",
    "i = 1\n",
    "for prediction in tModel.y_pred:\n",
    "    print('Engine {}, RUL {}, Rectified RUL {}, Real RUL {}'.format(i, prediction, \n",
    "                                                                    tModel.y_pred_rectified[i-1], \n",
    "                                                                    tModel.y_test[i-1]))\n",
    "    i = i+1\n",
    "\n",
    "print(cScores)\n",
    "#print(\"RMSE: {}\".format(rmse))\n",
    "print(\"RMSE2: {}\".format(rmse2))\n",
    "print(\"RHS: {}\".format(rhs))\n",
    "print(\"Time : {} seconds\".format(time))"
   ]
  },
  {
   "cell_type": "code",
   "execution_count": null,
   "metadata": {
    "collapsed": true
   },
   "outputs": [],
   "source": [
    "# #############################################################################\n",
    "# Generate sample data\n",
    "X = np.sort(5 * np.random.rand(40, 1), axis=0)\n",
    "y = np.sin(X).ravel()\n",
    "\n",
    "# #############################################################################\n",
    "# Add noise to targets\n",
    "y[::5] += 3 * (0.5 - np.random.rand(8))\n",
    "\n",
    "# #############################################################################\n",
    "# Fit regression model\n",
    "svr_rbf = SVR(kernel='rbf', C=1e3, gamma=0.1)\n",
    "svr_lin = SVR(kernel='linear', C=1e3)\n",
    "svr_poly = SVR(kernel='poly', C=1e3, degree=2)\n",
    "y_rbf = svr_rbf.fit(X, y).predict(X)\n",
    "y_lin = svr_lin.fit(X, y).predict(X)\n",
    "y_poly = svr_poly.fit(X, y).predict(X)\n",
    "\n",
    "# #############################################################################\n",
    "# Look at the results\n",
    "lw = 2\n",
    "plt.scatter(X, y, color='darkorange', label='data')\n",
    "plt.plot(X, y_rbf, color='navy', lw=lw, label='RBF model')\n",
    "plt.plot(X, y_lin, color='c', lw=lw, label='Linear model')\n",
    "plt.plot(X, y_poly, color='cornflowerblue', lw=lw, label='Polynomial model')\n",
    "plt.xlabel('data')\n",
    "plt.ylabel('target')\n",
    "plt.title('Support Vector Regression')\n",
    "plt.legend()\n",
    "plt.show()"
   ]
  }
 ],
 "metadata": {
  "kernelspec": {
   "display_name": "Python 3",
   "language": "python",
   "name": "python3"
  },
  "language_info": {
   "codemirror_mode": {
    "name": "ipython",
    "version": 3
   },
   "file_extension": ".py",
   "mimetype": "text/x-python",
   "name": "python",
   "nbconvert_exporter": "python",
   "pygments_lexer": "ipython3",
   "version": "3.5.4"
  }
 },
 "nbformat": 4,
 "nbformat_minor": 2
}
