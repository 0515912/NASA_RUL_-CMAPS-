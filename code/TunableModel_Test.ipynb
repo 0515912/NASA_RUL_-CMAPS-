{
 "cells": [
  {
   "cell_type": "markdown",
   "metadata": {},
   "source": [
    "# Initialization\n",
    "\n",
    "Test notebook for the DataHandlers. Test the CMAPSS DataHandler\n",
    "\n",
    "First we import the necessary packages and create the global variables."
   ]
  },
  {
   "cell_type": "code",
   "execution_count": 1,
   "metadata": {},
   "outputs": [
    {
     "name": "stderr",
     "output_type": "stream",
     "text": [
      "Using TensorFlow backend.\n"
     ]
    }
   ],
   "source": [
    "import numpy as np\n",
    "import math\n",
    "from data_handler_CMAPS import CMAPSDataHandler\n",
    "from tunable_model import SequenceTunableModelRegression\n",
    "from sklearn.preprocessing import StandardScaler, MinMaxScaler\n",
    "\n",
    "import keras\n",
    "from keras.models import Sequential, Model\n",
    "from keras.layers import Dense, Input, Dropout, Reshape, Conv2D, Flatten, MaxPooling2D, LSTM\n",
    "from keras.optimizers import Adam, SGD\n",
    "from keras.callbacks import LearningRateScheduler\n",
    "from keras import backend as K\n",
    "from keras import regularizers\n",
    "\n",
    "import CMAPSAuxFunctions\n",
    "\n",
    "from numpy.random import seed\n",
    "from tensorflow import set_random_seed\n"
   ]
  },
  {
   "cell_type": "markdown",
   "metadata": {},
   "source": [
    "# Define different types of Keras models"
   ]
  },
  {
   "cell_type": "code",
   "execution_count": 2,
   "metadata": {
    "collapsed": true
   },
   "outputs": [],
   "source": [
    "l2_lambda_regularization = 0\n",
    "#l1_lambda_regularization = 0.2\n",
    "\n",
    "def RULmodel_LSTM(input_shape):\n",
    "    \"\"\"Define the RNN model\"\"\"\n",
    "    \n",
    "    #Create a sequential model\n",
    "    model = Sequential()\n",
    "    #model.add(Masking(mask_value=0, imput))\n",
    "    #model.add(LSTM(input_shape=input_shape, units=100, return_sequences=True, name='lstm1')))\n",
    "    model.add(LSTM(input_shape=input_shape, units=20, return_sequences=False, name='lstm2'))\n",
    "    model.add(Dense(10, input_dim=input_shape, activation='relu', kernel_initializer='glorot_normal', \n",
    "                    kernel_regularizer=regularizers.l2(l2_lambda_regularization), name='fc1'))\n",
    "    model.add(Dense(1, activation='linear', name='out'))\n",
    "    \n",
    "    return model\n",
    "    \n",
    "\n",
    "def RULmodel_SN_5(input_shape):\n",
    "    #Create a sequential model\n",
    "    model = Sequential()\n",
    "    \n",
    "    #Add the layers for the model\n",
    "    model.add(Dense(20, input_dim=input_shape, activation='relu', kernel_initializer='glorot_normal', \n",
    "                    kernel_regularizer=regularizers.l2(l2_lambda_regularization), \n",
    "                    name='fc1'))\n",
    "    model.add(Dense(20, input_dim=input_shape, activation='relu', kernel_initializer='glorot_normal', \n",
    "                    kernel_regularizer=regularizers.l2(l2_lambda_regularization), \n",
    "                    name='fc2'))\n",
    "    model.add(Dense(1, activation='linear', kernel_initializer='glorot_normal', \n",
    "                    kernel_regularizer=regularizers.l2(l2_lambda_regularization), name='out'))\n",
    "    \n",
    "    return model\n",
    "\n",
    "def test_model(input_shape):\n",
    "    #Create a sequential model\n",
    "    model = Sequential()\n",
    "    \n",
    "    #Add the layers for the model\n",
    "    model.add(Dense(20, input_dim=input_shape, activation='relu', \n",
    "                    kernel_initializer=keras.initializers.glorot_normal(seed=0), \n",
    "                    kernel_regularizer=regularizers.l2(l2_lambda_regularization), name='fc1'))\n",
    "    model.add(Dense(1, activation='linear', \n",
    "                    kernel_initializer=keras.initializers.glorot_normal(seed=0), \n",
    "                    kernel_regularizer=regularizers.l2(l2_lambda_regularization), name='out'))\n",
    "    \n",
    "    return model"
   ]
  },
  {
   "cell_type": "code",
   "execution_count": 3,
   "metadata": {
    "collapsed": true
   },
   "outputs": [],
   "source": [
    "def print_model_weights(model):\n",
    "\n",
    "    for layer in model.layers:\n",
    "        weights = layer.get_weights() # list of numpy arrays\n",
    "        \n",
    "        for weight in weights:\n",
    "        \n",
    "            print(weight.shape)\n",
    "            print(weight)"
   ]
  },
  {
   "cell_type": "markdown",
   "metadata": {},
   "source": [
    "# Create the Data Handler"
   ]
  },
  {
   "cell_type": "code",
   "execution_count": 4,
   "metadata": {
    "collapsed": true
   },
   "outputs": [],
   "source": [
    "#Selected as per CNN paper\n",
    "features = ['T2', 'T24', 'T30', 'T50', 'P2', 'P15', 'P30', 'Nf', 'Nc', 'epr', 'Ps30', 'phi', 'NRf', 'NRc', \n",
    "                     'BPR', 'farB', 'htBleed', 'Nf_dmd', 'PCNfR_dmd', 'W31', 'W32']\n",
    "selected_indices = np.array([2, 3, 4, 7, 8, 9, 11, 12, 13, 14, 15, 17, 20, 21])\n",
    "selected_features = list(features[i] for i in selected_indices-1)\n",
    "data_folder = '../CMAPSSData'\n",
    "\n",
    "window_size = 30\n",
    "window_stride = 1\n",
    "max_rul = 125\n",
    "\n",
    "dHandler_cmaps = CMAPSDataHandler(data_folder, 1, selected_features, max_rul, window_size, window_stride)\n",
    "#dHandler_cmaps.load_data(verbose=1, cross_validation_ratio=0.2)"
   ]
  },
  {
   "cell_type": "markdown",
   "metadata": {},
   "source": [
    "# Create Tunable Model"
   ]
  },
  {
   "cell_type": "code",
   "execution_count": 5,
   "metadata": {
    "collapsed": true
   },
   "outputs": [],
   "source": [
    "min_max_scaler = MinMaxScaler(feature_range=(-1, 1))\n",
    "#min_max_scaler = None"
   ]
  },
  {
   "cell_type": "code",
   "execution_count": 6,
   "metadata": {
    "collapsed": true
   },
   "outputs": [],
   "source": [
    "def get_compiled_model(shape, model_type='ann'):\n",
    "    \n",
    "    K.clear_session()  #Clear the previous tensorflow graph\n",
    "    \n",
    "    #To test the model without randomness\n",
    "    seed(0)\n",
    "    set_random_seed(0)\n",
    "    \n",
    "    #Shared parameters for the models\n",
    "    optimizer = Adam(lr=0.001)\n",
    "    \n",
    "    #optimizer = SGD(lr=0.001, momentum=0.0, decay=0.0, nesterov=False)\n",
    "    \n",
    "    lossFunction = \"mean_squared_error\"\n",
    "    metrics = [\"mse\"]\n",
    "    model = None\n",
    "\n",
    "    #Create and compile the models\n",
    "\n",
    "    if model_type=='ann':\n",
    "        model = test_model(shape)\n",
    "        model.compile(optimizer = optimizer, loss = lossFunction, metrics = metrics)\n",
    "    elif model_type=='lstm':\n",
    "        model = RULmodel_LSTM(shape)\n",
    "        model.compile(optimizer = optimizer, loss = lossFunction, metrics = metrics)\n",
    "    else:\n",
    "        pass\n",
    "\n",
    "    return model"
   ]
  },
  {
   "cell_type": "code",
   "execution_count": 14,
   "metadata": {},
   "outputs": [],
   "source": [
    "num_features = len(selected_features)\n",
    "\n",
    "shape = len(selected_features)*window_size\n",
    "model = get_compiled_model(shape, model_type='ann')\n",
    "tModel = SequenceTunableModelRegression('ModelRUL_SN_1', model, lib_type='keras', data_handler=dHandler_cmaps)\n",
    "\n",
    "#shape = (window_size, num_features)\n",
    "#model = get_compiled_model(shape, model_type='lstm')\n",
    "#tModel = SequenceTunableModelRegression('ModelRUL_LSTM_1', model, lib_type='keras', data_handler=dHandler_cmaps)\n",
    "#tModel.data_handler.data_scaler = min_max_scaler\n",
    "#tModel.data_scaler = min_max_scaler"
   ]
  },
  {
   "cell_type": "markdown",
   "metadata": {},
   "source": [
    "# Load Data"
   ]
  },
  {
   "cell_type": "code",
   "execution_count": 8,
   "metadata": {
    "collapsed": true
   },
   "outputs": [],
   "source": [
    "tModel.data_handler.sequence_length = 30\n",
    "#tModel.data_handler.sequence_length = maxWindowSize[datasetNumber]\n",
    "tModel.data_handler.sequence_stride = 1\n",
    "tModel.data_handler.max_rul = 128"
   ]
  },
  {
   "cell_type": "code",
   "execution_count": 9,
   "metadata": {},
   "outputs": [
    {
     "name": "stdout",
     "output_type": "stream",
     "text": [
      "Loading data for dataset 1 with window_size of 30, stride of 1 and maxRUL of 128. Cros-Validation ratio 0\n",
      "Loading data from file and computing dataframes\n",
      "Printing shapes\n",
      "\n",
      "Training data (X, y)\n",
      "(17731, 420)\n",
      "(17731,)\n",
      "Testing data (X, y)\n",
      "(100, 420)\n",
      "(100,)\n",
      "Printing first 5 elements\n",
      "\n",
      "Training data (X, y)\n",
      "[[-0.58075601 -0.0455243  -0.27982732 ..., -0.81818182  0.43307087\n",
      "   0.4679733 ]\n",
      " [-0.35395189  0.0629156  -0.18014129 ..., -0.45454545  0.25984252\n",
      "   0.25294702]\n",
      " [-0.21649485 -0.13299233 -0.13854003 ..., -0.45454545  0.38582677\n",
      "   0.72049425]\n",
      " [-0.21649485 -0.39897698 -0.2299843  ..., -0.45454545  0.08661417\n",
      "   0.29640676]\n",
      " [-0.20274914 -0.39590793 -0.05926217 ..., -0.45454545  0.05511811\n",
      "   0.17880983]]\n",
      "[ 128.  128.  128.  128.  128.]\n",
      "Testing data (X, y)\n",
      "[[-0.65635739 -0.10946292 -0.48312402 ..., -0.27272727  0.05511811\n",
      "   0.30947309]\n",
      " [ 0.03780069 -0.07365729 -0.27629513 ..., -0.63636364  0.05511811\n",
      "   0.04416986]\n",
      " [ 0.13402062 -0.08644501  0.038854   ...,  0.09090909  0.24409449\n",
      "   0.07882403]\n",
      " [-0.14776632  0.16828645  0.00431711 ...,  0.09090909 -0.30708661\n",
      "   0.03365999]\n",
      " [-0.05841924  0.24654731  0.04317111 ..., -0.09090909 -0.03937008\n",
      "   0.46996165]]\n",
      "[ 112.   98.   69.   82.   91.]\n"
     ]
    }
   ],
   "source": [
    "#Load Non sequenced data (unroll sequence into a single feature vector)\n",
    "\n",
    "tModel.data_handler.data_scaler = None\n",
    "tModel.data_scaler = min_max_scaler\n",
    "\n",
    "tModel.load_data(unroll=True, verbose=1, cross_validation_ratio=0)\n",
    "#tModel.data_handler.print_data()\n",
    "tModel.print_data()"
   ]
  },
  {
   "cell_type": "code",
   "execution_count": null,
   "metadata": {
    "collapsed": true
   },
   "outputs": [],
   "source": [
    "#Load sequenced data (do not unroll sequence into a single feature vector)\n",
    "\n",
    "tModel.data_handler.data_scaler = min_max_scaler\n",
    "tModel.data_scaler = None\n",
    "\n",
    "tModel.load_data(unroll=False, verbose=1, cross_validation_ratio=0)\n",
    "#tModel.data_handler.print_data()\n",
    "tModel.print_data()"
   ]
  },
  {
   "cell_type": "code",
   "execution_count": null,
   "metadata": {
    "collapsed": true
   },
   "outputs": [],
   "source": [
    "#tModel.data_handler.data_scaler = min_max_scaler\n",
    "#tModel.data_scaler = None"
   ]
  },
  {
   "cell_type": "markdown",
   "metadata": {},
   "source": [
    "# Train the model and test some Tunable Model functionalities"
   ]
  },
  {
   "cell_type": "code",
   "execution_count": 10,
   "metadata": {
    "scrolled": true
   },
   "outputs": [
    {
     "name": "stdout",
     "output_type": "stream",
     "text": [
      "Printing model weights\n",
      "(420, 20)\n",
      "[[ 0.00835461 -0.12109794  0.02095141 ...,  0.03727926  0.10370639\n",
      "   0.00207878]\n",
      " [-0.06049565  0.09017985 -0.01698299 ...,  0.04146439  0.03719759\n",
      "  -0.09819514]\n",
      " [ 0.04680334  0.02662419  0.02083843 ...,  0.04953294  0.06038643\n",
      "   0.09780484]\n",
      " ..., \n",
      " [-0.06602989  0.01178172  0.01025762 ...,  0.06893838 -0.0499379\n",
      "   0.01730988]\n",
      " [ 0.00335656 -0.00574053  0.04053649 ..., -0.07136186 -0.02316877\n",
      "   0.08826228]\n",
      " [-0.00064016  0.10836472 -0.04717498 ...,  0.0050592  -0.02888336\n",
      "   0.03074028]]\n",
      "(20,)\n",
      "[ 0.  0.  0.  0.  0.  0.  0.  0.  0.  0.  0.  0.  0.  0.  0.  0.  0.  0.\n",
      "  0.  0.]\n",
      "(20, 1)\n",
      "[[ 0.03824222]\n",
      " [-0.55431098]\n",
      " [ 0.09590249]\n",
      " [-0.40720478]\n",
      " [ 0.17107496]\n",
      " [-0.29680154]\n",
      " [-0.1824448 ]\n",
      " [-0.41047722]\n",
      " [-0.31966969]\n",
      " [ 0.15358827]\n",
      " [-0.2766681 ]\n",
      " [-0.36381829]\n",
      " [-0.31770143]\n",
      " [ 0.20868248]\n",
      " [ 0.30954045]\n",
      " [-0.37831017]\n",
      " [ 0.57799178]\n",
      " [ 0.17064126]\n",
      " [ 0.47470331]\n",
      " [ 0.00951534]]\n",
      "(1,)\n",
      "[ 0.]\n",
      "Epoch 1/20\n",
      "17731/17731 [==============================] - 0s 26us/step - loss: 7886.7628 - mean_squared_error: 7886.7628\n",
      "Epoch 2/20\n",
      "17731/17731 [==============================] - 0s 8us/step - loss: 6512.3734 - mean_squared_error: 6512.3734\n",
      "Epoch 3/20\n",
      "17731/17731 [==============================] - 0s 9us/step - loss: 4802.5348 - mean_squared_error: 4802.5348\n",
      "Epoch 4/20\n",
      "17731/17731 [==============================] - 0s 8us/step - loss: 3231.3959 - mean_squared_error: 3231.3959\n",
      "Epoch 5/20\n",
      "17731/17731 [==============================] - 0s 8us/step - loss: 2203.9547 - mean_squared_error: 2203.9547\n",
      "Epoch 6/20\n",
      "17731/17731 [==============================] - 0s 10us/step - loss: 1690.3329 - mean_squared_error: 1690.3329\n",
      "Epoch 7/20\n",
      "17731/17731 [==============================] - 0s 9us/step - loss: 1412.5903 - mean_squared_error: 1412.5903\n",
      "Epoch 8/20\n",
      "17731/17731 [==============================] - 0s 10us/step - loss: 1189.7151 - mean_squared_error: 1189.7151\n",
      "Epoch 9/20\n",
      "17731/17731 [==============================] - 0s 8us/step - loss: 970.2509 - mean_squared_error: 970.2509\n",
      "Epoch 10/20\n",
      "17731/17731 [==============================] - 0s 8us/step - loss: 781.8017 - mean_squared_error: 781.8017\n",
      "Epoch 11/20\n",
      "17731/17731 [==============================] - 0s 8us/step - loss: 642.9936 - mean_squared_error: 642.9936\n",
      "Epoch 12/20\n",
      "17731/17731 [==============================] - 0s 9us/step - loss: 549.9478 - mean_squared_error: 549.9478: 0s - loss: 573.0994 - mean_squared_error: 57\n",
      "Epoch 13/20\n",
      "17731/17731 [==============================] - 0s 10us/step - loss: 493.4021 - mean_squared_error: 493.4021\n",
      "Epoch 14/20\n",
      "17731/17731 [==============================] - 0s 11us/step - loss: 458.7397 - mean_squared_error: 458.7397\n",
      "Epoch 15/20\n",
      "17731/17731 [==============================] - 0s 9us/step - loss: 435.5640 - mean_squared_error: 435.5640\n",
      "Epoch 16/20\n",
      "17731/17731 [==============================] - 0s 11us/step - loss: 416.9130 - mean_squared_error: 416.9130\n",
      "Epoch 17/20\n",
      "17731/17731 [==============================] - 0s 10us/step - loss: 398.5694 - mean_squared_error: 398.5694\n",
      "Epoch 18/20\n",
      "17731/17731 [==============================] - 0s 10us/step - loss: 376.9075 - mean_squared_error: 376.9075\n",
      "Epoch 19/20\n",
      "17731/17731 [==============================] - 0s 8us/step - loss: 350.6051 - mean_squared_error: 350.6051\n",
      "Epoch 20/20\n",
      "17731/17731 [==============================] - 0s 7us/step - loss: 327.8043 - mean_squared_error: 327.8043\n"
     ]
    }
   ],
   "source": [
    "nFeatures = len(selected_features)\n",
    "\n",
    "#lrate = LearningRateScheduler(CMAPSAuxFunctions.step_decay)\n",
    "\n",
    "shape = len(selected_features*window_size)\n",
    "\n",
    "#modelRULSN = RULmodel_SN_5(shape)\n",
    "#modelRULSN.compile(optimizer = optimizer, loss = lossFunction, metrics = metrics)\n",
    "\n",
    "model = get_compiled_model(shape, model_type='ann')\n",
    "tModel.change_model('ModelRUL_SN_1', model, 'keras')\n",
    "#tModel.change_model('ModelRUL_SN_1', modelRULSN, 'keras')\n",
    "\n",
    "#tModel.print_data()\n",
    "\n",
    "#shape = (window_size, num_features)\n",
    "#model = get_compiled_model(shape, model_type='lstm')\n",
    "#tModel.change_model('ModelRUL_RNN_1', model, 'keras')\n",
    "\n",
    "#tModel.data_handler.data_scaler = min_max_scaler\n",
    "#tModel.data_scaler = min_max_scaler\n",
    "\n",
    "print(\"Printing model weights\")\n",
    "print_model_weights(tModel.model)\n",
    "\n",
    "tModel.epochs = 20\n",
    "tModel.train_model(verbose=1)"
   ]
  },
  {
   "cell_type": "code",
   "execution_count": 21,
   "metadata": {},
   "outputs": [
    {
     "name": "stdout",
     "output_type": "stream",
     "text": [
      "100/100 [==============================] - 0s 701us/step\n",
      "scores\n",
      "Engine 1, Predicted RUL [ 110.47058868], Rounded RUL 110.0, Real RUL 112.0\n",
      "Engine 2, Predicted RUL [ 129.27981567], Rounded RUL 129.0, Real RUL 98.0\n",
      "Engine 3, Predicted RUL [ 48.54970551], Rounded RUL 48.0, Real RUL 69.0\n",
      "Engine 4, Predicted RUL [ 82.32772064], Rounded RUL 82.0, Real RUL 82.0\n",
      "Engine 5, Predicted RUL [ 105.29595184], Rounded RUL 105.0, Real RUL 91.0\n",
      "Engine 6, Predicted RUL [ 111.28095245], Rounded RUL 111.0, Real RUL 93.0\n",
      "Engine 7, Predicted RUL [ 101.98551178], Rounded RUL 101.0, Real RUL 91.0\n",
      "Engine 8, Predicted RUL [ 95.60164642], Rounded RUL 95.0, Real RUL 95.0\n",
      "Engine 9, Predicted RUL [ 121.45348358], Rounded RUL 121.0, Real RUL 111.0\n",
      "Engine 10, Predicted RUL [ 91.95681763], Rounded RUL 91.0, Real RUL 96.0\n",
      "Engine 11, Predicted RUL [ 78.26259613], Rounded RUL 78.0, Real RUL 97.0\n",
      "Engine 12, Predicted RUL [ 98.55871582], Rounded RUL 98.0, Real RUL 124.0\n",
      "Engine 13, Predicted RUL [ 74.36135101], Rounded RUL 74.0, Real RUL 95.0\n",
      "Engine 14, Predicted RUL [ 111.13874054], Rounded RUL 111.0, Real RUL 107.0\n",
      "Engine 15, Predicted RUL [ 99.71014404], Rounded RUL 99.0, Real RUL 83.0\n",
      "Engine 16, Predicted RUL [ 97.45864105], Rounded RUL 97.0, Real RUL 84.0\n",
      "Engine 17, Predicted RUL [ 47.38633728], Rounded RUL 47.0, Real RUL 50.0\n",
      "Engine 18, Predicted RUL [ 24.52833748], Rounded RUL 24.0, Real RUL 28.0\n",
      "Engine 19, Predicted RUL [ 99.17113495], Rounded RUL 99.0, Real RUL 87.0\n",
      "Engine 20, Predicted RUL [ 12.84792805], Rounded RUL 12.0, Real RUL 16.0\n",
      "Engine 21, Predicted RUL [ 84.39801788], Rounded RUL 84.0, Real RUL 57.0\n",
      "Engine 22, Predicted RUL [ 124.25067902], Rounded RUL 124.0, Real RUL 111.0\n",
      "Engine 23, Predicted RUL [ 121.37586975], Rounded RUL 121.0, Real RUL 113.0\n",
      "Engine 24, Predicted RUL [ 15.69357681], Rounded RUL 15.0, Real RUL 20.0\n",
      "Engine 25, Predicted RUL [ 108.57462311], Rounded RUL 108.0, Real RUL 145.0\n",
      "Engine 26, Predicted RUL [ 110.65135193], Rounded RUL 110.0, Real RUL 119.0\n",
      "Engine 27, Predicted RUL [ 97.01517487], Rounded RUL 97.0, Real RUL 66.0\n",
      "Engine 28, Predicted RUL [ 104.84177399], Rounded RUL 104.0, Real RUL 97.0\n",
      "Engine 29, Predicted RUL [ 100.65311432], Rounded RUL 100.0, Real RUL 90.0\n",
      "Engine 30, Predicted RUL [ 107.64720917], Rounded RUL 107.0, Real RUL 115.0\n",
      "Engine 31, Predicted RUL [ 8.99510765], Rounded RUL 8.0, Real RUL 8.0\n",
      "Engine 32, Predicted RUL [ 45.51286697], Rounded RUL 45.0, Real RUL 48.0\n",
      "Engine 33, Predicted RUL [ 113.7767868], Rounded RUL 113.0, Real RUL 106.0\n",
      "Engine 34, Predicted RUL [ 3.23844981], Rounded RUL 3.0, Real RUL 7.0\n",
      "Engine 35, Predicted RUL [ 6.2287426], Rounded RUL 6.0, Real RUL 11.0\n",
      "Engine 36, Predicted RUL [ 21.51286125], Rounded RUL 21.0, Real RUL 19.0\n",
      "Engine 37, Predicted RUL [ 23.4150486], Rounded RUL 23.0, Real RUL 21.0\n",
      "Engine 38, Predicted RUL [ 52.77403259], Rounded RUL 52.0, Real RUL 50.0\n",
      "Engine 39, Predicted RUL [ 122.85276031], Rounded RUL 122.0, Real RUL 142.0\n",
      "Engine 40, Predicted RUL [ 29.72433662], Rounded RUL 29.0, Real RUL 28.0\n",
      "Engine 41, Predicted RUL [ 24.80594444], Rounded RUL 24.0, Real RUL 18.0\n",
      "Engine 42, Predicted RUL [ 8.17407417], Rounded RUL 8.0, Real RUL 10.0\n",
      "Engine 43, Predicted RUL [ 66.90494537], Rounded RUL 66.0, Real RUL 59.0\n",
      "Engine 44, Predicted RUL [ 102.41559601], Rounded RUL 102.0, Real RUL 109.0\n",
      "Engine 45, Predicted RUL [ 81.29967499], Rounded RUL 81.0, Real RUL 114.0\n",
      "Engine 46, Predicted RUL [ 45.1381073], Rounded RUL 45.0, Real RUL 47.0\n",
      "Engine 47, Predicted RUL [ 117.712677], Rounded RUL 117.0, Real RUL 135.0\n",
      "Engine 48, Predicted RUL [ 99.46852112], Rounded RUL 99.0, Real RUL 92.0\n",
      "Engine 49, Predicted RUL [ 13.08961868], Rounded RUL 13.0, Real RUL 21.0\n",
      "Engine 50, Predicted RUL [ 88.10613251], Rounded RUL 88.0, Real RUL 79.0\n",
      "Engine 51, Predicted RUL [ 105.86657715], Rounded RUL 105.0, Real RUL 114.0\n",
      "Engine 52, Predicted RUL [ 22.40475655], Rounded RUL 22.0, Real RUL 29.0\n",
      "Engine 53, Predicted RUL [ 25.41853905], Rounded RUL 25.0, Real RUL 26.0\n",
      "Engine 54, Predicted RUL [ 110.38157654], Rounded RUL 110.0, Real RUL 97.0\n",
      "Engine 55, Predicted RUL [ 114.42842865], Rounded RUL 114.0, Real RUL 137.0\n",
      "Engine 56, Predicted RUL [ 17.29494667], Rounded RUL 17.0, Real RUL 15.0\n",
      "Engine 57, Predicted RUL [ 110.66757965], Rounded RUL 110.0, Real RUL 103.0\n",
      "Engine 58, Predicted RUL [ 43.3355484], Rounded RUL 43.0, Real RUL 37.0\n",
      "Engine 59, Predicted RUL [ 101.64725494], Rounded RUL 101.0, Real RUL 114.0\n",
      "Engine 60, Predicted RUL [ 111.98194122], Rounded RUL 111.0, Real RUL 100.0\n",
      "Engine 61, Predicted RUL [ 16.23878288], Rounded RUL 16.0, Real RUL 21.0\n",
      "Engine 62, Predicted RUL [ 38.06755066], Rounded RUL 38.0, Real RUL 54.0\n",
      "Engine 63, Predicted RUL [ 84.38581848], Rounded RUL 84.0, Real RUL 72.0\n",
      "Engine 64, Predicted RUL [ 21.12090111], Rounded RUL 21.0, Real RUL 28.0\n",
      "Engine 65, Predicted RUL [ 118.52015686], Rounded RUL 118.0, Real RUL 128.0\n",
      "Engine 66, Predicted RUL [ 19.22408104], Rounded RUL 19.0, Real RUL 14.0\n",
      "Engine 67, Predicted RUL [ 122.22618866], Rounded RUL 122.0, Real RUL 77.0\n",
      "Engine 68, Predicted RUL [ 5.43536663], Rounded RUL 5.0, Real RUL 8.0\n",
      "Engine 69, Predicted RUL [ 114.51823425], Rounded RUL 114.0, Real RUL 121.0\n",
      "Engine 70, Predicted RUL [ 92.61667633], Rounded RUL 92.0, Real RUL 94.0\n",
      "Engine 71, Predicted RUL [ 107.16234589], Rounded RUL 107.0, Real RUL 118.0\n",
      "Engine 72, Predicted RUL [ 61.53256989], Rounded RUL 61.0, Real RUL 50.0\n",
      "Engine 73, Predicted RUL [ 104.19109344], Rounded RUL 104.0, Real RUL 131.0\n",
      "Engine 74, Predicted RUL [ 106.32012177], Rounded RUL 106.0, Real RUL 126.0\n",
      "Engine 75, Predicted RUL [ 102.03707123], Rounded RUL 102.0, Real RUL 113.0\n",
      "Engine 76, Predicted RUL [ 8.18557358], Rounded RUL 8.0, Real RUL 10.0\n",
      "Engine 77, Predicted RUL [ 28.36712074], Rounded RUL 28.0, Real RUL 34.0\n",
      "Engine 78, Predicted RUL [ 132.96946716], Rounded RUL 132.0, Real RUL 107.0\n",
      "Engine 79, Predicted RUL [ 95.92298126], Rounded RUL 95.0, Real RUL 63.0\n",
      "Engine 80, Predicted RUL [ 97.52803802], Rounded RUL 97.0, Real RUL 90.0\n",
      "Engine 81, Predicted RUL [ 4.13845062], Rounded RUL 4.0, Real RUL 8.0\n",
      "Engine 82, Predicted RUL [ 7.75793076], Rounded RUL 7.0, Real RUL 9.0\n",
      "Engine 83, Predicted RUL [ 129.43319702], Rounded RUL 129.0, Real RUL 137.0\n",
      "Engine 84, Predicted RUL [ 75.96363068], Rounded RUL 75.0, Real RUL 58.0\n",
      "Engine 85, Predicted RUL [ 135.79246521], Rounded RUL 135.0, Real RUL 118.0\n",
      "Engine 86, Predicted RUL [ 107.04006958], Rounded RUL 107.0, Real RUL 89.0\n",
      "Engine 87, Predicted RUL [ 112.05373383], Rounded RUL 112.0, Real RUL 116.0\n",
      "Engine 88, Predicted RUL [ 115.8514328], Rounded RUL 115.0, Real RUL 115.0\n",
      "Engine 89, Predicted RUL [ 114.0094986], Rounded RUL 114.0, Real RUL 136.0\n",
      "Engine 90, Predicted RUL [ 29.68000221], Rounded RUL 29.0, Real RUL 28.0\n",
      "Engine 91, Predicted RUL [ 24.87218666], Rounded RUL 24.0, Real RUL 38.0\n",
      "Engine 92, Predicted RUL [ 23.49034309], Rounded RUL 23.0, Real RUL 20.0\n",
      "Engine 93, Predicted RUL [ 48.98192596], Rounded RUL 48.0, Real RUL 85.0\n",
      "Engine 94, Predicted RUL [ 66.16989899], Rounded RUL 66.0, Real RUL 55.0\n",
      "Engine 95, Predicted RUL [ 105.81729889], Rounded RUL 105.0, Real RUL 128.0\n",
      "Engine 96, Predicted RUL [ 100.86881256], Rounded RUL 100.0, Real RUL 137.0\n",
      "Engine 97, Predicted RUL [ 85.32053375], Rounded RUL 85.0, Real RUL 82.0\n",
      "Engine 98, Predicted RUL [ 74.42660522], Rounded RUL 74.0, Real RUL 59.0\n",
      "Engine 99, Predicted RUL [ 111.23921204], Rounded RUL 111.0, Real RUL 117.0\n",
      "Engine 100, Predicted RUL [ 16.64760208], Rounded RUL 16.0, Real RUL 20.0\n",
      "{'loss': 253.71870727539061, 'score_1': 225.42464294433594, 'rhs': 3.8061277828003797, 'rmse': 15.038949431393139}\n",
      "RMSE: 15.014148092527126\n",
      "RMSE2: 15.038949431393139\n",
      "RHS: 3.8061277828003797\n",
      "Time : 30.08099899999999 seconds\n"
     ]
    }
   ],
   "source": [
    "tModel.evaluate_model(['rhs', 'rmse'], round=2)\n",
    "print(\"scores\")\n",
    "\n",
    "cScores = tModel.scores\n",
    "rmse = math.sqrt(cScores['score_1'])\n",
    "rmse2 = cScores['rmse']\n",
    "rhs = cScores['rhs']\n",
    "time = tModel.train_time\n",
    "\n",
    "i = range(1,len(tModel.y_test)+1)\n",
    "\n",
    "\n",
    "for i, rul_prediction, rul_prediction_rounded, true_rul in zip(i, tModel.y_predicted, tModel.y_predicted_rounded, tModel.y_test):\n",
    "    print('Engine {}, Predicted RUL {}, Rounded RUL {}, Real RUL {}'.format(i, rul_prediction, \n",
    "                                                                    rul_prediction_rounded, \n",
    "                                                                    true_rul))\n",
    "\n",
    "print(cScores)\n",
    "print(\"RMSE: {}\".format(rmse))\n",
    "print(\"RMSE2: {}\".format(rmse2))\n",
    "print(\"RHS: {}\".format(rhs))\n",
    "print(\"Time : {} seconds\".format(time))"
   ]
  },
  {
   "cell_type": "code",
   "execution_count": 13,
   "metadata": {
    "collapsed": true
   },
   "outputs": [],
   "source": []
  },
  {
   "cell_type": "code",
   "execution_count": null,
   "metadata": {
    "collapsed": true
   },
   "outputs": [],
   "source": []
  }
 ],
 "metadata": {
  "kernelspec": {
   "display_name": "Python 3",
   "language": "python",
   "name": "python3"
  },
  "language_info": {
   "codemirror_mode": {
    "name": "ipython",
    "version": 3
   },
   "file_extension": ".py",
   "mimetype": "text/x-python",
   "name": "python",
   "nbconvert_exporter": "python",
   "pygments_lexer": "ipython3",
   "version": "3.6.1"
  }
 },
 "nbformat": 4,
 "nbformat_minor": 2
}
