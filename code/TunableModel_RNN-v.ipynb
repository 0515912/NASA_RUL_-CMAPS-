{
 "cells": [
  {
   "cell_type": "markdown",
   "metadata": {},
   "source": [
    "# Initialization\n",
    "\n",
    "Test notebook for the DataHandlers. Test the CMAPSS DataHandler\n",
    "\n",
    "First we import the necessary packages and create the global variables."
   ]
  },
  {
   "cell_type": "code",
   "execution_count": 1,
   "metadata": {},
   "outputs": [
    {
     "name": "stderr",
     "output_type": "stream",
     "text": [
      "C:\\Users\\controlslab\\Anaconda3\\envs\\gpu_tensorflow\\lib\\site-packages\\h5py\\__init__.py:36: FutureWarning: Conversion of the second argument of issubdtype from `float` to `np.floating` is deprecated. In future, it will be treated as `np.float64 == np.dtype(float).type`.\n",
      "  from ._conv import register_converters as _register_converters\n",
      "Using TensorFlow backend.\n"
     ]
    }
   ],
   "source": [
    "import numpy as np\n",
    "import math\n",
    "import tensorflow as tf\n",
    "\n",
    "from data_handler_CMAPS import CMAPSDataHandler\n",
    "from tunable_model import SequenceTunableModelRegression\n",
    "from sklearn.preprocessing import StandardScaler, MinMaxScaler\n",
    "\n",
    "import keras\n",
    "from keras.models import Sequential, Model\n",
    "from keras.layers import Dense, Input, Dropout, Reshape, Conv2D, Flatten, MaxPooling2D, LSTM,CuDNNLSTM\n",
    "from keras.optimizers import Adam, SGD\n",
    "from keras.callbacks import LearningRateScheduler\n",
    "from keras import backend as K\n",
    "from keras import regularizers\n",
    "\n",
    "import CMAPSAuxFunctions\n",
    "\n",
    "from numpy.random import seed\n",
    "from tensorflow import set_random_seed\n"
   ]
  },
  {
   "cell_type": "markdown",
   "metadata": {},
   "source": [
    "# Define different types of Keras models"
   ]
  },
  {
   "cell_type": "code",
   "execution_count": 2,
   "metadata": {},
   "outputs": [],
   "source": [
    "l2_lambda_regularization = 0.2\n",
    "#l1_lambda_regularization = 0.2\n",
    "\n",
    "def RULmodel_LSTM(input_shape):\n",
    "    \"\"\"Define the RNN model\"\"\"\n",
    "    \n",
    "    #Create a sequential model\n",
    "    model = Sequential()\n",
    "    #model.add(Masking(mask_value=0, imput))\n",
    "    #model.add(LSTM(input_shape=input_shape, units=100, return_sequences=True, name='lstm1')))\n",
    "    model.add(CuDNNLSTM(input_shape=input_shape, units=20, return_sequences=False, name='lstm1'))\n",
    "#     model.add(Dropout(0.1))\n",
    "#     model.add(CuDNNLSTM(input_shape=input_shape, units=32, return_sequences=False, name='lstm2'))\n",
    "#     model.add(Dropout(0.1))\n",
    "    model.add(Dense(10, input_dim=input_shape, activation='relu', kernel_initializer='glorot_normal',  \n",
    "                    name='fc1'))\n",
    "    model.add(Dense(1, activation='linear', kernel_initializer='glorot_normal', \n",
    "                    kernel_regularizer=regularizers.l2(l2_lambda_regularization), name='out'))\n",
    "\n",
    "   \n",
    "    \n",
    "    return model"
   ]
  },
  {
   "cell_type": "markdown",
   "metadata": {},
   "source": [
    "# Create the Data Handler"
   ]
  },
  {
   "cell_type": "code",
   "execution_count": 3,
   "metadata": {},
   "outputs": [],
   "source": [
    "#Selected as per CNN paper\n",
    "features = ['T2', 'T24', 'T30', 'T50', 'P2', 'P15', 'P30', 'Nf', 'Nc', 'epr', 'Ps30', 'phi', 'NRf', 'NRc', \n",
    "                     'BPR', 'farB', 'htBleed', 'Nf_dmd', 'PCNfR_dmd', 'W31', 'W32']\n",
    "selected_indices = np.array([2, 3, 4, 7, 8, 9, 11, 12, 13, 14, 15, 17, 20, 21])\n",
    "selected_features = list(features[i] for i in selected_indices-1)\n",
    "data_folder = '../CMAPSSData'\n",
    "\n",
    "window_size = 30\n",
    "window_stride = 1\n",
    "max_rul = 125\n",
    "\n",
    "dHandler_cmaps = CMAPSDataHandler(data_folder, 1, selected_features, max_rul, window_size, window_stride)\n",
    "#dHandler_cmaps.load_data(verbose=1, cross_validation_ratio=0.2)"
   ]
  },
  {
   "cell_type": "markdown",
   "metadata": {},
   "source": [
    "# Create Tunable Model"
   ]
  },
  {
   "cell_type": "code",
   "execution_count": 4,
   "metadata": {},
   "outputs": [],
   "source": [
    "#min_max_scaler = MinMaxScaler(feature_range=(-1, 1))\n",
    "scaler  = StandardScaler()"
   ]
  },
  {
   "cell_type": "code",
   "execution_count": 5,
   "metadata": {},
   "outputs": [],
   "source": [
    "def get_compiled_model(shape, model_type='ann'):\n",
    "    \n",
    "    K.clear_session()  #Clear the previous tensorflow graph\n",
    "    \n",
    "    #To test the model without randomness\n",
    "\n",
    "    \n",
    "    #Shared parameters for the models\n",
    "    optimizer = Adam(lr=0.001,beta_1=0.5)\n",
    "    \n",
    "    lossFunction = \"mean_squared_error\"\n",
    "    metrics = [\"mse\"]\n",
    "    model = None\n",
    "\n",
    "    #Create and compile the models\n",
    "\n",
    "    model = RULmodel_LSTM(shape)\n",
    "    model.compile(optimizer = optimizer, loss = lossFunction, metrics = metrics)\n",
    "\n",
    "    return model"
   ]
  },
  {
   "cell_type": "code",
   "execution_count": 6,
   "metadata": {},
   "outputs": [],
   "source": [
    "num_features = len(selected_features)\n",
    "\n",
    "shape = (window_size, num_features)\n",
    "model = get_compiled_model(shape, model_type='lstm')\n",
    "tModel = SequenceTunableModelRegression('ModelRUL_LSTM_1', model, lib_type='keras', data_handler=dHandler_cmaps)"
   ]
  },
  {
   "cell_type": "markdown",
   "metadata": {},
   "source": [
    "# Load Data"
   ]
  },
  {
   "cell_type": "code",
   "execution_count": 7,
   "metadata": {},
   "outputs": [],
   "source": [
    "tModel.data_handler.sequence_length = 30\n",
    "#tModel.data_handler.sequence_length = maxWindowSize[datasetNumber]\n",
    "tModel.data_handler.sequence_stride = 1\n",
    "tModel.data_handler.max_rul = 125"
   ]
  },
  {
   "cell_type": "code",
   "execution_count": 8,
   "metadata": {},
   "outputs": [
    {
     "name": "stdout",
     "output_type": "stream",
     "text": [
      "Loading data for dataset 1 with window_size of 30, stride of 1 and maxRUL of 125. Cros-Validation ratio 0\n",
      "Loading data from file and computing dataframes\n",
      "Printing shapes\n",
      "\n",
      "Training data (X, y)\n",
      "(17731, 30, 14)\n",
      "(17731, 1)\n",
      "Testing data (X, y)\n",
      "(100, 30, 14)\n",
      "(100, 1)\n",
      "Printing first 5 elements\n",
      "\n",
      "Training data (X, y)\n",
      "[[[-1.72172539 -0.13425518 -0.92593596 ... -0.78170979  1.34849274\n",
      "    1.19442705]\n",
      "  [-1.06177971  0.21152849 -0.64372587 ... -0.78170979  1.01652793\n",
      "    1.23692196]\n",
      "  [-0.66181262 -0.41316559 -0.52595315 ... -2.07309423  0.73989059\n",
      "    0.50342281]\n",
      "  ...\n",
      "  [-0.66181262 -1.25315894 -1.08926228 ... -2.07309423  1.0718554\n",
      "   -0.05178246]\n",
      "  [-1.54174021 -0.92857898 -0.88260449 ... -0.13601757  0.62923565\n",
      "    0.64661219]\n",
      "  [-0.96178794  0.48880785 -1.42813661 ... -2.07309423  1.29316527\n",
      "    1.12052285]]\n",
      "\n",
      " [[-1.06177971  0.21152849 -0.64372587 ... -0.78170979  1.01652793\n",
      "    1.23692196]\n",
      "  [-0.66181262 -0.41316559 -0.52595315 ... -2.07309423  0.73989059\n",
      "    0.50342281]\n",
      "  [-0.66181262 -1.26131421 -0.78483092 ... -0.78170979  0.3525983\n",
      "    0.77779214]\n",
      "  ...\n",
      "  [-1.54174021 -0.92857898 -0.88260449 ... -0.13601757  0.62923565\n",
      "    0.64661219]\n",
      "  [-0.96178794  0.48880785 -1.42813661 ... -2.07309423  1.29316527\n",
      "    1.12052285]\n",
      "  [-1.32175831 -1.03459756 -1.33702941 ... -0.78170979  0.68456312\n",
      "    0.42120439]]\n",
      "\n",
      " [[-0.66181262 -0.41316559 -0.52595315 ... -2.07309423  0.73989059\n",
      "    0.50342281]\n",
      "  [-0.66181262 -1.26131421 -0.78483092 ... -0.78170979  0.3525983\n",
      "    0.77779214]\n",
      "  [-0.62181592 -1.25152788 -0.30151835 ... -0.13601757  0.46325324\n",
      "    1.05955189]\n",
      "  ...\n",
      "  [-0.96178794  0.48880785 -1.42813661 ... -2.07309423  1.29316527\n",
      "    1.12052285]\n",
      "  [-1.32175831 -1.03459756 -1.33702941 ... -0.78170979  0.68456312\n",
      "    0.42120439]\n",
      "  [-0.70180933  0.13976207 -0.95260149 ... -0.78170979  1.12718287\n",
      "    1.94178323]]\n",
      "\n",
      " [[-0.66181262 -1.26131421 -0.78483092 ... -0.78170979  0.3525983\n",
      "    0.77779214]\n",
      "  [-0.62181592 -1.25152788 -0.30151835 ... -0.13601757  0.46325324\n",
      "    1.05955189]\n",
      "  [-1.16177148 -0.98729697 -1.1737031  ... -1.42740201  0.90587299\n",
      "    0.71312597]\n",
      "  ...\n",
      "  [-1.32175831 -1.03459756 -1.33702941 ... -0.78170979  0.68456312\n",
      "    0.42120439]\n",
      "  [-0.70180933  0.13976207 -0.95260149 ... -0.78170979  1.12718287\n",
      "    1.94178323]\n",
      "  [ 0.05812812 -0.34629233 -0.72261137 ... -0.78170979  0.07596096\n",
      "    0.56254617]]\n",
      "\n",
      " [[-0.62181592 -1.25152788 -0.30151835 ... -0.13601757  0.46325324\n",
      "    1.05955189]\n",
      "  [-1.16177148 -0.98729697 -1.1737031  ... -1.42740201  0.90587299\n",
      "    0.71312597]\n",
      "  [-0.40183402  0.29308125 -1.2403669  ... -0.78170979  1.56980262\n",
      "    0.81012523]\n",
      "  ...\n",
      "  [-0.70180933  0.13976207 -0.95260149 ... -0.78170979  1.12718287\n",
      "    1.94178323]\n",
      "  [ 0.05812812 -0.34629233 -0.72261137 ... -0.78170979  0.07596096\n",
      "    0.56254617]\n",
      "  [-0.2818439  -1.47661348 -0.93926872 ... -0.78170979 -0.03469398\n",
      "    0.18009195]]]\n",
      "[[125.]\n",
      " [125.]\n",
      " [125.]\n",
      " [125.]\n",
      " [125.]]\n",
      "Testing data (X, y)\n",
      "[[[-1.94170729e+00 -3.38137057e-01 -1.50146679e+00 ... -1.36017565e-01\n",
      "    1.12718287e+00  9.41305176e-01]\n",
      "  [-4.41830730e-01 -5.84426369e-01 -8.43717274e-01 ... -1.36017565e-01\n",
      "    1.45914768e+00  1.17225579e+00]\n",
      "  [-4.81827438e-01 -1.04438389e+00 -2.79297078e-01 ... -1.42740201e+00\n",
      "    1.01652793e+00  7.75944537e-01]\n",
      "  ...\n",
      "  [-1.46174679e+00 -5.50174213e-01 -1.20259075e+00 ... -7.81709786e-01\n",
      "    1.12718287e+00  6.68783452e-01]\n",
      "  [ 2.18114956e-01 -7.83415084e-01 -8.84826619e-01 ... -1.42740201e+00\n",
      "    1.51447515e+00  1.08264695e+00]\n",
      "  [-2.01850481e-01 -1.51738986e+00 -1.11370568e+00 ... -1.36017565e-01\n",
      "   -3.46939782e-02  6.05041083e-01]]\n",
      "\n",
      " [[ 7.81264768e-02 -2.23963203e-01 -9.15936394e-01 ... -1.36017565e-01\n",
      "   -2.56003854e-01 -3.71418110e-01]\n",
      "  [-7.21807687e-01  3.21124388e-02 -7.25944556e-01 ...  5.09674655e-01\n",
      "    4.07925773e-01  8.67400980e-01]\n",
      "  [-4.81827438e-01 -8.22560405e-01  4.17339661e-01 ... -1.36017565e-01\n",
      "    3.52598304e-01 -3.89894159e-01]\n",
      "  ...\n",
      "  [ 3.38105080e-01 -4.80038846e-01 -6.33726296e-01 ... -7.81709786e-01\n",
      "    3.52598304e-01  6.27690430e-02]\n",
      "  [-8.18603559e-02 -4.58835130e-01  3.36232034e-01 ... -7.81709786e-01\n",
      "    9.61200462e-01  1.93503277e-02]\n",
      "  [-2.61845543e-01 -6.41513295e-01  2.10681873e-01 ... -1.42740201e+00\n",
      "   -3.46939782e-02 -2.57790408e-01]]\n",
      "\n",
      " [[ 3.58103434e-01 -2.64739580e-01 -2.37525004e-02 ... -7.81709786e-01\n",
      "    2.06334906e-02 -4.06522603e-01]\n",
      "  [-4.41830730e-01  9.42241155e-01  8.95759642e-02 ...  5.09674655e-01\n",
      "    9.61200462e-01 -3.64027690e-01]\n",
      "  [ 5.81281227e-02  7.22048723e-01  1.11797232e-01 ... -1.36017565e-01\n",
      "    6.84563117e-01 -6.19920970e-01]\n",
      "  ...\n",
      "  [ 7.58070516e-01 -5.40182726e-03  4.27339232e-01 ...  1.15536688e+00\n",
      "   -7.53951074e-01 -5.02598058e-01]\n",
      "  [ 1.11804089e+00 -3.07147011e-01  4.07340091e-01 ...  5.09674655e-01\n",
      "   -1.41788070e+00 -5.79273662e-01]\n",
      "  [ 3.98100142e-01 -1.26099901e-01  1.10619896e+00 ...  1.15536688e+00\n",
      "    6.29235648e-01 -1.45086509e-01]]\n",
      "\n",
      " [[-4.61829084e-01  5.47525833e-01 -1.21526078e-01 ... -2.07309423e+00\n",
      "    1.31288428e-01  3.96261729e-01]\n",
      "  [ 1.01804912e+00 -1.22216889e+00 -4.71511042e-01 ... -1.36017565e-01\n",
      "    5.73908179e-01  3.87947506e-01]\n",
      "  [ 3.98100142e-01  2.99605466e-01 -2.47076240e-01 ...  5.09674655e-01\n",
      "    2.06334906e-02  6.95573723e-01]\n",
      "  ...\n",
      "  [ 3.38105080e-01 -2.61477469e-01 -3.08184726e-01 ... -7.81709786e-01\n",
      "    2.97270835e-01 -3.44627839e-01]\n",
      "  [-1.86693956e-03  4.05624044e-01 -8.04167328e-02 ...  1.15536688e+00\n",
      "   -8.09278542e-01 -1.58943546e-01]\n",
      "  [ 1.98116601e-01  6.53544411e-01 -2.28188162e-01 ...  1.15536688e+00\n",
      "   -1.30722576e+00 -2.91971099e-01]]\n",
      "\n",
      " [[-2.01850481e-01  7.97077255e-01 -1.15308033e-02 ...  5.09674655e-01\n",
      "   -4.21986260e-01  9.18850073e-03]\n",
      "  [-5.41822500e-01 -1.02644229e+00 -7.49276887e-01 ... -1.36017565e-01\n",
      "   -4.21986260e-01  7.84736847e-02]\n",
      "  [ 8.58062287e-01 -5.09397837e-01 -8.08163246e-01 ...  5.09674655e-01\n",
      "   -6.43296136e-01 -6.56873068e-01]\n",
      "  ...\n",
      "  [ 5.81281227e-02  3.12653907e-01  2.18010981e-02 ... -1.36017565e-01\n",
      "    1.86615897e-01 -5.86664081e-01]\n",
      "  [ 7.81264768e-02  4.17041430e-01  6.95105506e-01 ...  5.09674655e-01\n",
      "   -7.53951074e-01  1.09882968e-01]\n",
      "  [-8.21799458e-01 -9.51098548e-02  1.15841894e+00 ...  5.09674655e-01\n",
      "   -3.66658791e-01  1.12698947e+00]]]\n",
      "[[112.]\n",
      " [ 98.]\n",
      " [ 69.]\n",
      " [ 82.]\n",
      " [ 91.]]\n"
     ]
    }
   ],
   "source": [
    "# #Load sequenced data (do not unroll sequence into a single feature vector)\n",
    "\n",
    "tModel.data_handler.data_scaler = scaler\n",
    "tModel.data_scaler = None\n",
    "\n",
    "tModel.load_data(unroll=False, verbose=1, cross_validation_ratio=0)\n",
    "tModel.print_data()"
   ]
  },
  {
   "cell_type": "markdown",
   "metadata": {},
   "source": [
    "# Train the model and test some Tunable Model functionalities"
   ]
  },
  {
   "cell_type": "code",
   "execution_count": 9,
   "metadata": {
    "scrolled": true
   },
   "outputs": [
    {
     "name": "stdout",
     "output_type": "stream",
     "text": [
      "Epoch 1/100\n"
     ]
    },
    {
     "ename": "UnknownError",
     "evalue": "Fail to find the dnn implementation.\n\t [[Node: lstm1/CudnnRNN = CudnnRNN[T=DT_FLOAT, _class=[\"loc:@training/Adam/gradients/lstm1/CudnnRNN_grad/CudnnRNNBackprop\"], direction=\"unidirectional\", dropout=0, input_mode=\"linear_input\", is_training=true, rnn_mode=\"lstm\", seed=87654321, seed2=0, _device=\"/job:localhost/replica:0/task:0/device:GPU:0\"](lstm1/transpose, lstm1/ExpandDims_1, lstm1/ExpandDims_1, lstm1/concat_1)]]\n\t [[Node: metrics/mean_squared_error/Mean_1/_93 = _Recv[client_terminated=false, recv_device=\"/job:localhost/replica:0/task:0/device:CPU:0\", send_device=\"/job:localhost/replica:0/task:0/device:GPU:0\", send_device_incarnation=1, tensor_name=\"edge_841_metrics/mean_squared_error/Mean_1\", tensor_type=DT_FLOAT, _device=\"/job:localhost/replica:0/task:0/device:CPU:0\"]()]]",
     "output_type": "error",
     "traceback": [
      "\u001b[1;31m---------------------------------------------------------------------------\u001b[0m",
      "\u001b[1;31mUnknownError\u001b[0m                              Traceback (most recent call last)",
      "\u001b[1;32m<ipython-input-9-e08b8943111b>\u001b[0m in \u001b[0;36m<module>\u001b[1;34m()\u001b[0m\n\u001b[0;32m      9\u001b[0m \u001b[0mtModel\u001b[0m\u001b[1;33m.\u001b[0m\u001b[0mepochs\u001b[0m \u001b[1;33m=\u001b[0m \u001b[1;36m100\u001b[0m\u001b[1;33m\u001b[0m\u001b[0m\n\u001b[0;32m     10\u001b[0m \u001b[1;33m\u001b[0m\u001b[0m\n\u001b[1;32m---> 11\u001b[1;33m \u001b[0mtModel\u001b[0m\u001b[1;33m.\u001b[0m\u001b[0mtrain_model\u001b[0m\u001b[1;33m(\u001b[0m\u001b[0mverbose\u001b[0m\u001b[1;33m=\u001b[0m\u001b[1;36m1\u001b[0m\u001b[1;33m)\u001b[0m\u001b[1;33m\u001b[0m\u001b[0m\n\u001b[0m",
      "\u001b[1;32mD:\\Projects\\NASA_RUL_-CMAPS-\\code\\tunable_model.py\u001b[0m in \u001b[0;36mtrain_model\u001b[1;34m(self, verbose, learningRate_scheduler, tf_session)\u001b[0m\n\u001b[0;32m     70\u001b[0m                                 \u001b[0mself\u001b[0m\u001b[1;33m.\u001b[0m\u001b[0m_model\u001b[0m\u001b[1;33m.\u001b[0m\u001b[0mfit\u001b[0m\u001b[1;33m(\u001b[0m\u001b[0mx\u001b[0m \u001b[1;33m=\u001b[0m \u001b[0mself\u001b[0m\u001b[1;33m.\u001b[0m\u001b[0m_X_train\u001b[0m\u001b[1;33m,\u001b[0m \u001b[0my\u001b[0m \u001b[1;33m=\u001b[0m \u001b[0mself\u001b[0m\u001b[1;33m.\u001b[0m\u001b[0m_y_train\u001b[0m\u001b[1;33m,\u001b[0m \u001b[0mepochs\u001b[0m \u001b[1;33m=\u001b[0m \u001b[0mself\u001b[0m\u001b[1;33m.\u001b[0m\u001b[0m_epochs\u001b[0m\u001b[1;33m,\u001b[0m \u001b[0mbatch_size\u001b[0m \u001b[1;33m=\u001b[0m \u001b[0mself\u001b[0m\u001b[1;33m.\u001b[0m\u001b[0m_batch_size\u001b[0m\u001b[1;33m,\u001b[0m \u001b[0mcallbacks\u001b[0m\u001b[1;33m=\u001b[0m\u001b[1;33m[\u001b[0m\u001b[0mlearningRate_scheduler\u001b[0m\u001b[1;33m]\u001b[0m\u001b[1;33m,\u001b[0m \u001b[0mverbose\u001b[0m\u001b[1;33m=\u001b[0m\u001b[0mverbose\u001b[0m\u001b[1;33m)\u001b[0m\u001b[1;33m\u001b[0m\u001b[0m\n\u001b[0;32m     71\u001b[0m                         \u001b[1;32melse\u001b[0m\u001b[1;33m:\u001b[0m\u001b[1;33m\u001b[0m\u001b[0m\n\u001b[1;32m---> 72\u001b[1;33m                                 \u001b[0mself\u001b[0m\u001b[1;33m.\u001b[0m\u001b[0m_model\u001b[0m\u001b[1;33m.\u001b[0m\u001b[0mfit\u001b[0m\u001b[1;33m(\u001b[0m\u001b[0mx\u001b[0m \u001b[1;33m=\u001b[0m \u001b[0mself\u001b[0m\u001b[1;33m.\u001b[0m\u001b[0m_X_train\u001b[0m\u001b[1;33m,\u001b[0m \u001b[0my\u001b[0m \u001b[1;33m=\u001b[0m \u001b[0mself\u001b[0m\u001b[1;33m.\u001b[0m\u001b[0m_y_train\u001b[0m\u001b[1;33m,\u001b[0m \u001b[0mepochs\u001b[0m \u001b[1;33m=\u001b[0m \u001b[0mself\u001b[0m\u001b[1;33m.\u001b[0m\u001b[0m_epochs\u001b[0m\u001b[1;33m,\u001b[0m \u001b[0mbatch_size\u001b[0m \u001b[1;33m=\u001b[0m \u001b[0mself\u001b[0m\u001b[1;33m.\u001b[0m\u001b[0m_batch_size\u001b[0m\u001b[1;33m,\u001b[0m \u001b[0mverbose\u001b[0m\u001b[1;33m=\u001b[0m\u001b[0mverbose\u001b[0m\u001b[1;33m)\u001b[0m\u001b[1;33m\u001b[0m\u001b[0m\n\u001b[0m\u001b[0;32m     73\u001b[0m \u001b[1;33m\u001b[0m\u001b[0m\n\u001b[0;32m     74\u001b[0m                 \u001b[1;32melif\u001b[0m \u001b[0mself\u001b[0m\u001b[1;33m.\u001b[0m\u001b[0m_lib_type\u001b[0m \u001b[1;33m==\u001b[0m \u001b[1;34m'scikit'\u001b[0m\u001b[1;33m:\u001b[0m\u001b[1;33m\u001b[0m\u001b[0m\n",
      "\u001b[1;32m~\\Anaconda3\\envs\\gpu_tensorflow\\lib\\site-packages\\keras\\engine\\training.py\u001b[0m in \u001b[0;36mfit\u001b[1;34m(self, x, y, batch_size, epochs, verbose, callbacks, validation_split, validation_data, shuffle, class_weight, sample_weight, initial_epoch, steps_per_epoch, validation_steps, **kwargs)\u001b[0m\n\u001b[0;32m   1035\u001b[0m                                         \u001b[0minitial_epoch\u001b[0m\u001b[1;33m=\u001b[0m\u001b[0minitial_epoch\u001b[0m\u001b[1;33m,\u001b[0m\u001b[1;33m\u001b[0m\u001b[0m\n\u001b[0;32m   1036\u001b[0m                                         \u001b[0msteps_per_epoch\u001b[0m\u001b[1;33m=\u001b[0m\u001b[0msteps_per_epoch\u001b[0m\u001b[1;33m,\u001b[0m\u001b[1;33m\u001b[0m\u001b[0m\n\u001b[1;32m-> 1037\u001b[1;33m                                         validation_steps=validation_steps)\n\u001b[0m\u001b[0;32m   1038\u001b[0m \u001b[1;33m\u001b[0m\u001b[0m\n\u001b[0;32m   1039\u001b[0m     def evaluate(self, x=None, y=None,\n",
      "\u001b[1;32m~\\Anaconda3\\envs\\gpu_tensorflow\\lib\\site-packages\\keras\\engine\\training_arrays.py\u001b[0m in \u001b[0;36mfit_loop\u001b[1;34m(model, f, ins, out_labels, batch_size, epochs, verbose, callbacks, val_f, val_ins, shuffle, callback_metrics, initial_epoch, steps_per_epoch, validation_steps)\u001b[0m\n\u001b[0;32m    197\u001b[0m                     \u001b[0mins_batch\u001b[0m\u001b[1;33m[\u001b[0m\u001b[0mi\u001b[0m\u001b[1;33m]\u001b[0m \u001b[1;33m=\u001b[0m \u001b[0mins_batch\u001b[0m\u001b[1;33m[\u001b[0m\u001b[0mi\u001b[0m\u001b[1;33m]\u001b[0m\u001b[1;33m.\u001b[0m\u001b[0mtoarray\u001b[0m\u001b[1;33m(\u001b[0m\u001b[1;33m)\u001b[0m\u001b[1;33m\u001b[0m\u001b[0m\n\u001b[0;32m    198\u001b[0m \u001b[1;33m\u001b[0m\u001b[0m\n\u001b[1;32m--> 199\u001b[1;33m                 \u001b[0mouts\u001b[0m \u001b[1;33m=\u001b[0m \u001b[0mf\u001b[0m\u001b[1;33m(\u001b[0m\u001b[0mins_batch\u001b[0m\u001b[1;33m)\u001b[0m\u001b[1;33m\u001b[0m\u001b[0m\n\u001b[0m\u001b[0;32m    200\u001b[0m                 \u001b[0mouts\u001b[0m \u001b[1;33m=\u001b[0m \u001b[0mto_list\u001b[0m\u001b[1;33m(\u001b[0m\u001b[0mouts\u001b[0m\u001b[1;33m)\u001b[0m\u001b[1;33m\u001b[0m\u001b[0m\n\u001b[0;32m    201\u001b[0m                 \u001b[1;32mfor\u001b[0m \u001b[0ml\u001b[0m\u001b[1;33m,\u001b[0m \u001b[0mo\u001b[0m \u001b[1;32min\u001b[0m \u001b[0mzip\u001b[0m\u001b[1;33m(\u001b[0m\u001b[0mout_labels\u001b[0m\u001b[1;33m,\u001b[0m \u001b[0mouts\u001b[0m\u001b[1;33m)\u001b[0m\u001b[1;33m:\u001b[0m\u001b[1;33m\u001b[0m\u001b[0m\n",
      "\u001b[1;32m~\\Anaconda3\\envs\\gpu_tensorflow\\lib\\site-packages\\keras\\backend\\tensorflow_backend.py\u001b[0m in \u001b[0;36m__call__\u001b[1;34m(self, inputs)\u001b[0m\n\u001b[0;32m   2664\u001b[0m                 \u001b[1;32mreturn\u001b[0m \u001b[0mself\u001b[0m\u001b[1;33m.\u001b[0m\u001b[0m_legacy_call\u001b[0m\u001b[1;33m(\u001b[0m\u001b[0minputs\u001b[0m\u001b[1;33m)\u001b[0m\u001b[1;33m\u001b[0m\u001b[0m\n\u001b[0;32m   2665\u001b[0m \u001b[1;33m\u001b[0m\u001b[0m\n\u001b[1;32m-> 2666\u001b[1;33m             \u001b[1;32mreturn\u001b[0m \u001b[0mself\u001b[0m\u001b[1;33m.\u001b[0m\u001b[0m_call\u001b[0m\u001b[1;33m(\u001b[0m\u001b[0minputs\u001b[0m\u001b[1;33m)\u001b[0m\u001b[1;33m\u001b[0m\u001b[0m\n\u001b[0m\u001b[0;32m   2667\u001b[0m         \u001b[1;32melse\u001b[0m\u001b[1;33m:\u001b[0m\u001b[1;33m\u001b[0m\u001b[0m\n\u001b[0;32m   2668\u001b[0m             \u001b[1;32mif\u001b[0m \u001b[0mpy_any\u001b[0m\u001b[1;33m(\u001b[0m\u001b[0mis_tensor\u001b[0m\u001b[1;33m(\u001b[0m\u001b[0mx\u001b[0m\u001b[1;33m)\u001b[0m \u001b[1;32mfor\u001b[0m \u001b[0mx\u001b[0m \u001b[1;32min\u001b[0m \u001b[0minputs\u001b[0m\u001b[1;33m)\u001b[0m\u001b[1;33m:\u001b[0m\u001b[1;33m\u001b[0m\u001b[0m\n",
      "\u001b[1;32m~\\Anaconda3\\envs\\gpu_tensorflow\\lib\\site-packages\\keras\\backend\\tensorflow_backend.py\u001b[0m in \u001b[0;36m_call\u001b[1;34m(self, inputs)\u001b[0m\n\u001b[0;32m   2634\u001b[0m                                 \u001b[0msymbol_vals\u001b[0m\u001b[1;33m,\u001b[0m\u001b[1;33m\u001b[0m\u001b[0m\n\u001b[0;32m   2635\u001b[0m                                 session)\n\u001b[1;32m-> 2636\u001b[1;33m         \u001b[0mfetched\u001b[0m \u001b[1;33m=\u001b[0m \u001b[0mself\u001b[0m\u001b[1;33m.\u001b[0m\u001b[0m_callable_fn\u001b[0m\u001b[1;33m(\u001b[0m\u001b[1;33m*\u001b[0m\u001b[0marray_vals\u001b[0m\u001b[1;33m)\u001b[0m\u001b[1;33m\u001b[0m\u001b[0m\n\u001b[0m\u001b[0;32m   2637\u001b[0m         \u001b[1;32mreturn\u001b[0m \u001b[0mfetched\u001b[0m\u001b[1;33m[\u001b[0m\u001b[1;33m:\u001b[0m\u001b[0mlen\u001b[0m\u001b[1;33m(\u001b[0m\u001b[0mself\u001b[0m\u001b[1;33m.\u001b[0m\u001b[0moutputs\u001b[0m\u001b[1;33m)\u001b[0m\u001b[1;33m]\u001b[0m\u001b[1;33m\u001b[0m\u001b[0m\n\u001b[0;32m   2638\u001b[0m \u001b[1;33m\u001b[0m\u001b[0m\n",
      "\u001b[1;32m~\\Anaconda3\\envs\\gpu_tensorflow\\lib\\site-packages\\tensorflow\\python\\client\\session.py\u001b[0m in \u001b[0;36m__call__\u001b[1;34m(self, *args, **kwargs)\u001b[0m\n\u001b[0;32m   1380\u001b[0m           ret = tf_session.TF_SessionRunCallable(\n\u001b[0;32m   1381\u001b[0m               \u001b[0mself\u001b[0m\u001b[1;33m.\u001b[0m\u001b[0m_session\u001b[0m\u001b[1;33m.\u001b[0m\u001b[0m_session\u001b[0m\u001b[1;33m,\u001b[0m \u001b[0mself\u001b[0m\u001b[1;33m.\u001b[0m\u001b[0m_handle\u001b[0m\u001b[1;33m,\u001b[0m \u001b[0margs\u001b[0m\u001b[1;33m,\u001b[0m \u001b[0mstatus\u001b[0m\u001b[1;33m,\u001b[0m\u001b[1;33m\u001b[0m\u001b[0m\n\u001b[1;32m-> 1382\u001b[1;33m               run_metadata_ptr)\n\u001b[0m\u001b[0;32m   1383\u001b[0m         \u001b[1;32mif\u001b[0m \u001b[0mrun_metadata\u001b[0m\u001b[1;33m:\u001b[0m\u001b[1;33m\u001b[0m\u001b[0m\n\u001b[0;32m   1384\u001b[0m           \u001b[0mproto_data\u001b[0m \u001b[1;33m=\u001b[0m \u001b[0mtf_session\u001b[0m\u001b[1;33m.\u001b[0m\u001b[0mTF_GetBuffer\u001b[0m\u001b[1;33m(\u001b[0m\u001b[0mrun_metadata_ptr\u001b[0m\u001b[1;33m)\u001b[0m\u001b[1;33m\u001b[0m\u001b[0m\n",
      "\u001b[1;32m~\\Anaconda3\\envs\\gpu_tensorflow\\lib\\site-packages\\tensorflow\\python\\framework\\errors_impl.py\u001b[0m in \u001b[0;36m__exit__\u001b[1;34m(self, type_arg, value_arg, traceback_arg)\u001b[0m\n\u001b[0;32m    517\u001b[0m             \u001b[1;32mNone\u001b[0m\u001b[1;33m,\u001b[0m \u001b[1;32mNone\u001b[0m\u001b[1;33m,\u001b[0m\u001b[1;33m\u001b[0m\u001b[0m\n\u001b[0;32m    518\u001b[0m             \u001b[0mcompat\u001b[0m\u001b[1;33m.\u001b[0m\u001b[0mas_text\u001b[0m\u001b[1;33m(\u001b[0m\u001b[0mc_api\u001b[0m\u001b[1;33m.\u001b[0m\u001b[0mTF_Message\u001b[0m\u001b[1;33m(\u001b[0m\u001b[0mself\u001b[0m\u001b[1;33m.\u001b[0m\u001b[0mstatus\u001b[0m\u001b[1;33m.\u001b[0m\u001b[0mstatus\u001b[0m\u001b[1;33m)\u001b[0m\u001b[1;33m)\u001b[0m\u001b[1;33m,\u001b[0m\u001b[1;33m\u001b[0m\u001b[0m\n\u001b[1;32m--> 519\u001b[1;33m             c_api.TF_GetCode(self.status.status))\n\u001b[0m\u001b[0;32m    520\u001b[0m     \u001b[1;31m# Delete the underlying status object from memory otherwise it stays alive\u001b[0m\u001b[1;33m\u001b[0m\u001b[1;33m\u001b[0m\u001b[0m\n\u001b[0;32m    521\u001b[0m     \u001b[1;31m# as there is a reference to status from this from the traceback due to\u001b[0m\u001b[1;33m\u001b[0m\u001b[1;33m\u001b[0m\u001b[0m\n",
      "\u001b[1;31mUnknownError\u001b[0m: Fail to find the dnn implementation.\n\t [[Node: lstm1/CudnnRNN = CudnnRNN[T=DT_FLOAT, _class=[\"loc:@training/Adam/gradients/lstm1/CudnnRNN_grad/CudnnRNNBackprop\"], direction=\"unidirectional\", dropout=0, input_mode=\"linear_input\", is_training=true, rnn_mode=\"lstm\", seed=87654321, seed2=0, _device=\"/job:localhost/replica:0/task:0/device:GPU:0\"](lstm1/transpose, lstm1/ExpandDims_1, lstm1/ExpandDims_1, lstm1/concat_1)]]\n\t [[Node: metrics/mean_squared_error/Mean_1/_93 = _Recv[client_terminated=false, recv_device=\"/job:localhost/replica:0/task:0/device:CPU:0\", send_device=\"/job:localhost/replica:0/task:0/device:GPU:0\", send_device_incarnation=1, tensor_name=\"edge_841_metrics/mean_squared_error/Mean_1\", tensor_type=DT_FLOAT, _device=\"/job:localhost/replica:0/task:0/device:CPU:0\"]()]]"
     ]
    }
   ],
   "source": [
    "nFeatures = len(selected_features)\n",
    "\n",
    "lrate = LearningRateScheduler(CMAPSAuxFunctions.step_decay)\n",
    "\n",
    "shape = (tModel.data_handler.sequence_length, nFeatures)\n",
    "model = get_compiled_model(shape, model_type='lstm')\n",
    "tModel.change_model('ModelRUL_RNN_1', model, 'keras')\n",
    "\n",
    "tModel.epochs = 100\n",
    "\n",
    "tModel.train_model(verbose=1)"
   ]
  },
  {
   "cell_type": "code",
   "execution_count": null,
   "metadata": {},
   "outputs": [],
   "source": [
    "tModel.evaluate_model(['rhs', 'rmse'], round=2)\n",
    "print(\"scores\")\n",
    "\n",
    "cScores = tModel.scores\n",
    "#rmse = math.sqrt(cScores['score_1'])\n",
    "rmse2 = cScores['rmse']\n",
    "rhs = cScores['rhs']\n",
    "time = tModel.train_time\n",
    "\n",
    "i = range(1,len(tModel.y_test)+1)\n",
    "\n",
    "#print(tModel.y_predicted)\n",
    "#print(tModel.y_predicted_rounded)\n",
    "#print(tModel.y_test)\n",
    "\n",
    "for i, rul_prediction, rul_prediction_rounded, true_rul in zip(i, np.ravel(tModel.y_predicted), tModel.y_predicted_rounded, np.ravel(tModel.y_test)):\n",
    "    print('Engine {}, Predicted RUL {}, Rounded RUL {}, Real RUL {}'.format(i, rul_prediction, \n",
    "                                                                    rul_prediction_rounded, \n",
    "                                                                    true_rul))\n",
    "\n",
    "print(cScores)\n",
    "#print(\"RMSE: {}\".format(rmse))\n",
    "print(\"RMSE2: {}\".format(rmse2))\n",
    "print(\"RHS: {}\".format(rhs))\n",
    "print(\"Time : {} seconds\".format(time))"
   ]
  },
  {
   "cell_type": "code",
   "execution_count": null,
   "metadata": {},
   "outputs": [],
   "source": []
  },
  {
   "cell_type": "code",
   "execution_count": null,
   "metadata": {},
   "outputs": [],
   "source": []
  }
 ],
 "metadata": {
  "kernelspec": {
   "display_name": "Python 3",
   "language": "python",
   "name": "python3"
  },
  "language_info": {
   "codemirror_mode": {
    "name": "ipython",
    "version": 3
   },
   "file_extension": ".py",
   "mimetype": "text/x-python",
   "name": "python",
   "nbconvert_exporter": "python",
   "pygments_lexer": "ipython3",
   "version": "3.5.4"
  }
 },
 "nbformat": 4,
 "nbformat_minor": 2
}
